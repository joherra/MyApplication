{
  "nbformat": 4,
  "nbformat_minor": 0,
  "metadata": {
    "kernelspec": {
      "display_name": "Python 3",
      "language": "python",
      "name": "python3"
    },
    "language_info": {
      "codemirror_mode": {
        "name": "ipython",
        "version": 3
      },
      "file_extension": ".py",
      "mimetype": "text/x-python",
      "name": "python",
      "nbconvert_exporter": "python",
      "pygments_lexer": "ipython3",
      "version": "3.8.5"
    },
    "toc": {
      "base_numbering": 1,
      "nav_menu": {},
      "number_sections": true,
      "sideBar": true,
      "skip_h1_title": false,
      "title_cell": "Table of Contents",
      "title_sidebar": "Contents",
      "toc_cell": false,
      "toc_position": {},
      "toc_section_display": true,
      "toc_window_display": false
    },
    "colab": {
      "name": "Proyecto 2.A. Caso Práctico. DSS para la ETAP de Logroño.ipynb",
      "provenance": [],
      "include_colab_link": true
    },
    "accelerator": "GPU"
  },
  "cells": [
    {
      "cell_type": "markdown",
      "metadata": {
        "id": "view-in-github",
        "colab_type": "text"
      },
      "source": [
        "<a href=\"https://colab.research.google.com/github/joherra/MyApplication/blob/master/Proyecto%202.A.%20Caso%20Pr%C3%A1ctico.%20DSS%20para%20la%20ETAP%20de%20Logro%C3%B1o.ipynb\" target=\"_parent\"><img src=\"https://colab.research.google.com/assets/colab-badge.svg\" alt=\"Open In Colab\"/></a>"
      ]
    },
    {
      "cell_type": "markdown",
      "metadata": {
        "id": "rMSlcWEKD64h"
      },
      "source": [
        "- *Asignatura*: Ingeniería del Conocimiento\n",
        "- *Curso*: 2020/2021\n",
        "- *Profesor*: Fco. Javier Martínez de Pisón\n",
        "- Universidad de La Rioja"
      ]
    },
    {
      "cell_type": "markdown",
      "metadata": {
        "id": "-jF7Z2NPD64w"
      },
      "source": [
        "# Caso Práctico Final: DSS para la ETAP de Logroño"
      ]
    },
    {
      "cell_type": "markdown",
      "metadata": {
        "id": "3P5RwfZVD64x"
      },
      "source": [
        "La *Estación de Tratamiento de Agua Potable de Logroño (TAP Río Iregua)* abastece a una población cercana a los 200.000 habitantes, entre los municipios de Logroño, Alberite, Villamediana y Lardero, además de varios polígonos industriales. Las instalaciones de Lardero, donde se realiza el tratamiento principal, se encuentran atendidas en todo momento, es decir, 24 horas los 365 días del año. En más del cincuenta por ciento del tiempo solamente hay una persona que controla las instalaciones, aunque con los conocimientos suficientes para manejar todos los elementos convencionales que afectan al funcionamiento del proceso.\n",
        "\n",
        "![](https://www.larioja.org/consorcio-aguas/es/abastecimientos-supramunicipales/bajo-iregua/t-p-bajo-iregua.ficheros/881945-ETAP%20Bajo%20Iregua.jpg)\n",
        "\n",
        "Existen ocasiones en las que **las condiciones del agua captada en el río cambian de manera muy brusca**. Es el caso de bruscas variaciones en el parámetro de turbidez debidas a tormentas, deshielos o movimientos de tierras cercanos a la captación; o de calidad del agua debido a vertidos incontrolados.\n",
        "\n",
        "Habitualmente, en estos casos se realizan cambios en las dosis de floculante, cloro, u otros tratamientos que permiten controlar la calidad del agua potable; sin embargo, cuando las condiciones son extremas o la incertidumbre es grande, podría ser útil realizar acciones más drásticas como, por ejemplo:\n",
        "\n",
        "1.\tDetener la entrada de agua a la ETAP durante un número de horas determinado.\n",
        "2.\tDisminuir el caudal de entrada para minimizar el gasto en tratamientos.\n",
        "3.\tOtras posibles acciones de mantenimiento o reparación.\n",
        "\n",
        "El alcance de este proyecto **comprende el desarrollo de un sistema de apoyo a la toma de decisiones (DSS) en la ETAP Río Iregua que permita predecir el consumo en horas posteriores que ayuden a asegurar que las paradas o disminución de caudal no supongan graves contratiempos en el suministro final de agua**. En definitiva, los objetivos de este proyecto son el desarrollo de modelos predictivos que puedan ser integrados en un sistema inteligente de apoyo a la toma de decisiones en la gestión de aguas de la ETAP de Logroño.\n",
        "\n",
        "En este proyecto se trabajará con el archivo *'etap_entrenam2008_2009.arff'* para el entrenamiento de los modelos y *'etap_testeo2010.arff'* para testear los modelos finales. Finalmente, se guardará el mejor modelo para poder predecir el consumo probable de cada hora según las condiciones previstas en las horas posteriores.\n"
      ]
    },
    {
      "cell_type": "code",
      "metadata": {
        "id": "1Th9Q111D64y"
      },
      "source": [
        "# Importamos paquetes basicos\n",
        "import pandas as pd \n",
        "import numpy as np\n",
        "import matplotlib.pyplot as plt\n",
        "import seaborn as sns\n",
        "from scipy.io import arff\n",
        "\n",
        "from sklearn.metrics import mean_absolute_error, mean_squared_error, r2_score\n",
        "from sklearn.model_selection import RepeatedKFold\n",
        "from sklearn.preprocessing import LabelEncoder, OneHotEncoder, StandardScaler\n",
        "from sklearn.linear_model import Ridge\n",
        "from sklearn.neighbors import KNeighborsClassifier\n",
        "from sklearn.neural_network import MLPRegressor\n",
        "from sklearn.svm import SVR\n",
        "from sklearn.tree import DecisionTreeRegressor"
      ],
      "execution_count": 1,
      "outputs": []
    },
    {
      "cell_type": "markdown",
      "metadata": {
        "id": "F4wAkBDjD64z"
      },
      "source": [
        "### Leemos la Base de Datos y Preprocesamos"
      ]
    },
    {
      "cell_type": "code",
      "metadata": {
        "colab": {
          "base_uri": "https://localhost:8080/"
        },
        "id": "6os_9uvhD64z",
        "outputId": "3d857865-b11f-49f2-b94b-94899aec6897"
      },
      "source": [
        "!wget https://github.com/IC1920/Datasets/raw/master/etap_entrenam2008_2009.arff -O etap_entrenam2008_2009.arff\n",
        "!wget https://github.com/IC1920/Datasets/raw/master/etap_testeo2010.arff -O etap_testeo2010.arff"
      ],
      "execution_count": 2,
      "outputs": [
        {
          "output_type": "stream",
          "text": [
            "--2021-05-06 21:04:54--  https://github.com/IC1920/Datasets/raw/master/etap_entrenam2008_2009.arff\n",
            "Resolving github.com (github.com)... 140.82.112.3\n",
            "Connecting to github.com (github.com)|140.82.112.3|:443... connected.\n",
            "HTTP request sent, awaiting response... 302 Found\n",
            "Location: https://raw.githubusercontent.com/IC1920/Datasets/master/etap_entrenam2008_2009.arff [following]\n",
            "--2021-05-06 21:04:54--  https://raw.githubusercontent.com/IC1920/Datasets/master/etap_entrenam2008_2009.arff\n",
            "Resolving raw.githubusercontent.com (raw.githubusercontent.com)... 185.199.108.133, 185.199.109.133, 185.199.110.133, ...\n",
            "Connecting to raw.githubusercontent.com (raw.githubusercontent.com)|185.199.108.133|:443... connected.\n",
            "HTTP request sent, awaiting response... 200 OK\n",
            "Length: 912923 (892K) [text/plain]\n",
            "Saving to: ‘etap_entrenam2008_2009.arff’\n",
            "\n",
            "etap_entrenam2008_2 100%[===================>] 891.53K  --.-KB/s    in 0.01s   \n",
            "\n",
            "2021-05-06 21:04:55 (69.0 MB/s) - ‘etap_entrenam2008_2009.arff’ saved [912923/912923]\n",
            "\n",
            "--2021-05-06 21:04:55--  https://github.com/IC1920/Datasets/raw/master/etap_testeo2010.arff\n",
            "Resolving github.com (github.com)... 140.82.114.3\n",
            "Connecting to github.com (github.com)|140.82.114.3|:443... connected.\n",
            "HTTP request sent, awaiting response... 302 Found\n",
            "Location: https://raw.githubusercontent.com/IC1920/Datasets/master/etap_testeo2010.arff [following]\n",
            "--2021-05-06 21:04:55--  https://raw.githubusercontent.com/IC1920/Datasets/master/etap_testeo2010.arff\n",
            "Resolving raw.githubusercontent.com (raw.githubusercontent.com)... 185.199.108.133, 185.199.109.133, 185.199.110.133, ...\n",
            "Connecting to raw.githubusercontent.com (raw.githubusercontent.com)|185.199.108.133|:443... connected.\n",
            "HTTP request sent, awaiting response... 200 OK\n",
            "Length: 441500 (431K) [text/plain]\n",
            "Saving to: ‘etap_testeo2010.arff’\n",
            "\n",
            "etap_testeo2010.arf 100%[===================>] 431.15K  --.-KB/s    in 0.007s  \n",
            "\n",
            "2021-05-06 21:04:55 (59.1 MB/s) - ‘etap_testeo2010.arff’ saved [441500/441500]\n",
            "\n"
          ],
          "name": "stdout"
        }
      ]
    },
    {
      "cell_type": "code",
      "metadata": {
        "colab": {
          "base_uri": "https://localhost:8080/",
          "height": 250
        },
        "id": "AT77Ip3tD640",
        "outputId": "ea34b34f-3638-457f-b718-9ae71cb745fd"
      },
      "source": [
        "# Leemos los archivos arff\n",
        "df_train = pd.DataFrame(arff.loadarff(\"etap_entrenam2008_2009.arff\")[0])\n",
        "df_test = pd.DataFrame(arff.loadarff(\"etap_testeo2010.arff\")[0])\n",
        "\n",
        "# Eliminamos la b y las comillas de las categóricas\n",
        "for colname in ['fecha', 'nom_mes', 'festivo', 'nom_diasem']:\n",
        "    df_train[colname] = df_train[colname].astype(str).str.replace('b','').str.replace(\"'\",\"\")\n",
        "    df_test[colname] = df_test[colname].astype(str).str.replace('b','').str.replace(\"'\",\"\")\n",
        "\n",
        "display(df_train.head(3), df_test.head(3))"
      ],
      "execution_count": 3,
      "outputs": [
        {
          "output_type": "display_data",
          "data": {
            "text/html": [
              "<div>\n",
              "<style scoped>\n",
              "    .dataframe tbody tr th:only-of-type {\n",
              "        vertical-align: middle;\n",
              "    }\n",
              "\n",
              "    .dataframe tbody tr th {\n",
              "        vertical-align: top;\n",
              "    }\n",
              "\n",
              "    .dataframe thead th {\n",
              "        text-align: right;\n",
              "    }\n",
              "</style>\n",
              "<table border=\"1\" class=\"dataframe\">\n",
              "  <thead>\n",
              "    <tr style=\"text-align: right;\">\n",
              "      <th></th>\n",
              "      <th>fecha</th>\n",
              "      <th>anio</th>\n",
              "      <th>mes</th>\n",
              "      <th>nom_mes</th>\n",
              "      <th>diames</th>\n",
              "      <th>festivo</th>\n",
              "      <th>diasem</th>\n",
              "      <th>nom_diasem</th>\n",
              "      <th>hora</th>\n",
              "      <th>temp</th>\n",
              "      <th>consumo</th>\n",
              "    </tr>\n",
              "  </thead>\n",
              "  <tbody>\n",
              "    <tr>\n",
              "      <th>0</th>\n",
              "      <td>1/1/2008</td>\n",
              "      <td>2008.0</td>\n",
              "      <td>1.0</td>\n",
              "      <td>ene</td>\n",
              "      <td>1.0</td>\n",
              "      <td>TRUE</td>\n",
              "      <td>2.0</td>\n",
              "      <td>mar</td>\n",
              "      <td>1.0</td>\n",
              "      <td>-0.275</td>\n",
              "      <td>771.320</td>\n",
              "    </tr>\n",
              "    <tr>\n",
              "      <th>1</th>\n",
              "      <td>1/1/2008</td>\n",
              "      <td>2008.0</td>\n",
              "      <td>1.0</td>\n",
              "      <td>ene</td>\n",
              "      <td>1.0</td>\n",
              "      <td>TRUE</td>\n",
              "      <td>2.0</td>\n",
              "      <td>mar</td>\n",
              "      <td>2.0</td>\n",
              "      <td>-0.750</td>\n",
              "      <td>999.210</td>\n",
              "    </tr>\n",
              "    <tr>\n",
              "      <th>2</th>\n",
              "      <td>1/1/2008</td>\n",
              "      <td>2008.0</td>\n",
              "      <td>1.0</td>\n",
              "      <td>ene</td>\n",
              "      <td>1.0</td>\n",
              "      <td>TRUE</td>\n",
              "      <td>2.0</td>\n",
              "      <td>mar</td>\n",
              "      <td>3.0</td>\n",
              "      <td>-1.650</td>\n",
              "      <td>1376.105</td>\n",
              "    </tr>\n",
              "  </tbody>\n",
              "</table>\n",
              "</div>"
            ],
            "text/plain": [
              "      fecha    anio  mes nom_mes  ...  nom_diasem hora   temp   consumo\n",
              "0  1/1/2008  2008.0  1.0     ene  ...         mar  1.0 -0.275   771.320\n",
              "1  1/1/2008  2008.0  1.0     ene  ...         mar  2.0 -0.750   999.210\n",
              "2  1/1/2008  2008.0  1.0     ene  ...         mar  3.0 -1.650  1376.105\n",
              "\n",
              "[3 rows x 11 columns]"
            ]
          },
          "metadata": {
            "tags": []
          }
        },
        {
          "output_type": "display_data",
          "data": {
            "text/html": [
              "<div>\n",
              "<style scoped>\n",
              "    .dataframe tbody tr th:only-of-type {\n",
              "        vertical-align: middle;\n",
              "    }\n",
              "\n",
              "    .dataframe tbody tr th {\n",
              "        vertical-align: top;\n",
              "    }\n",
              "\n",
              "    .dataframe thead th {\n",
              "        text-align: right;\n",
              "    }\n",
              "</style>\n",
              "<table border=\"1\" class=\"dataframe\">\n",
              "  <thead>\n",
              "    <tr style=\"text-align: right;\">\n",
              "      <th></th>\n",
              "      <th>fecha</th>\n",
              "      <th>anio</th>\n",
              "      <th>mes</th>\n",
              "      <th>nom_mes</th>\n",
              "      <th>diames</th>\n",
              "      <th>festivo</th>\n",
              "      <th>diasem</th>\n",
              "      <th>nom_diasem</th>\n",
              "      <th>hora</th>\n",
              "      <th>temp</th>\n",
              "      <th>consumo</th>\n",
              "    </tr>\n",
              "  </thead>\n",
              "  <tbody>\n",
              "    <tr>\n",
              "      <th>0</th>\n",
              "      <td>4/1/2010</td>\n",
              "      <td>2010.0</td>\n",
              "      <td>1.0</td>\n",
              "      <td>ene</td>\n",
              "      <td>4.0</td>\n",
              "      <td>FALSE</td>\n",
              "      <td>1.0</td>\n",
              "      <td>lun</td>\n",
              "      <td>16.0</td>\n",
              "      <td>5.200</td>\n",
              "      <td>1709.175</td>\n",
              "    </tr>\n",
              "    <tr>\n",
              "      <th>1</th>\n",
              "      <td>4/1/2010</td>\n",
              "      <td>2010.0</td>\n",
              "      <td>1.0</td>\n",
              "      <td>ene</td>\n",
              "      <td>4.0</td>\n",
              "      <td>FALSE</td>\n",
              "      <td>1.0</td>\n",
              "      <td>lun</td>\n",
              "      <td>17.0</td>\n",
              "      <td>5.275</td>\n",
              "      <td>1507.580</td>\n",
              "    </tr>\n",
              "    <tr>\n",
              "      <th>2</th>\n",
              "      <td>4/1/2010</td>\n",
              "      <td>2010.0</td>\n",
              "      <td>1.0</td>\n",
              "      <td>ene</td>\n",
              "      <td>4.0</td>\n",
              "      <td>FALSE</td>\n",
              "      <td>1.0</td>\n",
              "      <td>lun</td>\n",
              "      <td>18.0</td>\n",
              "      <td>5.650</td>\n",
              "      <td>1358.575</td>\n",
              "    </tr>\n",
              "  </tbody>\n",
              "</table>\n",
              "</div>"
            ],
            "text/plain": [
              "      fecha    anio  mes nom_mes  ...  nom_diasem  hora   temp   consumo\n",
              "0  4/1/2010  2010.0  1.0     ene  ...         lun  16.0  5.200  1709.175\n",
              "1  4/1/2010  2010.0  1.0     ene  ...         lun  17.0  5.275  1507.580\n",
              "2  4/1/2010  2010.0  1.0     ene  ...         lun  18.0  5.650  1358.575\n",
              "\n",
              "[3 rows x 11 columns]"
            ]
          },
          "metadata": {
            "tags": []
          }
        }
      ]
    },
    {
      "cell_type": "markdown",
      "metadata": {
        "id": "f7PCmGezD641"
      },
      "source": [
        "Las variables de la base de datos son las siguientes:\n",
        "\n",
        "1.\tFecha (*fecha*): fecha del registro. Formato Fecha.\n",
        "2.\tAño (*anio*): variable numérica.\n",
        "3.\tMes (*mes*): variable numérica.\n",
        "4.\tNombre del mes (*nom_mes*): nombre del mes. Variable categórica.\n",
        "5.\tDía del mes (*diames*): día del mes. Variable numérica.\n",
        "6.\tDía festivo o no (*festivo*): si es un día festivo o no. Variable booleana.\n",
        "7.\tDía de la semana (*diasem*): día de la semana en formato numérico.\n",
        "8.\tNombre del día de la semana  (*nom_diasem*): nombre del día de la semana. Variable categórica.\n",
        "9.\tHora (*hora*): franja horaria de suministro (de 0 a 23).\n",
        "10.\tTemperatura ambiental (*temp*): temperatura ambiental en (ºC). Variable numérica.\n",
        "\n",
        "Y como variable de salida:\n",
        "\n",
        "11.\tConsumo final (*consumo*): consumo de agua en metros cúbicos por hora. Variable numérica a predecir.\n",
        "\n",
        "Los datos de consumo han sido modificados con el objetivo de preservar la confidencialidad de los mismos.\n"
      ]
    },
    {
      "cell_type": "markdown",
      "metadata": {
        "id": "Ocb6TlyYD642"
      },
      "source": [
        "#  1. Ejercicio Propuesto"
      ]
    },
    {
      "cell_type": "markdown",
      "metadata": {
        "id": "Z_B0y_EiD642"
      },
      "source": [
        "A partir del archivo *“etap_entrenam2008_2009.arff”*:\n",
        "\n",
        "1. Según lo visto en proyectos anteriores, desarrollar modelos de regresión los más precisos posibles del consumo de agua. Para ello, seleccione las variables más importantes que influyen en el modelo. Se recomienda utilizar el año 2008 para entrenamiento y el 2009 para validación simple. Explicar el proceso para obtener el mejor modelo con cada técnica, parámetros ajustados, rango de los mismos, errores obtenidos. Identificar qué técnicas han obtenido mejores modelos, qué variables han sido seleccionadas para cada uno y los parámetros finales del algoritmo. Presentar en una tabla los resultados de los modelos con mejores errores (RMSE y MAE) obtenidos con cada técnica.\n",
        "2. Extraiga los resultados de predicción con la base de datos *“etap_testeo2010.arff”* de los modelos que han obtenido el menor RMSE de testeo con cada técnica, páselos a EXCEL y presente en unas gráficas los valores reales frente a los valores predichos de los mejores modelos con las tres mejores técnicas. Saque gráficas por meses o semanas, en diferentes épocas del año, para poder ver mejor la diferencia entre los resultados.\n",
        "3. Presente una tabla con los errores de validación frente a los de testeo para cada técnica. Compare los errores obtenidos con la base de datos de testeo del año 2010 con los errores de validación del 2009. ¿Son similares? ¿Existen diferencias significativas en algún método?\n",
        "4. Analice los datos extremos (con residuos más elevados) y saque conclusiones sobre la fiabilidad de cada uno de los modelos. Muestre los valores de las entradas que producen esos datos extremos y explique una posible causa que los produzcan."
      ]
    },
    {
      "cell_type": "code",
      "metadata": {
        "colab": {
          "base_uri": "https://localhost:8080/"
        },
        "id": "JAunvFawD643",
        "outputId": "ada1aec8-8fc0-434c-8b1a-b8fe6b592fa7"
      },
      "source": [
        "print(df_train.shape, df_test.shape)"
      ],
      "execution_count": 4,
      "outputs": [
        {
          "output_type": "stream",
          "text": [
            "(16783, 11) (8120, 11)\n"
          ],
          "name": "stdout"
        }
      ]
    },
    {
      "cell_type": "code",
      "metadata": {
        "colab": {
          "base_uri": "https://localhost:8080/"
        },
        "id": "rILejKE8LeF3",
        "outputId": "2deadb65-2954-485d-a860-3eb1f26001ad"
      },
      "source": [
        "consumo = df_train[\"consumo\"]\n",
        "print(consumo.sort_values(ascending=False))"
      ],
      "execution_count": 5,
      "outputs": [
        {
          "output_type": "stream",
          "text": [
            "6162     4005.6050\n",
            "13136    3935.4850\n",
            "14725    3751.4200\n",
            "16418    3707.5950\n",
            "3697     3365.7600\n",
            "           ...    \n",
            "8611      149.0050\n",
            "9314      149.0050\n",
            "8566      127.0925\n",
            "8631      113.9450\n",
            "8634       96.4150\n",
            "Name: consumo, Length: 16783, dtype: float64\n"
          ],
          "name": "stdout"
        }
      ]
    },
    {
      "cell_type": "code",
      "metadata": {
        "id": "ldWGTxJUNWGC"
      },
      "source": [
        "df_train = df_train.loc[df_train[\"consumo\"] < 3700]\n",
        "\n",
        "#https://www.geeksforgeeks.org/python-pandas-dataframe-reset_index/#:~:text=Pandas%20reset_index()%20is%20a,length%20of%20data%20as%20index.&text=Parameters%3A,remove%20passed%20column%20from%20index.\n",
        "#Para resetear los indices y tengan un orden\n",
        "df_validacion = df_train.loc[df_train[\"anio\"] == 2009].reset_index(drop=True)\n",
        "df_train = df_train.loc[df_train[\"anio\"] == 2008].reset_index(drop=True)\n",
        "\n",
        "#Pasamos festivo a numerico\n",
        "df_train[\"festivoNumerico\"] = (df_train[\"festivo\"] == \"TRUE\").astype(int)\n",
        "df_validacion[\"festivoNumerico\"] = (df_validacion[\"festivo\"] == \"TRUE\").astype(int)\n",
        "df_test[\"festivoNumerico\"] = (df_test[\"festivo\"] == \"TRUE\").astype(int)\n",
        "\n",
        "#No puedo usar fecha por que da el problema de could not convert string to float: '1/1/2008' cuando se intenten hacer modelos\n",
        "df_train = df_train[[\"mes\",\"diames\",\"festivoNumerico\",\"hora\",\"temp\",\"consumo\"]]\n",
        "#df_validacion = df_validacion[[\"mes\",\"diames\",\"festivoNumerico\",\"hora\",\"temp\",\"consumo\"]]\n",
        "df_test = df_test[[\"mes\",\"diames\",\"festivoNumerico\",\"hora\",\"temp\",\"consumo\"]]\n"
      ],
      "execution_count": 6,
      "outputs": []
    },
    {
      "cell_type": "code",
      "metadata": {
        "colab": {
          "base_uri": "https://localhost:8080/",
          "height": 1000
        },
        "id": "9iladSjBLX37",
        "outputId": "a95f0e6b-1fb2-45e2-9368-ed6bf2c0a5d5"
      },
      "source": [
        "print(df_test[\"festivoNumerico\"] == 1)\n",
        "display(df_train.head(20), df_test.head(20))"
      ],
      "execution_count": 7,
      "outputs": [
        {
          "output_type": "stream",
          "text": [
            "0       False\n",
            "1       False\n",
            "2       False\n",
            "3       False\n",
            "4       False\n",
            "        ...  \n",
            "8115    False\n",
            "8116    False\n",
            "8117    False\n",
            "8118    False\n",
            "8119    False\n",
            "Name: festivoNumerico, Length: 8120, dtype: bool\n"
          ],
          "name": "stdout"
        },
        {
          "output_type": "display_data",
          "data": {
            "text/html": [
              "<div>\n",
              "<style scoped>\n",
              "    .dataframe tbody tr th:only-of-type {\n",
              "        vertical-align: middle;\n",
              "    }\n",
              "\n",
              "    .dataframe tbody tr th {\n",
              "        vertical-align: top;\n",
              "    }\n",
              "\n",
              "    .dataframe thead th {\n",
              "        text-align: right;\n",
              "    }\n",
              "</style>\n",
              "<table border=\"1\" class=\"dataframe\">\n",
              "  <thead>\n",
              "    <tr style=\"text-align: right;\">\n",
              "      <th></th>\n",
              "      <th>mes</th>\n",
              "      <th>diames</th>\n",
              "      <th>festivoNumerico</th>\n",
              "      <th>hora</th>\n",
              "      <th>temp</th>\n",
              "      <th>consumo</th>\n",
              "    </tr>\n",
              "  </thead>\n",
              "  <tbody>\n",
              "    <tr>\n",
              "      <th>0</th>\n",
              "      <td>1.0</td>\n",
              "      <td>1.0</td>\n",
              "      <td>1</td>\n",
              "      <td>1.0</td>\n",
              "      <td>-0.275</td>\n",
              "      <td>771.320</td>\n",
              "    </tr>\n",
              "    <tr>\n",
              "      <th>1</th>\n",
              "      <td>1.0</td>\n",
              "      <td>1.0</td>\n",
              "      <td>1</td>\n",
              "      <td>2.0</td>\n",
              "      <td>-0.750</td>\n",
              "      <td>999.210</td>\n",
              "    </tr>\n",
              "    <tr>\n",
              "      <th>2</th>\n",
              "      <td>1.0</td>\n",
              "      <td>1.0</td>\n",
              "      <td>1</td>\n",
              "      <td>3.0</td>\n",
              "      <td>-1.650</td>\n",
              "      <td>1376.105</td>\n",
              "    </tr>\n",
              "    <tr>\n",
              "      <th>3</th>\n",
              "      <td>1.0</td>\n",
              "      <td>1.0</td>\n",
              "      <td>1</td>\n",
              "      <td>4.0</td>\n",
              "      <td>-2.100</td>\n",
              "      <td>1726.705</td>\n",
              "    </tr>\n",
              "    <tr>\n",
              "      <th>4</th>\n",
              "      <td>1.0</td>\n",
              "      <td>1.0</td>\n",
              "      <td>1</td>\n",
              "      <td>5.0</td>\n",
              "      <td>-2.550</td>\n",
              "      <td>1919.535</td>\n",
              "    </tr>\n",
              "    <tr>\n",
              "      <th>5</th>\n",
              "      <td>1.0</td>\n",
              "      <td>1.0</td>\n",
              "      <td>1</td>\n",
              "      <td>6.0</td>\n",
              "      <td>-2.600</td>\n",
              "      <td>1858.180</td>\n",
              "    </tr>\n",
              "    <tr>\n",
              "      <th>6</th>\n",
              "      <td>1.0</td>\n",
              "      <td>1.0</td>\n",
              "      <td>1</td>\n",
              "      <td>7.0</td>\n",
              "      <td>-2.925</td>\n",
              "      <td>1516.345</td>\n",
              "    </tr>\n",
              "    <tr>\n",
              "      <th>7</th>\n",
              "      <td>1.0</td>\n",
              "      <td>1.0</td>\n",
              "      <td>1</td>\n",
              "      <td>8.0</td>\n",
              "      <td>-2.250</td>\n",
              "      <td>1297.220</td>\n",
              "    </tr>\n",
              "    <tr>\n",
              "      <th>8</th>\n",
              "      <td>1.0</td>\n",
              "      <td>1.0</td>\n",
              "      <td>1</td>\n",
              "      <td>9.0</td>\n",
              "      <td>-1.150</td>\n",
              "      <td>1419.930</td>\n",
              "    </tr>\n",
              "    <tr>\n",
              "      <th>9</th>\n",
              "      <td>1.0</td>\n",
              "      <td>1.0</td>\n",
              "      <td>1</td>\n",
              "      <td>10.0</td>\n",
              "      <td>0.475</td>\n",
              "      <td>1367.340</td>\n",
              "    </tr>\n",
              "    <tr>\n",
              "      <th>10</th>\n",
              "      <td>1.0</td>\n",
              "      <td>1.0</td>\n",
              "      <td>1</td>\n",
              "      <td>11.0</td>\n",
              "      <td>2.225</td>\n",
              "      <td>911.560</td>\n",
              "    </tr>\n",
              "    <tr>\n",
              "      <th>11</th>\n",
              "      <td>1.0</td>\n",
              "      <td>1.0</td>\n",
              "      <td>1</td>\n",
              "      <td>12.0</td>\n",
              "      <td>3.600</td>\n",
              "      <td>1463.755</td>\n",
              "    </tr>\n",
              "    <tr>\n",
              "      <th>12</th>\n",
              "      <td>1.0</td>\n",
              "      <td>1.0</td>\n",
              "      <td>1</td>\n",
              "      <td>13.0</td>\n",
              "      <td>5.000</td>\n",
              "      <td>1253.395</td>\n",
              "    </tr>\n",
              "    <tr>\n",
              "      <th>13</th>\n",
              "      <td>1.0</td>\n",
              "      <td>1.0</td>\n",
              "      <td>1</td>\n",
              "      <td>14.0</td>\n",
              "      <td>6.800</td>\n",
              "      <td>1358.575</td>\n",
              "    </tr>\n",
              "    <tr>\n",
              "      <th>14</th>\n",
              "      <td>1.0</td>\n",
              "      <td>1.0</td>\n",
              "      <td>1</td>\n",
              "      <td>16.0</td>\n",
              "      <td>6.800</td>\n",
              "      <td>648.610</td>\n",
              "    </tr>\n",
              "    <tr>\n",
              "      <th>15</th>\n",
              "      <td>1.0</td>\n",
              "      <td>1.0</td>\n",
              "      <td>1</td>\n",
              "      <td>17.0</td>\n",
              "      <td>6.050</td>\n",
              "      <td>1086.860</td>\n",
              "    </tr>\n",
              "    <tr>\n",
              "      <th>16</th>\n",
              "      <td>1.0</td>\n",
              "      <td>1.0</td>\n",
              "      <td>1</td>\n",
              "      <td>18.0</td>\n",
              "      <td>5.350</td>\n",
              "      <td>964.150</td>\n",
              "    </tr>\n",
              "    <tr>\n",
              "      <th>17</th>\n",
              "      <td>1.0</td>\n",
              "      <td>1.0</td>\n",
              "      <td>1</td>\n",
              "      <td>19.0</td>\n",
              "      <td>4.400</td>\n",
              "      <td>1753.000</td>\n",
              "    </tr>\n",
              "    <tr>\n",
              "      <th>18</th>\n",
              "      <td>1.0</td>\n",
              "      <td>1.0</td>\n",
              "      <td>1</td>\n",
              "      <td>20.0</td>\n",
              "      <td>4.075</td>\n",
              "      <td>762.555</td>\n",
              "    </tr>\n",
              "    <tr>\n",
              "      <th>19</th>\n",
              "      <td>1.0</td>\n",
              "      <td>1.0</td>\n",
              "      <td>1</td>\n",
              "      <td>21.0</td>\n",
              "      <td>3.850</td>\n",
              "      <td>701.200</td>\n",
              "    </tr>\n",
              "  </tbody>\n",
              "</table>\n",
              "</div>"
            ],
            "text/plain": [
              "    mes  diames  festivoNumerico  hora   temp   consumo\n",
              "0   1.0     1.0                1   1.0 -0.275   771.320\n",
              "1   1.0     1.0                1   2.0 -0.750   999.210\n",
              "2   1.0     1.0                1   3.0 -1.650  1376.105\n",
              "3   1.0     1.0                1   4.0 -2.100  1726.705\n",
              "4   1.0     1.0                1   5.0 -2.550  1919.535\n",
              "5   1.0     1.0                1   6.0 -2.600  1858.180\n",
              "6   1.0     1.0                1   7.0 -2.925  1516.345\n",
              "7   1.0     1.0                1   8.0 -2.250  1297.220\n",
              "8   1.0     1.0                1   9.0 -1.150  1419.930\n",
              "9   1.0     1.0                1  10.0  0.475  1367.340\n",
              "10  1.0     1.0                1  11.0  2.225   911.560\n",
              "11  1.0     1.0                1  12.0  3.600  1463.755\n",
              "12  1.0     1.0                1  13.0  5.000  1253.395\n",
              "13  1.0     1.0                1  14.0  6.800  1358.575\n",
              "14  1.0     1.0                1  16.0  6.800   648.610\n",
              "15  1.0     1.0                1  17.0  6.050  1086.860\n",
              "16  1.0     1.0                1  18.0  5.350   964.150\n",
              "17  1.0     1.0                1  19.0  4.400  1753.000\n",
              "18  1.0     1.0                1  20.0  4.075   762.555\n",
              "19  1.0     1.0                1  21.0  3.850   701.200"
            ]
          },
          "metadata": {
            "tags": []
          }
        },
        {
          "output_type": "display_data",
          "data": {
            "text/html": [
              "<div>\n",
              "<style scoped>\n",
              "    .dataframe tbody tr th:only-of-type {\n",
              "        vertical-align: middle;\n",
              "    }\n",
              "\n",
              "    .dataframe tbody tr th {\n",
              "        vertical-align: top;\n",
              "    }\n",
              "\n",
              "    .dataframe thead th {\n",
              "        text-align: right;\n",
              "    }\n",
              "</style>\n",
              "<table border=\"1\" class=\"dataframe\">\n",
              "  <thead>\n",
              "    <tr style=\"text-align: right;\">\n",
              "      <th></th>\n",
              "      <th>mes</th>\n",
              "      <th>diames</th>\n",
              "      <th>festivoNumerico</th>\n",
              "      <th>hora</th>\n",
              "      <th>temp</th>\n",
              "      <th>consumo</th>\n",
              "    </tr>\n",
              "  </thead>\n",
              "  <tbody>\n",
              "    <tr>\n",
              "      <th>0</th>\n",
              "      <td>1.0</td>\n",
              "      <td>4.0</td>\n",
              "      <td>0</td>\n",
              "      <td>16.0</td>\n",
              "      <td>5.200</td>\n",
              "      <td>1709.175</td>\n",
              "    </tr>\n",
              "    <tr>\n",
              "      <th>1</th>\n",
              "      <td>1.0</td>\n",
              "      <td>4.0</td>\n",
              "      <td>0</td>\n",
              "      <td>17.0</td>\n",
              "      <td>5.275</td>\n",
              "      <td>1507.580</td>\n",
              "    </tr>\n",
              "    <tr>\n",
              "      <th>2</th>\n",
              "      <td>1.0</td>\n",
              "      <td>4.0</td>\n",
              "      <td>0</td>\n",
              "      <td>18.0</td>\n",
              "      <td>5.650</td>\n",
              "      <td>1358.575</td>\n",
              "    </tr>\n",
              "    <tr>\n",
              "      <th>3</th>\n",
              "      <td>1.0</td>\n",
              "      <td>4.0</td>\n",
              "      <td>0</td>\n",
              "      <td>19.0</td>\n",
              "      <td>5.875</td>\n",
              "      <td>1297.220</td>\n",
              "    </tr>\n",
              "    <tr>\n",
              "      <th>4</th>\n",
              "      <td>1.0</td>\n",
              "      <td>4.0</td>\n",
              "      <td>0</td>\n",
              "      <td>20.0</td>\n",
              "      <td>6.000</td>\n",
              "      <td>1209.570</td>\n",
              "    </tr>\n",
              "    <tr>\n",
              "      <th>5</th>\n",
              "      <td>1.0</td>\n",
              "      <td>4.0</td>\n",
              "      <td>0</td>\n",
              "      <td>21.0</td>\n",
              "      <td>6.175</td>\n",
              "      <td>1411.165</td>\n",
              "    </tr>\n",
              "    <tr>\n",
              "      <th>6</th>\n",
              "      <td>1.0</td>\n",
              "      <td>4.0</td>\n",
              "      <td>0</td>\n",
              "      <td>22.0</td>\n",
              "      <td>6.225</td>\n",
              "      <td>1481.285</td>\n",
              "    </tr>\n",
              "    <tr>\n",
              "      <th>7</th>\n",
              "      <td>1.0</td>\n",
              "      <td>4.0</td>\n",
              "      <td>0</td>\n",
              "      <td>23.0</td>\n",
              "      <td>6.225</td>\n",
              "      <td>1341.045</td>\n",
              "    </tr>\n",
              "    <tr>\n",
              "      <th>8</th>\n",
              "      <td>1.0</td>\n",
              "      <td>5.0</td>\n",
              "      <td>0</td>\n",
              "      <td>0.0</td>\n",
              "      <td>6.150</td>\n",
              "      <td>1165.745</td>\n",
              "    </tr>\n",
              "    <tr>\n",
              "      <th>9</th>\n",
              "      <td>1.0</td>\n",
              "      <td>5.0</td>\n",
              "      <td>0</td>\n",
              "      <td>1.0</td>\n",
              "      <td>6.275</td>\n",
              "      <td>946.620</td>\n",
              "    </tr>\n",
              "    <tr>\n",
              "      <th>10</th>\n",
              "      <td>1.0</td>\n",
              "      <td>5.0</td>\n",
              "      <td>0</td>\n",
              "      <td>2.0</td>\n",
              "      <td>6.175</td>\n",
              "      <td>745.025</td>\n",
              "    </tr>\n",
              "    <tr>\n",
              "      <th>11</th>\n",
              "      <td>1.0</td>\n",
              "      <td>5.0</td>\n",
              "      <td>0</td>\n",
              "      <td>3.0</td>\n",
              "      <td>6.225</td>\n",
              "      <td>631.080</td>\n",
              "    </tr>\n",
              "    <tr>\n",
              "      <th>12</th>\n",
              "      <td>1.0</td>\n",
              "      <td>5.0</td>\n",
              "      <td>0</td>\n",
              "      <td>4.0</td>\n",
              "      <td>6.225</td>\n",
              "      <td>587.255</td>\n",
              "    </tr>\n",
              "    <tr>\n",
              "      <th>13</th>\n",
              "      <td>1.0</td>\n",
              "      <td>5.0</td>\n",
              "      <td>0</td>\n",
              "      <td>5.0</td>\n",
              "      <td>6.275</td>\n",
              "      <td>578.490</td>\n",
              "    </tr>\n",
              "    <tr>\n",
              "      <th>14</th>\n",
              "      <td>1.0</td>\n",
              "      <td>5.0</td>\n",
              "      <td>0</td>\n",
              "      <td>6.0</td>\n",
              "      <td>6.375</td>\n",
              "      <td>613.550</td>\n",
              "    </tr>\n",
              "    <tr>\n",
              "      <th>15</th>\n",
              "      <td>1.0</td>\n",
              "      <td>5.0</td>\n",
              "      <td>0</td>\n",
              "      <td>7.0</td>\n",
              "      <td>6.500</td>\n",
              "      <td>709.965</td>\n",
              "    </tr>\n",
              "    <tr>\n",
              "      <th>16</th>\n",
              "      <td>1.0</td>\n",
              "      <td>5.0</td>\n",
              "      <td>0</td>\n",
              "      <td>8.0</td>\n",
              "      <td>6.650</td>\n",
              "      <td>1043.035</td>\n",
              "    </tr>\n",
              "    <tr>\n",
              "      <th>17</th>\n",
              "      <td>1.0</td>\n",
              "      <td>5.0</td>\n",
              "      <td>0</td>\n",
              "      <td>9.0</td>\n",
              "      <td>6.550</td>\n",
              "      <td>1393.635</td>\n",
              "    </tr>\n",
              "    <tr>\n",
              "      <th>18</th>\n",
              "      <td>1.0</td>\n",
              "      <td>5.0</td>\n",
              "      <td>0</td>\n",
              "      <td>10.0</td>\n",
              "      <td>6.450</td>\n",
              "      <td>1770.530</td>\n",
              "    </tr>\n",
              "    <tr>\n",
              "      <th>19</th>\n",
              "      <td>1.0</td>\n",
              "      <td>5.0</td>\n",
              "      <td>0</td>\n",
              "      <td>11.0</td>\n",
              "      <td>7.100</td>\n",
              "      <td>1761.765</td>\n",
              "    </tr>\n",
              "  </tbody>\n",
              "</table>\n",
              "</div>"
            ],
            "text/plain": [
              "    mes  diames  festivoNumerico  hora   temp   consumo\n",
              "0   1.0     4.0                0  16.0  5.200  1709.175\n",
              "1   1.0     4.0                0  17.0  5.275  1507.580\n",
              "2   1.0     4.0                0  18.0  5.650  1358.575\n",
              "3   1.0     4.0                0  19.0  5.875  1297.220\n",
              "4   1.0     4.0                0  20.0  6.000  1209.570\n",
              "5   1.0     4.0                0  21.0  6.175  1411.165\n",
              "6   1.0     4.0                0  22.0  6.225  1481.285\n",
              "7   1.0     4.0                0  23.0  6.225  1341.045\n",
              "8   1.0     5.0                0   0.0  6.150  1165.745\n",
              "9   1.0     5.0                0   1.0  6.275   946.620\n",
              "10  1.0     5.0                0   2.0  6.175   745.025\n",
              "11  1.0     5.0                0   3.0  6.225   631.080\n",
              "12  1.0     5.0                0   4.0  6.225   587.255\n",
              "13  1.0     5.0                0   5.0  6.275   578.490\n",
              "14  1.0     5.0                0   6.0  6.375   613.550\n",
              "15  1.0     5.0                0   7.0  6.500   709.965\n",
              "16  1.0     5.0                0   8.0  6.650  1043.035\n",
              "17  1.0     5.0                0   9.0  6.550  1393.635\n",
              "18  1.0     5.0                0  10.0  6.450  1770.530\n",
              "19  1.0     5.0                0  11.0  7.100  1761.765"
            ]
          },
          "metadata": {
            "tags": []
          }
        }
      ]
    },
    {
      "cell_type": "code",
      "metadata": {
        "colab": {
          "base_uri": "https://localhost:8080/"
        },
        "id": "ntSvRzwiijiU",
        "outputId": "4b09c820-1dfd-4e75-fa8c-e09642f4a539"
      },
      "source": [
        "from sklearn.preprocessing import StandardScaler\n",
        "# Variables seleccionadas para la creación del modelo THC1\n",
        "selec_features = [\"mes\",\"diames\",\"festivoNumerico\",\"hora\",\"temp\"]\n",
        "target = [\"consumo\"]\n",
        "\n",
        "# Estandarizamos las bases de datos de entrenamiento y testeo\n",
        "scaler = StandardScaler()\n",
        "scaler.fit(df_train[selec_features].values)\n",
        "df_train_esc = scaler.transform(df_train[selec_features].values)\n",
        "df_test_esc = scaler.transform(df_test[selec_features].values)\n",
        "df_validacion_esc = scaler.transform(df_validacion[selec_features].values)\n",
        "print(df_train_esc.shape)"
      ],
      "execution_count": 8,
      "outputs": [
        {
          "output_type": "stream",
          "text": [
            "(8538, 5)\n"
          ],
          "name": "stdout"
        }
      ]
    },
    {
      "cell_type": "code",
      "metadata": {
        "id": "jLnIc58xD643"
      },
      "source": [
        "def entrena_model(model):\n",
        "\n",
        "    X_test = df_test_esc.copy()\n",
        "    y_test = df_test[[\"consumo\"]].values.reshape(-1)\n",
        "\n",
        "    X_train = df_train_esc.copy()\n",
        "    y_train = df_train[[\"consumo\"]].values.reshape(-1)\n",
        "\n",
        "    X_validacion = df_validacion_esc.copy()\n",
        "    y_validacion = df_validacion[[\"consumo\"]].values.reshape(-1)\n",
        "     \n",
        "    model.fit(X_train, y_train)\n",
        "    prediccion_validacion = model.predict(X_validacion)\n",
        "    prediccion_testeo = model.predict(X_test)\n",
        "    prediccion_train = model.predict(X_train)\n",
        "    \n",
        "    # Extrae las métricas\n",
        "    #Extraemos el mae de validación\n",
        "    mae_val = mean_absolute_error(y_validacion, prediccion_validacion)\n",
        "    #Extraemos el rmse de validación\n",
        "    rmse_val = np.sqrt(mean_squared_error(y_validacion, prediccion_validacion))\n",
        "    #Extraemos el R2 de validación\n",
        "    r2_val = r2_score(y_validacion, prediccion_validacion)\n",
        "    #Extraemos el mae de testeo\n",
        "    mae_tst = mean_absolute_error(y_test, prediccion_testeo)\n",
        "    #Extraemos el rmse de testeo\n",
        "    rmse_tst = np.sqrt(mean_squared_error(y_test, prediccion_testeo))\n",
        "    #Extraemos el R2 de testeo\n",
        "    r2_tst = r2_score(y_test, prediccion_testeo)\n",
        "\n",
        "    #Devolvemos lo valores\n",
        "    return mae_val, rmse_val, r2_val, mae_tst, rmse_tst, r2_tst, y_validacion, prediccion_validacion, y_test, prediccion_testeo, y_train, prediccion_train"
      ],
      "execution_count": 9,
      "outputs": []
    },
    {
      "cell_type": "code",
      "metadata": {
        "id": "E0mpk3x-yGQD"
      },
      "source": [
        "def dibuja_preds(y_true, y_pred, mae, rmse, r2tst, titulo='Real vs Prediccion'):\n",
        "    titulo = titulo+'MAE:{:.3f}, RMSE:{:,.3f}, R2:{:,.3f}'.format(mae, rmse, r2tst)\n",
        "    plt.figure(figsize=(8,8))\n",
        "    # Diagonal\n",
        "    min_x, max_x = y_true.min(), y_true.max()\n",
        "    min_y, max_y = y_pred.min(), y_pred.max()\n",
        "    # Preds vs Real\n",
        "    min_tot = min(min_x,min_y)\n",
        "    max_tot = max(max_x,max_y)\n",
        "    plt.scatter(y_true,y_pred,alpha=0.80)\n",
        "    plt.plot([min_tot, max_tot],[min_tot, max_tot], color='red')\n",
        "    plt.xlabel('Real')\n",
        "    plt.ylabel('Predicción')\n",
        "    plt.title(titulo)\n",
        "    plt.show()"
      ],
      "execution_count": 10,
      "outputs": []
    },
    {
      "cell_type": "markdown",
      "metadata": {
        "id": "CWiYx8DSbRkR"
      },
      "source": [
        "Uso de modelo el de la 2.2 pero me cargo todo lo de la validación cruzada"
      ]
    },
    {
      "cell_type": "code",
      "metadata": {
        "colab": {
          "base_uri": "https://localhost:8080/"
        },
        "id": "Yd7pHZXVLEA6",
        "outputId": "949954a9-94ac-4b03-c744-4c543e16902f"
      },
      "source": [
        "#Modelo Ridge Linear Regresion\n",
        "from sklearn.linear_model import Ridge\n",
        "# Probamos con diferentes potencias de 10\n",
        "for alpha in np.power(10.0,np.arange(-2,5,0.3)):\n",
        "    model = Ridge(alpha=alpha)\n",
        "    mae_val, rmse_val, r2_val, mae_tst, rmse_tst, r2_tst, _, _, _, _ = entrena_model(model)\n",
        "    print('RIDGE con alpha={:.1e} ->\\\n",
        "    Val:[MAE={:.3f},RMSE={:,.3f},R2={:,.3f}] \\\n",
        "    Test:[MAE={:.3f},RMSE={:,.3f},R2={:,.3f}]'.format(alpha, \n",
        "                                                      mae_val, rmse_val, r2_val, \n",
        "                                                      mae_tst, rmse_tst, r2_tst))"
      ],
      "execution_count": 11,
      "outputs": [
        {
          "output_type": "stream",
          "text": [
            "RIDGE con alpha=1.0e-02 ->    Val:[MAE=275.590,RMSE=337.032,R2=0.319]     Test:[MAE=285.902,RMSE=347.252,R2=0.316]\n",
            "RIDGE con alpha=2.0e-02 ->    Val:[MAE=275.590,RMSE=337.032,R2=0.319]     Test:[MAE=285.902,RMSE=347.252,R2=0.316]\n",
            "RIDGE con alpha=4.0e-02 ->    Val:[MAE=275.590,RMSE=337.032,R2=0.319]     Test:[MAE=285.902,RMSE=347.252,R2=0.316]\n",
            "RIDGE con alpha=7.9e-02 ->    Val:[MAE=275.590,RMSE=337.032,R2=0.319]     Test:[MAE=285.902,RMSE=347.252,R2=0.316]\n",
            "RIDGE con alpha=1.6e-01 ->    Val:[MAE=275.590,RMSE=337.032,R2=0.319]     Test:[MAE=285.902,RMSE=347.252,R2=0.316]\n",
            "RIDGE con alpha=3.2e-01 ->    Val:[MAE=275.590,RMSE=337.031,R2=0.319]     Test:[MAE=285.901,RMSE=347.252,R2=0.316]\n",
            "RIDGE con alpha=6.3e-01 ->    Val:[MAE=275.589,RMSE=337.031,R2=0.319]     Test:[MAE=285.901,RMSE=347.252,R2=0.316]\n",
            "RIDGE con alpha=1.3e+00 ->    Val:[MAE=275.588,RMSE=337.030,R2=0.319]     Test:[MAE=285.899,RMSE=347.251,R2=0.316]\n",
            "RIDGE con alpha=2.5e+00 ->    Val:[MAE=275.585,RMSE=337.029,R2=0.319]     Test:[MAE=285.897,RMSE=347.250,R2=0.316]\n",
            "RIDGE con alpha=5.0e+00 ->    Val:[MAE=275.580,RMSE=337.025,R2=0.319]     Test:[MAE=285.892,RMSE=347.248,R2=0.316]\n",
            "RIDGE con alpha=1.0e+01 ->    Val:[MAE=275.569,RMSE=337.019,R2=0.319]     Test:[MAE=285.881,RMSE=347.243,R2=0.316]\n",
            "RIDGE con alpha=2.0e+01 ->    Val:[MAE=275.548,RMSE=337.006,R2=0.320]     Test:[MAE=285.861,RMSE=347.235,R2=0.316]\n",
            "RIDGE con alpha=4.0e+01 ->    Val:[MAE=275.506,RMSE=336.982,R2=0.320]     Test:[MAE=285.820,RMSE=347.219,R2=0.316]\n",
            "RIDGE con alpha=7.9e+01 ->    Val:[MAE=275.426,RMSE=336.935,R2=0.320]     Test:[MAE=285.741,RMSE=347.188,R2=0.317]\n",
            "RIDGE con alpha=1.6e+02 ->    Val:[MAE=275.278,RMSE=336.851,R2=0.320]     Test:[MAE=285.590,RMSE=347.135,R2=0.317]\n",
            "RIDGE con alpha=3.2e+02 ->    Val:[MAE=275.019,RMSE=336.715,R2=0.321]     Test:[MAE=285.322,RMSE=347.061,R2=0.317]\n",
            "RIDGE con alpha=6.3e+02 ->    Val:[MAE=274.633,RMSE=336.561,R2=0.321]     Test:[MAE=284.887,RMSE=347.023,R2=0.317]\n",
            "RIDGE con alpha=1.3e+03 ->    Val:[MAE=274.202,RMSE=336.643,R2=0.321]     Test:[MAE=284.374,RMSE=347.312,R2=0.316]\n",
            "RIDGE con alpha=2.5e+03 ->    Val:[MAE=274.287,RMSE=337.859,R2=0.316]     Test:[MAE=284.433,RMSE=348.861,R2=0.310]\n",
            "RIDGE con alpha=5.0e+03 ->    Val:[MAE=276.583,RMSE=342.235,R2=0.298]     Test:[MAE=286.578,RMSE=353.678,R2=0.291]\n",
            "RIDGE con alpha=1.0e+04 ->    Val:[MAE=283.050,RMSE=351.985,R2=0.258]     Test:[MAE=292.655,RMSE=363.864,R2=0.249]\n",
            "RIDGE con alpha=2.0e+04 ->    Val:[MAE=293.579,RMSE=366.392,R2=0.196]     Test:[MAE=302.195,RMSE=378.557,R2=0.187]\n",
            "RIDGE con alpha=4.0e+04 ->    Val:[MAE=305.002,RMSE=381.159,R2=0.130]     Test:[MAE=312.827,RMSE=393.442,R2=0.122]\n",
            "RIDGE con alpha=7.9e+04 ->    Val:[MAE=314.235,RMSE=392.556,R2=0.077]     Test:[MAE=321.468,RMSE=404.862,R2=0.071]\n"
          ],
          "name": "stdout"
        }
      ]
    },
    {
      "cell_type": "code",
      "metadata": {
        "id": "ZWbre3zcxsbX",
        "colab": {
          "base_uri": "https://localhost:8080/",
          "height": 512
        },
        "outputId": "7549fbbb-b241-419d-f92d-29a985c63822"
      },
      "source": [
        "model = Ridge(alpha=6.3e+02)\n",
        "mae_val, rmse_val, r2_val, mae_tst, rmse_tst, r2_tst, y_validacion, prediccion_validacion, y_test, prediccion_testeo = entrena_model(model)\n",
        "dibuja_preds(y_test, prediccion_testeo, mae_tst, rmse_tst, r2_tst, 'Ridge Linear Regression (alpha=6.3e+02) -> ')"
      ],
      "execution_count": 12,
      "outputs": [
        {
          "output_type": "display_data",
          "data": {
            "image/png": "[encoded data removed]",
            "text/plain": [
              "<Figure size 576x576 with 1 Axes>"
            ]
          },
          "metadata": {
            "tags": [],
            "needs_background": "light"
          }
        }
      ]
    },
    {
      "cell_type": "code",
      "metadata": {
        "colab": {
          "base_uri": "https://localhost:8080/"
        },
        "id": "EGBgZG5KD643",
        "outputId": "08958e19-8a29-4d60-e52f-10e45b06a7dc"
      },
      "source": [
        "from sklearn.neighbors import KNeighborsRegressor\n",
        "for n_neighbors in range(30):\n",
        "    model = KNeighborsRegressor(n_neighbors=n_neighbors+1) \n",
        "    mae_val, rmse_val, r2_val, mae_tst, rmse_tst, r2_tst, _, _, _, _ = entrena_model(model)\n",
        "    print('KNN con k={} vecinos -> \\\n",
        "    Val:[MAE={:.3f},RMSE={:,.3f},R2={:,.3f}] \\\n",
        "    Test:[MAE={:.3f},RMSE={:,.3f},R2={:,.3f}]'.format(n_neighbors+1, mae_val, rmse_val, r2_val, \n",
        "                                                      mae_tst, rmse_tst, r2_tst))"
      ],
      "execution_count": 13,
      "outputs": [
        {
          "output_type": "stream",
          "text": [
            "KNN con k=1 vecinos ->     Val:[MAE=212.410,RMSE=288.060,R2=0.503]     Test:[MAE=214.519,RMSE=292.564,R2=0.515]\n",
            "KNN con k=2 vecinos ->     Val:[MAE=199.139,RMSE=265.790,R2=0.577]     Test:[MAE=203.461,RMSE=273.137,R2=0.577]\n",
            "KNN con k=3 vecinos ->     Val:[MAE=192.958,RMSE=255.423,R2=0.609]     Test:[MAE=194.491,RMSE=259.106,R2=0.619]\n",
            "KNN con k=4 vecinos ->     Val:[MAE=190.063,RMSE=249.734,R2=0.626]     Test:[MAE=190.034,RMSE=252.561,R2=0.638]\n",
            "KNN con k=5 vecinos ->     Val:[MAE=188.123,RMSE=245.910,R2=0.638]     Test:[MAE=187.166,RMSE=247.917,R2=0.651]\n",
            "KNN con k=6 vecinos ->     Val:[MAE=187.504,RMSE=243.737,R2=0.644]     Test:[MAE=185.606,RMSE=245.091,R2=0.659]\n",
            "KNN con k=7 vecinos ->     Val:[MAE=185.994,RMSE=241.327,R2=0.651]     Test:[MAE=184.856,RMSE=242.938,R2=0.665]\n",
            "KNN con k=8 vecinos ->     Val:[MAE=184.748,RMSE=239.308,R2=0.657]     Test:[MAE=183.821,RMSE=241.137,R2=0.670]\n",
            "KNN con k=9 vecinos ->     Val:[MAE=183.840,RMSE=238.041,R2=0.661]     Test:[MAE=183.543,RMSE=240.041,R2=0.673]\n",
            "KNN con k=10 vecinos ->     Val:[MAE=183.639,RMSE=237.289,R2=0.663]     Test:[MAE=183.151,RMSE=239.072,R2=0.676]\n",
            "KNN con k=11 vecinos ->     Val:[MAE=183.276,RMSE=236.586,R2=0.665]     Test:[MAE=182.694,RMSE=238.028,R2=0.679]\n",
            "KNN con k=12 vecinos ->     Val:[MAE=183.363,RMSE=236.319,R2=0.665]     Test:[MAE=182.638,RMSE=237.609,R2=0.680]\n",
            "KNN con k=13 vecinos ->     Val:[MAE=183.039,RMSE=236.018,R2=0.666]     Test:[MAE=182.788,RMSE=237.574,R2=0.680]\n",
            "KNN con k=14 vecinos ->     Val:[MAE=182.773,RMSE=235.454,R2=0.668]     Test:[MAE=182.576,RMSE=237.174,R2=0.681]\n",
            "KNN con k=15 vecinos ->     Val:[MAE=182.905,RMSE=235.475,R2=0.668]     Test:[MAE=182.633,RMSE=237.140,R2=0.681]\n",
            "KNN con k=16 vecinos ->     Val:[MAE=182.947,RMSE=235.475,R2=0.668]     Test:[MAE=182.942,RMSE=237.324,R2=0.681]\n",
            "KNN con k=17 vecinos ->     Val:[MAE=183.021,RMSE=235.408,R2=0.668]     Test:[MAE=183.255,RMSE=237.516,R2=0.680]\n",
            "KNN con k=18 vecinos ->     Val:[MAE=183.176,RMSE=235.298,R2=0.668]     Test:[MAE=183.352,RMSE=237.496,R2=0.680]\n",
            "KNN con k=19 vecinos ->     Val:[MAE=183.167,RMSE=235.136,R2=0.669]     Test:[MAE=183.499,RMSE=237.650,R2=0.680]\n",
            "KNN con k=20 vecinos ->     Val:[MAE=183.329,RMSE=235.211,R2=0.669]     Test:[MAE=183.807,RMSE=237.939,R2=0.679]\n",
            "KNN con k=21 vecinos ->     Val:[MAE=183.480,RMSE=235.142,R2=0.669]     Test:[MAE=184.107,RMSE=238.202,R2=0.678]\n",
            "KNN con k=22 vecinos ->     Val:[MAE=183.632,RMSE=235.177,R2=0.669]     Test:[MAE=184.352,RMSE=238.472,R2=0.678]\n",
            "KNN con k=23 vecinos ->     Val:[MAE=183.790,RMSE=235.268,R2=0.668]     Test:[MAE=184.389,RMSE=238.383,R2=0.678]\n",
            "KNN con k=24 vecinos ->     Val:[MAE=183.781,RMSE=235.126,R2=0.669]     Test:[MAE=184.685,RMSE=238.609,R2=0.677]\n",
            "KNN con k=25 vecinos ->     Val:[MAE=183.870,RMSE=235.179,R2=0.669]     Test:[MAE=185.150,RMSE=238.928,R2=0.676]\n",
            "KNN con k=26 vecinos ->     Val:[MAE=184.190,RMSE=235.484,R2=0.668]     Test:[MAE=185.350,RMSE=239.148,R2=0.676]\n",
            "KNN con k=27 vecinos ->     Val:[MAE=184.471,RMSE=235.702,R2=0.667]     Test:[MAE=185.779,RMSE=239.585,R2=0.675]\n",
            "KNN con k=28 vecinos ->     Val:[MAE=184.665,RMSE=236.031,R2=0.666]     Test:[MAE=186.029,RMSE=239.834,R2=0.674]\n",
            "KNN con k=29 vecinos ->     Val:[MAE=184.832,RMSE=236.198,R2=0.666]     Test:[MAE=186.287,RMSE=240.063,R2=0.673]\n",
            "KNN con k=30 vecinos ->     Val:[MAE=185.043,RMSE=236.385,R2=0.665]     Test:[MAE=186.496,RMSE=240.221,R2=0.673]\n"
          ],
          "name": "stdout"
        }
      ]
    },
    {
      "cell_type": "code",
      "metadata": {
        "id": "9qfv3LzcyQg3",
        "colab": {
          "base_uri": "https://localhost:8080/",
          "height": 512
        },
        "outputId": "6eaece23-c6c3-4f2d-aee1-c152ad38bc9a"
      },
      "source": [
        "model = KNeighborsRegressor(n_neighbors=19) \n",
        "mae_val, rmse_val, r2_val, mae_tst, rmse_tst, r2_tst, y_validacion, prediccion_validacion, y_test, prediccion_testeo = entrena_model(model)\n",
        "dibuja_preds(y_test, prediccion_testeo, mae_tst, rmse_tst, r2_tst, 'Ridge Linear Regression (n_neighbors=19) -> ')"
      ],
      "execution_count": 14,
      "outputs": [
        {
          "output_type": "display_data",
          "data": {
            "image/png": "[encoded data removed]",
            "text/plain": [
              "<Figure size 576x576 with 1 Axes>"
            ]
          },
          "metadata": {
            "tags": [],
            "needs_background": "light"
          }
        }
      ]
    },
    {
      "cell_type": "code",
      "metadata": {
        "colab": {
          "base_uri": "https://localhost:8080/"
        },
        "id": "3eQdnP3PD644",
        "outputId": "a316483f-35f9-4b03-8a4b-3b6e929580cf"
      },
      "source": [
        "import warnings\n",
        "warnings.filterwarnings('ignore')\n",
        "\n",
        "from sklearn.neural_network import MLPRegressor\n",
        "for num_neuronas in np.arange(1,51,5):\n",
        "    model = MLPRegressor(hidden_layer_sizes=(num_neuronas,), solver='lbfgs')\n",
        "    mae_val, rmse_val, r2_val, mae_tst, rmse_tst, r2_tst, _, _, _, _ = entrena_model(model)\n",
        "    print('ANN con num_neuronas={} -> \\\n",
        "    Val:[MAE={:.3f},RMSE={:,.3f},R2={:,.3f}] \\\n",
        "    Test:[MAE={:.3f},RMSE={:,.3f},R2={:,.3f}]'.format(num_neuronas,\n",
        "                                                      mae_val, rmse_val, r2_val, \n",
        "                                                      mae_tst, rmse_tst, r2_tst))"
      ],
      "execution_count": 15,
      "outputs": [
        {
          "output_type": "stream",
          "text": [
            "ANN con num_neuronas=1 ->     Val:[MAE=275.656,RMSE=337.105,R2=0.319]     Test:[MAE=285.940,RMSE=347.280,R2=0.316]\n",
            "ANN con num_neuronas=6 ->     Val:[MAE=180.461,RMSE=230.694,R2=0.681]     Test:[MAE=175.012,RMSE=227.609,R2=0.706]\n",
            "ANN con num_neuronas=11 ->     Val:[MAE=274.524,RMSE=336.932,R2=0.320]     Test:[MAE=283.515,RMSE=345.321,R2=0.324]\n",
            "ANN con num_neuronas=16 ->     Val:[MAE=274.173,RMSE=336.695,R2=0.321]     Test:[MAE=283.473,RMSE=345.088,R2=0.325]\n",
            "ANN con num_neuronas=21 ->     Val:[MAE=180.469,RMSE=231.750,R2=0.678]     Test:[MAE=174.097,RMSE=227.972,R2=0.705]\n",
            "ANN con num_neuronas=26 ->     Val:[MAE=178.008,RMSE=230.312,R2=0.682]     Test:[MAE=172.566,RMSE=227.858,R2=0.706]\n",
            "ANN con num_neuronas=31 ->     Val:[MAE=178.815,RMSE=229.377,R2=0.685]     Test:[MAE=172.440,RMSE=225.614,R2=0.711]\n",
            "ANN con num_neuronas=36 ->     Val:[MAE=173.711,RMSE=224.497,R2=0.698]     Test:[MAE=170.551,RMSE=224.390,R2=0.715]\n",
            "ANN con num_neuronas=41 ->     Val:[MAE=178.454,RMSE=229.367,R2=0.685]     Test:[MAE=171.849,RMSE=225.333,R2=0.712]\n",
            "ANN con num_neuronas=46 ->     Val:[MAE=183.731,RMSE=235.921,R2=0.667]     Test:[MAE=179.135,RMSE=232.878,R2=0.692]\n"
          ],
          "name": "stdout"
        }
      ]
    },
    {
      "cell_type": "code",
      "metadata": {
        "colab": {
          "base_uri": "https://localhost:8080/"
        },
        "id": "rNaJ6Fa_kMkM",
        "outputId": "8f2236fb-1767-41ec-d486-08aff7b1c9f7"
      },
      "source": [
        "from sklearn.neural_network import MLPRegressor\n",
        "for num_neuronas in np.arange(1,51,5):\n",
        "    model = MLPRegressor(hidden_layer_sizes=(num_neuronas,), solver='lbfgs', activation='logistic')\n",
        "    mae_val, rmse_val, r2_val, mae_tst, rmse_tst, r2_tst, _, _, _, _ = entrena_model(model)\n",
        "    print('ANN con num_neuronas={} -> \\\n",
        "    Val:[MAE={:.3f},RMSE={:,.3f},R2={:,.3f}] \\\n",
        "    Test:[MAE={:.3f},RMSE={:,.3f},R2={:,.3f}]'.format(num_neuronas,\n",
        "                                                      mae_val, rmse_val, r2_val, \n",
        "                                                      mae_tst, rmse_tst, r2_tst))"
      ],
      "execution_count": 16,
      "outputs": [
        {
          "output_type": "stream",
          "text": [
            "ANN con num_neuronas=1 ->     Val:[MAE=233.561,RMSE=290.037,R2=0.496]     Test:[MAE=235.798,RMSE=294.880,R2=0.507]\n",
            "ANN con num_neuronas=6 ->     Val:[MAE=229.022,RMSE=284.592,R2=0.515]     Test:[MAE=230.977,RMSE=289.224,R2=0.526]\n",
            "ANN con num_neuronas=11 ->     Val:[MAE=182.451,RMSE=235.639,R2=0.667]     Test:[MAE=180.534,RMSE=237.799,R2=0.679]\n",
            "ANN con num_neuronas=16 ->     Val:[MAE=195.228,RMSE=247.553,R2=0.633]     Test:[MAE=194.684,RMSE=250.534,R2=0.644]\n",
            "ANN con num_neuronas=21 ->     Val:[MAE=181.711,RMSE=233.015,R2=0.675]     Test:[MAE=174.584,RMSE=228.686,R2=0.703]\n",
            "ANN con num_neuronas=26 ->     Val:[MAE=176.391,RMSE=227.847,R2=0.689]     Test:[MAE=171.322,RMSE=225.096,R2=0.713]\n",
            "ANN con num_neuronas=31 ->     Val:[MAE=175.232,RMSE=226.350,R2=0.693]     Test:[MAE=169.975,RMSE=223.972,R2=0.716]\n",
            "ANN con num_neuronas=36 ->     Val:[MAE=174.289,RMSE=224.527,R2=0.698]     Test:[MAE=170.087,RMSE=222.944,R2=0.718]\n",
            "ANN con num_neuronas=41 ->     Val:[MAE=173.803,RMSE=225.367,R2=0.696]     Test:[MAE=170.638,RMSE=224.447,R2=0.714]\n",
            "ANN con num_neuronas=46 ->     Val:[MAE=173.969,RMSE=225.114,R2=0.696]     Test:[MAE=168.850,RMSE=222.322,R2=0.720]\n"
          ],
          "name": "stdout"
        }
      ]
    },
    {
      "cell_type": "code",
      "metadata": {
        "id": "5cu1XGnUrxks",
        "colab": {
          "base_uri": "https://localhost:8080/"
        },
        "outputId": "0bb27a8f-c342-4568-971a-2403f8fa4ca7"
      },
      "source": [
        "for num_neuronas in np.arange(16,47,1):\n",
        "    model = MLPRegressor(hidden_layer_sizes=(num_neuronas,), solver='lbfgs', activation='logistic')\n",
        "    mae_val, rmse_val, r2_val, mae_tst, rmse_tst, r2_tst, _, _, _, _ = entrena_model(model)\n",
        "    print('ANN con num_neuronas={} -> \\\n",
        "    Val:[MAE={:.3f},RMSE={:,.3f},R2={:,.3f}] \\\n",
        "    Test:[MAE={:.3f},RMSE={:,.3f},R2={:,.3f}]'.format(num_neuronas,\n",
        "                                                      mae_val, rmse_val, r2_val, \n",
        "                                                      mae_tst, rmse_tst, r2_tst))"
      ],
      "execution_count": 17,
      "outputs": [
        {
          "output_type": "stream",
          "text": [
            "ANN con num_neuronas=16 ->     Val:[MAE=187.771,RMSE=239.372,R2=0.657]     Test:[MAE=186.476,RMSE=240.214,R2=0.673]\n",
            "ANN con num_neuronas=17 ->     Val:[MAE=177.092,RMSE=228.377,R2=0.688]     Test:[MAE=175.035,RMSE=229.071,R2=0.702]\n",
            "ANN con num_neuronas=18 ->     Val:[MAE=182.074,RMSE=233.347,R2=0.674]     Test:[MAE=176.787,RMSE=230.511,R2=0.699]\n",
            "ANN con num_neuronas=19 ->     Val:[MAE=188.763,RMSE=240.177,R2=0.654]     Test:[MAE=182.734,RMSE=235.558,R2=0.685]\n",
            "ANN con num_neuronas=20 ->     Val:[MAE=176.713,RMSE=227.576,R2=0.690]     Test:[MAE=170.084,RMSE=223.829,R2=0.716]\n",
            "ANN con num_neuronas=21 ->     Val:[MAE=177.042,RMSE=229.073,R2=0.686]     Test:[MAE=172.528,RMSE=226.128,R2=0.710]\n",
            "ANN con num_neuronas=22 ->     Val:[MAE=179.651,RMSE=232.215,R2=0.677]     Test:[MAE=174.216,RMSE=229.656,R2=0.701]\n",
            "ANN con num_neuronas=23 ->     Val:[MAE=183.077,RMSE=233.548,R2=0.673]     Test:[MAE=179.693,RMSE=232.761,R2=0.693]\n",
            "ANN con num_neuronas=24 ->     Val:[MAE=173.426,RMSE=224.044,R2=0.699]     Test:[MAE=169.421,RMSE=223.052,R2=0.718]\n",
            "ANN con num_neuronas=25 ->     Val:[MAE=175.772,RMSE=226.076,R2=0.694]     Test:[MAE=172.227,RMSE=225.582,R2=0.711]\n",
            "ANN con num_neuronas=26 ->     Val:[MAE=172.279,RMSE=223.228,R2=0.701]     Test:[MAE=167.623,RMSE=221.691,R2=0.721]\n",
            "ANN con num_neuronas=27 ->     Val:[MAE=173.490,RMSE=223.174,R2=0.702]     Test:[MAE=169.259,RMSE=222.172,R2=0.720]\n",
            "ANN con num_neuronas=28 ->     Val:[MAE=174.420,RMSE=225.948,R2=0.694]     Test:[MAE=168.899,RMSE=222.582,R2=0.719]\n",
            "ANN con num_neuronas=29 ->     Val:[MAE=171.450,RMSE=222.608,R2=0.703]     Test:[MAE=168.421,RMSE=222.454,R2=0.719]\n",
            "ANN con num_neuronas=30 ->     Val:[MAE=175.587,RMSE=226.541,R2=0.693]     Test:[MAE=170.335,RMSE=223.632,R2=0.716]\n",
            "ANN con num_neuronas=31 ->     Val:[MAE=173.431,RMSE=224.778,R2=0.697]     Test:[MAE=170.463,RMSE=223.875,R2=0.716]\n",
            "ANN con num_neuronas=32 ->     Val:[MAE=173.164,RMSE=223.277,R2=0.701]     Test:[MAE=168.768,RMSE=222.108,R2=0.720]\n",
            "ANN con num_neuronas=33 ->     Val:[MAE=173.374,RMSE=223.827,R2=0.700]     Test:[MAE=170.163,RMSE=222.968,R2=0.718]\n",
            "ANN con num_neuronas=34 ->     Val:[MAE=172.516,RMSE=222.513,R2=0.703]     Test:[MAE=170.413,RMSE=224.123,R2=0.715]\n",
            "ANN con num_neuronas=35 ->     Val:[MAE=173.090,RMSE=222.928,R2=0.702]     Test:[MAE=169.791,RMSE=223.313,R2=0.717]\n",
            "ANN con num_neuronas=36 ->     Val:[MAE=172.435,RMSE=222.344,R2=0.704]     Test:[MAE=166.616,RMSE=220.261,R2=0.725]\n",
            "ANN con num_neuronas=37 ->     Val:[MAE=175.286,RMSE=224.983,R2=0.697]     Test:[MAE=168.421,RMSE=221.365,R2=0.722]\n",
            "ANN con num_neuronas=38 ->     Val:[MAE=173.700,RMSE=225.063,R2=0.697]     Test:[MAE=168.000,RMSE=221.487,R2=0.722]\n",
            "ANN con num_neuronas=39 ->     Val:[MAE=174.660,RMSE=224.836,R2=0.697]     Test:[MAE=169.014,RMSE=222.625,R2=0.719]\n",
            "ANN con num_neuronas=40 ->     Val:[MAE=175.213,RMSE=226.182,R2=0.693]     Test:[MAE=170.012,RMSE=223.838,R2=0.716]\n",
            "ANN con num_neuronas=41 ->     Val:[MAE=175.357,RMSE=226.348,R2=0.693]     Test:[MAE=171.713,RMSE=225.507,R2=0.712]\n",
            "ANN con num_neuronas=42 ->     Val:[MAE=175.376,RMSE=226.132,R2=0.694]     Test:[MAE=171.241,RMSE=225.281,R2=0.712]\n",
            "ANN con num_neuronas=43 ->     Val:[MAE=174.852,RMSE=225.458,R2=0.695]     Test:[MAE=173.630,RMSE=226.771,R2=0.708]\n",
            "ANN con num_neuronas=44 ->     Val:[MAE=173.986,RMSE=224.180,R2=0.699]     Test:[MAE=168.688,RMSE=222.211,R2=0.720]\n",
            "ANN con num_neuronas=45 ->     Val:[MAE=173.036,RMSE=223.283,R2=0.701]     Test:[MAE=168.857,RMSE=222.099,R2=0.720]\n",
            "ANN con num_neuronas=46 ->     Val:[MAE=174.976,RMSE=225.476,R2=0.695]     Test:[MAE=169.731,RMSE=223.881,R2=0.716]\n"
          ],
          "name": "stdout"
        }
      ]
    },
    {
      "cell_type": "code",
      "metadata": {
        "id": "lwVWZsrUvjGY",
        "colab": {
          "base_uri": "https://localhost:8080/"
        },
        "outputId": "f07ada5c-13bd-41e0-a185-0f968b8608ba"
      },
      "source": [
        "for num_neuronas in [39]:\n",
        "    for alpha in np.power(10.0,np.arange(-7,3,1)):\n",
        "        model = MLPRegressor(hidden_layer_sizes=(num_neuronas,), alpha=alpha, solver='lbfgs', activation='logistic')\n",
        "        mae_val, rmse_val, r2_val, mae_tst, rmse_tst, r2_tst, _, _, _, _ = entrena_model(model)\n",
        "        print('ANN neuronas={} alpha={:,.1e} -> \\\n",
        "        Val:[MAE={:.3f},RMSE={:,.3f},R2={:,.3f}] \\\n",
        "        Test:[MAE={:.3f},RMSE={:,.3f},R2={:,.3f}]'.format(num_neuronas, alpha,\n",
        "                                                          mae_val, rmse_val, r2_val, \n",
        "                                                          mae_tst, rmse_tst, r2_tst))"
      ],
      "execution_count": 18,
      "outputs": [
        {
          "output_type": "stream",
          "text": [
            "ANN neuronas=39 alpha=1.0e-07 ->         Val:[MAE=173.482,RMSE=222.904,R2=0.702]         Test:[MAE=164.864,RMSE=217.427,R2=0.732]\n",
            "ANN neuronas=39 alpha=1.0e-06 ->         Val:[MAE=174.483,RMSE=224.532,R2=0.698]         Test:[MAE=168.643,RMSE=221.938,R2=0.721]\n",
            "ANN neuronas=39 alpha=1.0e-05 ->         Val:[MAE=175.079,RMSE=225.174,R2=0.696]         Test:[MAE=170.351,RMSE=223.672,R2=0.716]\n",
            "ANN neuronas=39 alpha=1.0e-04 ->         Val:[MAE=171.428,RMSE=221.012,R2=0.707]         Test:[MAE=164.751,RMSE=217.450,R2=0.732]\n",
            "ANN neuronas=39 alpha=1.0e-03 ->         Val:[MAE=173.987,RMSE=224.574,R2=0.698]         Test:[MAE=167.446,RMSE=220.221,R2=0.725]\n",
            "ANN neuronas=39 alpha=1.0e-02 ->         Val:[MAE=174.228,RMSE=224.202,R2=0.699]         Test:[MAE=167.033,RMSE=220.655,R2=0.724]\n",
            "ANN neuronas=39 alpha=1.0e-01 ->         Val:[MAE=174.970,RMSE=225.624,R2=0.695]         Test:[MAE=169.372,RMSE=222.993,R2=0.718]\n",
            "ANN neuronas=39 alpha=1.0e+00 ->         Val:[MAE=173.752,RMSE=224.096,R2=0.699]         Test:[MAE=166.657,RMSE=219.723,R2=0.726]\n",
            "ANN neuronas=39 alpha=1.0e+01 ->         Val:[MAE=175.200,RMSE=225.714,R2=0.695]         Test:[MAE=168.540,RMSE=222.135,R2=0.720]\n",
            "ANN neuronas=39 alpha=1.0e+02 ->         Val:[MAE=173.773,RMSE=223.421,R2=0.701]         Test:[MAE=170.379,RMSE=222.382,R2=0.720]\n"
          ],
          "name": "stdout"
        }
      ]
    },
    {
      "cell_type": "code",
      "metadata": {
        "id": "3fI204lMyeqQ",
        "colab": {
          "base_uri": "https://localhost:8080/",
          "height": 512
        },
        "outputId": "3114da16-d7ab-44e5-a8dc-61db876fdbc7"
      },
      "source": [
        "model = MLPRegressor(hidden_layer_sizes=(39,), alpha=1.0e+01, solver='lbfgs', activation='logistic')\n",
        "mae_val, rmse_val, r2_val, mae_tst, rmse_tst, r2_tst, y_validacion, prediccion_validacion, y_test, prediccion_testeo = entrena_model(model)\n",
        "dibuja_preds(y_test, prediccion_testeo, mae_tst, rmse_tst, r2_tst, 'Ridge Linear Regression (alpha=1.0e+01) -> ')"
      ],
      "execution_count": 19,
      "outputs": [
        {
          "output_type": "display_data",
          "data": {
            "image/png": "[encoded data removed]",
            "text/plain": [
              "<Figure size 576x576 with 1 Axes>"
            ]
          },
          "metadata": {
            "tags": [],
            "needs_background": "light"
          }
        }
      ]
    },
    {
      "cell_type": "code",
      "metadata": {
        "colab": {
          "base_uri": "https://localhost:8080/"
        },
        "id": "Zp-g3Ng8kam6",
        "outputId": "92476c3a-4f8f-4eed-e5b8-5ee947330bdc"
      },
      "source": [
        "from sklearn.svm import SVR\n",
        "for num_neuronas in [0.0001,0.001,0.01,0.1,1]:\n",
        "    model = SVR(kernel='rbf', gamma=num_neuronas)\n",
        "    mae_val, rmse_val, r2_val, mae_tst, rmse_tst, r2_tst, _, _, _, _ = entrena_model(model)\n",
        "    print('ANN con num_neuronas={} -> \\\n",
        "    Val:[MAE={:.3f},RMSE={:,.3f},R2={:,.3f}] \\\n",
        "    Test:[MAE={:.3f},RMSE={:,.3f},R2={:,.3f}]'.format(num_neuronas, mae_val, rmse_val, r2_val, \n",
        "                                                      mae_tst, rmse_tst, r2_tst))"
      ],
      "execution_count": 20,
      "outputs": [
        {
          "output_type": "stream",
          "text": [
            "ANN con num_neuronas=0.0001 ->     Val:[MAE=323.131,RMSE=413.556,R2=-0.025]     Test:[MAE=333.359,RMSE=429.363,R2=-0.045]\n",
            "ANN con num_neuronas=0.001 ->     Val:[MAE=319.517,RMSE=408.656,R2=-0.001]     Test:[MAE=329.851,RMSE=424.346,R2=-0.021]\n",
            "ANN con num_neuronas=0.01 ->     Val:[MAE=296.606,RMSE=373.786,R2=0.163]     Test:[MAE=306.522,RMSE=387.510,R2=0.149]\n",
            "ANN con num_neuronas=0.1 ->     Val:[MAE=261.956,RMSE=328.417,R2=0.354]     Test:[MAE=272.305,RMSE=340.286,R2=0.343]\n",
            "ANN con num_neuronas=1 ->     Val:[MAE=268.523,RMSE=343.734,R2=0.292]     Test:[MAE=278.881,RMSE=357.965,R2=0.273]\n"
          ],
          "name": "stdout"
        }
      ]
    },
    {
      "cell_type": "code",
      "metadata": {
        "id": "LGL4_WxeyuLI",
        "colab": {
          "base_uri": "https://localhost:8080/",
          "height": 512
        },
        "outputId": "ce426704-7288-4823-8cd4-2a946f3c16f9"
      },
      "source": [
        "model = DecisionTreeRegressor(min_samples_split=0.1)\n",
        "mae_val, rmse_val, r2_val, mae_tst, rmse_tst, r2_tst, y_validacion, prediccion_validacion, y_test, prediccion_testeo = entrena_model(model)\n",
        "dibuja_preds(y_test, prediccion_testeo, mae_tst, rmse_tst, r2_tst, 'min_samples_split=0.1 -> ')"
      ],
      "execution_count": 21,
      "outputs": [
        {
          "output_type": "display_data",
          "data": {
            "image/png": "[encoded data removed]",
            "text/plain": [
              "<Figure size 576x576 with 1 Axes>"
            ]
          },
          "metadata": {
            "tags": [],
            "needs_background": "light"
          }
        }
      ]
    },
    {
      "cell_type": "code",
      "metadata": {
        "colab": {
          "base_uri": "https://localhost:8080/"
        },
        "id": "24xd0qcyklx9",
        "outputId": "82663431-d542-4525-c574-f3df81c0afb7"
      },
      "source": [
        "from sklearn.tree import DecisionTreeRegressor\n",
        "for num_neuronas in range(2,1000,10):\n",
        "    model = DecisionTreeRegressor(min_samples_split=num_neuronas)\n",
        "    mae_val, rmse_val, r2_val, mae_tst, rmse_tst, r2_tst, _, _, _, _ = entrena_model(model)\n",
        "    print('ANN con num_neuronas={} -> \\\n",
        "    Val:[MAE={:.3f},RMSE={:,.3f},R2={:,.3f}] \\\n",
        "    Test:[MAE={:.3f},RMSE={:,.3f},R2={:,.3f}]'.format(num_neuronas, mae_val, rmse_val, r2_val, \n",
        "                                                      mae_tst, rmse_tst, r2_tst))"
      ],
      "execution_count": 22,
      "outputs": [
        {
          "output_type": "stream",
          "text": [
            "ANN con num_neuronas=2 ->     Val:[MAE=211.147,RMSE=285.675,R2=0.511]     Test:[MAE=210.139,RMSE=286.593,R2=0.534]\n",
            "ANN con num_neuronas=12 ->     Val:[MAE=192.301,RMSE=256.835,R2=0.605]     Test:[MAE=191.782,RMSE=256.699,R2=0.626]\n",
            "ANN con num_neuronas=22 ->     Val:[MAE=185.207,RMSE=245.892,R2=0.638]     Test:[MAE=183.072,RMSE=243.505,R2=0.664]\n",
            "ANN con num_neuronas=32 ->     Val:[MAE=182.789,RMSE=241.342,R2=0.651]     Test:[MAE=178.917,RMSE=238.883,R2=0.676]\n",
            "ANN con num_neuronas=42 ->     Val:[MAE=180.386,RMSE=237.764,R2=0.661]     Test:[MAE=176.519,RMSE=235.066,R2=0.687]\n",
            "ANN con num_neuronas=52 ->     Val:[MAE=178.573,RMSE=235.815,R2=0.667]     Test:[MAE=174.325,RMSE=232.323,R2=0.694]\n",
            "ANN con num_neuronas=62 ->     Val:[MAE=177.211,RMSE=233.634,R2=0.673]     Test:[MAE=172.695,RMSE=230.722,R2=0.698]\n",
            "ANN con num_neuronas=72 ->     Val:[MAE=177.269,RMSE=233.406,R2=0.674]     Test:[MAE=172.778,RMSE=230.649,R2=0.698]\n",
            "ANN con num_neuronas=82 ->     Val:[MAE=175.188,RMSE=230.292,R2=0.682]     Test:[MAE=170.567,RMSE=228.325,R2=0.704]\n",
            "ANN con num_neuronas=92 ->     Val:[MAE=174.546,RMSE=229.603,R2=0.684]     Test:[MAE=169.864,RMSE=227.497,R2=0.707]\n",
            "ANN con num_neuronas=102 ->     Val:[MAE=174.362,RMSE=229.120,R2=0.685]     Test:[MAE=169.907,RMSE=227.188,R2=0.707]\n",
            "ANN con num_neuronas=112 ->     Val:[MAE=174.226,RMSE=228.979,R2=0.686]     Test:[MAE=169.202,RMSE=225.923,R2=0.711]\n",
            "ANN con num_neuronas=122 ->     Val:[MAE=173.763,RMSE=228.416,R2=0.687]     Test:[MAE=167.675,RMSE=224.213,R2=0.715]\n",
            "ANN con num_neuronas=132 ->     Val:[MAE=174.280,RMSE=229.101,R2=0.686]     Test:[MAE=167.535,RMSE=223.984,R2=0.716]\n",
            "ANN con num_neuronas=142 ->     Val:[MAE=174.043,RMSE=228.785,R2=0.686]     Test:[MAE=167.191,RMSE=223.612,R2=0.716]\n",
            "ANN con num_neuronas=152 ->     Val:[MAE=172.214,RMSE=225.931,R2=0.694]     Test:[MAE=165.970,RMSE=221.928,R2=0.721]\n",
            "ANN con num_neuronas=162 ->     Val:[MAE=172.033,RMSE=225.111,R2=0.696]     Test:[MAE=165.218,RMSE=221.050,R2=0.723]\n",
            "ANN con num_neuronas=172 ->     Val:[MAE=172.784,RMSE=226.362,R2=0.693]     Test:[MAE=166.156,RMSE=222.269,R2=0.720]\n",
            "ANN con num_neuronas=182 ->     Val:[MAE=172.643,RMSE=226.218,R2=0.693]     Test:[MAE=165.928,RMSE=221.905,R2=0.721]\n",
            "ANN con num_neuronas=192 ->     Val:[MAE=172.780,RMSE=226.311,R2=0.693]     Test:[MAE=165.713,RMSE=221.687,R2=0.721]\n",
            "ANN con num_neuronas=202 ->     Val:[MAE=173.660,RMSE=227.267,R2=0.691]     Test:[MAE=166.908,RMSE=222.437,R2=0.719]\n",
            "ANN con num_neuronas=212 ->     Val:[MAE=173.855,RMSE=227.399,R2=0.690]     Test:[MAE=166.804,RMSE=222.287,R2=0.720]\n",
            "ANN con num_neuronas=222 ->     Val:[MAE=174.697,RMSE=228.856,R2=0.686]     Test:[MAE=167.875,RMSE=223.924,R2=0.716]\n",
            "ANN con num_neuronas=232 ->     Val:[MAE=174.912,RMSE=229.068,R2=0.686]     Test:[MAE=167.986,RMSE=224.160,R2=0.715]\n",
            "ANN con num_neuronas=242 ->     Val:[MAE=174.280,RMSE=227.687,R2=0.689]     Test:[MAE=168.092,RMSE=224.112,R2=0.715]\n",
            "ANN con num_neuronas=252 ->     Val:[MAE=174.233,RMSE=227.689,R2=0.689]     Test:[MAE=168.006,RMSE=224.234,R2=0.715]\n",
            "ANN con num_neuronas=262 ->     Val:[MAE=174.087,RMSE=227.605,R2=0.690]     Test:[MAE=168.036,RMSE=224.246,R2=0.715]\n",
            "ANN con num_neuronas=272 ->     Val:[MAE=174.097,RMSE=227.598,R2=0.690]     Test:[MAE=168.117,RMSE=224.336,R2=0.715]\n",
            "ANN con num_neuronas=282 ->     Val:[MAE=174.046,RMSE=227.549,R2=0.690]     Test:[MAE=168.134,RMSE=224.346,R2=0.715]\n",
            "ANN con num_neuronas=292 ->     Val:[MAE=174.184,RMSE=227.883,R2=0.689]     Test:[MAE=168.070,RMSE=224.251,R2=0.715]\n",
            "ANN con num_neuronas=302 ->     Val:[MAE=174.213,RMSE=227.959,R2=0.689]     Test:[MAE=167.974,RMSE=224.158,R2=0.715]\n",
            "ANN con num_neuronas=312 ->     Val:[MAE=174.223,RMSE=227.940,R2=0.689]     Test:[MAE=167.995,RMSE=224.178,R2=0.715]\n",
            "ANN con num_neuronas=322 ->     Val:[MAE=174.227,RMSE=228.050,R2=0.688]     Test:[MAE=168.021,RMSE=224.312,R2=0.715]\n",
            "ANN con num_neuronas=332 ->     Val:[MAE=174.886,RMSE=229.536,R2=0.684]     Test:[MAE=168.255,RMSE=225.125,R2=0.713]\n",
            "ANN con num_neuronas=342 ->     Val:[MAE=174.938,RMSE=229.519,R2=0.684]     Test:[MAE=168.187,RMSE=225.044,R2=0.713]\n",
            "ANN con num_neuronas=352 ->     Val:[MAE=174.925,RMSE=229.488,R2=0.684]     Test:[MAE=168.209,RMSE=225.074,R2=0.713]\n",
            "ANN con num_neuronas=362 ->     Val:[MAE=176.204,RMSE=231.331,R2=0.679]     Test:[MAE=169.901,RMSE=227.393,R2=0.707]\n",
            "ANN con num_neuronas=372 ->     Val:[MAE=176.503,RMSE=231.631,R2=0.679]     Test:[MAE=169.888,RMSE=227.374,R2=0.707]\n",
            "ANN con num_neuronas=382 ->     Val:[MAE=176.552,RMSE=231.639,R2=0.679]     Test:[MAE=170.131,RMSE=227.716,R2=0.706]\n",
            "ANN con num_neuronas=392 ->     Val:[MAE=176.552,RMSE=231.639,R2=0.679]     Test:[MAE=170.131,RMSE=227.716,R2=0.706]\n",
            "ANN con num_neuronas=402 ->     Val:[MAE=174.398,RMSE=228.607,R2=0.687]     Test:[MAE=168.698,RMSE=226.269,R2=0.710]\n",
            "ANN con num_neuronas=412 ->     Val:[MAE=174.398,RMSE=228.607,R2=0.687]     Test:[MAE=168.698,RMSE=226.269,R2=0.710]\n",
            "ANN con num_neuronas=422 ->     Val:[MAE=174.390,RMSE=228.574,R2=0.687]     Test:[MAE=168.762,RMSE=226.306,R2=0.710]\n",
            "ANN con num_neuronas=432 ->     Val:[MAE=174.390,RMSE=228.574,R2=0.687]     Test:[MAE=168.762,RMSE=226.306,R2=0.710]\n",
            "ANN con num_neuronas=442 ->     Val:[MAE=174.121,RMSE=228.437,R2=0.687]     Test:[MAE=168.804,RMSE=226.301,R2=0.710]\n",
            "ANN con num_neuronas=452 ->     Val:[MAE=175.131,RMSE=229.443,R2=0.685]     Test:[MAE=169.598,RMSE=227.234,R2=0.707]\n",
            "ANN con num_neuronas=462 ->     Val:[MAE=175.004,RMSE=229.353,R2=0.685]     Test:[MAE=169.424,RMSE=227.008,R2=0.708]\n",
            "ANN con num_neuronas=472 ->     Val:[MAE=174.875,RMSE=229.360,R2=0.685]     Test:[MAE=169.445,RMSE=227.076,R2=0.708]\n",
            "ANN con num_neuronas=482 ->     Val:[MAE=174.875,RMSE=229.360,R2=0.685]     Test:[MAE=169.445,RMSE=227.076,R2=0.708]\n",
            "ANN con num_neuronas=492 ->     Val:[MAE=174.875,RMSE=229.360,R2=0.685]     Test:[MAE=169.445,RMSE=227.076,R2=0.708]\n",
            "ANN con num_neuronas=502 ->     Val:[MAE=175.103,RMSE=229.561,R2=0.684]     Test:[MAE=169.390,RMSE=227.111,R2=0.708]\n",
            "ANN con num_neuronas=512 ->     Val:[MAE=175.187,RMSE=229.672,R2=0.684]     Test:[MAE=169.738,RMSE=227.590,R2=0.706]\n",
            "ANN con num_neuronas=522 ->     Val:[MAE=175.187,RMSE=229.672,R2=0.684]     Test:[MAE=169.738,RMSE=227.590,R2=0.706]\n",
            "ANN con num_neuronas=532 ->     Val:[MAE=175.208,RMSE=229.675,R2=0.684]     Test:[MAE=169.819,RMSE=227.680,R2=0.706]\n",
            "ANN con num_neuronas=542 ->     Val:[MAE=175.208,RMSE=229.675,R2=0.684]     Test:[MAE=169.819,RMSE=227.680,R2=0.706]\n",
            "ANN con num_neuronas=552 ->     Val:[MAE=176.508,RMSE=230.554,R2=0.682]     Test:[MAE=170.122,RMSE=227.747,R2=0.706]\n",
            "ANN con num_neuronas=562 ->     Val:[MAE=177.212,RMSE=231.268,R2=0.680]     Test:[MAE=170.505,RMSE=228.045,R2=0.705]\n",
            "ANN con num_neuronas=572 ->     Val:[MAE=177.212,RMSE=231.268,R2=0.680]     Test:[MAE=170.505,RMSE=228.045,R2=0.705]\n",
            "ANN con num_neuronas=582 ->     Val:[MAE=177.212,RMSE=231.268,R2=0.680]     Test:[MAE=170.505,RMSE=228.045,R2=0.705]\n",
            "ANN con num_neuronas=592 ->     Val:[MAE=177.692,RMSE=231.859,R2=0.678]     Test:[MAE=170.842,RMSE=228.133,R2=0.705]\n",
            "ANN con num_neuronas=602 ->     Val:[MAE=177.692,RMSE=231.859,R2=0.678]     Test:[MAE=170.842,RMSE=228.133,R2=0.705]\n",
            "ANN con num_neuronas=612 ->     Val:[MAE=177.692,RMSE=231.859,R2=0.678]     Test:[MAE=170.842,RMSE=228.133,R2=0.705]\n",
            "ANN con num_neuronas=622 ->     Val:[MAE=177.692,RMSE=231.859,R2=0.678]     Test:[MAE=170.842,RMSE=228.133,R2=0.705]\n",
            "ANN con num_neuronas=632 ->     Val:[MAE=178.255,RMSE=232.397,R2=0.676]     Test:[MAE=170.956,RMSE=228.344,R2=0.704]\n",
            "ANN con num_neuronas=642 ->     Val:[MAE=178.255,RMSE=232.397,R2=0.676]     Test:[MAE=170.956,RMSE=228.344,R2=0.704]\n",
            "ANN con num_neuronas=652 ->     Val:[MAE=178.255,RMSE=232.397,R2=0.676]     Test:[MAE=170.956,RMSE=228.344,R2=0.704]\n",
            "ANN con num_neuronas=662 ->     Val:[MAE=178.255,RMSE=232.397,R2=0.676]     Test:[MAE=170.956,RMSE=228.344,R2=0.704]\n",
            "ANN con num_neuronas=672 ->     Val:[MAE=178.255,RMSE=232.397,R2=0.676]     Test:[MAE=170.956,RMSE=228.344,R2=0.704]\n",
            "ANN con num_neuronas=682 ->     Val:[MAE=178.255,RMSE=232.397,R2=0.676]     Test:[MAE=170.956,RMSE=228.344,R2=0.704]\n",
            "ANN con num_neuronas=692 ->     Val:[MAE=178.255,RMSE=232.397,R2=0.676]     Test:[MAE=170.956,RMSE=228.344,R2=0.704]\n",
            "ANN con num_neuronas=702 ->     Val:[MAE=178.255,RMSE=232.397,R2=0.676]     Test:[MAE=170.956,RMSE=228.344,R2=0.704]\n",
            "ANN con num_neuronas=712 ->     Val:[MAE=178.349,RMSE=232.474,R2=0.676]     Test:[MAE=171.039,RMSE=228.368,R2=0.704]\n",
            "ANN con num_neuronas=722 ->     Val:[MAE=178.349,RMSE=232.474,R2=0.676]     Test:[MAE=171.039,RMSE=228.368,R2=0.704]\n",
            "ANN con num_neuronas=732 ->     Val:[MAE=178.349,RMSE=232.474,R2=0.676]     Test:[MAE=171.039,RMSE=228.368,R2=0.704]\n",
            "ANN con num_neuronas=742 ->     Val:[MAE=178.565,RMSE=232.773,R2=0.675]     Test:[MAE=171.006,RMSE=228.357,R2=0.704]\n",
            "ANN con num_neuronas=752 ->     Val:[MAE=178.565,RMSE=232.773,R2=0.675]     Test:[MAE=171.006,RMSE=228.357,R2=0.704]\n",
            "ANN con num_neuronas=762 ->     Val:[MAE=178.565,RMSE=232.773,R2=0.675]     Test:[MAE=171.006,RMSE=228.357,R2=0.704]\n",
            "ANN con num_neuronas=772 ->     Val:[MAE=178.565,RMSE=232.773,R2=0.675]     Test:[MAE=171.006,RMSE=228.357,R2=0.704]\n",
            "ANN con num_neuronas=782 ->     Val:[MAE=178.565,RMSE=232.773,R2=0.675]     Test:[MAE=171.006,RMSE=228.357,R2=0.704]\n",
            "ANN con num_neuronas=792 ->     Val:[MAE=178.565,RMSE=232.773,R2=0.675]     Test:[MAE=171.006,RMSE=228.357,R2=0.704]\n",
            "ANN con num_neuronas=802 ->     Val:[MAE=178.565,RMSE=232.773,R2=0.675]     Test:[MAE=171.006,RMSE=228.357,R2=0.704]\n",
            "ANN con num_neuronas=812 ->     Val:[MAE=178.565,RMSE=232.773,R2=0.675]     Test:[MAE=171.006,RMSE=228.357,R2=0.704]\n",
            "ANN con num_neuronas=822 ->     Val:[MAE=178.250,RMSE=231.774,R2=0.678]     Test:[MAE=173.512,RMSE=231.036,R2=0.697]\n",
            "ANN con num_neuronas=832 ->     Val:[MAE=178.250,RMSE=231.774,R2=0.678]     Test:[MAE=173.512,RMSE=231.036,R2=0.697]\n",
            "ANN con num_neuronas=842 ->     Val:[MAE=178.957,RMSE=232.507,R2=0.676]     Test:[MAE=174.242,RMSE=231.704,R2=0.696]\n",
            "ANN con num_neuronas=852 ->     Val:[MAE=178.957,RMSE=232.507,R2=0.676]     Test:[MAE=174.242,RMSE=231.704,R2=0.696]\n",
            "ANN con num_neuronas=862 ->     Val:[MAE=178.957,RMSE=232.507,R2=0.676]     Test:[MAE=174.242,RMSE=231.704,R2=0.696]\n",
            "ANN con num_neuronas=872 ->     Val:[MAE=178.957,RMSE=232.507,R2=0.676]     Test:[MAE=174.242,RMSE=231.704,R2=0.696]\n",
            "ANN con num_neuronas=882 ->     Val:[MAE=178.957,RMSE=232.507,R2=0.676]     Test:[MAE=174.242,RMSE=231.704,R2=0.696]\n",
            "ANN con num_neuronas=892 ->     Val:[MAE=183.013,RMSE=238.082,R2=0.660]     Test:[MAE=175.543,RMSE=233.530,R2=0.691]\n",
            "ANN con num_neuronas=902 ->     Val:[MAE=183.013,RMSE=238.082,R2=0.660]     Test:[MAE=175.543,RMSE=233.530,R2=0.691]\n",
            "ANN con num_neuronas=912 ->     Val:[MAE=183.013,RMSE=238.082,R2=0.660]     Test:[MAE=175.543,RMSE=233.530,R2=0.691]\n",
            "ANN con num_neuronas=922 ->     Val:[MAE=183.323,RMSE=238.346,R2=0.660]     Test:[MAE=176.116,RMSE=233.991,R2=0.690]\n",
            "ANN con num_neuronas=932 ->     Val:[MAE=183.187,RMSE=237.842,R2=0.661]     Test:[MAE=176.079,RMSE=233.621,R2=0.691]\n",
            "ANN con num_neuronas=942 ->     Val:[MAE=183.187,RMSE=237.842,R2=0.661]     Test:[MAE=176.079,RMSE=233.621,R2=0.691]\n",
            "ANN con num_neuronas=952 ->     Val:[MAE=182.852,RMSE=238.200,R2=0.660]     Test:[MAE=176.227,RMSE=234.188,R2=0.689]\n",
            "ANN con num_neuronas=962 ->     Val:[MAE=182.852,RMSE=238.200,R2=0.660]     Test:[MAE=176.227,RMSE=234.188,R2=0.689]\n",
            "ANN con num_neuronas=972 ->     Val:[MAE=182.922,RMSE=238.478,R2=0.659]     Test:[MAE=176.262,RMSE=234.416,R2=0.688]\n",
            "ANN con num_neuronas=982 ->     Val:[MAE=182.922,RMSE=238.478,R2=0.659]     Test:[MAE=176.262,RMSE=234.416,R2=0.688]\n",
            "ANN con num_neuronas=992 ->     Val:[MAE=182.922,RMSE=238.478,R2=0.659]     Test:[MAE=176.262,RMSE=234.416,R2=0.688]\n"
          ],
          "name": "stdout"
        }
      ]
    },
    {
      "cell_type": "code",
      "metadata": {
        "id": "O-a0O8i8tyTm",
        "colab": {
          "base_uri": "https://localhost:8080/"
        },
        "outputId": "dc88332b-73c3-46e9-e146-4daf853ca8e6"
      },
      "source": [
        "from sklearn.tree import DecisionTreeRegressor\n",
        "for num_neuronas in range(150,170,1):\n",
        "    model = DecisionTreeRegressor(min_samples_split=num_neuronas)\n",
        "    mae_val, rmse_val, r2_val, mae_tst, rmse_tst, r2_tst, _, _, _, _ = entrena_model(model)\n",
        "    print('ANN con num_neuronas={} -> \\\n",
        "    Val:[MAE={:.3f},RMSE={:,.3f},R2={:,.3f}] \\\n",
        "    Test:[MAE={:.3f},RMSE={:,.3f},R2={:,.3f}]'.format(num_neuronas, mae_val, rmse_val, r2_val, \n",
        "                                                      mae_tst, rmse_tst, r2_tst))"
      ],
      "execution_count": 23,
      "outputs": [
        {
          "output_type": "stream",
          "text": [
            "ANN con num_neuronas=150 ->     Val:[MAE=172.769,RMSE=226.467,R2=0.693]     Test:[MAE=166.183,RMSE=222.247,R2=0.720]\n",
            "ANN con num_neuronas=151 ->     Val:[MAE=172.359,RMSE=226.087,R2=0.694]     Test:[MAE=166.102,RMSE=222.172,R2=0.720]\n",
            "ANN con num_neuronas=152 ->     Val:[MAE=172.214,RMSE=225.931,R2=0.694]     Test:[MAE=165.970,RMSE=221.928,R2=0.721]\n",
            "ANN con num_neuronas=153 ->     Val:[MAE=172.241,RMSE=225.955,R2=0.694]     Test:[MAE=165.989,RMSE=221.942,R2=0.721]\n",
            "ANN con num_neuronas=154 ->     Val:[MAE=172.241,RMSE=225.955,R2=0.694]     Test:[MAE=165.989,RMSE=221.942,R2=0.721]\n",
            "ANN con num_neuronas=155 ->     Val:[MAE=172.241,RMSE=225.955,R2=0.694]     Test:[MAE=165.989,RMSE=221.942,R2=0.721]\n",
            "ANN con num_neuronas=156 ->     Val:[MAE=171.946,RMSE=225.273,R2=0.696]     Test:[MAE=165.676,RMSE=221.441,R2=0.722]\n",
            "ANN con num_neuronas=157 ->     Val:[MAE=171.646,RMSE=224.956,R2=0.697]     Test:[MAE=165.362,RMSE=221.144,R2=0.723]\n",
            "ANN con num_neuronas=158 ->     Val:[MAE=171.646,RMSE=224.956,R2=0.697]     Test:[MAE=165.362,RMSE=221.144,R2=0.723]\n",
            "ANN con num_neuronas=159 ->     Val:[MAE=172.038,RMSE=225.327,R2=0.696]     Test:[MAE=165.472,RMSE=221.326,R2=0.722]\n",
            "ANN con num_neuronas=160 ->     Val:[MAE=172.038,RMSE=225.327,R2=0.696]     Test:[MAE=165.472,RMSE=221.326,R2=0.722]\n",
            "ANN con num_neuronas=161 ->     Val:[MAE=172.033,RMSE=225.111,R2=0.696]     Test:[MAE=165.218,RMSE=221.050,R2=0.723]\n",
            "ANN con num_neuronas=162 ->     Val:[MAE=172.033,RMSE=225.111,R2=0.696]     Test:[MAE=165.218,RMSE=221.050,R2=0.723]\n",
            "ANN con num_neuronas=163 ->     Val:[MAE=172.033,RMSE=225.111,R2=0.696]     Test:[MAE=165.218,RMSE=221.050,R2=0.723]\n",
            "ANN con num_neuronas=164 ->     Val:[MAE=172.033,RMSE=225.111,R2=0.696]     Test:[MAE=165.218,RMSE=221.050,R2=0.723]\n",
            "ANN con num_neuronas=165 ->     Val:[MAE=171.831,RMSE=224.879,R2=0.697]     Test:[MAE=165.123,RMSE=220.963,R2=0.723]\n",
            "ANN con num_neuronas=166 ->     Val:[MAE=171.811,RMSE=224.877,R2=0.697]     Test:[MAE=165.065,RMSE=220.933,R2=0.723]\n",
            "ANN con num_neuronas=167 ->     Val:[MAE=171.875,RMSE=224.899,R2=0.697]     Test:[MAE=164.963,RMSE=220.849,R2=0.723]\n",
            "ANN con num_neuronas=168 ->     Val:[MAE=171.875,RMSE=224.899,R2=0.697]     Test:[MAE=164.963,RMSE=220.849,R2=0.723]\n",
            "ANN con num_neuronas=169 ->     Val:[MAE=172.792,RMSE=226.345,R2=0.693]     Test:[MAE=166.114,RMSE=222.211,R2=0.720]\n"
          ],
          "name": "stdout"
        }
      ]
    },
    {
      "cell_type": "code",
      "metadata": {
        "id": "sNBHxUL5s8tq",
        "colab": {
          "base_uri": "https://localhost:8080/"
        },
        "outputId": "b1c8ab90-2fd2-46bb-d5ba-667f83dfb3ab"
      },
      "source": [
        "for num_neuronas in range(2,1000,10):\n",
        "    model = DecisionTreeRegressor(min_samples_split=num_neuronas,splitter=\"random\",criterion=\"friedman_mse\")\n",
        "    mae_val, rmse_val, r2_val, mae_tst, rmse_tst, r2_tst, _, _, _, _ = entrena_model(model)\n",
        "    print('ANN con num_neuronas={} -> \\\n",
        "    Val:[MAE={:.3f},RMSE={:,.3f},R2={:,.3f}] \\\n",
        "    Test:[MAE={:.3f},RMSE={:,.3f},R2={:,.3f}]'.format(num_neuronas, mae_val, rmse_val, r2_val, \n",
        "                                                      mae_tst, rmse_tst, r2_tst))"
      ],
      "execution_count": 24,
      "outputs": [
        {
          "output_type": "stream",
          "text": [
            "ANN con num_neuronas=2 ->     Val:[MAE=205.697,RMSE=277.175,R2=0.540]     Test:[MAE=205.962,RMSE=278.951,R2=0.559]\n",
            "ANN con num_neuronas=12 ->     Val:[MAE=180.446,RMSE=237.231,R2=0.663]     Test:[MAE=177.018,RMSE=236.481,R2=0.683]\n",
            "ANN con num_neuronas=22 ->     Val:[MAE=173.684,RMSE=225.756,R2=0.695]     Test:[MAE=170.877,RMSE=226.924,R2=0.708]\n",
            "ANN con num_neuronas=32 ->     Val:[MAE=173.207,RMSE=226.539,R2=0.693]     Test:[MAE=168.682,RMSE=223.176,R2=0.718]\n",
            "ANN con num_neuronas=42 ->     Val:[MAE=172.893,RMSE=227.327,R2=0.690]     Test:[MAE=167.703,RMSE=224.708,R2=0.714]\n",
            "ANN con num_neuronas=52 ->     Val:[MAE=171.406,RMSE=223.997,R2=0.699]     Test:[MAE=165.333,RMSE=220.293,R2=0.725]\n",
            "ANN con num_neuronas=62 ->     Val:[MAE=172.973,RMSE=226.001,R2=0.694]     Test:[MAE=165.795,RMSE=222.217,R2=0.720]\n",
            "ANN con num_neuronas=72 ->     Val:[MAE=171.433,RMSE=224.847,R2=0.697]     Test:[MAE=167.787,RMSE=223.439,R2=0.717]\n",
            "ANN con num_neuronas=82 ->     Val:[MAE=170.817,RMSE=222.468,R2=0.703]     Test:[MAE=166.574,RMSE=223.068,R2=0.718]\n",
            "ANN con num_neuronas=92 ->     Val:[MAE=176.879,RMSE=231.017,R2=0.680]     Test:[MAE=167.707,RMSE=222.210,R2=0.720]\n",
            "ANN con num_neuronas=102 ->     Val:[MAE=173.373,RMSE=227.503,R2=0.690]     Test:[MAE=169.706,RMSE=225.984,R2=0.710]\n",
            "ANN con num_neuronas=112 ->     Val:[MAE=176.805,RMSE=229.787,R2=0.684]     Test:[MAE=171.824,RMSE=228.863,R2=0.703]\n",
            "ANN con num_neuronas=122 ->     Val:[MAE=170.468,RMSE=221.817,R2=0.705]     Test:[MAE=169.226,RMSE=224.714,R2=0.714]\n",
            "ANN con num_neuronas=132 ->     Val:[MAE=171.474,RMSE=223.885,R2=0.700]     Test:[MAE=166.868,RMSE=221.066,R2=0.723]\n",
            "ANN con num_neuronas=142 ->     Val:[MAE=176.999,RMSE=231.250,R2=0.680]     Test:[MAE=170.891,RMSE=226.627,R2=0.709]\n",
            "ANN con num_neuronas=152 ->     Val:[MAE=180.124,RMSE=232.888,R2=0.675]     Test:[MAE=178.846,RMSE=235.722,R2=0.685]\n",
            "ANN con num_neuronas=162 ->     Val:[MAE=173.718,RMSE=225.945,R2=0.694]     Test:[MAE=168.141,RMSE=222.622,R2=0.719]\n",
            "ANN con num_neuronas=172 ->     Val:[MAE=176.823,RMSE=231.670,R2=0.678]     Test:[MAE=172.172,RMSE=227.374,R2=0.707]\n",
            "ANN con num_neuronas=182 ->     Val:[MAE=180.749,RMSE=234.970,R2=0.669]     Test:[MAE=176.670,RMSE=233.678,R2=0.690]\n",
            "ANN con num_neuronas=192 ->     Val:[MAE=175.596,RMSE=227.251,R2=0.691]     Test:[MAE=169.305,RMSE=223.213,R2=0.717]\n",
            "ANN con num_neuronas=202 ->     Val:[MAE=178.738,RMSE=233.605,R2=0.673]     Test:[MAE=177.464,RMSE=235.527,R2=0.685]\n",
            "ANN con num_neuronas=212 ->     Val:[MAE=173.713,RMSE=225.751,R2=0.695]     Test:[MAE=168.159,RMSE=223.029,R2=0.718]\n",
            "ANN con num_neuronas=222 ->     Val:[MAE=182.952,RMSE=237.242,R2=0.663]     Test:[MAE=176.108,RMSE=233.615,R2=0.691]\n",
            "ANN con num_neuronas=232 ->     Val:[MAE=173.707,RMSE=225.328,R2=0.696]     Test:[MAE=169.611,RMSE=224.375,R2=0.715]\n",
            "ANN con num_neuronas=242 ->     Val:[MAE=175.341,RMSE=226.909,R2=0.692]     Test:[MAE=171.388,RMSE=226.056,R2=0.710]\n",
            "ANN con num_neuronas=252 ->     Val:[MAE=179.283,RMSE=232.973,R2=0.675]     Test:[MAE=175.257,RMSE=230.427,R2=0.699]\n",
            "ANN con num_neuronas=262 ->     Val:[MAE=179.893,RMSE=232.932,R2=0.675]     Test:[MAE=176.371,RMSE=232.662,R2=0.693]\n",
            "ANN con num_neuronas=272 ->     Val:[MAE=201.386,RMSE=266.128,R2=0.576]     Test:[MAE=200.316,RMSE=265.956,R2=0.599]\n",
            "ANN con num_neuronas=282 ->     Val:[MAE=179.440,RMSE=231.897,R2=0.678]     Test:[MAE=175.619,RMSE=230.996,R2=0.697]\n",
            "ANN con num_neuronas=292 ->     Val:[MAE=186.696,RMSE=244.934,R2=0.641]     Test:[MAE=184.065,RMSE=245.879,R2=0.657]\n",
            "ANN con num_neuronas=302 ->     Val:[MAE=178.905,RMSE=233.211,R2=0.674]     Test:[MAE=170.402,RMSE=226.181,R2=0.710]\n",
            "ANN con num_neuronas=312 ->     Val:[MAE=182.445,RMSE=237.894,R2=0.661]     Test:[MAE=177.984,RMSE=234.922,R2=0.687]\n",
            "ANN con num_neuronas=322 ->     Val:[MAE=169.924,RMSE=220.786,R2=0.708]     Test:[MAE=166.927,RMSE=221.479,R2=0.722]\n",
            "ANN con num_neuronas=332 ->     Val:[MAE=177.638,RMSE=230.467,R2=0.682]     Test:[MAE=173.679,RMSE=228.950,R2=0.703]\n",
            "ANN con num_neuronas=342 ->     Val:[MAE=178.590,RMSE=232.063,R2=0.677]     Test:[MAE=179.283,RMSE=236.640,R2=0.682]\n",
            "ANN con num_neuronas=352 ->     Val:[MAE=180.699,RMSE=235.002,R2=0.669]     Test:[MAE=180.587,RMSE=238.013,R2=0.679]\n",
            "ANN con num_neuronas=362 ->     Val:[MAE=178.608,RMSE=233.132,R2=0.674]     Test:[MAE=174.095,RMSE=232.153,R2=0.694]\n",
            "ANN con num_neuronas=372 ->     Val:[MAE=182.475,RMSE=235.715,R2=0.667]     Test:[MAE=179.567,RMSE=235.694,R2=0.685]\n",
            "ANN con num_neuronas=382 ->     Val:[MAE=190.012,RMSE=246.037,R2=0.637]     Test:[MAE=187.138,RMSE=245.791,R2=0.657]\n",
            "ANN con num_neuronas=392 ->     Val:[MAE=184.866,RMSE=241.115,R2=0.652]     Test:[MAE=178.775,RMSE=236.788,R2=0.682]\n",
            "ANN con num_neuronas=402 ->     Val:[MAE=179.237,RMSE=231.680,R2=0.678]     Test:[MAE=177.922,RMSE=234.424,R2=0.688]\n",
            "ANN con num_neuronas=412 ->     Val:[MAE=192.965,RMSE=252.883,R2=0.617]     Test:[MAE=190.303,RMSE=250.689,R2=0.644]\n",
            "ANN con num_neuronas=422 ->     Val:[MAE=190.735,RMSE=244.719,R2=0.641]     Test:[MAE=187.927,RMSE=245.848,R2=0.657]\n",
            "ANN con num_neuronas=432 ->     Val:[MAE=203.318,RMSE=263.406,R2=0.584]     Test:[MAE=202.900,RMSE=266.985,R2=0.596]\n",
            "ANN con num_neuronas=442 ->     Val:[MAE=184.377,RMSE=238.968,R2=0.658]     Test:[MAE=180.613,RMSE=239.213,R2=0.676]\n",
            "ANN con num_neuronas=452 ->     Val:[MAE=198.778,RMSE=260.424,R2=0.594]     Test:[MAE=196.103,RMSE=257.829,R2=0.623]\n",
            "ANN con num_neuronas=462 ->     Val:[MAE=189.146,RMSE=246.556,R2=0.636]     Test:[MAE=186.666,RMSE=247.390,R2=0.653]\n",
            "ANN con num_neuronas=472 ->     Val:[MAE=183.542,RMSE=238.033,R2=0.661]     Test:[MAE=177.837,RMSE=234.804,R2=0.687]\n",
            "ANN con num_neuronas=482 ->     Val:[MAE=188.016,RMSE=241.713,R2=0.650]     Test:[MAE=185.023,RMSE=243.058,R2=0.665]\n",
            "ANN con num_neuronas=492 ->     Val:[MAE=192.923,RMSE=249.961,R2=0.626]     Test:[MAE=190.895,RMSE=250.857,R2=0.643]\n",
            "ANN con num_neuronas=502 ->     Val:[MAE=178.169,RMSE=231.220,R2=0.680]     Test:[MAE=172.509,RMSE=228.811,R2=0.703]\n",
            "ANN con num_neuronas=512 ->     Val:[MAE=183.905,RMSE=239.639,R2=0.656]     Test:[MAE=180.825,RMSE=237.897,R2=0.679]\n",
            "ANN con num_neuronas=522 ->     Val:[MAE=195.333,RMSE=256.081,R2=0.607]     Test:[MAE=195.155,RMSE=258.055,R2=0.622]\n",
            "ANN con num_neuronas=532 ->     Val:[MAE=199.709,RMSE=256.945,R2=0.604]     Test:[MAE=203.489,RMSE=266.740,R2=0.597]\n",
            "ANN con num_neuronas=542 ->     Val:[MAE=194.033,RMSE=254.918,R2=0.611]     Test:[MAE=190.349,RMSE=253.387,R2=0.636]\n",
            "ANN con num_neuronas=552 ->     Val:[MAE=181.034,RMSE=235.559,R2=0.668]     Test:[MAE=175.668,RMSE=231.919,R2=0.695]\n",
            "ANN con num_neuronas=562 ->     Val:[MAE=196.302,RMSE=254.479,R2=0.612]     Test:[MAE=191.484,RMSE=251.486,R2=0.641]\n",
            "ANN con num_neuronas=572 ->     Val:[MAE=194.633,RMSE=250.128,R2=0.625]     Test:[MAE=188.499,RMSE=245.809,R2=0.657]\n",
            "ANN con num_neuronas=582 ->     Val:[MAE=190.181,RMSE=247.544,R2=0.633]     Test:[MAE=183.981,RMSE=243.212,R2=0.665]\n",
            "ANN con num_neuronas=592 ->     Val:[MAE=186.459,RMSE=241.610,R2=0.650]     Test:[MAE=184.122,RMSE=242.637,R2=0.666]\n",
            "ANN con num_neuronas=602 ->     Val:[MAE=203.145,RMSE=266.565,R2=0.574]     Test:[MAE=202.370,RMSE=268.811,R2=0.590]\n",
            "ANN con num_neuronas=612 ->     Val:[MAE=191.969,RMSE=246.551,R2=0.636]     Test:[MAE=184.694,RMSE=240.979,R2=0.671]\n",
            "ANN con num_neuronas=622 ->     Val:[MAE=200.143,RMSE=258.616,R2=0.599]     Test:[MAE=191.323,RMSE=249.789,R2=0.646]\n",
            "ANN con num_neuronas=632 ->     Val:[MAE=193.579,RMSE=254.389,R2=0.612]     Test:[MAE=187.119,RMSE=247.429,R2=0.653]\n",
            "ANN con num_neuronas=642 ->     Val:[MAE=205.195,RMSE=266.378,R2=0.575]     Test:[MAE=208.403,RMSE=272.826,R2=0.578]\n",
            "ANN con num_neuronas=652 ->     Val:[MAE=184.928,RMSE=239.163,R2=0.657]     Test:[MAE=183.487,RMSE=240.862,R2=0.671]\n",
            "ANN con num_neuronas=662 ->     Val:[MAE=190.893,RMSE=246.503,R2=0.636]     Test:[MAE=188.429,RMSE=245.748,R2=0.658]\n",
            "ANN con num_neuronas=672 ->     Val:[MAE=189.286,RMSE=245.981,R2=0.637]     Test:[MAE=190.624,RMSE=250.364,R2=0.645]\n",
            "ANN con num_neuronas=682 ->     Val:[MAE=221.187,RMSE=284.715,R2=0.514]     Test:[MAE=222.299,RMSE=288.856,R2=0.527]\n",
            "ANN con num_neuronas=692 ->     Val:[MAE=241.628,RMSE=308.304,R2=0.431]     Test:[MAE=249.587,RMSE=318.354,R2=0.425]\n",
            "ANN con num_neuronas=702 ->     Val:[MAE=195.466,RMSE=253.703,R2=0.614]     Test:[MAE=194.085,RMSE=254.006,R2=0.634]\n",
            "ANN con num_neuronas=712 ->     Val:[MAE=208.691,RMSE=271.636,R2=0.558]     Test:[MAE=207.837,RMSE=274.257,R2=0.574]\n",
            "ANN con num_neuronas=722 ->     Val:[MAE=200.148,RMSE=259.153,R2=0.598]     Test:[MAE=198.104,RMSE=259.414,R2=0.618]\n",
            "ANN con num_neuronas=732 ->     Val:[MAE=191.789,RMSE=248.259,R2=0.631]     Test:[MAE=187.113,RMSE=246.973,R2=0.654]\n",
            "ANN con num_neuronas=742 ->     Val:[MAE=208.302,RMSE=269.932,R2=0.563]     Test:[MAE=205.338,RMSE=267.580,R2=0.594]\n",
            "ANN con num_neuronas=752 ->     Val:[MAE=201.693,RMSE=257.925,R2=0.601]     Test:[MAE=204.283,RMSE=263.935,R2=0.605]\n",
            "ANN con num_neuronas=762 ->     Val:[MAE=198.128,RMSE=256.510,R2=0.606]     Test:[MAE=194.704,RMSE=254.197,R2=0.634]\n",
            "ANN con num_neuronas=772 ->     Val:[MAE=200.101,RMSE=258.533,R2=0.600]     Test:[MAE=195.089,RMSE=255.704,R2=0.629]\n",
            "ANN con num_neuronas=782 ->     Val:[MAE=208.296,RMSE=269.745,R2=0.564]     Test:[MAE=207.038,RMSE=269.301,R2=0.589]\n",
            "ANN con num_neuronas=792 ->     Val:[MAE=192.033,RMSE=248.004,R2=0.631]     Test:[MAE=194.404,RMSE=255.563,R2=0.630]\n",
            "ANN con num_neuronas=802 ->     Val:[MAE=221.576,RMSE=286.729,R2=0.507]     Test:[MAE=224.388,RMSE=293.482,R2=0.512]\n",
            "ANN con num_neuronas=812 ->     Val:[MAE=191.112,RMSE=247.062,R2=0.634]     Test:[MAE=188.009,RMSE=247.202,R2=0.654]\n",
            "ANN con num_neuronas=822 ->     Val:[MAE=199.960,RMSE=264.519,R2=0.581]     Test:[MAE=197.894,RMSE=265.389,R2=0.601]\n",
            "ANN con num_neuronas=832 ->     Val:[MAE=190.287,RMSE=244.760,R2=0.641]     Test:[MAE=185.067,RMSE=242.404,R2=0.667]\n",
            "ANN con num_neuronas=842 ->     Val:[MAE=217.180,RMSE=284.133,R2=0.516]     Test:[MAE=221.894,RMSE=291.423,R2=0.518]\n",
            "ANN con num_neuronas=852 ->     Val:[MAE=195.850,RMSE=252.081,R2=0.619]     Test:[MAE=192.277,RMSE=250.650,R2=0.644]\n",
            "ANN con num_neuronas=862 ->     Val:[MAE=185.610,RMSE=239.807,R2=0.655]     Test:[MAE=181.821,RMSE=239.394,R2=0.675]\n",
            "ANN con num_neuronas=872 ->     Val:[MAE=192.006,RMSE=247.919,R2=0.632]     Test:[MAE=189.069,RMSE=248.421,R2=0.650]\n",
            "ANN con num_neuronas=882 ->     Val:[MAE=194.939,RMSE=248.508,R2=0.630]     Test:[MAE=193.753,RMSE=251.048,R2=0.643]\n",
            "ANN con num_neuronas=892 ->     Val:[MAE=206.499,RMSE=266.298,R2=0.575]     Test:[MAE=203.064,RMSE=263.179,R2=0.607]\n",
            "ANN con num_neuronas=902 ->     Val:[MAE=196.658,RMSE=255.688,R2=0.608]     Test:[MAE=193.362,RMSE=253.366,R2=0.636]\n",
            "ANN con num_neuronas=912 ->     Val:[MAE=189.333,RMSE=243.874,R2=0.644]     Test:[MAE=188.448,RMSE=246.639,R2=0.655]\n",
            "ANN con num_neuronas=922 ->     Val:[MAE=211.841,RMSE=273.861,R2=0.551]     Test:[MAE=218.489,RMSE=285.501,R2=0.538]\n",
            "ANN con num_neuronas=932 ->     Val:[MAE=216.071,RMSE=284.855,R2=0.514]     Test:[MAE=216.689,RMSE=283.856,R2=0.543]\n",
            "ANN con num_neuronas=942 ->     Val:[MAE=212.374,RMSE=274.575,R2=0.548]     Test:[MAE=209.147,RMSE=271.663,R2=0.582]\n",
            "ANN con num_neuronas=952 ->     Val:[MAE=201.534,RMSE=263.479,R2=0.584]     Test:[MAE=199.878,RMSE=263.078,R2=0.608]\n",
            "ANN con num_neuronas=962 ->     Val:[MAE=205.613,RMSE=267.361,R2=0.572]     Test:[MAE=201.943,RMSE=265.891,R2=0.599]\n",
            "ANN con num_neuronas=972 ->     Val:[MAE=194.897,RMSE=250.988,R2=0.623]     Test:[MAE=190.288,RMSE=248.366,R2=0.650]\n",
            "ANN con num_neuronas=982 ->     Val:[MAE=210.738,RMSE=273.231,R2=0.553]     Test:[MAE=217.691,RMSE=284.376,R2=0.541]\n",
            "ANN con num_neuronas=992 ->     Val:[MAE=233.274,RMSE=299.981,R2=0.461]     Test:[MAE=236.322,RMSE=306.546,R2=0.467]\n"
          ],
          "name": "stdout"
        }
      ]
    },
    {
      "cell_type": "code",
      "metadata": {
        "id": "yDuEKtnpwkco",
        "colab": {
          "base_uri": "https://localhost:8080/"
        },
        "outputId": "af6354fd-e197-4dea-a907-3a5e8d4c0a20"
      },
      "source": [
        "for num_neuronas in range(100,120,1):\n",
        "    model = DecisionTreeRegressor(min_samples_split=num_neuronas,splitter=\"random\",criterion=\"friedman_mse\")\n",
        "    mae_val, rmse_val, r2_val, mae_tst, rmse_tst, r2_tst, _, _, _, _ = entrena_model(model)\n",
        "    print('ANN con num_neuronas={} -> \\\n",
        "    Val:[MAE={:.3f},RMSE={:,.3f},R2={:,.3f}] \\\n",
        "    Test:[MAE={:.3f},RMSE={:,.3f},R2={:,.3f}]'.format(num_neuronas, mae_val, rmse_val, r2_val, \n",
        "                                                      mae_tst, rmse_tst, r2_tst))"
      ],
      "execution_count": 25,
      "outputs": [
        {
          "output_type": "stream",
          "text": [
            "ANN con num_neuronas=100 ->     Val:[MAE=172.180,RMSE=227.388,R2=0.690]     Test:[MAE=168.932,RMSE=226.944,R2=0.708]\n",
            "ANN con num_neuronas=101 ->     Val:[MAE=175.535,RMSE=228.775,R2=0.686]     Test:[MAE=171.172,RMSE=226.320,R2=0.710]\n",
            "ANN con num_neuronas=102 ->     Val:[MAE=173.834,RMSE=227.348,R2=0.690]     Test:[MAE=170.724,RMSE=227.770,R2=0.706]\n",
            "ANN con num_neuronas=103 ->     Val:[MAE=169.529,RMSE=221.900,R2=0.705]     Test:[MAE=165.502,RMSE=219.009,R2=0.728]\n",
            "ANN con num_neuronas=104 ->     Val:[MAE=171.669,RMSE=223.304,R2=0.701]     Test:[MAE=167.425,RMSE=221.954,R2=0.721]\n",
            "ANN con num_neuronas=105 ->     Val:[MAE=173.989,RMSE=227.234,R2=0.691]     Test:[MAE=169.293,RMSE=224.842,R2=0.713]\n",
            "ANN con num_neuronas=106 ->     Val:[MAE=171.504,RMSE=224.218,R2=0.699]     Test:[MAE=169.084,RMSE=224.621,R2=0.714]\n",
            "ANN con num_neuronas=107 ->     Val:[MAE=172.841,RMSE=225.044,R2=0.697]     Test:[MAE=168.577,RMSE=224.122,R2=0.715]\n",
            "ANN con num_neuronas=108 ->     Val:[MAE=171.580,RMSE=224.890,R2=0.697]     Test:[MAE=165.928,RMSE=221.777,R2=0.721]\n",
            "ANN con num_neuronas=109 ->     Val:[MAE=172.333,RMSE=226.221,R2=0.693]     Test:[MAE=166.697,RMSE=221.932,R2=0.721]\n",
            "ANN con num_neuronas=110 ->     Val:[MAE=175.111,RMSE=229.707,R2=0.684]     Test:[MAE=171.576,RMSE=228.295,R2=0.704]\n",
            "ANN con num_neuronas=111 ->     Val:[MAE=170.176,RMSE=221.959,R2=0.705]     Test:[MAE=164.232,RMSE=218.623,R2=0.729]\n",
            "ANN con num_neuronas=112 ->     Val:[MAE=178.893,RMSE=235.274,R2=0.668]     Test:[MAE=176.670,RMSE=235.067,R2=0.687]\n",
            "ANN con num_neuronas=113 ->     Val:[MAE=175.073,RMSE=229.342,R2=0.685]     Test:[MAE=170.004,RMSE=227.165,R2=0.707]\n",
            "ANN con num_neuronas=114 ->     Val:[MAE=173.667,RMSE=225.627,R2=0.695]     Test:[MAE=169.442,RMSE=222.942,R2=0.718]\n",
            "ANN con num_neuronas=115 ->     Val:[MAE=171.501,RMSE=223.054,R2=0.702]     Test:[MAE=166.483,RMSE=221.397,R2=0.722]\n",
            "ANN con num_neuronas=116 ->     Val:[MAE=172.356,RMSE=224.349,R2=0.698]     Test:[MAE=168.977,RMSE=224.197,R2=0.715]\n",
            "ANN con num_neuronas=117 ->     Val:[MAE=179.721,RMSE=235.457,R2=0.668]     Test:[MAE=174.333,RMSE=232.447,R2=0.694]\n",
            "ANN con num_neuronas=118 ->     Val:[MAE=171.661,RMSE=223.881,R2=0.700]     Test:[MAE=166.054,RMSE=220.106,R2=0.725]\n",
            "ANN con num_neuronas=119 ->     Val:[MAE=172.619,RMSE=224.439,R2=0.698]     Test:[MAE=164.350,RMSE=218.534,R2=0.729]\n"
          ],
          "name": "stdout"
        }
      ]
    },
    {
      "cell_type": "code",
      "metadata": {
        "id": "1ClWz25hy51y",
        "colab": {
          "base_uri": "https://localhost:8080/",
          "height": 512
        },
        "outputId": "78c7ab0b-9390-4648-b70d-3c575b6a3158"
      },
      "source": [
        "model = DecisionTreeRegressor(min_samples_split=100,splitter=\"random\",criterion=\"friedman_mse\")\n",
        "mae_val, rmse_val, r2_val, mae_tst, rmse_tst, r2_tst, y_validacion, prediccion_validacion, y_test, prediccion_testeo = entrena_model(model)\n",
        "dibuja_preds(y_test, prediccion_testeo, mae_tst, rmse_tst, r2_tst, 'min_samples_split=100 -> ')"
      ],
      "execution_count": 26,
      "outputs": [
        {
          "output_type": "display_data",
          "data": {
            "image/png": "[encoded data removed]",
            "text/plain": [
              "<Figure size 576x576 with 1 Axes>"
            ]
          },
          "metadata": {
            "tags": [],
            "needs_background": "light"
          }
        }
      ]
    },
    {
      "cell_type": "code",
      "metadata": {
        "colab": {
          "base_uri": "https://localhost:8080/"
        },
        "id": "nVSO2trrkzEX",
        "outputId": "895847a9-5e0c-4a44-a920-3ee819af0d9a"
      },
      "source": [
        "from sklearn.tree import ExtraTreeRegressor\n",
        "for num_neuronas in np.arange(0.001,1,0.003):\n",
        "    model = ExtraTreeRegressor(min_samples_split=num_neuronas)\n",
        "    mae_val, rmse_val, r2_val, mae_tst, rmse_tst, r2_tst, _, _, _, _ = entrena_model(model)\n",
        "    print('ANN con num_neuronas={} -> \\\n",
        "    Val:[MAE={:.3f},RMSE={:,.3f},R2={:,.3f}] \\\n",
        "    Test:[MAE={:.3f},RMSE={:,.3f},R2={:,.3f}]'.format(num_neuronas, mae_val, rmse_val, r2_val, \n",
        "                                                      mae_tst, rmse_tst, r2_tst))"
      ],
      "execution_count": 27,
      "outputs": [
        {
          "output_type": "stream",
          "text": [
            "ANN con num_neuronas=0.001 ->     Val:[MAE=184.078,RMSE=244.095,R2=0.643]     Test:[MAE=182.396,RMSE=244.638,R2=0.661]\n",
            "ANN con num_neuronas=0.004 ->     Val:[MAE=172.399,RMSE=225.326,R2=0.696]     Test:[MAE=170.796,RMSE=227.073,R2=0.708]\n",
            "ANN con num_neuronas=0.007 ->     Val:[MAE=169.343,RMSE=222.297,R2=0.704]     Test:[MAE=165.571,RMSE=220.461,R2=0.724]\n",
            "ANN con num_neuronas=0.010000000000000002 ->     Val:[MAE=180.600,RMSE=235.763,R2=0.667]     Test:[MAE=176.450,RMSE=234.278,R2=0.689]\n",
            "ANN con num_neuronas=0.013000000000000001 ->     Val:[MAE=172.732,RMSE=225.641,R2=0.695]     Test:[MAE=168.579,RMSE=223.788,R2=0.716]\n",
            "ANN con num_neuronas=0.016 ->     Val:[MAE=173.943,RMSE=226.446,R2=0.693]     Test:[MAE=168.962,RMSE=223.757,R2=0.716]\n",
            "ANN con num_neuronas=0.019000000000000003 ->     Val:[MAE=171.055,RMSE=222.005,R2=0.705]     Test:[MAE=167.135,RMSE=221.732,R2=0.721]\n",
            "ANN con num_neuronas=0.022000000000000002 ->     Val:[MAE=174.427,RMSE=227.739,R2=0.689]     Test:[MAE=167.767,RMSE=222.096,R2=0.720]\n",
            "ANN con num_neuronas=0.025 ->     Val:[MAE=187.273,RMSE=241.766,R2=0.650]     Test:[MAE=182.312,RMSE=241.213,R2=0.670]\n",
            "ANN con num_neuronas=0.028 ->     Val:[MAE=184.214,RMSE=237.826,R2=0.661]     Test:[MAE=178.874,RMSE=235.696,R2=0.685]\n",
            "ANN con num_neuronas=0.031 ->     Val:[MAE=178.172,RMSE=232.918,R2=0.675]     Test:[MAE=171.480,RMSE=227.298,R2=0.707]\n",
            "ANN con num_neuronas=0.034 ->     Val:[MAE=190.215,RMSE=248.106,R2=0.631]     Test:[MAE=190.735,RMSE=250.650,R2=0.644]\n",
            "ANN con num_neuronas=0.037000000000000005 ->     Val:[MAE=184.867,RMSE=239.267,R2=0.657]     Test:[MAE=183.243,RMSE=243.797,R2=0.663]\n",
            "ANN con num_neuronas=0.04 ->     Val:[MAE=178.705,RMSE=231.262,R2=0.680]     Test:[MAE=176.620,RMSE=232.375,R2=0.694]\n",
            "ANN con num_neuronas=0.043000000000000003 ->     Val:[MAE=197.148,RMSE=258.330,R2=0.600]     Test:[MAE=194.468,RMSE=257.369,R2=0.624]\n",
            "ANN con num_neuronas=0.046 ->     Val:[MAE=190.067,RMSE=244.142,R2=0.643]     Test:[MAE=186.793,RMSE=243.413,R2=0.664]\n",
            "ANN con num_neuronas=0.049 ->     Val:[MAE=182.928,RMSE=238.887,R2=0.658]     Test:[MAE=175.873,RMSE=233.095,R2=0.692]\n",
            "ANN con num_neuronas=0.052000000000000005 ->     Val:[MAE=198.208,RMSE=256.282,R2=0.606]     Test:[MAE=194.985,RMSE=256.980,R2=0.626]\n",
            "ANN con num_neuronas=0.055 ->     Val:[MAE=178.271,RMSE=232.175,R2=0.677]     Test:[MAE=174.032,RMSE=230.557,R2=0.699]\n",
            "ANN con num_neuronas=0.058 ->     Val:[MAE=188.464,RMSE=243.616,R2=0.644]     Test:[MAE=184.887,RMSE=242.476,R2=0.667]\n",
            "ANN con num_neuronas=0.061 ->     Val:[MAE=188.680,RMSE=246.831,R2=0.635]     Test:[MAE=183.701,RMSE=245.278,R2=0.659]\n",
            "ANN con num_neuronas=0.064 ->     Val:[MAE=186.390,RMSE=241.430,R2=0.651]     Test:[MAE=188.954,RMSE=246.078,R2=0.657]\n",
            "ANN con num_neuronas=0.067 ->     Val:[MAE=187.138,RMSE=245.735,R2=0.638]     Test:[MAE=185.321,RMSE=247.928,R2=0.651]\n",
            "ANN con num_neuronas=0.07 ->     Val:[MAE=183.525,RMSE=241.452,R2=0.651]     Test:[MAE=180.766,RMSE=241.971,R2=0.668]\n",
            "ANN con num_neuronas=0.07300000000000001 ->     Val:[MAE=194.735,RMSE=257.498,R2=0.603]     Test:[MAE=194.337,RMSE=258.857,R2=0.620]\n",
            "ANN con num_neuronas=0.076 ->     Val:[MAE=209.464,RMSE=271.867,R2=0.557]     Test:[MAE=205.597,RMSE=269.013,R2=0.590]\n",
            "ANN con num_neuronas=0.079 ->     Val:[MAE=217.206,RMSE=280.187,R2=0.530]     Test:[MAE=218.998,RMSE=285.260,R2=0.539]\n",
            "ANN con num_neuronas=0.082 ->     Val:[MAE=200.940,RMSE=262.011,R2=0.589]     Test:[MAE=199.463,RMSE=262.349,R2=0.610]\n",
            "ANN con num_neuronas=0.085 ->     Val:[MAE=201.280,RMSE=260.413,R2=0.594]     Test:[MAE=200.936,RMSE=262.074,R2=0.611]\n",
            "ANN con num_neuronas=0.08800000000000001 ->     Val:[MAE=194.609,RMSE=250.483,R2=0.624]     Test:[MAE=192.951,RMSE=251.908,R2=0.640]\n",
            "ANN con num_neuronas=0.091 ->     Val:[MAE=203.627,RMSE=263.114,R2=0.585]     Test:[MAE=198.669,RMSE=260.299,R2=0.616]\n",
            "ANN con num_neuronas=0.094 ->     Val:[MAE=203.450,RMSE=263.250,R2=0.585]     Test:[MAE=200.582,RMSE=261.787,R2=0.611]\n",
            "ANN con num_neuronas=0.097 ->     Val:[MAE=203.416,RMSE=264.629,R2=0.580]     Test:[MAE=204.675,RMSE=266.772,R2=0.596]\n",
            "ANN con num_neuronas=0.1 ->     Val:[MAE=217.972,RMSE=278.378,R2=0.536]     Test:[MAE=223.601,RMSE=288.763,R2=0.527]\n",
            "ANN con num_neuronas=0.10300000000000001 ->     Val:[MAE=222.474,RMSE=284.872,R2=0.514]     Test:[MAE=221.547,RMSE=287.399,R2=0.532]\n",
            "ANN con num_neuronas=0.106 ->     Val:[MAE=189.494,RMSE=247.921,R2=0.632]     Test:[MAE=187.207,RMSE=250.441,R2=0.644]\n",
            "ANN con num_neuronas=0.109 ->     Val:[MAE=199.284,RMSE=256.752,R2=0.605]     Test:[MAE=199.933,RMSE=259.362,R2=0.619]\n",
            "ANN con num_neuronas=0.112 ->     Val:[MAE=205.101,RMSE=265.845,R2=0.577]     Test:[MAE=200.230,RMSE=262.115,R2=0.610]\n",
            "ANN con num_neuronas=0.115 ->     Val:[MAE=234.018,RMSE=298.592,R2=0.466]     Test:[MAE=236.996,RMSE=305.947,R2=0.469]\n",
            "ANN con num_neuronas=0.11800000000000001 ->     Val:[MAE=189.661,RMSE=243.455,R2=0.645]     Test:[MAE=188.681,RMSE=247.437,R2=0.653]\n",
            "ANN con num_neuronas=0.121 ->     Val:[MAE=218.444,RMSE=280.481,R2=0.529]     Test:[MAE=215.608,RMSE=278.500,R2=0.560]\n",
            "ANN con num_neuronas=0.124 ->     Val:[MAE=207.887,RMSE=268.970,R2=0.567]     Test:[MAE=204.738,RMSE=267.229,R2=0.595]\n",
            "ANN con num_neuronas=0.127 ->     Val:[MAE=207.301,RMSE=267.367,R2=0.572]     Test:[MAE=207.527,RMSE=269.602,R2=0.588]\n",
            "ANN con num_neuronas=0.13 ->     Val:[MAE=210.470,RMSE=272.893,R2=0.554]     Test:[MAE=214.444,RMSE=279.197,R2=0.558]\n",
            "ANN con num_neuronas=0.133 ->     Val:[MAE=240.244,RMSE=310.852,R2=0.421]     Test:[MAE=247.735,RMSE=318.480,R2=0.425]\n",
            "ANN con num_neuronas=0.136 ->     Val:[MAE=238.089,RMSE=305.630,R2=0.440]     Test:[MAE=246.607,RMSE=316.707,R2=0.431]\n",
            "ANN con num_neuronas=0.139 ->     Val:[MAE=194.041,RMSE=251.989,R2=0.620]     Test:[MAE=191.817,RMSE=254.462,R2=0.633]\n",
            "ANN con num_neuronas=0.14200000000000002 ->     Val:[MAE=218.906,RMSE=280.957,R2=0.527]     Test:[MAE=215.598,RMSE=279.290,R2=0.558]\n",
            "ANN con num_neuronas=0.14500000000000002 ->     Val:[MAE=219.551,RMSE=281.742,R2=0.524]     Test:[MAE=217.796,RMSE=281.102,R2=0.552]\n",
            "ANN con num_neuronas=0.148 ->     Val:[MAE=196.716,RMSE=254.736,R2=0.611]     Test:[MAE=197.174,RMSE=258.973,R2=0.620]\n",
            "ANN con num_neuronas=0.151 ->     Val:[MAE=202.602,RMSE=264.954,R2=0.579]     Test:[MAE=204.640,RMSE=268.150,R2=0.592]\n",
            "ANN con num_neuronas=0.154 ->     Val:[MAE=218.615,RMSE=280.163,R2=0.530]     Test:[MAE=220.909,RMSE=286.917,R2=0.533]\n",
            "ANN con num_neuronas=0.157 ->     Val:[MAE=197.405,RMSE=251.330,R2=0.622]     Test:[MAE=194.743,RMSE=252.475,R2=0.639]\n",
            "ANN con num_neuronas=0.16 ->     Val:[MAE=197.377,RMSE=254.606,R2=0.612]     Test:[MAE=194.309,RMSE=253.218,R2=0.636]\n",
            "ANN con num_neuronas=0.163 ->     Val:[MAE=225.790,RMSE=289.792,R2=0.497]     Test:[MAE=232.096,RMSE=297.724,R2=0.497]\n",
            "ANN con num_neuronas=0.166 ->     Val:[MAE=200.009,RMSE=257.038,R2=0.604]     Test:[MAE=195.411,RMSE=254.270,R2=0.633]\n",
            "ANN con num_neuronas=0.169 ->     Val:[MAE=253.555,RMSE=325.719,R2=0.364]     Test:[MAE=266.733,RMSE=339.997,R2=0.345]\n",
            "ANN con num_neuronas=0.17200000000000001 ->     Val:[MAE=204.330,RMSE=263.843,R2=0.583]     Test:[MAE=201.737,RMSE=261.306,R2=0.613]\n",
            "ANN con num_neuronas=0.17500000000000002 ->     Val:[MAE=275.231,RMSE=349.457,R2=0.268]     Test:[MAE=283.429,RMSE=360.731,R2=0.262]\n",
            "ANN con num_neuronas=0.178 ->     Val:[MAE=228.800,RMSE=292.339,R2=0.488]     Test:[MAE=230.738,RMSE=296.577,R2=0.501]\n",
            "ANN con num_neuronas=0.181 ->     Val:[MAE=194.501,RMSE=248.867,R2=0.629]     Test:[MAE=192.650,RMSE=249.761,R2=0.646]\n",
            "ANN con num_neuronas=0.184 ->     Val:[MAE=247.041,RMSE=313.761,R2=0.410]     Test:[MAE=258.459,RMSE=329.770,R2=0.383]\n",
            "ANN con num_neuronas=0.187 ->     Val:[MAE=237.273,RMSE=302.194,R2=0.453]     Test:[MAE=241.042,RMSE=308.880,R2=0.459]\n",
            "ANN con num_neuronas=0.19 ->     Val:[MAE=210.176,RMSE=272.473,R2=0.555]     Test:[MAE=205.974,RMSE=271.078,R2=0.583]\n",
            "ANN con num_neuronas=0.193 ->     Val:[MAE=241.695,RMSE=308.217,R2=0.431]     Test:[MAE=250.954,RMSE=317.362,R2=0.429]\n",
            "ANN con num_neuronas=0.196 ->     Val:[MAE=222.793,RMSE=290.420,R2=0.495]     Test:[MAE=222.249,RMSE=292.751,R2=0.514]\n",
            "ANN con num_neuronas=0.199 ->     Val:[MAE=240.801,RMSE=310.073,R2=0.424]     Test:[MAE=249.200,RMSE=322.581,R2=0.410]\n",
            "ANN con num_neuronas=0.202 ->     Val:[MAE=269.842,RMSE=354.093,R2=0.249]     Test:[MAE=274.922,RMSE=361.708,R2=0.258]\n",
            "ANN con num_neuronas=0.20500000000000002 ->     Val:[MAE=231.877,RMSE=298.242,R2=0.467]     Test:[MAE=227.805,RMSE=297.353,R2=0.499]\n",
            "ANN con num_neuronas=0.20800000000000002 ->     Val:[MAE=207.821,RMSE=264.806,R2=0.580]     Test:[MAE=209.860,RMSE=271.827,R2=0.581]\n",
            "ANN con num_neuronas=0.211 ->     Val:[MAE=225.644,RMSE=292.518,R2=0.487]     Test:[MAE=233.619,RMSE=302.491,R2=0.481]\n",
            "ANN con num_neuronas=0.214 ->     Val:[MAE=223.798,RMSE=285.042,R2=0.513]     Test:[MAE=221.761,RMSE=283.674,R2=0.544]\n",
            "ANN con num_neuronas=0.217 ->     Val:[MAE=222.562,RMSE=285.444,R2=0.512]     Test:[MAE=221.072,RMSE=285.026,R2=0.539]\n",
            "ANN con num_neuronas=0.22 ->     Val:[MAE=237.497,RMSE=304.244,R2=0.445]     Test:[MAE=235.820,RMSE=306.657,R2=0.467]\n",
            "ANN con num_neuronas=0.223 ->     Val:[MAE=262.342,RMSE=331.083,R2=0.343]     Test:[MAE=272.000,RMSE=341.570,R2=0.338]\n",
            "ANN con num_neuronas=0.226 ->     Val:[MAE=245.494,RMSE=313.788,R2=0.410]     Test:[MAE=249.626,RMSE=320.449,R2=0.418]\n",
            "ANN con num_neuronas=0.229 ->     Val:[MAE=267.010,RMSE=338.674,R2=0.313]     Test:[MAE=271.689,RMSE=346.588,R2=0.319]\n",
            "ANN con num_neuronas=0.232 ->     Val:[MAE=230.929,RMSE=294.995,R2=0.479]     Test:[MAE=231.356,RMSE=295.299,R2=0.506]\n",
            "ANN con num_neuronas=0.23500000000000001 ->     Val:[MAE=217.985,RMSE=281.761,R2=0.524]     Test:[MAE=219.476,RMSE=286.793,R2=0.534]\n",
            "ANN con num_neuronas=0.23800000000000002 ->     Val:[MAE=224.096,RMSE=288.696,R2=0.501]     Test:[MAE=221.819,RMSE=287.763,R2=0.530]\n",
            "ANN con num_neuronas=0.241 ->     Val:[MAE=243.643,RMSE=312.898,R2=0.413]     Test:[MAE=250.665,RMSE=322.282,R2=0.411]\n",
            "ANN con num_neuronas=0.244 ->     Val:[MAE=214.430,RMSE=271.477,R2=0.558]     Test:[MAE=214.123,RMSE=273.851,R2=0.575]\n",
            "ANN con num_neuronas=0.247 ->     Val:[MAE=259.684,RMSE=328.454,R2=0.354]     Test:[MAE=265.249,RMSE=337.185,R2=0.355]\n",
            "ANN con num_neuronas=0.25 ->     Val:[MAE=222.732,RMSE=288.965,R2=0.500]     Test:[MAE=223.983,RMSE=289.691,R2=0.524]\n",
            "ANN con num_neuronas=0.253 ->     Val:[MAE=222.833,RMSE=289.292,R2=0.499]     Test:[MAE=219.965,RMSE=289.007,R2=0.526]\n",
            "ANN con num_neuronas=0.256 ->     Val:[MAE=262.046,RMSE=333.033,R2=0.335]     Test:[MAE=263.865,RMSE=341.763,R2=0.338]\n",
            "ANN con num_neuronas=0.259 ->     Val:[MAE=261.212,RMSE=330.397,R2=0.346]     Test:[MAE=272.818,RMSE=343.854,R2=0.330]\n",
            "ANN con num_neuronas=0.262 ->     Val:[MAE=246.010,RMSE=315.848,R2=0.402]     Test:[MAE=245.458,RMSE=319.825,R2=0.420]\n",
            "ANN con num_neuronas=0.265 ->     Val:[MAE=203.178,RMSE=260.413,R2=0.594]     Test:[MAE=200.346,RMSE=261.029,R2=0.614]\n",
            "ANN con num_neuronas=0.268 ->     Val:[MAE=267.955,RMSE=346.795,R2=0.279]     Test:[MAE=277.467,RMSE=358.625,R2=0.271]\n",
            "ANN con num_neuronas=0.271 ->     Val:[MAE=220.202,RMSE=281.189,R2=0.526]     Test:[MAE=218.097,RMSE=282.069,R2=0.549]\n",
            "ANN con num_neuronas=0.274 ->     Val:[MAE=254.445,RMSE=326.249,R2=0.362]     Test:[MAE=260.077,RMSE=335.572,R2=0.361]\n",
            "ANN con num_neuronas=0.277 ->     Val:[MAE=220.425,RMSE=282.963,R2=0.520]     Test:[MAE=218.648,RMSE=281.064,R2=0.552]\n",
            "ANN con num_neuronas=0.28 ->     Val:[MAE=257.560,RMSE=327.073,R2=0.359]     Test:[MAE=260.489,RMSE=332.613,R2=0.373]\n",
            "ANN con num_neuronas=0.28300000000000003 ->     Val:[MAE=225.056,RMSE=283.967,R2=0.517]     Test:[MAE=229.710,RMSE=290.379,R2=0.522]\n",
            "ANN con num_neuronas=0.28600000000000003 ->     Val:[MAE=233.774,RMSE=297.096,R2=0.471]     Test:[MAE=234.335,RMSE=297.506,R2=0.498]\n",
            "ANN con num_neuronas=0.28900000000000003 ->     Val:[MAE=224.873,RMSE=290.899,R2=0.493]     Test:[MAE=226.097,RMSE=291.724,R2=0.517]\n",
            "ANN con num_neuronas=0.292 ->     Val:[MAE=257.966,RMSE=334.121,R2=0.331]     Test:[MAE=260.524,RMSE=343.557,R2=0.331]\n",
            "ANN con num_neuronas=0.295 ->     Val:[MAE=235.504,RMSE=300.442,R2=0.459]     Test:[MAE=236.043,RMSE=303.041,R2=0.479]\n",
            "ANN con num_neuronas=0.298 ->     Val:[MAE=271.263,RMSE=343.686,R2=0.292]     Test:[MAE=281.943,RMSE=356.354,R2=0.280]\n",
            "ANN con num_neuronas=0.301 ->     Val:[MAE=223.422,RMSE=291.409,R2=0.491]     Test:[MAE=222.892,RMSE=293.240,R2=0.512]\n",
            "ANN con num_neuronas=0.304 ->     Val:[MAE=233.299,RMSE=293.758,R2=0.483]     Test:[MAE=237.603,RMSE=300.940,R2=0.486]\n",
            "ANN con num_neuronas=0.307 ->     Val:[MAE=244.047,RMSE=309.047,R2=0.428]     Test:[MAE=245.150,RMSE=312.099,R2=0.448]\n",
            "ANN con num_neuronas=0.31 ->     Val:[MAE=244.325,RMSE=308.431,R2=0.430]     Test:[MAE=243.749,RMSE=311.877,R2=0.448]\n",
            "ANN con num_neuronas=0.313 ->     Val:[MAE=278.448,RMSE=353.356,R2=0.252]     Test:[MAE=286.603,RMSE=362.282,R2=0.256]\n",
            "ANN con num_neuronas=0.316 ->     Val:[MAE=258.982,RMSE=328.200,R2=0.355]     Test:[MAE=260.852,RMSE=334.014,R2=0.367]\n",
            "ANN con num_neuronas=0.319 ->     Val:[MAE=272.955,RMSE=347.169,R2=0.278]     Test:[MAE=284.254,RMSE=361.249,R2=0.260]\n",
            "ANN con num_neuronas=0.322 ->     Val:[MAE=240.208,RMSE=308.820,R2=0.429]     Test:[MAE=242.118,RMSE=314.116,R2=0.441]\n",
            "ANN con num_neuronas=0.325 ->     Val:[MAE=254.734,RMSE=326.005,R2=0.363]     Test:[MAE=259.404,RMSE=333.903,R2=0.368]\n",
            "ANN con num_neuronas=0.328 ->     Val:[MAE=263.769,RMSE=336.257,R2=0.323]     Test:[MAE=273.609,RMSE=349.908,R2=0.306]\n",
            "ANN con num_neuronas=0.331 ->     Val:[MAE=238.391,RMSE=306.744,R2=0.436]     Test:[MAE=242.108,RMSE=311.156,R2=0.451]\n",
            "ANN con num_neuronas=0.334 ->     Val:[MAE=237.479,RMSE=309.781,R2=0.425]     Test:[MAE=238.681,RMSE=309.734,R2=0.456]\n",
            "ANN con num_neuronas=0.337 ->     Val:[MAE=261.473,RMSE=329.627,R2=0.349]     Test:[MAE=275.897,RMSE=346.954,R2=0.317]\n",
            "ANN con num_neuronas=0.34 ->     Val:[MAE=230.471,RMSE=299.075,R2=0.464]     Test:[MAE=237.371,RMSE=306.407,R2=0.468]\n",
            "ANN con num_neuronas=0.343 ->     Val:[MAE=233.402,RMSE=296.242,R2=0.474]     Test:[MAE=234.868,RMSE=299.703,R2=0.491]\n",
            "ANN con num_neuronas=0.34600000000000003 ->     Val:[MAE=245.982,RMSE=312.217,R2=0.416]     Test:[MAE=253.720,RMSE=319.807,R2=0.420]\n",
            "ANN con num_neuronas=0.34900000000000003 ->     Val:[MAE=212.229,RMSE=270.444,R2=0.562]     Test:[MAE=213.000,RMSE=273.638,R2=0.575]\n",
            "ANN con num_neuronas=0.35200000000000004 ->     Val:[MAE=249.242,RMSE=320.362,R2=0.385]     Test:[MAE=257.260,RMSE=333.284,R2=0.370]\n",
            "ANN con num_neuronas=0.355 ->     Val:[MAE=257.575,RMSE=333.715,R2=0.333]     Test:[MAE=270.292,RMSE=342.590,R2=0.335]\n",
            "ANN con num_neuronas=0.358 ->     Val:[MAE=223.971,RMSE=289.413,R2=0.498]     Test:[MAE=223.495,RMSE=290.594,R2=0.521]\n",
            "ANN con num_neuronas=0.361 ->     Val:[MAE=240.196,RMSE=315.089,R2=0.405]     Test:[MAE=242.853,RMSE=317.461,R2=0.429]\n",
            "ANN con num_neuronas=0.364 ->     Val:[MAE=286.872,RMSE=364.458,R2=0.204]     Test:[MAE=293.285,RMSE=372.746,R2=0.212]\n",
            "ANN con num_neuronas=0.367 ->     Val:[MAE=238.315,RMSE=301.118,R2=0.457]     Test:[MAE=237.651,RMSE=302.362,R2=0.482]\n",
            "ANN con num_neuronas=0.37 ->     Val:[MAE=264.447,RMSE=340.685,R2=0.305]     Test:[MAE=268.753,RMSE=352.308,R2=0.296]\n",
            "ANN con num_neuronas=0.373 ->     Val:[MAE=222.146,RMSE=284.655,R2=0.515]     Test:[MAE=220.468,RMSE=283.948,R2=0.543]\n",
            "ANN con num_neuronas=0.376 ->     Val:[MAE=276.914,RMSE=350.138,R2=0.265]     Test:[MAE=289.383,RMSE=362.705,R2=0.254]\n",
            "ANN con num_neuronas=0.379 ->     Val:[MAE=254.644,RMSE=329.305,R2=0.350]     Test:[MAE=258.609,RMSE=338.513,R2=0.350]\n",
            "ANN con num_neuronas=0.382 ->     Val:[MAE=236.636,RMSE=299.753,R2=0.462]     Test:[MAE=236.767,RMSE=300.114,R2=0.489]\n",
            "ANN con num_neuronas=0.385 ->     Val:[MAE=228.172,RMSE=294.386,R2=0.481]     Test:[MAE=229.394,RMSE=297.424,R2=0.498]\n",
            "ANN con num_neuronas=0.388 ->     Val:[MAE=275.097,RMSE=351.994,R2=0.258]     Test:[MAE=284.337,RMSE=360.264,R2=0.264]\n",
            "ANN con num_neuronas=0.391 ->     Val:[MAE=233.395,RMSE=293.397,R2=0.484]     Test:[MAE=234.032,RMSE=294.452,R2=0.508]\n",
            "ANN con num_neuronas=0.394 ->     Val:[MAE=238.379,RMSE=300.891,R2=0.458]     Test:[MAE=237.258,RMSE=301.430,R2=0.485]\n",
            "ANN con num_neuronas=0.397 ->     Val:[MAE=221.011,RMSE=279.492,R2=0.532]     Test:[MAE=225.250,RMSE=288.061,R2=0.529]\n",
            "ANN con num_neuronas=0.4 ->     Val:[MAE=239.719,RMSE=306.888,R2=0.436]     Test:[MAE=245.149,RMSE=312.258,R2=0.447]\n",
            "ANN con num_neuronas=0.403 ->     Val:[MAE=277.196,RMSE=349.478,R2=0.268]     Test:[MAE=287.062,RMSE=359.882,R2=0.266]\n",
            "ANN con num_neuronas=0.406 ->     Val:[MAE=252.026,RMSE=325.448,R2=0.365]     Test:[MAE=255.200,RMSE=333.320,R2=0.370]\n",
            "ANN con num_neuronas=0.40900000000000003 ->     Val:[MAE=301.124,RMSE=371.986,R2=0.171]     Test:[MAE=314.631,RMSE=385.449,R2=0.158]\n",
            "ANN con num_neuronas=0.41200000000000003 ->     Val:[MAE=231.968,RMSE=295.287,R2=0.478]     Test:[MAE=232.231,RMSE=298.043,R2=0.496]\n",
            "ANN con num_neuronas=0.41500000000000004 ->     Val:[MAE=224.924,RMSE=291.439,R2=0.491]     Test:[MAE=224.359,RMSE=293.014,R2=0.513]\n",
            "ANN con num_neuronas=0.418 ->     Val:[MAE=310.284,RMSE=382.724,R2=0.122]     Test:[MAE=321.849,RMSE=398.792,R2=0.098]\n",
            "ANN con num_neuronas=0.421 ->     Val:[MAE=280.665,RMSE=351.338,R2=0.260]     Test:[MAE=297.127,RMSE=366.370,R2=0.239]\n",
            "ANN con num_neuronas=0.424 ->     Val:[MAE=279.664,RMSE=353.246,R2=0.252]     Test:[MAE=288.726,RMSE=366.246,R2=0.239]\n",
            "ANN con num_neuronas=0.427 ->     Val:[MAE=261.019,RMSE=332.981,R2=0.336]     Test:[MAE=264.855,RMSE=342.602,R2=0.334]\n",
            "ANN con num_neuronas=0.43 ->     Val:[MAE=244.304,RMSE=311.551,R2=0.418]     Test:[MAE=246.875,RMSE=318.139,R2=0.426]\n",
            "ANN con num_neuronas=0.433 ->     Val:[MAE=240.385,RMSE=313.247,R2=0.412]     Test:[MAE=240.478,RMSE=316.537,R2=0.432]\n",
            "ANN con num_neuronas=0.436 ->     Val:[MAE=250.606,RMSE=322.280,R2=0.378]     Test:[MAE=254.391,RMSE=325.389,R2=0.400]\n",
            "ANN con num_neuronas=0.439 ->     Val:[MAE=261.542,RMSE=334.280,R2=0.330]     Test:[MAE=264.147,RMSE=339.469,R2=0.347]\n",
            "ANN con num_neuronas=0.442 ->     Val:[MAE=278.934,RMSE=354.835,R2=0.246]     Test:[MAE=284.844,RMSE=363.229,R2=0.252]\n",
            "ANN con num_neuronas=0.445 ->     Val:[MAE=282.392,RMSE=356.073,R2=0.240]     Test:[MAE=286.227,RMSE=364.617,R2=0.246]\n",
            "ANN con num_neuronas=0.448 ->     Val:[MAE=243.625,RMSE=314.259,R2=0.408]     Test:[MAE=243.195,RMSE=317.258,R2=0.429]\n",
            "ANN con num_neuronas=0.451 ->     Val:[MAE=306.512,RMSE=378.310,R2=0.143]     Test:[MAE=316.990,RMSE=388.627,R2=0.144]\n",
            "ANN con num_neuronas=0.454 ->     Val:[MAE=261.763,RMSE=337.251,R2=0.319]     Test:[MAE=269.245,RMSE=348.783,R2=0.310]\n",
            "ANN con num_neuronas=0.457 ->     Val:[MAE=286.449,RMSE=358.714,R2=0.229]     Test:[MAE=298.339,RMSE=373.340,R2=0.210]\n",
            "ANN con num_neuronas=0.46 ->     Val:[MAE=261.423,RMSE=332.275,R2=0.338]     Test:[MAE=270.628,RMSE=341.860,R2=0.337]\n",
            "ANN con num_neuronas=0.463 ->     Val:[MAE=262.825,RMSE=333.550,R2=0.333]     Test:[MAE=269.243,RMSE=340.811,R2=0.341]\n",
            "ANN con num_neuronas=0.466 ->     Val:[MAE=229.373,RMSE=292.302,R2=0.488]     Test:[MAE=231.356,RMSE=295.979,R2=0.503]\n",
            "ANN con num_neuronas=0.46900000000000003 ->     Val:[MAE=266.817,RMSE=343.305,R2=0.294]     Test:[MAE=272.646,RMSE=353.849,R2=0.290]\n",
            "ANN con num_neuronas=0.47200000000000003 ->     Val:[MAE=281.433,RMSE=359.800,R2=0.224]     Test:[MAE=286.807,RMSE=368.809,R2=0.229]\n",
            "ANN con num_neuronas=0.47500000000000003 ->     Val:[MAE=291.611,RMSE=363.202,R2=0.210]     Test:[MAE=304.130,RMSE=378.348,R2=0.188]\n",
            "ANN con num_neuronas=0.47800000000000004 ->     Val:[MAE=231.174,RMSE=293.061,R2=0.485]     Test:[MAE=230.725,RMSE=293.402,R2=0.512]\n",
            "ANN con num_neuronas=0.481 ->     Val:[MAE=300.802,RMSE=371.158,R2=0.175]     Test:[MAE=314.871,RMSE=385.621,R2=0.157]\n",
            "ANN con num_neuronas=0.484 ->     Val:[MAE=247.853,RMSE=316.862,R2=0.398]     Test:[MAE=249.287,RMSE=322.439,R2=0.410]\n",
            "ANN con num_neuronas=0.487 ->     Val:[MAE=233.241,RMSE=293.100,R2=0.485]     Test:[MAE=238.762,RMSE=299.277,R2=0.492]\n",
            "ANN con num_neuronas=0.49 ->     Val:[MAE=234.202,RMSE=297.034,R2=0.471]     Test:[MAE=237.902,RMSE=304.141,R2=0.476]\n",
            "ANN con num_neuronas=0.493 ->     Val:[MAE=289.621,RMSE=362.266,R2=0.214]     Test:[MAE=300.910,RMSE=376.983,R2=0.194]\n",
            "ANN con num_neuronas=0.496 ->     Val:[MAE=299.693,RMSE=367.805,R2=0.189]     Test:[MAE=314.858,RMSE=383.057,R2=0.168]\n",
            "ANN con num_neuronas=0.499 ->     Val:[MAE=268.316,RMSE=333.709,R2=0.333]     Test:[MAE=283.064,RMSE=349.972,R2=0.306]\n",
            "ANN con num_neuronas=0.502 ->     Val:[MAE=238.851,RMSE=311.999,R2=0.417]     Test:[MAE=239.242,RMSE=316.640,R2=0.432]\n",
            "ANN con num_neuronas=0.505 ->     Val:[MAE=229.353,RMSE=288.571,R2=0.501]     Test:[MAE=235.768,RMSE=298.517,R2=0.495]\n",
            "ANN con num_neuronas=0.508 ->     Val:[MAE=295.525,RMSE=374.029,R2=0.162]     Test:[MAE=300.214,RMSE=385.897,R2=0.156]\n",
            "ANN con num_neuronas=0.511 ->     Val:[MAE=278.472,RMSE=357.695,R2=0.233]     Test:[MAE=282.583,RMSE=365.577,R2=0.242]\n",
            "ANN con num_neuronas=0.514 ->     Val:[MAE=245.149,RMSE=317.189,R2=0.397]     Test:[MAE=246.262,RMSE=322.529,R2=0.410]\n",
            "ANN con num_neuronas=0.517 ->     Val:[MAE=305.095,RMSE=376.150,R2=0.152]     Test:[MAE=315.632,RMSE=387.402,R2=0.149]\n",
            "ANN con num_neuronas=0.52 ->     Val:[MAE=289.445,RMSE=366.180,R2=0.197]     Test:[MAE=297.638,RMSE=376.379,R2=0.197]\n",
            "ANN con num_neuronas=0.523 ->     Val:[MAE=258.897,RMSE=331.451,R2=0.342]     Test:[MAE=264.027,RMSE=341.228,R2=0.340]\n",
            "ANN con num_neuronas=0.526 ->     Val:[MAE=278.406,RMSE=349.013,R2=0.270]     Test:[MAE=291.383,RMSE=361.279,R2=0.260]\n",
            "ANN con num_neuronas=0.529 ->     Val:[MAE=231.368,RMSE=296.946,R2=0.472]     Test:[MAE=233.235,RMSE=301.099,R2=0.486]\n",
            "ANN con num_neuronas=0.532 ->     Val:[MAE=268.350,RMSE=342.510,R2=0.297]     Test:[MAE=274.618,RMSE=349.777,R2=0.306]\n",
            "ANN con num_neuronas=0.535 ->     Val:[MAE=289.445,RMSE=366.180,R2=0.197]     Test:[MAE=297.638,RMSE=376.379,R2=0.197]\n",
            "ANN con num_neuronas=0.538 ->     Val:[MAE=250.150,RMSE=320.879,R2=0.383]     Test:[MAE=252.311,RMSE=327.935,R2=0.390]\n",
            "ANN con num_neuronas=0.541 ->     Val:[MAE=253.662,RMSE=325.108,R2=0.367]     Test:[MAE=258.267,RMSE=329.127,R2=0.386]\n",
            "ANN con num_neuronas=0.544 ->     Val:[MAE=251.784,RMSE=324.709,R2=0.368]     Test:[MAE=256.101,RMSE=335.490,R2=0.362]\n",
            "ANN con num_neuronas=0.547 ->     Val:[MAE=243.376,RMSE=307.488,R2=0.434]     Test:[MAE=249.392,RMSE=315.242,R2=0.437]\n",
            "ANN con num_neuronas=0.55 ->     Val:[MAE=252.997,RMSE=317.884,R2=0.395]     Test:[MAE=259.874,RMSE=328.117,R2=0.390]\n",
            "ANN con num_neuronas=0.553 ->     Val:[MAE=234.127,RMSE=298.211,R2=0.467]     Test:[MAE=235.287,RMSE=301.943,R2=0.483]\n",
            "ANN con num_neuronas=0.556 ->     Val:[MAE=267.510,RMSE=342.545,R2=0.297]     Test:[MAE=274.402,RMSE=352.402,R2=0.296]\n",
            "ANN con num_neuronas=0.559 ->     Val:[MAE=241.566,RMSE=317.802,R2=0.395]     Test:[MAE=241.270,RMSE=322.236,R2=0.411]\n",
            "ANN con num_neuronas=0.562 ->     Val:[MAE=308.699,RMSE=381.624,R2=0.127]     Test:[MAE=318.422,RMSE=392.115,R2=0.128]\n",
            "ANN con num_neuronas=0.5650000000000001 ->     Val:[MAE=249.110,RMSE=316.955,R2=0.398]     Test:[MAE=252.338,RMSE=323.790,R2=0.406]\n",
            "ANN con num_neuronas=0.5680000000000001 ->     Val:[MAE=230.700,RMSE=296.257,R2=0.474]     Test:[MAE=231.222,RMSE=299.083,R2=0.493]\n",
            "ANN con num_neuronas=0.5710000000000001 ->     Val:[MAE=294.065,RMSE=372.303,R2=0.170]     Test:[MAE=300.878,RMSE=381.957,R2=0.173]\n",
            "ANN con num_neuronas=0.5740000000000001 ->     Val:[MAE=306.108,RMSE=378.198,R2=0.143]     Test:[MAE=317.097,RMSE=389.716,R2=0.139]\n",
            "ANN con num_neuronas=0.5770000000000001 ->     Val:[MAE=306.139,RMSE=382.988,R2=0.121]     Test:[MAE=315.464,RMSE=394.974,R2=0.115]\n",
            "ANN con num_neuronas=0.58 ->     Val:[MAE=307.998,RMSE=380.074,R2=0.134]     Test:[MAE=322.422,RMSE=395.235,R2=0.114]\n",
            "ANN con num_neuronas=0.583 ->     Val:[MAE=304.382,RMSE=381.783,R2=0.127]     Test:[MAE=313.291,RMSE=393.730,R2=0.121]\n",
            "ANN con num_neuronas=0.586 ->     Val:[MAE=264.893,RMSE=342.154,R2=0.299]     Test:[MAE=269.847,RMSE=350.545,R2=0.303]\n",
            "ANN con num_neuronas=0.589 ->     Val:[MAE=314.666,RMSE=389.731,R2=0.090]     Test:[MAE=324.704,RMSE=403.502,R2=0.077]\n",
            "ANN con num_neuronas=0.592 ->     Val:[MAE=304.408,RMSE=375.818,R2=0.154]     Test:[MAE=316.547,RMSE=389.885,R2=0.138]\n",
            "ANN con num_neuronas=0.595 ->     Val:[MAE=258.610,RMSE=328.706,R2=0.353]     Test:[MAE=264.732,RMSE=334.388,R2=0.366]\n",
            "ANN con num_neuronas=0.598 ->     Val:[MAE=305.156,RMSE=374.467,R2=0.160]     Test:[MAE=316.591,RMSE=387.638,R2=0.148]\n",
            "ANN con num_neuronas=0.601 ->     Val:[MAE=267.791,RMSE=338.078,R2=0.315]     Test:[MAE=278.302,RMSE=348.432,R2=0.312]\n",
            "ANN con num_neuronas=0.604 ->     Val:[MAE=306.139,RMSE=382.988,R2=0.121]     Test:[MAE=315.464,RMSE=394.974,R2=0.115]\n",
            "ANN con num_neuronas=0.607 ->     Val:[MAE=235.147,RMSE=297.573,R2=0.469]     Test:[MAE=235.567,RMSE=298.211,R2=0.496]\n",
            "ANN con num_neuronas=0.61 ->     Val:[MAE=300.938,RMSE=371.276,R2=0.174]     Test:[MAE=310.719,RMSE=380.990,R2=0.177]\n",
            "ANN con num_neuronas=0.613 ->     Val:[MAE=280.587,RMSE=359.925,R2=0.224]     Test:[MAE=287.829,RMSE=370.257,R2=0.223]\n",
            "ANN con num_neuronas=0.616 ->     Val:[MAE=258.610,RMSE=328.706,R2=0.353]     Test:[MAE=264.732,RMSE=334.388,R2=0.366]\n",
            "ANN con num_neuronas=0.619 ->     Val:[MAE=247.317,RMSE=315.309,R2=0.404]     Test:[MAE=251.231,RMSE=323.559,R2=0.406]\n",
            "ANN con num_neuronas=0.622 ->     Val:[MAE=306.139,RMSE=382.988,R2=0.121]     Test:[MAE=315.464,RMSE=394.974,R2=0.115]\n",
            "ANN con num_neuronas=0.625 ->     Val:[MAE=246.123,RMSE=313.855,R2=0.410]     Test:[MAE=250.326,RMSE=322.390,R2=0.411]\n",
            "ANN con num_neuronas=0.628 ->     Val:[MAE=273.324,RMSE=344.459,R2=0.289]     Test:[MAE=280.044,RMSE=353.338,R2=0.292]\n",
            "ANN con num_neuronas=0.631 ->     Val:[MAE=236.541,RMSE=298.377,R2=0.467]     Test:[MAE=238.471,RMSE=302.325,R2=0.482]\n",
            "ANN con num_neuronas=0.634 ->     Val:[MAE=238.318,RMSE=314.062,R2=0.409]     Test:[MAE=238.963,RMSE=318.581,R2=0.425]\n",
            "ANN con num_neuronas=0.637 ->     Val:[MAE=306.139,RMSE=382.988,R2=0.121]     Test:[MAE=315.464,RMSE=394.974,R2=0.115]\n",
            "ANN con num_neuronas=0.64 ->     Val:[MAE=301.669,RMSE=374.857,R2=0.158]     Test:[MAE=313.066,RMSE=388.140,R2=0.146]\n",
            "ANN con num_neuronas=0.643 ->     Val:[MAE=321.227,RMSE=394.675,R2=0.067]     Test:[MAE=331.081,RMSE=408.260,R2=0.055]\n",
            "ANN con num_neuronas=0.646 ->     Val:[MAE=305.461,RMSE=376.884,R2=0.149]     Test:[MAE=316.010,RMSE=388.586,R2=0.144]\n",
            "ANN con num_neuronas=0.649 ->     Val:[MAE=246.236,RMSE=308.271,R2=0.431]     Test:[MAE=249.656,RMSE=312.232,R2=0.447]\n",
            "ANN con num_neuronas=0.652 ->     Val:[MAE=224.924,RMSE=291.439,R2=0.491]     Test:[MAE=224.359,RMSE=293.014,R2=0.513]\n",
            "ANN con num_neuronas=0.655 ->     Val:[MAE=295.813,RMSE=364.622,R2=0.203]     Test:[MAE=309.674,RMSE=380.039,R2=0.181]\n",
            "ANN con num_neuronas=0.658 ->     Val:[MAE=246.236,RMSE=308.271,R2=0.431]     Test:[MAE=249.656,RMSE=312.232,R2=0.447]\n",
            "ANN con num_neuronas=0.661 ->     Val:[MAE=308.946,RMSE=381.568,R2=0.128]     Test:[MAE=318.507,RMSE=392.091,R2=0.128]\n",
            "ANN con num_neuronas=0.664 ->     Val:[MAE=242.456,RMSE=305.284,R2=0.442]     Test:[MAE=245.558,RMSE=308.680,R2=0.460]\n",
            "ANN con num_neuronas=0.667 ->     Val:[MAE=267.067,RMSE=337.797,R2=0.316]     Test:[MAE=278.193,RMSE=352.801,R2=0.294]\n",
            "ANN con num_neuronas=0.67 ->     Val:[MAE=303.835,RMSE=376.413,R2=0.151]     Test:[MAE=316.539,RMSE=391.602,R2=0.130]\n",
            "ANN con num_neuronas=0.673 ->     Val:[MAE=321.227,RMSE=394.675,R2=0.067]     Test:[MAE=331.081,RMSE=408.260,R2=0.055]\n",
            "ANN con num_neuronas=0.676 ->     Val:[MAE=306.139,RMSE=382.988,R2=0.121]     Test:[MAE=315.464,RMSE=394.974,R2=0.115]\n",
            "ANN con num_neuronas=0.679 ->     Val:[MAE=308.419,RMSE=381.694,R2=0.127]     Test:[MAE=318.019,RMSE=391.874,R2=0.129]\n",
            "ANN con num_neuronas=0.682 ->     Val:[MAE=307.801,RMSE=382.043,R2=0.126]     Test:[MAE=319.905,RMSE=394.497,R2=0.118]\n",
            "ANN con num_neuronas=0.685 ->     Val:[MAE=244.415,RMSE=307.587,R2=0.433]     Test:[MAE=247.868,RMSE=311.341,R2=0.450]\n",
            "ANN con num_neuronas=0.6880000000000001 ->     Val:[MAE=264.479,RMSE=339.514,R2=0.309]     Test:[MAE=268.648,RMSE=344.868,R2=0.326]\n",
            "ANN con num_neuronas=0.6910000000000001 ->     Val:[MAE=302.143,RMSE=373.293,R2=0.165]     Test:[MAE=314.337,RMSE=385.914,R2=0.156]\n",
            "ANN con num_neuronas=0.6940000000000001 ->     Val:[MAE=260.146,RMSE=338.078,R2=0.315]     Test:[MAE=263.821,RMSE=348.739,R2=0.310]\n",
            "ANN con num_neuronas=0.6970000000000001 ->     Val:[MAE=260.146,RMSE=338.078,R2=0.315]     Test:[MAE=263.821,RMSE=348.739,R2=0.310]\n",
            "ANN con num_neuronas=0.7000000000000001 ->     Val:[MAE=239.335,RMSE=301.250,R2=0.456]     Test:[MAE=241.696,RMSE=306.401,R2=0.468]\n",
            "ANN con num_neuronas=0.7030000000000001 ->     Val:[MAE=258.610,RMSE=328.706,R2=0.353]     Test:[MAE=264.732,RMSE=334.388,R2=0.366]\n",
            "ANN con num_neuronas=0.706 ->     Val:[MAE=314.666,RMSE=389.731,R2=0.090]     Test:[MAE=324.704,RMSE=403.502,R2=0.077]\n",
            "ANN con num_neuronas=0.709 ->     Val:[MAE=326.071,RMSE=400.044,R2=0.041]     Test:[MAE=335.585,RMSE=413.103,R2=0.032]\n",
            "ANN con num_neuronas=0.712 ->     Val:[MAE=244.415,RMSE=307.587,R2=0.433]     Test:[MAE=247.868,RMSE=311.341,R2=0.450]\n",
            "ANN con num_neuronas=0.715 ->     Val:[MAE=276.262,RMSE=349.541,R2=0.268]     Test:[MAE=284.544,RMSE=358.528,R2=0.271]\n",
            "ANN con num_neuronas=0.718 ->     Val:[MAE=262.829,RMSE=338.031,R2=0.315]     Test:[MAE=267.282,RMSE=348.409,R2=0.312]\n",
            "ANN con num_neuronas=0.721 ->     Val:[MAE=308.456,RMSE=381.702,R2=0.127]     Test:[MAE=318.119,RMSE=392.059,R2=0.128]\n",
            "ANN con num_neuronas=0.724 ->     Val:[MAE=293.079,RMSE=369.246,R2=0.183]     Test:[MAE=302.487,RMSE=380.253,R2=0.180]\n",
            "ANN con num_neuronas=0.727 ->     Val:[MAE=251.604,RMSE=315.588,R2=0.403]     Test:[MAE=258.155,RMSE=323.022,R2=0.408]\n",
            "ANN con num_neuronas=0.73 ->     Val:[MAE=246.236,RMSE=308.271,R2=0.431]     Test:[MAE=249.656,RMSE=312.232,R2=0.447]\n",
            "ANN con num_neuronas=0.733 ->     Val:[MAE=263.183,RMSE=338.419,R2=0.314]     Test:[MAE=267.674,RMSE=348.794,R2=0.310]\n",
            "ANN con num_neuronas=0.736 ->     Val:[MAE=306.651,RMSE=379.389,R2=0.138]     Test:[MAE=317.623,RMSE=393.361,R2=0.123]\n",
            "ANN con num_neuronas=0.739 ->     Val:[MAE=258.610,RMSE=328.706,R2=0.353]     Test:[MAE=264.732,RMSE=334.388,R2=0.366]\n",
            "ANN con num_neuronas=0.742 ->     Val:[MAE=288.891,RMSE=361.180,R2=0.218]     Test:[MAE=302.340,RMSE=374.472,R2=0.205]\n",
            "ANN con num_neuronas=0.745 ->     Val:[MAE=239.335,RMSE=301.250,R2=0.456]     Test:[MAE=241.696,RMSE=306.401,R2=0.468]\n",
            "ANN con num_neuronas=0.748 ->     Val:[MAE=239.335,RMSE=301.250,R2=0.456]     Test:[MAE=241.696,RMSE=306.401,R2=0.468]\n",
            "ANN con num_neuronas=0.751 ->     Val:[MAE=274.205,RMSE=344.310,R2=0.290]     Test:[MAE=286.784,RMSE=357.071,R2=0.277]\n",
            "ANN con num_neuronas=0.754 ->     Val:[MAE=306.139,RMSE=382.988,R2=0.121]     Test:[MAE=315.464,RMSE=394.974,R2=0.115]\n",
            "ANN con num_neuronas=0.757 ->     Val:[MAE=258.610,RMSE=328.706,R2=0.353]     Test:[MAE=264.732,RMSE=334.388,R2=0.366]\n",
            "ANN con num_neuronas=0.76 ->     Val:[MAE=273.324,RMSE=344.459,R2=0.289]     Test:[MAE=280.044,RMSE=353.338,R2=0.292]\n",
            "ANN con num_neuronas=0.763 ->     Val:[MAE=321.227,RMSE=394.675,R2=0.067]     Test:[MAE=331.081,RMSE=408.260,R2=0.055]\n",
            "ANN con num_neuronas=0.766 ->     Val:[MAE=291.613,RMSE=361.730,R2=0.216]     Test:[MAE=305.512,RMSE=377.248,R2=0.193]\n",
            "ANN con num_neuronas=0.769 ->     Val:[MAE=238.552,RMSE=301.423,R2=0.456]     Test:[MAE=240.338,RMSE=306.012,R2=0.469]\n",
            "ANN con num_neuronas=0.772 ->     Val:[MAE=306.139,RMSE=382.988,R2=0.121]     Test:[MAE=315.464,RMSE=394.974,R2=0.115]\n",
            "ANN con num_neuronas=0.775 ->     Val:[MAE=246.236,RMSE=308.271,R2=0.431]     Test:[MAE=249.656,RMSE=312.232,R2=0.447]\n",
            "ANN con num_neuronas=0.778 ->     Val:[MAE=314.441,RMSE=391.455,R2=0.082]     Test:[MAE=323.816,RMSE=401.503,R2=0.086]\n",
            "ANN con num_neuronas=0.781 ->     Val:[MAE=294.253,RMSE=377.001,R2=0.148]     Test:[MAE=302.126,RMSE=390.060,R2=0.137]\n",
            "ANN con num_neuronas=0.784 ->     Val:[MAE=258.610,RMSE=328.706,R2=0.353]     Test:[MAE=264.732,RMSE=334.388,R2=0.366]\n",
            "ANN con num_neuronas=0.787 ->     Val:[MAE=308.276,RMSE=381.404,R2=0.128]     Test:[MAE=318.563,RMSE=392.253,R2=0.128]\n",
            "ANN con num_neuronas=0.79 ->     Val:[MAE=260.194,RMSE=329.220,R2=0.351]     Test:[MAE=269.586,RMSE=337.631,R2=0.354]\n",
            "ANN con num_neuronas=0.793 ->     Val:[MAE=263.373,RMSE=340.953,R2=0.303]     Test:[MAE=267.524,RMSE=352.551,R2=0.295]\n",
            "ANN con num_neuronas=0.796 ->     Val:[MAE=306.344,RMSE=379.229,R2=0.138]     Test:[MAE=318.750,RMSE=392.156,R2=0.128]\n",
            "ANN con num_neuronas=0.799 ->     Val:[MAE=314.666,RMSE=389.731,R2=0.090]     Test:[MAE=324.704,RMSE=403.502,R2=0.077]\n",
            "ANN con num_neuronas=0.802 ->     Val:[MAE=314.666,RMSE=389.731,R2=0.090]     Test:[MAE=324.704,RMSE=403.502,R2=0.077]\n",
            "ANN con num_neuronas=0.805 ->     Val:[MAE=293.079,RMSE=369.246,R2=0.183]     Test:[MAE=302.487,RMSE=380.253,R2=0.180]\n",
            "ANN con num_neuronas=0.808 ->     Val:[MAE=258.093,RMSE=328.202,R2=0.355]     Test:[MAE=264.099,RMSE=333.462,R2=0.369]\n",
            "ANN con num_neuronas=0.811 ->     Val:[MAE=308.908,RMSE=381.761,R2=0.127]     Test:[MAE=318.454,RMSE=392.100,R2=0.128]\n",
            "ANN con num_neuronas=0.8140000000000001 ->     Val:[MAE=268.988,RMSE=343.121,R2=0.295]     Test:[MAE=278.102,RMSE=357.717,R2=0.274]\n",
            "ANN con num_neuronas=0.8170000000000001 ->     Val:[MAE=314.666,RMSE=389.731,R2=0.090]     Test:[MAE=324.704,RMSE=403.502,R2=0.077]\n",
            "ANN con num_neuronas=0.8200000000000001 ->     Val:[MAE=251.773,RMSE=321.014,R2=0.383]     Test:[MAE=254.175,RMSE=328.201,R2=0.389]\n",
            "ANN con num_neuronas=0.8230000000000001 ->     Val:[MAE=313.593,RMSE=387.236,R2=0.102]     Test:[MAE=325.580,RMSE=402.101,R2=0.083]\n",
            "ANN con num_neuronas=0.8260000000000001 ->     Val:[MAE=239.335,RMSE=301.250,R2=0.456]     Test:[MAE=241.696,RMSE=306.401,R2=0.468]\n",
            "ANN con num_neuronas=0.8290000000000001 ->     Val:[MAE=326.071,RMSE=400.044,R2=0.041]     Test:[MAE=335.585,RMSE=413.103,R2=0.032]\n",
            "ANN con num_neuronas=0.8320000000000001 ->     Val:[MAE=306.139,RMSE=382.988,R2=0.121]     Test:[MAE=315.464,RMSE=394.974,R2=0.115]\n",
            "ANN con num_neuronas=0.835 ->     Val:[MAE=293.079,RMSE=369.246,R2=0.183]     Test:[MAE=302.487,RMSE=380.253,R2=0.180]\n",
            "ANN con num_neuronas=0.838 ->     Val:[MAE=306.139,RMSE=382.988,R2=0.121]     Test:[MAE=315.464,RMSE=394.974,R2=0.115]\n",
            "ANN con num_neuronas=0.841 ->     Val:[MAE=316.589,RMSE=393.439,R2=0.073]     Test:[MAE=324.853,RMSE=403.545,R2=0.077]\n",
            "ANN con num_neuronas=0.844 ->     Val:[MAE=307.734,RMSE=380.209,R2=0.134]     Test:[MAE=317.913,RMSE=393.122,R2=0.124]\n",
            "ANN con num_neuronas=0.847 ->     Val:[MAE=308.405,RMSE=389.220,R2=0.092]     Test:[MAE=314.947,RMSE=397.146,R2=0.106]\n",
            "ANN con num_neuronas=0.85 ->     Val:[MAE=307.621,RMSE=380.068,R2=0.135]     Test:[MAE=317.815,RMSE=393.042,R2=0.124]\n",
            "ANN con num_neuronas=0.853 ->     Val:[MAE=291.609,RMSE=378.063,R2=0.144]     Test:[MAE=294.275,RMSE=388.956,R2=0.142]\n",
            "ANN con num_neuronas=0.856 ->     Val:[MAE=306.626,RMSE=381.764,R2=0.127]     Test:[MAE=317.818,RMSE=396.029,R2=0.111]\n",
            "ANN con num_neuronas=0.859 ->     Val:[MAE=258.610,RMSE=328.706,R2=0.353]     Test:[MAE=264.732,RMSE=334.388,R2=0.366]\n",
            "ANN con num_neuronas=0.862 ->     Val:[MAE=328.674,RMSE=405.716,R2=0.014]     Test:[MAE=336.803,RMSE=418.696,R2=0.006]\n",
            "ANN con num_neuronas=0.865 ->     Val:[MAE=263.373,RMSE=340.953,R2=0.303]     Test:[MAE=267.524,RMSE=352.551,R2=0.295]\n",
            "ANN con num_neuronas=0.868 ->     Val:[MAE=291.609,RMSE=378.063,R2=0.144]     Test:[MAE=294.275,RMSE=388.956,R2=0.142]\n",
            "ANN con num_neuronas=0.871 ->     Val:[MAE=276.262,RMSE=349.541,R2=0.268]     Test:[MAE=284.544,RMSE=358.528,R2=0.271]\n",
            "ANN con num_neuronas=0.874 ->     Val:[MAE=321.227,RMSE=394.675,R2=0.067]     Test:[MAE=331.081,RMSE=408.260,R2=0.055]\n",
            "ANN con num_neuronas=0.877 ->     Val:[MAE=277.100,RMSE=358.104,R2=0.232]     Test:[MAE=282.259,RMSE=368.799,R2=0.229]\n",
            "ANN con num_neuronas=0.88 ->     Val:[MAE=307.975,RMSE=382.287,R2=0.124]     Test:[MAE=320.519,RMSE=395.511,R2=0.113]\n",
            "ANN con num_neuronas=0.883 ->     Val:[MAE=308.397,RMSE=381.481,R2=0.128]     Test:[MAE=318.329,RMSE=392.110,R2=0.128]\n",
            "ANN con num_neuronas=0.886 ->     Val:[MAE=263.373,RMSE=340.953,R2=0.303]     Test:[MAE=267.524,RMSE=352.551,R2=0.295]\n",
            "ANN con num_neuronas=0.889 ->     Val:[MAE=321.227,RMSE=394.675,R2=0.067]     Test:[MAE=331.081,RMSE=408.260,R2=0.055]\n",
            "ANN con num_neuronas=0.892 ->     Val:[MAE=239.335,RMSE=301.250,R2=0.456]     Test:[MAE=241.696,RMSE=306.401,R2=0.468]\n",
            "ANN con num_neuronas=0.895 ->     Val:[MAE=291.609,RMSE=378.063,R2=0.144]     Test:[MAE=294.275,RMSE=388.956,R2=0.142]\n",
            "ANN con num_neuronas=0.898 ->     Val:[MAE=276.262,RMSE=349.541,R2=0.268]     Test:[MAE=284.544,RMSE=358.528,R2=0.271]\n",
            "ANN con num_neuronas=0.901 ->     Val:[MAE=275.567,RMSE=359.004,R2=0.228]     Test:[MAE=279.595,RMSE=370.962,R2=0.220]\n",
            "ANN con num_neuronas=0.904 ->     Val:[MAE=246.236,RMSE=308.271,R2=0.431]     Test:[MAE=249.656,RMSE=312.232,R2=0.447]\n",
            "ANN con num_neuronas=0.907 ->     Val:[MAE=314.666,RMSE=389.731,R2=0.090]     Test:[MAE=324.704,RMSE=403.502,R2=0.077]\n",
            "ANN con num_neuronas=0.91 ->     Val:[MAE=246.236,RMSE=308.271,R2=0.431]     Test:[MAE=249.656,RMSE=312.232,R2=0.447]\n",
            "ANN con num_neuronas=0.913 ->     Val:[MAE=308.773,RMSE=383.612,R2=0.118]     Test:[MAE=321.271,RMSE=396.787,R2=0.107]\n",
            "ANN con num_neuronas=0.916 ->     Val:[MAE=310.761,RMSE=388.393,R2=0.096]     Test:[MAE=322.208,RMSE=403.065,R2=0.079]\n",
            "ANN con num_neuronas=0.919 ->     Val:[MAE=306.139,RMSE=382.988,R2=0.121]     Test:[MAE=315.464,RMSE=394.974,R2=0.115]\n",
            "ANN con num_neuronas=0.922 ->     Val:[MAE=306.347,RMSE=380.535,R2=0.132]     Test:[MAE=316.908,RMSE=394.245,R2=0.119]\n",
            "ANN con num_neuronas=0.925 ->     Val:[MAE=326.071,RMSE=400.044,R2=0.041]     Test:[MAE=335.585,RMSE=413.103,R2=0.032]\n",
            "ANN con num_neuronas=0.928 ->     Val:[MAE=276.262,RMSE=349.541,R2=0.268]     Test:[MAE=284.544,RMSE=358.528,R2=0.271]\n",
            "ANN con num_neuronas=0.931 ->     Val:[MAE=314.666,RMSE=389.731,R2=0.090]     Test:[MAE=324.704,RMSE=403.502,R2=0.077]\n",
            "ANN con num_neuronas=0.934 ->     Val:[MAE=258.610,RMSE=328.706,R2=0.353]     Test:[MAE=264.732,RMSE=334.388,R2=0.366]\n",
            "ANN con num_neuronas=0.937 ->     Val:[MAE=326.604,RMSE=405.540,R2=0.015]     Test:[MAE=334.381,RMSE=418.527,R2=0.007]\n",
            "ANN con num_neuronas=0.9400000000000001 ->     Val:[MAE=307.368,RMSE=380.083,R2=0.134]     Test:[MAE=317.409,RMSE=393.260,R2=0.123]\n",
            "ANN con num_neuronas=0.9430000000000001 ->     Val:[MAE=314.666,RMSE=389.731,R2=0.090]     Test:[MAE=324.704,RMSE=403.502,R2=0.077]\n",
            "ANN con num_neuronas=0.9460000000000001 ->     Val:[MAE=319.437,RMSE=397.131,R2=0.055]     Test:[MAE=326.921,RMSE=408.709,R2=0.053]\n",
            "ANN con num_neuronas=0.9490000000000001 ->     Val:[MAE=306.214,RMSE=380.509,R2=0.133]     Test:[MAE=316.912,RMSE=394.200,R2=0.119]\n",
            "ANN con num_neuronas=0.9520000000000001 ->     Val:[MAE=291.609,RMSE=378.063,R2=0.144]     Test:[MAE=294.275,RMSE=388.956,R2=0.142]\n",
            "ANN con num_neuronas=0.9550000000000001 ->     Val:[MAE=318.289,RMSE=398.288,R2=0.050]     Test:[MAE=327.147,RMSE=411.477,R2=0.040]\n",
            "ANN con num_neuronas=0.9580000000000001 ->     Val:[MAE=246.236,RMSE=308.271,R2=0.431]     Test:[MAE=249.656,RMSE=312.232,R2=0.447]\n",
            "ANN con num_neuronas=0.961 ->     Val:[MAE=251.773,RMSE=321.014,R2=0.383]     Test:[MAE=254.175,RMSE=328.201,R2=0.389]\n",
            "ANN con num_neuronas=0.964 ->     Val:[MAE=291.609,RMSE=378.063,R2=0.144]     Test:[MAE=294.275,RMSE=388.956,R2=0.142]\n",
            "ANN con num_neuronas=0.967 ->     Val:[MAE=308.933,RMSE=381.407,R2=0.128]     Test:[MAE=317.873,RMSE=392.351,R2=0.127]\n",
            "ANN con num_neuronas=0.97 ->     Val:[MAE=275.567,RMSE=359.004,R2=0.228]     Test:[MAE=279.595,RMSE=370.962,R2=0.220]\n",
            "ANN con num_neuronas=0.973 ->     Val:[MAE=306.139,RMSE=382.988,R2=0.121]     Test:[MAE=315.464,RMSE=394.974,R2=0.115]\n",
            "ANN con num_neuronas=0.976 ->     Val:[MAE=316.306,RMSE=393.320,R2=0.073]     Test:[MAE=324.822,RMSE=403.448,R2=0.077]\n",
            "ANN con num_neuronas=0.979 ->     Val:[MAE=314.666,RMSE=389.731,R2=0.090]     Test:[MAE=324.704,RMSE=403.502,R2=0.077]\n",
            "ANN con num_neuronas=0.982 ->     Val:[MAE=291.609,RMSE=378.063,R2=0.144]     Test:[MAE=294.275,RMSE=388.956,R2=0.142]\n",
            "ANN con num_neuronas=0.985 ->     Val:[MAE=321.523,RMSE=402.328,R2=0.030]     Test:[MAE=329.106,RMSE=414.745,R2=0.025]\n",
            "ANN con num_neuronas=0.988 ->     Val:[MAE=308.772,RMSE=381.755,R2=0.127]     Test:[MAE=318.288,RMSE=392.367,R2=0.127]\n",
            "ANN con num_neuronas=0.991 ->     Val:[MAE=239.335,RMSE=301.250,R2=0.456]     Test:[MAE=241.696,RMSE=306.401,R2=0.468]\n",
            "ANN con num_neuronas=0.994 ->     Val:[MAE=246.236,RMSE=308.271,R2=0.431]     Test:[MAE=249.656,RMSE=312.232,R2=0.447]\n",
            "ANN con num_neuronas=0.997 ->     Val:[MAE=246.236,RMSE=308.271,R2=0.431]     Test:[MAE=249.656,RMSE=312.232,R2=0.447]\n"
          ],
          "name": "stdout"
        }
      ]
    },
    {
      "cell_type": "code",
      "metadata": {
        "id": "Qv7tCeiAzDNZ",
        "colab": {
          "base_uri": "https://localhost:8080/",
          "height": 512
        },
        "outputId": "dfaa3fe7-a4c0-4afe-d6c0-1c6ee3c648eb"
      },
      "source": [
        "model = ExtraTreeRegressor(min_samples_split=0.025)\n",
        "mae_val, rmse_val, r2_val, mae_tst, rmse_tst, r2_tst, y_validacion, prediccion_validacion, y_test, prediccion_testeo = entrena_model(model)\n",
        "dibuja_preds(y_test, prediccion_testeo, mae_tst, rmse_tst, r2_tst, 'min_samples_split=0.025 -> ')"
      ],
      "execution_count": 28,
      "outputs": [
        {
          "output_type": "display_data",
          "data": {
            "image/png": "[encoded data removed]",
            "text/plain": [
              "<Figure size 576x576 with 1 Axes>"
            ]
          },
          "metadata": {
            "tags": [],
            "needs_background": "light"
          }
        }
      ]
    },
    {
      "cell_type": "markdown",
      "metadata": {
        "id": "x6mQvQoduQjj"
      },
      "source": [
        "Tabla:\n",
        "\n",
        "Lineal de Ridge Regression --> RIDGE con alpha=6.3e+02 ->    Val:[MAE=274.633,RMSE=336.561,R2=0.321]     Test:[MAE=284.887,RMSE=347.023,R2=0.317]\n",
        "\n",
        "K-NN --> KNN con k=19 vecinos ->     Val:[MAE=183.167,RMSE=235.136,R2=0.669]     Test:[MAE=183.499,RMSE=237.650,R2=0.680]\n",
        "\n",
        "SVR --> ANN con num_neuronas=0.1 ->     Val:[MAE=261.956,RMSE=328.417,R2=0.354]     Test:[MAE=272.305,RMSE=340.286,R2=0.343]\n",
        "\n",
        "MLPRegressor --> ANN neuronas=39 alpha=1.0e+01 ->         Val:[MAE=170.719,RMSE=220.460,R2=0.709]         Test:[MAE=166.299,RMSE=218.831,R2=0.728]\n",
        "\n",
        "ExtraTreeRegressor --> ANN con num_neuronas=0.025 ->     Val:[MAE=169.406,RMSE=221.025,R2=0.707]     Test:[MAE=166.065,RMSE=219.768,R2=0.726]\n",
        "\n",
        "DecisionTreeRegressor --> ANN con num_neuronas=100 ->     Val:[MAE=170.360,RMSE=220.885,R2=0.708]     Test:[MAE=165.991,RMSE=220.322,R2=0.725]"
      ]
    },
    {
      "cell_type": "markdown",
      "metadata": {
        "id": "D311tiBtxHxE"
      },
      "source": [
        "Con el que mejor resultados he obtenido ha sido MLPRegressor"
      ]
    },
    {
      "cell_type": "markdown",
      "metadata": {
        "id": "_0FaKygjD644"
      },
      "source": [
        "# 2. Uso de los Modelos para la Toma de Decisiones ante un Vertido de Gasóleo en el Iregua"
      ]
    },
    {
      "cell_type": "markdown",
      "metadata": {
        "id": "gPur62ErD644"
      },
      "source": [
        "El 1 de Julio de 2010, nos avisan que un camión cisterna ha sufrido un accidente a las 14:00 y ha derramado gasóleo en el río Iregua a la altura de Panzares. \n",
        "\n",
        "![](https://e00-elmundo.uecdn.es/elmundo/imagenes/2010/06/16/1276675934_0.jpg)\n",
        "\n",
        "Se dispone de tres horas, aproximadamente, para tomar una decisión antes de que el agua contaminada llegue a la zona de captación de aguas de la ETAP. Finalmente, **se decide cerrar la entrada de agua a las 16:00 y mantenerla cerrada hasta las 8:00 de la mañana del día siguiente, o sea de 16:00 a 7:59 (16 horas cerrada), que es cuando entra el nuevo turno de trabajo, de modo que se abrirá la esclusa a las 8.00 de la mañana**. De este modo, se espera que exista suficiente tiempo para retirar el camión accidentado y que la parte más voluminosa del vertido sobrepase la entrada a la ETAP. \n",
        "\n",
        "Los gestores de la ETAP y responsables de Medio Ambiente y Aguas, están preocupados por saber si el agua almacenada en la ETAP va a ser suficiente para suministrar a Logroño y pueblos adyacentes en esas horas en que la entrada está cerrada. Para ello, **se nos solicita que estimemos el consumo total de agua durante esas horas considerando que la temperatura ambiental prevista es la que aparece en la base de datos “etap_testeo2010.arff”**.\n",
        "\n",
        "Presente una tabla y unos gráficos con el consumo por horas y el consumo acumulado."
      ]
    },
    {
      "cell_type": "code",
      "metadata": {
        "id": "TyOHlrRXD644"
      },
      "source": [
        ""
      ],
      "execution_count": 28,
      "outputs": []
    },
    {
      "cell_type": "code",
      "metadata": {
        "id": "DITd_4OKD644"
      },
      "source": [
        ""
      ],
      "execution_count": 28,
      "outputs": []
    },
    {
      "cell_type": "code",
      "metadata": {
        "id": "zZlLS1p_D645"
      },
      "source": [
        ""
      ],
      "execution_count": 28,
      "outputs": []
    },
    {
      "cell_type": "markdown",
      "metadata": {
        "id": "sjefuX7mD645"
      },
      "source": [
        "Suponiendo que disponemos de 35000 metros cúbicos, ¿Cuál es la diferencia entre el consumo y el agua almacenada que disponemos? ¿Es posible cerrar esas horas sin que la ciudad quede desabastecida? \n",
        "\n",
        "Justifique los resultados frente a los responsables de Medio Ambiente de la Ciudad"
      ]
    },
    {
      "cell_type": "code",
      "metadata": {
        "id": "i4AB7-LuD645"
      },
      "source": [
        ""
      ],
      "execution_count": 28,
      "outputs": []
    },
    {
      "cell_type": "code",
      "metadata": {
        "id": "dDwMEdp1D645"
      },
      "source": [
        ""
      ],
      "execution_count": 28,
      "outputs": []
    },
    {
      "cell_type": "code",
      "metadata": {
        "id": "w5iHXG87D645"
      },
      "source": [
        ""
      ],
      "execution_count": 28,
      "outputs": []
    },
    {
      "cell_type": "markdown",
      "metadata": {
        "id": "e33BqHnGD645"
      },
      "source": [
        "# ENTREGA"
      ]
    },
    {
      "cell_type": "markdown",
      "metadata": {
        "id": "GnthSjFpD646"
      },
      "source": [
        "Recuerda guardar tus cambios en tu repositorio utilizando la opción \"Save a copy in GitHub...\" del menú File."
      ]
    },
    {
      "cell_type": "code",
      "metadata": {
        "id": "GWQXUNA0D646"
      },
      "source": [
        ""
      ],
      "execution_count": 28,
      "outputs": []
    }
  ]
}