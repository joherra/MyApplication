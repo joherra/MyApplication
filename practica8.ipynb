{
  "nbformat": 4,
  "nbformat_minor": 0,
  "metadata": {
    "colab": {
      "name": "practica8.ipynb",
      "provenance": [],
      "collapsed_sections": [],
      "toc_visible": true,
      "include_colab_link": true
    },
    "kernelspec": {
      "display_name": "Python 3",
      "language": "python",
      "name": "python3"
    },
    "language_info": {
      "codemirror_mode": {
        "name": "ipython",
        "version": 3
      },
      "file_extension": ".py",
      "mimetype": "text/x-python",
      "name": "python",
      "nbconvert_exporter": "python",
      "pygments_lexer": "ipython3",
      "version": "3.6.7"
    },
    "accelerator": "GPU"
  },
  "cells": [
    {
      "cell_type": "markdown",
      "metadata": {
        "id": "view-in-github",
        "colab_type": "text"
      },
      "source": [
        "<a href=\"https://colab.research.google.com/github/joherra/MyApplication/blob/master/practica8.ipynb\" target=\"_parent\"><img src=\"https://colab.research.google.com/assets/colab-badge.svg\" alt=\"Open In Colab\"/></a>"
      ]
    },
    {
      "cell_type": "markdown",
      "metadata": {
        "id": "j9QbDR4prpR0"
      },
      "source": [
        "# Práctica 8. Visión por computador II\n",
        "\n",
        "En esta práctica vamos a crear un clasificador capaz de reconocer dígitos manuscritos, para ello utilizaremos el dataset [MNIST](http://yann.lecun.com/exdb/mnist/) que ya hemos utilizado en prácticas anteriores. La parte obligatoria de la práctica se evalúa sobre 6 puntos; además, esta práctica contiene tres ejercicios adicionales incluidos al final de este fichero, y un ejercicio adicional en el notebook adicional. \n",
        "\n",
        "Recordad los 5 pasos de un clasificador de imágenes:\n",
        "1. Preparar el dataset.\n",
        "2. Separar en conjuntos de entrenamiento, test y validación.\n",
        "3. Extraer descriptores.\n",
        "4. Entrenar el modelo.\n",
        "5. Evaluar el modelo.\n",
        "\n",
        "En muchas ocasiones los pasos 2 y 3 son intercambiables, y es lo que haremos en esta práctica.\n",
        "\n",
        "## 0. Carga del dataset y descripción de las imágenes\n",
        " \n",
        "Para cargar el dataset y describir las imágenes vamos a utilizar las clases `CargaYDescribe` (definida en el fichero CargaYDescribe.py de la carpeta p10) y la clase `Descriptor` junto con sus hijas (definidas en el fichero Descriptor.py también dentro de la carpeta p10). Deberás descargar esta carpeta y descomprimirla utilizando el siguiente comando. \n",
        "\n"
      ]
    },
    {
      "cell_type": "code",
      "metadata": {
        "colab": {
          "base_uri": "https://localhost:8080/"
        },
        "id": "CBF0EfAG4yvg",
        "outputId": "cf1a29e6-296a-402a-d580-fbb3c624bab2"
      },
      "source": [
        "!wget www.unirioja.es/cu/joheras/ia/p10/p10.zip -O p08.zip\n",
        "!unzip p08.zip"
      ],
      "execution_count": 2,
      "outputs": [
        {
          "output_type": "stream",
          "text": [
            "--2021-05-08 20:53:37--  http://www.unirioja.es/cu/joheras/ia/p10/p10.zip\n",
            "Resolving www.unirioja.es (www.unirioja.es)... 193.144.2.30\n",
            "Connecting to www.unirioja.es (www.unirioja.es)|193.144.2.30|:80... connected.\n",
            "HTTP request sent, awaiting response... 301 Moved Permanently\n",
            "Location: https://www.unirioja.es/cu/joheras/ia/p10/p10.zip [following]\n",
            "--2021-05-08 20:53:38--  https://www.unirioja.es/cu/joheras/ia/p10/p10.zip\n",
            "Connecting to www.unirioja.es (www.unirioja.es)|193.144.2.30|:443... connected.\n",
            "HTTP request sent, awaiting response... 200 OK\n",
            "Length: 1274 (1.2K) [application/zip]\n",
            "Saving to: ‘p08.zip’\n",
            "\n",
            "p08.zip             100%[===================>]   1.24K  --.-KB/s    in 0s      \n",
            "\n",
            "2021-05-08 20:53:38 (31.4 MB/s) - ‘p08.zip’ saved [1274/1274]\n",
            "\n",
            "Archive:  p08.zip\n",
            "   creating: p10/\n",
            "  inflating: p10/CargaYDescribe.py   \n",
            "  inflating: p10/Descriptor.py       \n",
            "  inflating: p10/__init__.py         \n"
          ],
          "name": "stdout"
        }
      ]
    },
    {
      "cell_type": "markdown",
      "metadata": {
        "id": "NULAJO80rpR2"
      },
      "source": [
        "Si abres el fichero Descriptor.py (puedes abrir dicho fichero pulsando en la pestaña con el símbolo \">\" que aparece a la izquierda de la pantalla y luego pulsando en la pestaña Files), verás la definición de la clase `Descriptor` y de dos clases hijas. La principal característica de la clase `Descriptor` es que tiene un método llamado `describe` que sirve para describir una imagen. Este método es abstracto y lo proporcionan las clases hijas.\n",
        "\n",
        "##### Pregunta\n",
        "\n",
        "¿Qué hacen los métodos ``describe`` de las clases RawImage y Projection?"
      ]
    },
    {
      "cell_type": "code",
      "metadata": {
        "collapsed": true,
        "id": "41V0hSH_rpR4"
      },
      "source": [
        ""
      ],
      "execution_count": 2,
      "outputs": []
    },
    {
      "cell_type": "markdown",
      "metadata": {
        "id": "tp64OIhDN2xm"
      },
      "source": [
        "**Respuesta:**\n",
        "\n",
        "RawImage: \n",
        "\n",
        "\n",
        "\n",
        "```\n",
        "class RawImage(Descriptor):\n",
        "  def describe(self,image):\n",
        "    if len(image.shape) == 3:\n",
        "      image = cv2.cvtColor(image,cv2.COLOR_BGR2GRAY)\n",
        "  return image.flatten()\n",
        "```\n",
        "\n",
        "\n",
        "\n",
        "Projection: \n",
        "\n",
        "class Projection(Descriptor):\n",
        "\n",
        "    def describe(self, image):\n",
        "        if len(image.shape) == 3:\n",
        "            image = cv2.cvtColor(image, cv2.COLOR_BGR2GRAY)\n",
        "        data = []\n",
        "        for i in range(0,image.shape[0]):\n",
        "            data += [image[i,:].sum()]\n",
        "        for i in range(0, image.shape[1]):\n",
        "            data += [image[:,i].sum()]\n",
        "        return data\n",
        "\n"
      ]
    },
    {
      "cell_type": "markdown",
      "metadata": {
        "id": "2_ZPT-N1rpSA"
      },
      "source": [
        "Si ahora abres el fichero CargaYDescribe.py verás la definición de la clase `CargaYDescribe`. Esta clase permite cargar y describir las imágenes de un directorio que está organizado mediante carpetas donde cada carpeta contiene\n",
        "las imágenes de una clase.\n",
        "\n",
        "El constructor de esta clase recibe dos parámetros, un objeto de la clase `Descriptor`, lo que nos permite cambiar fácilmente el método que usamos para describir las imágenes (esta es una técnica llamada inyección de dependencias que ya hemos utilizado alguna vez), y un path que es donde se encuentran las carpetas con las imágenes de cada clase.\n",
        "\n",
        "Definimos una variable donde almacenamos el path donde se encuentran nuestra imágenes. De nuevo, es necesario descargar la carpeta."
      ]
    },
    {
      "cell_type": "code",
      "metadata": {
        "id": "rMZzBCja5HoW",
        "colab": {
          "base_uri": "https://localhost:8080/"
        },
        "outputId": "0055b316-db0e-420c-c67a-09902a6907a9"
      },
      "source": [
        "!wget www.unirioja.es/cu/joheras/ia/p10/digitos.zip\n",
        "!unzip digitos.zip"
      ],
      "execution_count": 3,
      "outputs": [
        {
          "output_type": "stream",
          "text": [
            "URL transformed to HTTPS due to an HSTS policy\n",
            "--2021-05-08 20:53:38--  https://www.unirioja.es/cu/joheras/ia/p10/digitos.zip\n",
            "Resolving www.unirioja.es (www.unirioja.es)... 193.144.2.30\n",
            "Connecting to www.unirioja.es (www.unirioja.es)|193.144.2.30|:443... connected.\n",
            "HTTP request sent, awaiting response... 200 OK\n",
            "Length: 2176634 (2.1M) [application/zip]\n",
            "Saving to: ‘digitos.zip’\n",
            "\n",
            "digitos.zip         100%[===================>]   2.08M  2.37MB/s    in 0.9s    \n",
            "\n",
            "2021-05-08 20:53:40 (2.37 MB/s) - ‘digitos.zip’ saved [2176634/2176634]\n",
            "\n",
            "Archive:  digitos.zip\n",
            "   creating: digitos/\n",
            "   creating: digitos/0/\n",
            "  inflating: digitos/0/0.jpg         \n",
            "  inflating: digitos/0/1.jpg         \n",
            "  inflating: digitos/0/10.jpg        \n",
            "  inflating: digitos/0/100.jpg       \n",
            "  inflating: digitos/0/101.jpg       \n",
            "  inflating: digitos/0/102.jpg       \n",
            "  inflating: digitos/0/103.jpg       \n",
            "  inflating: digitos/0/104.jpg       \n",
            "  inflating: digitos/0/105.jpg       \n",
            "  inflating: digitos/0/106.jpg       \n",
            "  inflating: digitos/0/107.jpg       \n",
            "  inflating: digitos/0/108.jpg       \n",
            "  inflating: digitos/0/109.jpg       \n",
            "  inflating: digitos/0/11.jpg        \n",
            "  inflating: digitos/0/110.jpg       \n",
            "  inflating: digitos/0/111.jpg       \n",
            "  inflating: digitos/0/112.jpg       \n",
            "  inflating: digitos/0/113.jpg       \n",
            "  inflating: digitos/0/114.jpg       \n",
            "  inflating: digitos/0/115.jpg       \n",
            "  inflating: digitos/0/116.jpg       \n",
            "  inflating: digitos/0/117.jpg       \n",
            "  inflating: digitos/0/118.jpg       \n",
            "  inflating: digitos/0/119.jpg       \n",
            "  inflating: digitos/0/12.jpg        \n",
            "  inflating: digitos/0/120.jpg       \n",
            "  inflating: digitos/0/121.jpg       \n",
            "  inflating: digitos/0/122.jpg       \n",
            "  inflating: digitos/0/123.jpg       \n",
            "  inflating: digitos/0/124.jpg       \n",
            "  inflating: digitos/0/125.jpg       \n",
            "  inflating: digitos/0/126.jpg       \n",
            "  inflating: digitos/0/127.jpg       \n",
            "  inflating: digitos/0/128.jpg       \n",
            "  inflating: digitos/0/129.jpg       \n",
            "  inflating: digitos/0/13.jpg        \n",
            "  inflating: digitos/0/130.jpg       \n",
            "  inflating: digitos/0/131.jpg       \n",
            "  inflating: digitos/0/132.jpg       \n",
            "  inflating: digitos/0/133.jpg       \n",
            "  inflating: digitos/0/134.jpg       \n",
            "  inflating: digitos/0/135.jpg       \n",
            "  inflating: digitos/0/136.jpg       \n",
            "  inflating: digitos/0/137.jpg       \n",
            "  inflating: digitos/0/138.jpg       \n",
            "  inflating: digitos/0/139.jpg       \n",
            "  inflating: digitos/0/14.jpg        \n",
            "  inflating: digitos/0/140.jpg       \n",
            "  inflating: digitos/0/141.jpg       \n",
            "  inflating: digitos/0/142.jpg       \n",
            "  inflating: digitos/0/143.jpg       \n",
            "  inflating: digitos/0/144.jpg       \n",
            "  inflating: digitos/0/145.jpg       \n",
            "  inflating: digitos/0/146.jpg       \n",
            "  inflating: digitos/0/147.jpg       \n",
            "  inflating: digitos/0/148.jpg       \n",
            "  inflating: digitos/0/149.jpg       \n",
            "  inflating: digitos/0/15.jpg        \n",
            "  inflating: digitos/0/150.jpg       \n",
            "  inflating: digitos/0/151.jpg       \n",
            "  inflating: digitos/0/152.jpg       \n",
            "  inflating: digitos/0/153.jpg       \n",
            "  inflating: digitos/0/154.jpg       \n",
            "  inflating: digitos/0/155.jpg       \n",
            "  inflating: digitos/0/156.jpg       \n",
            "  inflating: digitos/0/157.jpg       \n",
            "  inflating: digitos/0/158.jpg       \n",
            "  inflating: digitos/0/159.jpg       \n",
            "  inflating: digitos/0/16.jpg        \n",
            "  inflating: digitos/0/160.jpg       \n",
            "  inflating: digitos/0/161.jpg       \n",
            "  inflating: digitos/0/162.jpg       \n",
            "  inflating: digitos/0/163.jpg       \n",
            "  inflating: digitos/0/164.jpg       \n",
            "  inflating: digitos/0/165.jpg       \n",
            "  inflating: digitos/0/166.jpg       \n",
            "  inflating: digitos/0/167.jpg       \n",
            "  inflating: digitos/0/168.jpg       \n",
            "  inflating: digitos/0/169.jpg       \n",
            "  inflating: digitos/0/17.jpg        \n",
            "  inflating: digitos/0/170.jpg       \n",
            "  inflating: digitos/0/171.jpg       \n",
            "  inflating: digitos/0/172.jpg       \n",
            "  inflating: digitos/0/173.jpg       \n",
            "  inflating: digitos/0/174.jpg       \n",
            "  inflating: digitos/0/175.jpg       \n",
            "  inflating: digitos/0/176.jpg       \n",
            "  inflating: digitos/0/177.jpg       \n",
            "  inflating: digitos/0/178.jpg       \n",
            "  inflating: digitos/0/179.jpg       \n",
            "  inflating: digitos/0/18.jpg        \n",
            "  inflating: digitos/0/180.jpg       \n",
            "  inflating: digitos/0/181.jpg       \n",
            "  inflating: digitos/0/182.jpg       \n",
            "  inflating: digitos/0/183.jpg       \n",
            "  inflating: digitos/0/184.jpg       \n",
            "  inflating: digitos/0/185.jpg       \n",
            "  inflating: digitos/0/186.jpg       \n",
            "  inflating: digitos/0/187.jpg       \n",
            "  inflating: digitos/0/188.jpg       \n",
            "  inflating: digitos/0/189.jpg       \n",
            "  inflating: digitos/0/19.jpg        \n",
            "  inflating: digitos/0/190.jpg       \n",
            "  inflating: digitos/0/191.jpg       \n",
            "  inflating: digitos/0/192.jpg       \n",
            "  inflating: digitos/0/193.jpg       \n",
            "  inflating: digitos/0/194.jpg       \n",
            "  inflating: digitos/0/195.jpg       \n",
            "  inflating: digitos/0/196.jpg       \n",
            "  inflating: digitos/0/197.jpg       \n",
            "  inflating: digitos/0/198.jpg       \n",
            "  inflating: digitos/0/199.jpg       \n",
            "  inflating: digitos/0/2.jpg         \n",
            "  inflating: digitos/0/20.jpg        \n",
            "  inflating: digitos/0/200.jpg       \n",
            "  inflating: digitos/0/201.jpg       \n",
            "  inflating: digitos/0/202.jpg       \n",
            "  inflating: digitos/0/203.jpg       \n",
            "  inflating: digitos/0/204.jpg       \n",
            "  inflating: digitos/0/205.jpg       \n",
            "  inflating: digitos/0/206.jpg       \n",
            "  inflating: digitos/0/207.jpg       \n",
            "  inflating: digitos/0/208.jpg       \n",
            "  inflating: digitos/0/209.jpg       \n",
            "  inflating: digitos/0/21.jpg        \n",
            "  inflating: digitos/0/210.jpg       \n",
            "  inflating: digitos/0/211.jpg       \n",
            "  inflating: digitos/0/212.jpg       \n",
            "  inflating: digitos/0/213.jpg       \n",
            "  inflating: digitos/0/214.jpg       \n",
            "  inflating: digitos/0/215.jpg       \n",
            "  inflating: digitos/0/216.jpg       \n",
            "  inflating: digitos/0/217.jpg       \n",
            "  inflating: digitos/0/218.jpg       \n",
            "  inflating: digitos/0/219.jpg       \n",
            "  inflating: digitos/0/22.jpg        \n",
            "  inflating: digitos/0/220.jpg       \n",
            "  inflating: digitos/0/221.jpg       \n",
            "  inflating: digitos/0/222.jpg       \n",
            "  inflating: digitos/0/223.jpg       \n",
            "  inflating: digitos/0/224.jpg       \n",
            "  inflating: digitos/0/225.jpg       \n",
            "  inflating: digitos/0/226.jpg       \n",
            "  inflating: digitos/0/227.jpg       \n",
            "  inflating: digitos/0/228.jpg       \n",
            "  inflating: digitos/0/229.jpg       \n",
            "  inflating: digitos/0/23.jpg        \n",
            "  inflating: digitos/0/230.jpg       \n",
            "  inflating: digitos/0/231.jpg       \n",
            "  inflating: digitos/0/232.jpg       \n",
            "  inflating: digitos/0/233.jpg       \n",
            "  inflating: digitos/0/234.jpg       \n",
            "  inflating: digitos/0/235.jpg       \n",
            "  inflating: digitos/0/236.jpg       \n",
            "  inflating: digitos/0/237.jpg       \n",
            "  inflating: digitos/0/238.jpg       \n",
            "  inflating: digitos/0/239.jpg       \n",
            "  inflating: digitos/0/24.jpg        \n",
            "  inflating: digitos/0/240.jpg       \n",
            "  inflating: digitos/0/241.jpg       \n",
            "  inflating: digitos/0/242.jpg       \n",
            "  inflating: digitos/0/243.jpg       \n",
            "  inflating: digitos/0/244.jpg       \n",
            "  inflating: digitos/0/245.jpg       \n",
            "  inflating: digitos/0/246.jpg       \n",
            "  inflating: digitos/0/247.jpg       \n",
            "  inflating: digitos/0/248.jpg       \n",
            "  inflating: digitos/0/249.jpg       \n",
            "  inflating: digitos/0/25.jpg        \n",
            "  inflating: digitos/0/250.jpg       \n",
            "  inflating: digitos/0/251.jpg       \n",
            "  inflating: digitos/0/252.jpg       \n",
            "  inflating: digitos/0/253.jpg       \n",
            "  inflating: digitos/0/254.jpg       \n",
            "  inflating: digitos/0/255.jpg       \n",
            "  inflating: digitos/0/26.jpg        \n",
            "  inflating: digitos/0/27.jpg        \n",
            "  inflating: digitos/0/28.jpg        \n",
            "  inflating: digitos/0/29.jpg        \n",
            "  inflating: digitos/0/3.jpg         \n",
            "  inflating: digitos/0/30.jpg        \n",
            "  inflating: digitos/0/31.jpg        \n",
            "  inflating: digitos/0/32.jpg        \n",
            "  inflating: digitos/0/33.jpg        \n",
            "  inflating: digitos/0/34.jpg        \n",
            "  inflating: digitos/0/35.jpg        \n",
            "  inflating: digitos/0/36.jpg        \n",
            "  inflating: digitos/0/37.jpg        \n",
            "  inflating: digitos/0/38.jpg        \n",
            "  inflating: digitos/0/39.jpg        \n",
            "  inflating: digitos/0/4.jpg         \n",
            "  inflating: digitos/0/40.jpg        \n",
            "  inflating: digitos/0/41.jpg        \n",
            "  inflating: digitos/0/42.jpg        \n",
            "  inflating: digitos/0/43.jpg        \n",
            "  inflating: digitos/0/44.jpg        \n",
            "  inflating: digitos/0/45.jpg        \n",
            "  inflating: digitos/0/46.jpg        \n",
            "  inflating: digitos/0/47.jpg        \n",
            "  inflating: digitos/0/48.jpg        \n",
            "  inflating: digitos/0/49.jpg        \n",
            "  inflating: digitos/0/5.jpg         \n",
            "  inflating: digitos/0/50.jpg        \n",
            "  inflating: digitos/0/51.jpg        \n",
            "  inflating: digitos/0/52.jpg        \n",
            "  inflating: digitos/0/53.jpg        \n",
            "  inflating: digitos/0/54.jpg        \n",
            "  inflating: digitos/0/55.jpg        \n",
            "  inflating: digitos/0/56.jpg        \n",
            "  inflating: digitos/0/57.jpg        \n",
            "  inflating: digitos/0/58.jpg        \n",
            "  inflating: digitos/0/59.jpg        \n",
            "  inflating: digitos/0/6.jpg         \n",
            "  inflating: digitos/0/60.jpg        \n",
            "  inflating: digitos/0/61.jpg        \n",
            "  inflating: digitos/0/62.jpg        \n",
            "  inflating: digitos/0/63.jpg        \n",
            "  inflating: digitos/0/64.jpg        \n",
            "  inflating: digitos/0/65.jpg        \n",
            "  inflating: digitos/0/66.jpg        \n",
            "  inflating: digitos/0/67.jpg        \n",
            "  inflating: digitos/0/68.jpg        \n",
            "  inflating: digitos/0/69.jpg        \n",
            "  inflating: digitos/0/7.jpg         \n",
            "  inflating: digitos/0/70.jpg        \n",
            "  inflating: digitos/0/71.jpg        \n",
            "  inflating: digitos/0/72.jpg        \n",
            "  inflating: digitos/0/73.jpg        \n",
            "  inflating: digitos/0/74.jpg        \n",
            "  inflating: digitos/0/75.jpg        \n",
            "  inflating: digitos/0/76.jpg        \n",
            "  inflating: digitos/0/77.jpg        \n",
            "  inflating: digitos/0/78.jpg        \n",
            "  inflating: digitos/0/79.jpg        \n",
            "  inflating: digitos/0/8.jpg         \n",
            "  inflating: digitos/0/80.jpg        \n",
            "  inflating: digitos/0/81.jpg        \n",
            "  inflating: digitos/0/82.jpg        \n",
            "  inflating: digitos/0/83.jpg        \n",
            "  inflating: digitos/0/84.jpg        \n",
            "  inflating: digitos/0/85.jpg        \n",
            "  inflating: digitos/0/86.jpg        \n",
            "  inflating: digitos/0/87.jpg        \n",
            "  inflating: digitos/0/88.jpg        \n",
            "  inflating: digitos/0/89.jpg        \n",
            "  inflating: digitos/0/9.jpg         \n",
            "  inflating: digitos/0/90.jpg        \n",
            "  inflating: digitos/0/91.jpg        \n",
            "  inflating: digitos/0/92.jpg        \n",
            "  inflating: digitos/0/93.jpg        \n",
            "  inflating: digitos/0/94.jpg        \n",
            "  inflating: digitos/0/95.jpg        \n",
            "  inflating: digitos/0/96.jpg        \n",
            "  inflating: digitos/0/97.jpg        \n",
            "  inflating: digitos/0/98.jpg        \n",
            "  inflating: digitos/0/99.jpg        \n",
            "   creating: digitos/1/\n",
            "  inflating: digitos/1/0.jpg         \n",
            "  inflating: digitos/1/1.jpg         \n",
            "  inflating: digitos/1/10.jpg        \n",
            "  inflating: digitos/1/100.jpg       \n",
            "  inflating: digitos/1/101.jpg       \n",
            "  inflating: digitos/1/102.jpg       \n",
            "  inflating: digitos/1/103.jpg       \n",
            "  inflating: digitos/1/104.jpg       \n",
            "  inflating: digitos/1/105.jpg       \n",
            "  inflating: digitos/1/106.jpg       \n",
            "  inflating: digitos/1/107.jpg       \n",
            "  inflating: digitos/1/108.jpg       \n",
            "  inflating: digitos/1/109.jpg       \n",
            "  inflating: digitos/1/11.jpg        \n",
            "  inflating: digitos/1/110.jpg       \n",
            "  inflating: digitos/1/111.jpg       \n",
            "  inflating: digitos/1/112.jpg       \n",
            "  inflating: digitos/1/113.jpg       \n",
            "  inflating: digitos/1/114.jpg       \n",
            "  inflating: digitos/1/115.jpg       \n",
            "  inflating: digitos/1/116.jpg       \n",
            "  inflating: digitos/1/117.jpg       \n",
            "  inflating: digitos/1/118.jpg       \n",
            "  inflating: digitos/1/119.jpg       \n",
            "  inflating: digitos/1/12.jpg        \n",
            "  inflating: digitos/1/120.jpg       \n",
            "  inflating: digitos/1/121.jpg       \n",
            "  inflating: digitos/1/122.jpg       \n",
            "  inflating: digitos/1/123.jpg       \n",
            "  inflating: digitos/1/124.jpg       \n",
            "  inflating: digitos/1/125.jpg       \n",
            "  inflating: digitos/1/126.jpg       \n",
            "  inflating: digitos/1/127.jpg       \n",
            "  inflating: digitos/1/128.jpg       \n",
            "  inflating: digitos/1/129.jpg       \n",
            "  inflating: digitos/1/13.jpg        \n",
            "  inflating: digitos/1/130.jpg       \n",
            "  inflating: digitos/1/131.jpg       \n",
            "  inflating: digitos/1/132.jpg       \n",
            "  inflating: digitos/1/133.jpg       \n",
            "  inflating: digitos/1/134.jpg       \n",
            "  inflating: digitos/1/135.jpg       \n",
            "  inflating: digitos/1/136.jpg       \n",
            "  inflating: digitos/1/137.jpg       \n",
            "  inflating: digitos/1/138.jpg       \n",
            "  inflating: digitos/1/139.jpg       \n",
            "  inflating: digitos/1/14.jpg        \n",
            "  inflating: digitos/1/140.jpg       \n",
            "  inflating: digitos/1/141.jpg       \n",
            "  inflating: digitos/1/142.jpg       \n",
            "  inflating: digitos/1/143.jpg       \n",
            "  inflating: digitos/1/144.jpg       \n",
            "  inflating: digitos/1/145.jpg       \n",
            "  inflating: digitos/1/146.jpg       \n",
            "  inflating: digitos/1/147.jpg       \n",
            "  inflating: digitos/1/148.jpg       \n",
            "  inflating: digitos/1/149.jpg       \n",
            "  inflating: digitos/1/15.jpg        \n",
            "  inflating: digitos/1/150.jpg       \n",
            "  inflating: digitos/1/151.jpg       \n",
            "  inflating: digitos/1/152.jpg       \n",
            "  inflating: digitos/1/153.jpg       \n",
            "  inflating: digitos/1/154.jpg       \n",
            "  inflating: digitos/1/155.jpg       \n",
            "  inflating: digitos/1/156.jpg       \n",
            "  inflating: digitos/1/157.jpg       \n",
            "  inflating: digitos/1/158.jpg       \n",
            "  inflating: digitos/1/159.jpg       \n",
            "  inflating: digitos/1/16.jpg        \n",
            "  inflating: digitos/1/160.jpg       \n",
            "  inflating: digitos/1/161.jpg       \n",
            "  inflating: digitos/1/162.jpg       \n",
            "  inflating: digitos/1/163.jpg       \n",
            "  inflating: digitos/1/164.jpg       \n",
            "  inflating: digitos/1/165.jpg       \n",
            "  inflating: digitos/1/166.jpg       \n",
            "  inflating: digitos/1/167.jpg       \n",
            "  inflating: digitos/1/168.jpg       \n",
            "  inflating: digitos/1/169.jpg       \n",
            "  inflating: digitos/1/17.jpg        \n",
            "  inflating: digitos/1/170.jpg       \n",
            "  inflating: digitos/1/171.jpg       \n",
            "  inflating: digitos/1/172.jpg       \n",
            "  inflating: digitos/1/173.jpg       \n",
            "  inflating: digitos/1/174.jpg       \n",
            "  inflating: digitos/1/175.jpg       \n",
            "  inflating: digitos/1/176.jpg       \n",
            "  inflating: digitos/1/177.jpg       \n",
            "  inflating: digitos/1/178.jpg       \n",
            "  inflating: digitos/1/179.jpg       \n",
            "  inflating: digitos/1/18.jpg        \n",
            "  inflating: digitos/1/180.jpg       \n",
            "  inflating: digitos/1/181.jpg       \n",
            "  inflating: digitos/1/182.jpg       \n",
            "  inflating: digitos/1/183.jpg       \n",
            "  inflating: digitos/1/184.jpg       \n",
            "  inflating: digitos/1/185.jpg       \n",
            "  inflating: digitos/1/186.jpg       \n",
            "  inflating: digitos/1/187.jpg       \n",
            "  inflating: digitos/1/188.jpg       \n",
            "  inflating: digitos/1/189.jpg       \n",
            "  inflating: digitos/1/19.jpg        \n",
            "  inflating: digitos/1/190.jpg       \n",
            "  inflating: digitos/1/191.jpg       \n",
            "  inflating: digitos/1/192.jpg       \n",
            "  inflating: digitos/1/193.jpg       \n",
            "  inflating: digitos/1/194.jpg       \n",
            "  inflating: digitos/1/195.jpg       \n",
            "  inflating: digitos/1/196.jpg       \n",
            "  inflating: digitos/1/197.jpg       \n",
            "  inflating: digitos/1/198.jpg       \n",
            "  inflating: digitos/1/199.jpg       \n",
            "  inflating: digitos/1/2.jpg         \n",
            "  inflating: digitos/1/20.jpg        \n",
            "  inflating: digitos/1/200.jpg       \n",
            "  inflating: digitos/1/201.jpg       \n",
            "  inflating: digitos/1/202.jpg       \n",
            "  inflating: digitos/1/203.jpg       \n",
            "  inflating: digitos/1/204.jpg       \n",
            "  inflating: digitos/1/205.jpg       \n",
            "  inflating: digitos/1/206.jpg       \n",
            "  inflating: digitos/1/207.jpg       \n",
            "  inflating: digitos/1/208.jpg       \n",
            "  inflating: digitos/1/209.jpg       \n",
            "  inflating: digitos/1/21.jpg        \n",
            "  inflating: digitos/1/210.jpg       \n",
            "  inflating: digitos/1/211.jpg       \n",
            "  inflating: digitos/1/212.jpg       \n",
            "  inflating: digitos/1/213.jpg       \n",
            "  inflating: digitos/1/214.jpg       \n",
            "  inflating: digitos/1/215.jpg       \n",
            "  inflating: digitos/1/216.jpg       \n",
            "  inflating: digitos/1/217.jpg       \n",
            "  inflating: digitos/1/218.jpg       \n",
            "  inflating: digitos/1/219.jpg       \n",
            "  inflating: digitos/1/22.jpg        \n",
            "  inflating: digitos/1/220.jpg       \n",
            "  inflating: digitos/1/221.jpg       \n",
            "  inflating: digitos/1/222.jpg       \n",
            "  inflating: digitos/1/223.jpg       \n",
            "  inflating: digitos/1/224.jpg       \n",
            "  inflating: digitos/1/225.jpg       \n",
            "  inflating: digitos/1/226.jpg       \n",
            "  inflating: digitos/1/227.jpg       \n",
            "  inflating: digitos/1/228.jpg       \n",
            "  inflating: digitos/1/229.jpg       \n",
            "  inflating: digitos/1/23.jpg        \n",
            "  inflating: digitos/1/230.jpg       \n",
            "  inflating: digitos/1/231.jpg       \n",
            "  inflating: digitos/1/232.jpg       \n",
            "  inflating: digitos/1/233.jpg       \n",
            "  inflating: digitos/1/234.jpg       \n",
            "  inflating: digitos/1/235.jpg       \n",
            "  inflating: digitos/1/236.jpg       \n",
            "  inflating: digitos/1/237.jpg       \n",
            "  inflating: digitos/1/238.jpg       \n",
            "  inflating: digitos/1/239.jpg       \n",
            "  inflating: digitos/1/24.jpg        \n",
            "  inflating: digitos/1/240.jpg       \n",
            "  inflating: digitos/1/241.jpg       \n",
            "  inflating: digitos/1/242.jpg       \n",
            "  inflating: digitos/1/243.jpg       \n",
            "  inflating: digitos/1/244.jpg       \n",
            "  inflating: digitos/1/245.jpg       \n",
            "  inflating: digitos/1/246.jpg       \n",
            "  inflating: digitos/1/247.jpg       \n",
            "  inflating: digitos/1/248.jpg       \n",
            "  inflating: digitos/1/249.jpg       \n",
            "  inflating: digitos/1/25.jpg        \n",
            "  inflating: digitos/1/250.jpg       \n",
            "  inflating: digitos/1/251.jpg       \n",
            "  inflating: digitos/1/252.jpg       \n",
            "  inflating: digitos/1/253.jpg       \n",
            "  inflating: digitos/1/254.jpg       \n",
            "  inflating: digitos/1/255.jpg       \n",
            "  inflating: digitos/1/26.jpg        \n",
            "  inflating: digitos/1/27.jpg        \n",
            "  inflating: digitos/1/28.jpg        \n",
            "  inflating: digitos/1/29.jpg        \n",
            "  inflating: digitos/1/3.jpg         \n",
            "  inflating: digitos/1/30.jpg        \n",
            "  inflating: digitos/1/31.jpg        \n",
            "  inflating: digitos/1/32.jpg        \n",
            "  inflating: digitos/1/33.jpg        \n",
            "  inflating: digitos/1/34.jpg        \n",
            "  inflating: digitos/1/35.jpg        \n",
            "  inflating: digitos/1/36.jpg        \n",
            "  inflating: digitos/1/37.jpg        \n",
            "  inflating: digitos/1/38.jpg        \n",
            "  inflating: digitos/1/39.jpg        \n",
            "  inflating: digitos/1/4.jpg         \n",
            "  inflating: digitos/1/40.jpg        \n",
            "  inflating: digitos/1/41.jpg        \n",
            "  inflating: digitos/1/42.jpg        \n",
            "  inflating: digitos/1/43.jpg        \n",
            "  inflating: digitos/1/44.jpg        \n",
            "  inflating: digitos/1/45.jpg        \n",
            "  inflating: digitos/1/46.jpg        \n",
            "  inflating: digitos/1/47.jpg        \n",
            "  inflating: digitos/1/48.jpg        \n",
            "  inflating: digitos/1/49.jpg        \n",
            "  inflating: digitos/1/5.jpg         \n",
            "  inflating: digitos/1/50.jpg        \n",
            "  inflating: digitos/1/51.jpg        \n",
            "  inflating: digitos/1/52.jpg        \n",
            "  inflating: digitos/1/53.jpg        \n",
            "  inflating: digitos/1/54.jpg        \n",
            "  inflating: digitos/1/55.jpg        \n",
            "  inflating: digitos/1/56.jpg        \n",
            "  inflating: digitos/1/57.jpg        \n",
            "  inflating: digitos/1/58.jpg        \n",
            "  inflating: digitos/1/59.jpg        \n",
            "  inflating: digitos/1/6.jpg         \n",
            "  inflating: digitos/1/60.jpg        \n",
            "  inflating: digitos/1/61.jpg        \n",
            "  inflating: digitos/1/62.jpg        \n",
            "  inflating: digitos/1/63.jpg        \n",
            "  inflating: digitos/1/64.jpg        \n",
            "  inflating: digitos/1/65.jpg        \n",
            "  inflating: digitos/1/66.jpg        \n",
            "  inflating: digitos/1/67.jpg        \n",
            "  inflating: digitos/1/68.jpg        \n",
            "  inflating: digitos/1/69.jpg        \n",
            "  inflating: digitos/1/7.jpg         \n",
            "  inflating: digitos/1/70.jpg        \n",
            "  inflating: digitos/1/71.jpg        \n",
            "  inflating: digitos/1/72.jpg        \n",
            "  inflating: digitos/1/73.jpg        \n",
            "  inflating: digitos/1/74.jpg        \n",
            "  inflating: digitos/1/75.jpg        \n",
            "  inflating: digitos/1/76.jpg        \n",
            "  inflating: digitos/1/77.jpg        \n",
            "  inflating: digitos/1/78.jpg        \n",
            "  inflating: digitos/1/79.jpg        \n",
            "  inflating: digitos/1/8.jpg         \n",
            "  inflating: digitos/1/80.jpg        \n",
            "  inflating: digitos/1/81.jpg        \n",
            "  inflating: digitos/1/82.jpg        \n",
            "  inflating: digitos/1/83.jpg        \n",
            "  inflating: digitos/1/84.jpg        \n",
            "  inflating: digitos/1/85.jpg        \n",
            "  inflating: digitos/1/86.jpg        \n",
            "  inflating: digitos/1/87.jpg        \n",
            "  inflating: digitos/1/88.jpg        \n",
            "  inflating: digitos/1/89.jpg        \n",
            "  inflating: digitos/1/9.jpg         \n",
            "  inflating: digitos/1/90.jpg        \n",
            "  inflating: digitos/1/91.jpg        \n",
            "  inflating: digitos/1/92.jpg        \n",
            "  inflating: digitos/1/93.jpg        \n",
            "  inflating: digitos/1/94.jpg        \n",
            "  inflating: digitos/1/95.jpg        \n",
            "  inflating: digitos/1/96.jpg        \n",
            "  inflating: digitos/1/97.jpg        \n",
            "  inflating: digitos/1/98.jpg        \n",
            "  inflating: digitos/1/99.jpg        \n",
            "   creating: digitos/2/\n",
            "  inflating: digitos/2/0.jpg         \n",
            "  inflating: digitos/2/1.jpg         \n",
            "  inflating: digitos/2/10.jpg        \n",
            "  inflating: digitos/2/100.jpg       \n",
            "  inflating: digitos/2/101.jpg       \n",
            "  inflating: digitos/2/102.jpg       \n",
            "  inflating: digitos/2/103.jpg       \n",
            "  inflating: digitos/2/104.jpg       \n",
            "  inflating: digitos/2/105.jpg       \n",
            "  inflating: digitos/2/106.jpg       \n",
            "  inflating: digitos/2/107.jpg       \n",
            "  inflating: digitos/2/108.jpg       \n",
            "  inflating: digitos/2/109.jpg       \n",
            "  inflating: digitos/2/11.jpg        \n",
            "  inflating: digitos/2/110.jpg       \n",
            "  inflating: digitos/2/111.jpg       \n",
            "  inflating: digitos/2/112.jpg       \n",
            "  inflating: digitos/2/113.jpg       \n",
            "  inflating: digitos/2/114.jpg       \n",
            "  inflating: digitos/2/115.jpg       \n",
            "  inflating: digitos/2/116.jpg       \n",
            "  inflating: digitos/2/117.jpg       \n",
            "  inflating: digitos/2/118.jpg       \n",
            "  inflating: digitos/2/119.jpg       \n",
            "  inflating: digitos/2/12.jpg        \n",
            "  inflating: digitos/2/120.jpg       \n",
            "  inflating: digitos/2/121.jpg       \n",
            "  inflating: digitos/2/122.jpg       \n",
            "  inflating: digitos/2/123.jpg       \n",
            "  inflating: digitos/2/124.jpg       \n",
            "  inflating: digitos/2/125.jpg       \n",
            "  inflating: digitos/2/126.jpg       \n",
            "  inflating: digitos/2/127.jpg       \n",
            "  inflating: digitos/2/128.jpg       \n",
            "  inflating: digitos/2/129.jpg       \n",
            "  inflating: digitos/2/13.jpg        \n",
            "  inflating: digitos/2/130.jpg       \n",
            "  inflating: digitos/2/131.jpg       \n",
            "  inflating: digitos/2/132.jpg       \n",
            "  inflating: digitos/2/133.jpg       \n",
            "  inflating: digitos/2/134.jpg       \n",
            "  inflating: digitos/2/135.jpg       \n",
            "  inflating: digitos/2/136.jpg       \n",
            "  inflating: digitos/2/137.jpg       \n",
            "  inflating: digitos/2/138.jpg       \n",
            "  inflating: digitos/2/139.jpg       \n",
            "  inflating: digitos/2/14.jpg        \n",
            "  inflating: digitos/2/140.jpg       \n",
            "  inflating: digitos/2/141.jpg       \n",
            "  inflating: digitos/2/142.jpg       \n",
            "  inflating: digitos/2/143.jpg       \n",
            "  inflating: digitos/2/144.jpg       \n",
            "  inflating: digitos/2/145.jpg       \n",
            "  inflating: digitos/2/146.jpg       \n",
            "  inflating: digitos/2/147.jpg       \n",
            "  inflating: digitos/2/148.jpg       \n",
            "  inflating: digitos/2/149.jpg       \n",
            "  inflating: digitos/2/15.jpg        \n",
            "  inflating: digitos/2/150.jpg       \n",
            "  inflating: digitos/2/151.jpg       \n",
            "  inflating: digitos/2/152.jpg       \n",
            "  inflating: digitos/2/153.jpg       \n",
            "  inflating: digitos/2/154.jpg       \n",
            "  inflating: digitos/2/155.jpg       \n",
            "  inflating: digitos/2/156.jpg       \n",
            "  inflating: digitos/2/157.jpg       \n",
            "  inflating: digitos/2/158.jpg       \n",
            "  inflating: digitos/2/159.jpg       \n",
            "  inflating: digitos/2/16.jpg        \n",
            "  inflating: digitos/2/160.jpg       \n",
            "  inflating: digitos/2/161.jpg       \n",
            "  inflating: digitos/2/162.jpg       \n",
            "  inflating: digitos/2/163.jpg       \n",
            "  inflating: digitos/2/164.jpg       \n",
            "  inflating: digitos/2/165.jpg       \n",
            "  inflating: digitos/2/166.jpg       \n",
            "  inflating: digitos/2/167.jpg       \n",
            "  inflating: digitos/2/168.jpg       \n",
            "  inflating: digitos/2/169.jpg       \n",
            "  inflating: digitos/2/17.jpg        \n",
            "  inflating: digitos/2/170.jpg       \n",
            "  inflating: digitos/2/171.jpg       \n",
            "  inflating: digitos/2/172.jpg       \n",
            "  inflating: digitos/2/173.jpg       \n",
            "  inflating: digitos/2/174.jpg       \n",
            "  inflating: digitos/2/175.jpg       \n",
            "  inflating: digitos/2/176.jpg       \n",
            "  inflating: digitos/2/177.jpg       \n",
            "  inflating: digitos/2/178.jpg       \n",
            "  inflating: digitos/2/179.jpg       \n",
            "  inflating: digitos/2/18.jpg        \n",
            "  inflating: digitos/2/180.jpg       \n",
            "  inflating: digitos/2/181.jpg       \n",
            "  inflating: digitos/2/182.jpg       \n",
            "  inflating: digitos/2/183.jpg       \n",
            "  inflating: digitos/2/184.jpg       \n",
            "  inflating: digitos/2/185.jpg       \n",
            "  inflating: digitos/2/186.jpg       \n",
            "  inflating: digitos/2/187.jpg       \n",
            "  inflating: digitos/2/188.jpg       \n",
            "  inflating: digitos/2/189.jpg       \n",
            "  inflating: digitos/2/19.jpg        \n",
            "  inflating: digitos/2/190.jpg       \n",
            "  inflating: digitos/2/191.jpg       \n",
            "  inflating: digitos/2/192.jpg       \n",
            "  inflating: digitos/2/193.jpg       \n",
            "  inflating: digitos/2/194.jpg       \n",
            "  inflating: digitos/2/195.jpg       \n",
            "  inflating: digitos/2/196.jpg       \n",
            "  inflating: digitos/2/197.jpg       \n",
            "  inflating: digitos/2/198.jpg       \n",
            "  inflating: digitos/2/199.jpg       \n",
            "  inflating: digitos/2/2.jpg         \n",
            "  inflating: digitos/2/20.jpg        \n",
            "  inflating: digitos/2/200.jpg       \n",
            "  inflating: digitos/2/201.jpg       \n",
            "  inflating: digitos/2/202.jpg       \n",
            "  inflating: digitos/2/203.jpg       \n",
            "  inflating: digitos/2/204.jpg       \n",
            "  inflating: digitos/2/205.jpg       \n",
            "  inflating: digitos/2/206.jpg       \n",
            "  inflating: digitos/2/207.jpg       \n",
            "  inflating: digitos/2/208.jpg       \n",
            "  inflating: digitos/2/209.jpg       \n",
            "  inflating: digitos/2/21.jpg        \n",
            "  inflating: digitos/2/210.jpg       \n",
            "  inflating: digitos/2/211.jpg       \n",
            "  inflating: digitos/2/212.jpg       \n",
            "  inflating: digitos/2/213.jpg       \n",
            "  inflating: digitos/2/214.jpg       \n",
            "  inflating: digitos/2/215.jpg       \n",
            "  inflating: digitos/2/216.jpg       \n",
            "  inflating: digitos/2/217.jpg       \n",
            "  inflating: digitos/2/218.jpg       \n",
            "  inflating: digitos/2/219.jpg       \n",
            "  inflating: digitos/2/22.jpg        \n",
            "  inflating: digitos/2/220.jpg       \n",
            "  inflating: digitos/2/221.jpg       \n",
            "  inflating: digitos/2/222.jpg       \n",
            "  inflating: digitos/2/223.jpg       \n",
            "  inflating: digitos/2/224.jpg       \n",
            "  inflating: digitos/2/225.jpg       \n",
            "  inflating: digitos/2/226.jpg       \n",
            "  inflating: digitos/2/227.jpg       \n",
            "  inflating: digitos/2/228.jpg       \n",
            "  inflating: digitos/2/229.jpg       \n",
            "  inflating: digitos/2/23.jpg        \n",
            "  inflating: digitos/2/230.jpg       \n",
            "  inflating: digitos/2/231.jpg       \n",
            "  inflating: digitos/2/232.jpg       \n",
            "  inflating: digitos/2/233.jpg       \n",
            "  inflating: digitos/2/234.jpg       \n",
            "  inflating: digitos/2/235.jpg       \n",
            "  inflating: digitos/2/236.jpg       \n",
            "  inflating: digitos/2/237.jpg       \n",
            "  inflating: digitos/2/238.jpg       \n",
            "  inflating: digitos/2/239.jpg       \n",
            "  inflating: digitos/2/24.jpg        \n",
            "  inflating: digitos/2/240.jpg       \n",
            "  inflating: digitos/2/241.jpg       \n",
            "  inflating: digitos/2/242.jpg       \n",
            "  inflating: digitos/2/243.jpg       \n",
            "  inflating: digitos/2/244.jpg       \n",
            "  inflating: digitos/2/245.jpg       \n",
            "  inflating: digitos/2/246.jpg       \n",
            "  inflating: digitos/2/247.jpg       \n",
            "  inflating: digitos/2/248.jpg       \n",
            "  inflating: digitos/2/249.jpg       \n",
            "  inflating: digitos/2/25.jpg        \n",
            "  inflating: digitos/2/250.jpg       \n",
            "  inflating: digitos/2/251.jpg       \n",
            "  inflating: digitos/2/252.jpg       \n",
            "  inflating: digitos/2/253.jpg       \n",
            "  inflating: digitos/2/254.jpg       \n",
            "  inflating: digitos/2/255.jpg       \n",
            "  inflating: digitos/2/26.jpg        \n",
            "  inflating: digitos/2/27.jpg        \n",
            "  inflating: digitos/2/28.jpg        \n",
            "  inflating: digitos/2/29.jpg        \n",
            "  inflating: digitos/2/3.jpg         \n",
            "  inflating: digitos/2/30.jpg        \n",
            "  inflating: digitos/2/31.jpg        \n",
            "  inflating: digitos/2/32.jpg        \n",
            "  inflating: digitos/2/33.jpg        \n",
            "  inflating: digitos/2/34.jpg        \n",
            "  inflating: digitos/2/35.jpg        \n",
            "  inflating: digitos/2/36.jpg        \n",
            "  inflating: digitos/2/37.jpg        \n",
            "  inflating: digitos/2/38.jpg        \n",
            "  inflating: digitos/2/39.jpg        \n",
            "  inflating: digitos/2/4.jpg         \n",
            "  inflating: digitos/2/40.jpg        \n",
            "  inflating: digitos/2/41.jpg        \n",
            "  inflating: digitos/2/42.jpg        \n",
            "  inflating: digitos/2/43.jpg        \n",
            "  inflating: digitos/2/44.jpg        \n",
            "  inflating: digitos/2/45.jpg        \n",
            "  inflating: digitos/2/46.jpg        \n",
            "  inflating: digitos/2/47.jpg        \n",
            "  inflating: digitos/2/48.jpg        \n",
            "  inflating: digitos/2/49.jpg        \n",
            "  inflating: digitos/2/5.jpg         \n",
            "  inflating: digitos/2/50.jpg        \n",
            "  inflating: digitos/2/51.jpg        \n",
            "  inflating: digitos/2/52.jpg        \n",
            "  inflating: digitos/2/53.jpg        \n",
            "  inflating: digitos/2/54.jpg        \n",
            "  inflating: digitos/2/55.jpg        \n",
            "  inflating: digitos/2/56.jpg        \n",
            "  inflating: digitos/2/57.jpg        \n",
            "  inflating: digitos/2/58.jpg        \n",
            "  inflating: digitos/2/59.jpg        \n",
            "  inflating: digitos/2/6.jpg         \n",
            "  inflating: digitos/2/60.jpg        \n",
            "  inflating: digitos/2/61.jpg        \n",
            "  inflating: digitos/2/62.jpg        \n",
            "  inflating: digitos/2/63.jpg        \n",
            "  inflating: digitos/2/64.jpg        \n",
            "  inflating: digitos/2/65.jpg        \n",
            "  inflating: digitos/2/66.jpg        \n",
            "  inflating: digitos/2/67.jpg        \n",
            "  inflating: digitos/2/68.jpg        \n",
            "  inflating: digitos/2/69.jpg        \n",
            "  inflating: digitos/2/7.jpg         \n",
            "  inflating: digitos/2/70.jpg        \n",
            "  inflating: digitos/2/71.jpg        \n",
            "  inflating: digitos/2/72.jpg        \n",
            "  inflating: digitos/2/73.jpg        \n",
            "  inflating: digitos/2/74.jpg        \n",
            "  inflating: digitos/2/75.jpg        \n",
            "  inflating: digitos/2/76.jpg        \n",
            "  inflating: digitos/2/77.jpg        \n",
            "  inflating: digitos/2/78.jpg        \n",
            "  inflating: digitos/2/79.jpg        \n",
            "  inflating: digitos/2/8.jpg         \n",
            "  inflating: digitos/2/80.jpg        \n",
            "  inflating: digitos/2/81.jpg        \n",
            "  inflating: digitos/2/82.jpg        \n",
            "  inflating: digitos/2/83.jpg        \n",
            "  inflating: digitos/2/84.jpg        \n",
            "  inflating: digitos/2/85.jpg        \n",
            "  inflating: digitos/2/86.jpg        \n",
            "  inflating: digitos/2/87.jpg        \n",
            "  inflating: digitos/2/88.jpg        \n",
            "  inflating: digitos/2/89.jpg        \n",
            "  inflating: digitos/2/9.jpg         \n",
            "  inflating: digitos/2/90.jpg        \n",
            "  inflating: digitos/2/91.jpg        \n",
            "  inflating: digitos/2/92.jpg        \n",
            "  inflating: digitos/2/93.jpg        \n",
            "  inflating: digitos/2/94.jpg        \n",
            "  inflating: digitos/2/95.jpg        \n",
            "  inflating: digitos/2/96.jpg        \n",
            "  inflating: digitos/2/97.jpg        \n",
            "  inflating: digitos/2/98.jpg        \n",
            "  inflating: digitos/2/99.jpg        \n",
            "   creating: digitos/3/\n",
            "  inflating: digitos/3/0.jpg         \n",
            "  inflating: digitos/3/1.jpg         \n",
            "  inflating: digitos/3/10.jpg        \n",
            "  inflating: digitos/3/100.jpg       \n",
            "  inflating: digitos/3/101.jpg       \n",
            "  inflating: digitos/3/102.jpg       \n",
            "  inflating: digitos/3/103.jpg       \n",
            "  inflating: digitos/3/104.jpg       \n",
            "  inflating: digitos/3/105.jpg       \n",
            "  inflating: digitos/3/106.jpg       \n",
            "  inflating: digitos/3/107.jpg       \n",
            "  inflating: digitos/3/108.jpg       \n",
            "  inflating: digitos/3/109.jpg       \n",
            "  inflating: digitos/3/11.jpg        \n",
            "  inflating: digitos/3/110.jpg       \n",
            "  inflating: digitos/3/111.jpg       \n",
            "  inflating: digitos/3/112.jpg       \n",
            "  inflating: digitos/3/113.jpg       \n",
            "  inflating: digitos/3/114.jpg       \n",
            "  inflating: digitos/3/115.jpg       \n",
            "  inflating: digitos/3/116.jpg       \n",
            "  inflating: digitos/3/117.jpg       \n",
            "  inflating: digitos/3/118.jpg       \n",
            "  inflating: digitos/3/119.jpg       \n",
            "  inflating: digitos/3/12.jpg        \n",
            "  inflating: digitos/3/120.jpg       \n",
            "  inflating: digitos/3/121.jpg       \n",
            "  inflating: digitos/3/122.jpg       \n",
            "  inflating: digitos/3/123.jpg       \n",
            "  inflating: digitos/3/124.jpg       \n",
            "  inflating: digitos/3/125.jpg       \n",
            "  inflating: digitos/3/126.jpg       \n",
            "  inflating: digitos/3/127.jpg       \n",
            "  inflating: digitos/3/128.jpg       \n",
            "  inflating: digitos/3/129.jpg       \n",
            "  inflating: digitos/3/13.jpg        \n",
            "  inflating: digitos/3/130.jpg       \n",
            "  inflating: digitos/3/131.jpg       \n",
            "  inflating: digitos/3/132.jpg       \n",
            "  inflating: digitos/3/133.jpg       \n",
            "  inflating: digitos/3/134.jpg       \n",
            "  inflating: digitos/3/135.jpg       \n",
            "  inflating: digitos/3/136.jpg       \n",
            "  inflating: digitos/3/137.jpg       \n",
            "  inflating: digitos/3/138.jpg       \n",
            "  inflating: digitos/3/139.jpg       \n",
            "  inflating: digitos/3/14.jpg        \n",
            "  inflating: digitos/3/140.jpg       \n",
            "  inflating: digitos/3/141.jpg       \n",
            "  inflating: digitos/3/142.jpg       \n",
            "  inflating: digitos/3/143.jpg       \n",
            "  inflating: digitos/3/144.jpg       \n",
            "  inflating: digitos/3/145.jpg       \n",
            "  inflating: digitos/3/146.jpg       \n",
            "  inflating: digitos/3/147.jpg       \n",
            "  inflating: digitos/3/148.jpg       \n",
            "  inflating: digitos/3/149.jpg       \n",
            "  inflating: digitos/3/15.jpg        \n",
            "  inflating: digitos/3/150.jpg       \n",
            "  inflating: digitos/3/151.jpg       \n",
            "  inflating: digitos/3/152.jpg       \n",
            "  inflating: digitos/3/153.jpg       \n",
            "  inflating: digitos/3/154.jpg       \n",
            "  inflating: digitos/3/155.jpg       \n",
            "  inflating: digitos/3/156.jpg       \n",
            "  inflating: digitos/3/157.jpg       \n",
            "  inflating: digitos/3/158.jpg       \n",
            "  inflating: digitos/3/159.jpg       \n",
            "  inflating: digitos/3/16.jpg        \n",
            "  inflating: digitos/3/160.jpg       \n",
            "  inflating: digitos/3/161.jpg       \n",
            "  inflating: digitos/3/162.jpg       \n",
            "  inflating: digitos/3/163.jpg       \n",
            "  inflating: digitos/3/164.jpg       \n",
            "  inflating: digitos/3/165.jpg       \n",
            "  inflating: digitos/3/166.jpg       \n",
            "  inflating: digitos/3/167.jpg       \n",
            "  inflating: digitos/3/168.jpg       \n",
            "  inflating: digitos/3/169.jpg       \n",
            "  inflating: digitos/3/17.jpg        \n",
            "  inflating: digitos/3/170.jpg       \n",
            "  inflating: digitos/3/171.jpg       \n",
            "  inflating: digitos/3/172.jpg       \n",
            "  inflating: digitos/3/173.jpg       \n",
            "  inflating: digitos/3/174.jpg       \n",
            "  inflating: digitos/3/175.jpg       \n",
            "  inflating: digitos/3/176.jpg       \n",
            "  inflating: digitos/3/177.jpg       \n",
            "  inflating: digitos/3/178.jpg       \n",
            "  inflating: digitos/3/179.jpg       \n",
            "  inflating: digitos/3/18.jpg        \n",
            "  inflating: digitos/3/180.jpg       \n",
            "  inflating: digitos/3/181.jpg       \n",
            "  inflating: digitos/3/182.jpg       \n",
            "  inflating: digitos/3/183.jpg       \n",
            "  inflating: digitos/3/184.jpg       \n",
            "  inflating: digitos/3/185.jpg       \n",
            "  inflating: digitos/3/186.jpg       \n",
            "  inflating: digitos/3/187.jpg       \n",
            "  inflating: digitos/3/188.jpg       \n",
            "  inflating: digitos/3/189.jpg       \n",
            "  inflating: digitos/3/19.jpg        \n",
            "  inflating: digitos/3/190.jpg       \n",
            "  inflating: digitos/3/191.jpg       \n",
            "  inflating: digitos/3/192.jpg       \n",
            "  inflating: digitos/3/193.jpg       \n",
            "  inflating: digitos/3/194.jpg       \n",
            "  inflating: digitos/3/195.jpg       \n",
            "  inflating: digitos/3/196.jpg       \n",
            "  inflating: digitos/3/197.jpg       \n",
            "  inflating: digitos/3/198.jpg       \n",
            "  inflating: digitos/3/199.jpg       \n",
            "  inflating: digitos/3/2.jpg         \n",
            "  inflating: digitos/3/20.jpg        \n",
            "  inflating: digitos/3/200.jpg       \n",
            "  inflating: digitos/3/201.jpg       \n",
            "  inflating: digitos/3/202.jpg       \n",
            "  inflating: digitos/3/203.jpg       \n",
            "  inflating: digitos/3/204.jpg       \n",
            "  inflating: digitos/3/205.jpg       \n",
            "  inflating: digitos/3/206.jpg       \n",
            "  inflating: digitos/3/207.jpg       \n",
            "  inflating: digitos/3/208.jpg       \n",
            "  inflating: digitos/3/209.jpg       \n",
            "  inflating: digitos/3/21.jpg        \n",
            "  inflating: digitos/3/210.jpg       \n",
            "  inflating: digitos/3/211.jpg       \n",
            "  inflating: digitos/3/212.jpg       \n",
            "  inflating: digitos/3/213.jpg       \n",
            "  inflating: digitos/3/214.jpg       \n",
            "  inflating: digitos/3/215.jpg       \n",
            "  inflating: digitos/3/216.jpg       \n",
            "  inflating: digitos/3/217.jpg       \n",
            "  inflating: digitos/3/218.jpg       \n",
            "  inflating: digitos/3/219.jpg       \n",
            "  inflating: digitos/3/22.jpg        \n",
            "  inflating: digitos/3/220.jpg       \n",
            "  inflating: digitos/3/221.jpg       \n",
            "  inflating: digitos/3/222.jpg       \n",
            "  inflating: digitos/3/223.jpg       \n",
            "  inflating: digitos/3/224.jpg       \n",
            "  inflating: digitos/3/225.jpg       \n",
            "  inflating: digitos/3/226.jpg       \n",
            "  inflating: digitos/3/227.jpg       \n",
            "  inflating: digitos/3/228.jpg       \n",
            "  inflating: digitos/3/229.jpg       \n",
            "  inflating: digitos/3/23.jpg        \n",
            "  inflating: digitos/3/230.jpg       \n",
            "  inflating: digitos/3/231.jpg       \n",
            "  inflating: digitos/3/232.jpg       \n",
            "  inflating: digitos/3/233.jpg       \n",
            "  inflating: digitos/3/234.jpg       \n",
            "  inflating: digitos/3/235.jpg       \n",
            "  inflating: digitos/3/236.jpg       \n",
            "  inflating: digitos/3/237.jpg       \n",
            "  inflating: digitos/3/238.jpg       \n",
            "  inflating: digitos/3/239.jpg       \n",
            "  inflating: digitos/3/24.jpg        \n",
            "  inflating: digitos/3/240.jpg       \n",
            "  inflating: digitos/3/241.jpg       \n",
            "  inflating: digitos/3/242.jpg       \n",
            "  inflating: digitos/3/243.jpg       \n",
            "  inflating: digitos/3/244.jpg       \n",
            "  inflating: digitos/3/245.jpg       \n",
            "  inflating: digitos/3/246.jpg       \n",
            "  inflating: digitos/3/247.jpg       \n",
            "  inflating: digitos/3/248.jpg       \n",
            "  inflating: digitos/3/249.jpg       \n",
            "  inflating: digitos/3/25.jpg        \n",
            "  inflating: digitos/3/250.jpg       \n",
            "  inflating: digitos/3/251.jpg       \n",
            "  inflating: digitos/3/252.jpg       \n",
            "  inflating: digitos/3/253.jpg       \n",
            "  inflating: digitos/3/254.jpg       \n",
            "  inflating: digitos/3/255.jpg       \n",
            "  inflating: digitos/3/26.jpg        \n",
            "  inflating: digitos/3/27.jpg        \n",
            "  inflating: digitos/3/28.jpg        \n",
            "  inflating: digitos/3/29.jpg        \n",
            "  inflating: digitos/3/3.jpg         \n",
            "  inflating: digitos/3/30.jpg        \n",
            "  inflating: digitos/3/31.jpg        \n",
            "  inflating: digitos/3/32.jpg        \n",
            "  inflating: digitos/3/33.jpg        \n",
            "  inflating: digitos/3/34.jpg        \n",
            "  inflating: digitos/3/35.jpg        \n",
            "  inflating: digitos/3/36.jpg        \n",
            "  inflating: digitos/3/37.jpg        \n",
            "  inflating: digitos/3/38.jpg        \n",
            "  inflating: digitos/3/39.jpg        \n",
            "  inflating: digitos/3/4.jpg         \n",
            "  inflating: digitos/3/40.jpg        \n",
            "  inflating: digitos/3/41.jpg        \n",
            "  inflating: digitos/3/42.jpg        \n",
            "  inflating: digitos/3/43.jpg        \n",
            "  inflating: digitos/3/44.jpg        \n",
            "  inflating: digitos/3/45.jpg        \n",
            "  inflating: digitos/3/46.jpg        \n",
            "  inflating: digitos/3/47.jpg        \n",
            "  inflating: digitos/3/48.jpg        \n",
            "  inflating: digitos/3/49.jpg        \n",
            "  inflating: digitos/3/5.jpg         \n",
            "  inflating: digitos/3/50.jpg        \n",
            "  inflating: digitos/3/51.jpg        \n",
            "  inflating: digitos/3/52.jpg        \n",
            "  inflating: digitos/3/53.jpg        \n",
            "  inflating: digitos/3/54.jpg        \n",
            "  inflating: digitos/3/55.jpg        \n",
            "  inflating: digitos/3/56.jpg        \n",
            "  inflating: digitos/3/57.jpg        \n",
            "  inflating: digitos/3/58.jpg        \n",
            "  inflating: digitos/3/59.jpg        \n",
            "  inflating: digitos/3/6.jpg         \n",
            "  inflating: digitos/3/60.jpg        \n",
            "  inflating: digitos/3/61.jpg        \n",
            "  inflating: digitos/3/62.jpg        \n",
            "  inflating: digitos/3/63.jpg        \n",
            "  inflating: digitos/3/64.jpg        \n",
            "  inflating: digitos/3/65.jpg        \n",
            "  inflating: digitos/3/66.jpg        \n",
            "  inflating: digitos/3/67.jpg        \n",
            "  inflating: digitos/3/68.jpg        \n",
            "  inflating: digitos/3/69.jpg        \n",
            "  inflating: digitos/3/7.jpg         \n",
            "  inflating: digitos/3/70.jpg        \n",
            "  inflating: digitos/3/71.jpg        \n",
            "  inflating: digitos/3/72.jpg        \n",
            "  inflating: digitos/3/73.jpg        \n",
            "  inflating: digitos/3/74.jpg        \n",
            "  inflating: digitos/3/75.jpg        \n",
            "  inflating: digitos/3/76.jpg        \n",
            "  inflating: digitos/3/77.jpg        \n",
            "  inflating: digitos/3/78.jpg        \n",
            "  inflating: digitos/3/79.jpg        \n",
            "  inflating: digitos/3/8.jpg         \n",
            "  inflating: digitos/3/80.jpg        \n",
            "  inflating: digitos/3/81.jpg        \n",
            "  inflating: digitos/3/82.jpg        \n",
            "  inflating: digitos/3/83.jpg        \n",
            "  inflating: digitos/3/84.jpg        \n",
            "  inflating: digitos/3/85.jpg        \n",
            "  inflating: digitos/3/86.jpg        \n",
            "  inflating: digitos/3/87.jpg        \n",
            "  inflating: digitos/3/88.jpg        \n",
            "  inflating: digitos/3/89.jpg        \n",
            "  inflating: digitos/3/9.jpg         \n",
            "  inflating: digitos/3/90.jpg        \n",
            "  inflating: digitos/3/91.jpg        \n",
            "  inflating: digitos/3/92.jpg        \n",
            "  inflating: digitos/3/93.jpg        \n",
            "  inflating: digitos/3/94.jpg        \n",
            "  inflating: digitos/3/95.jpg        \n",
            "  inflating: digitos/3/96.jpg        \n",
            "  inflating: digitos/3/97.jpg        \n",
            "  inflating: digitos/3/98.jpg        \n",
            "  inflating: digitos/3/99.jpg        \n",
            "   creating: digitos/4/\n",
            "  inflating: digitos/4/0.jpg         \n",
            "  inflating: digitos/4/1.jpg         \n",
            "  inflating: digitos/4/10.jpg        \n",
            "  inflating: digitos/4/100.jpg       \n",
            "  inflating: digitos/4/101.jpg       \n",
            "  inflating: digitos/4/102.jpg       \n",
            "  inflating: digitos/4/103.jpg       \n",
            "  inflating: digitos/4/104.jpg       \n",
            "  inflating: digitos/4/105.jpg       \n",
            "  inflating: digitos/4/106.jpg       \n",
            "  inflating: digitos/4/107.jpg       \n",
            "  inflating: digitos/4/108.jpg       \n",
            "  inflating: digitos/4/109.jpg       \n",
            "  inflating: digitos/4/11.jpg        \n",
            "  inflating: digitos/4/110.jpg       \n",
            "  inflating: digitos/4/111.jpg       \n",
            "  inflating: digitos/4/112.jpg       \n",
            "  inflating: digitos/4/113.jpg       \n",
            "  inflating: digitos/4/114.jpg       \n",
            "  inflating: digitos/4/115.jpg       \n",
            "  inflating: digitos/4/116.jpg       \n",
            "  inflating: digitos/4/117.jpg       \n",
            "  inflating: digitos/4/118.jpg       \n",
            "  inflating: digitos/4/119.jpg       \n",
            "  inflating: digitos/4/12.jpg        \n",
            "  inflating: digitos/4/120.jpg       \n",
            "  inflating: digitos/4/121.jpg       \n",
            "  inflating: digitos/4/122.jpg       \n",
            "  inflating: digitos/4/123.jpg       \n",
            "  inflating: digitos/4/124.jpg       \n",
            "  inflating: digitos/4/125.jpg       \n",
            "  inflating: digitos/4/126.jpg       \n",
            "  inflating: digitos/4/127.jpg       \n",
            "  inflating: digitos/4/128.jpg       \n",
            "  inflating: digitos/4/129.jpg       \n",
            "  inflating: digitos/4/13.jpg        \n",
            "  inflating: digitos/4/130.jpg       \n",
            "  inflating: digitos/4/131.jpg       \n",
            "  inflating: digitos/4/132.jpg       \n",
            "  inflating: digitos/4/133.jpg       \n",
            "  inflating: digitos/4/134.jpg       \n",
            "  inflating: digitos/4/135.jpg       \n",
            "  inflating: digitos/4/136.jpg       \n",
            "  inflating: digitos/4/137.jpg       \n",
            "  inflating: digitos/4/138.jpg       \n",
            "  inflating: digitos/4/139.jpg       \n",
            "  inflating: digitos/4/14.jpg        \n",
            "  inflating: digitos/4/140.jpg       \n",
            "  inflating: digitos/4/141.jpg       \n",
            "  inflating: digitos/4/142.jpg       \n",
            "  inflating: digitos/4/143.jpg       \n",
            "  inflating: digitos/4/144.jpg       \n",
            "  inflating: digitos/4/145.jpg       \n",
            "  inflating: digitos/4/146.jpg       \n",
            "  inflating: digitos/4/147.jpg       \n",
            "  inflating: digitos/4/148.jpg       \n",
            "  inflating: digitos/4/149.jpg       \n",
            "  inflating: digitos/4/15.jpg        \n",
            "  inflating: digitos/4/150.jpg       \n",
            "  inflating: digitos/4/151.jpg       \n",
            "  inflating: digitos/4/152.jpg       \n",
            "  inflating: digitos/4/153.jpg       \n",
            "  inflating: digitos/4/154.jpg       \n",
            "  inflating: digitos/4/155.jpg       \n",
            "  inflating: digitos/4/156.jpg       \n",
            "  inflating: digitos/4/157.jpg       \n",
            "  inflating: digitos/4/158.jpg       \n",
            "  inflating: digitos/4/159.jpg       \n",
            "  inflating: digitos/4/16.jpg        \n",
            "  inflating: digitos/4/160.jpg       \n",
            "  inflating: digitos/4/161.jpg       \n",
            "  inflating: digitos/4/162.jpg       \n",
            "  inflating: digitos/4/163.jpg       \n",
            "  inflating: digitos/4/164.jpg       \n",
            "  inflating: digitos/4/165.jpg       \n",
            "  inflating: digitos/4/166.jpg       \n",
            "  inflating: digitos/4/167.jpg       \n",
            "  inflating: digitos/4/168.jpg       \n",
            "  inflating: digitos/4/169.jpg       \n",
            "  inflating: digitos/4/17.jpg        \n",
            "  inflating: digitos/4/170.jpg       \n",
            "  inflating: digitos/4/171.jpg       \n",
            "  inflating: digitos/4/172.jpg       \n",
            "  inflating: digitos/4/173.jpg       \n",
            "  inflating: digitos/4/174.jpg       \n",
            "  inflating: digitos/4/175.jpg       \n",
            "  inflating: digitos/4/176.jpg       \n",
            "  inflating: digitos/4/177.jpg       \n",
            "  inflating: digitos/4/178.jpg       \n",
            "  inflating: digitos/4/179.jpg       \n",
            "  inflating: digitos/4/18.jpg        \n",
            "  inflating: digitos/4/180.jpg       \n",
            "  inflating: digitos/4/181.jpg       \n",
            "  inflating: digitos/4/182.jpg       \n",
            "  inflating: digitos/4/183.jpg       \n",
            "  inflating: digitos/4/184.jpg       \n",
            "  inflating: digitos/4/185.jpg       \n",
            "  inflating: digitos/4/186.jpg       \n",
            "  inflating: digitos/4/187.jpg       \n",
            "  inflating: digitos/4/188.jpg       \n",
            "  inflating: digitos/4/189.jpg       \n",
            "  inflating: digitos/4/19.jpg        \n",
            "  inflating: digitos/4/190.jpg       \n",
            "  inflating: digitos/4/191.jpg       \n",
            "  inflating: digitos/4/192.jpg       \n",
            "  inflating: digitos/4/193.jpg       \n",
            "  inflating: digitos/4/194.jpg       \n",
            "  inflating: digitos/4/195.jpg       \n",
            "  inflating: digitos/4/196.jpg       \n",
            "  inflating: digitos/4/197.jpg       \n",
            "  inflating: digitos/4/198.jpg       \n",
            "  inflating: digitos/4/199.jpg       \n",
            "  inflating: digitos/4/2.jpg         \n",
            "  inflating: digitos/4/20.jpg        \n",
            "  inflating: digitos/4/200.jpg       \n",
            "  inflating: digitos/4/201.jpg       \n",
            "  inflating: digitos/4/202.jpg       \n",
            "  inflating: digitos/4/203.jpg       \n",
            "  inflating: digitos/4/204.jpg       \n",
            "  inflating: digitos/4/205.jpg       \n",
            "  inflating: digitos/4/206.jpg       \n",
            "  inflating: digitos/4/207.jpg       \n",
            "  inflating: digitos/4/208.jpg       \n",
            "  inflating: digitos/4/209.jpg       \n",
            "  inflating: digitos/4/21.jpg        \n",
            "  inflating: digitos/4/210.jpg       \n",
            "  inflating: digitos/4/211.jpg       \n",
            "  inflating: digitos/4/212.jpg       \n",
            "  inflating: digitos/4/213.jpg       \n",
            "  inflating: digitos/4/214.jpg       \n",
            "  inflating: digitos/4/215.jpg       \n",
            "  inflating: digitos/4/216.jpg       \n",
            "  inflating: digitos/4/217.jpg       \n",
            "  inflating: digitos/4/218.jpg       \n",
            "  inflating: digitos/4/219.jpg       \n",
            "  inflating: digitos/4/22.jpg        \n",
            "  inflating: digitos/4/220.jpg       \n",
            "  inflating: digitos/4/221.jpg       \n",
            "  inflating: digitos/4/222.jpg       \n",
            "  inflating: digitos/4/223.jpg       \n",
            "  inflating: digitos/4/224.jpg       \n",
            "  inflating: digitos/4/225.jpg       \n",
            "  inflating: digitos/4/226.jpg       \n",
            "  inflating: digitos/4/227.jpg       \n",
            "  inflating: digitos/4/228.jpg       \n",
            "  inflating: digitos/4/229.jpg       \n",
            "  inflating: digitos/4/23.jpg        \n",
            "  inflating: digitos/4/230.jpg       \n",
            "  inflating: digitos/4/231.jpg       \n",
            "  inflating: digitos/4/232.jpg       \n",
            "  inflating: digitos/4/233.jpg       \n",
            "  inflating: digitos/4/234.jpg       \n",
            "  inflating: digitos/4/235.jpg       \n",
            "  inflating: digitos/4/236.jpg       \n",
            "  inflating: digitos/4/237.jpg       \n",
            "  inflating: digitos/4/238.jpg       \n",
            "  inflating: digitos/4/239.jpg       \n",
            "  inflating: digitos/4/24.jpg        \n",
            "  inflating: digitos/4/240.jpg       \n",
            "  inflating: digitos/4/241.jpg       \n",
            "  inflating: digitos/4/242.jpg       \n",
            "  inflating: digitos/4/243.jpg       \n",
            "  inflating: digitos/4/244.jpg       \n",
            "  inflating: digitos/4/245.jpg       \n",
            "  inflating: digitos/4/246.jpg       \n",
            "  inflating: digitos/4/247.jpg       \n",
            "  inflating: digitos/4/248.jpg       \n",
            "  inflating: digitos/4/249.jpg       \n",
            "  inflating: digitos/4/25.jpg        \n",
            "  inflating: digitos/4/250.jpg       \n",
            "  inflating: digitos/4/251.jpg       \n",
            "  inflating: digitos/4/252.jpg       \n",
            "  inflating: digitos/4/253.jpg       \n",
            "  inflating: digitos/4/254.jpg       \n",
            "  inflating: digitos/4/255.jpg       \n",
            "  inflating: digitos/4/26.jpg        \n",
            "  inflating: digitos/4/27.jpg        \n",
            "  inflating: digitos/4/28.jpg        \n",
            "  inflating: digitos/4/29.jpg        \n",
            "  inflating: digitos/4/3.jpg         \n",
            "  inflating: digitos/4/30.jpg        \n",
            "  inflating: digitos/4/31.jpg        \n",
            "  inflating: digitos/4/32.jpg        \n",
            "  inflating: digitos/4/33.jpg        \n",
            "  inflating: digitos/4/34.jpg        \n",
            "  inflating: digitos/4/35.jpg        \n",
            "  inflating: digitos/4/36.jpg        \n",
            "  inflating: digitos/4/37.jpg        \n",
            "  inflating: digitos/4/38.jpg        \n",
            "  inflating: digitos/4/39.jpg        \n",
            "  inflating: digitos/4/4.jpg         \n",
            "  inflating: digitos/4/40.jpg        \n",
            "  inflating: digitos/4/41.jpg        \n",
            "  inflating: digitos/4/42.jpg        \n",
            "  inflating: digitos/4/43.jpg        \n",
            "  inflating: digitos/4/44.jpg        \n",
            "  inflating: digitos/4/45.jpg        \n",
            "  inflating: digitos/4/46.jpg        \n",
            "  inflating: digitos/4/47.jpg        \n",
            "  inflating: digitos/4/48.jpg        \n",
            "  inflating: digitos/4/49.jpg        \n",
            "  inflating: digitos/4/5.jpg         \n",
            "  inflating: digitos/4/50.jpg        \n",
            "  inflating: digitos/4/51.jpg        \n",
            "  inflating: digitos/4/52.jpg        \n",
            "  inflating: digitos/4/53.jpg        \n",
            "  inflating: digitos/4/54.jpg        \n",
            "  inflating: digitos/4/55.jpg        \n",
            "  inflating: digitos/4/56.jpg        \n",
            "  inflating: digitos/4/57.jpg        \n",
            "  inflating: digitos/4/58.jpg        \n",
            "  inflating: digitos/4/59.jpg        \n",
            "  inflating: digitos/4/6.jpg         \n",
            "  inflating: digitos/4/60.jpg        \n",
            "  inflating: digitos/4/61.jpg        \n",
            "  inflating: digitos/4/62.jpg        \n",
            "  inflating: digitos/4/63.jpg        \n",
            "  inflating: digitos/4/64.jpg        \n",
            "  inflating: digitos/4/65.jpg        \n",
            "  inflating: digitos/4/66.jpg        \n",
            "  inflating: digitos/4/67.jpg        \n",
            "  inflating: digitos/4/68.jpg        \n",
            "  inflating: digitos/4/69.jpg        \n",
            "  inflating: digitos/4/7.jpg         \n",
            "  inflating: digitos/4/70.jpg        \n",
            "  inflating: digitos/4/71.jpg        \n",
            "  inflating: digitos/4/72.jpg        \n",
            "  inflating: digitos/4/73.jpg        \n",
            "  inflating: digitos/4/74.jpg        \n",
            "  inflating: digitos/4/75.jpg        \n",
            "  inflating: digitos/4/76.jpg        \n",
            "  inflating: digitos/4/77.jpg        \n",
            "  inflating: digitos/4/78.jpg        \n",
            "  inflating: digitos/4/79.jpg        \n",
            "  inflating: digitos/4/8.jpg         \n",
            "  inflating: digitos/4/80.jpg        \n",
            "  inflating: digitos/4/81.jpg        \n",
            "  inflating: digitos/4/82.jpg        \n",
            "  inflating: digitos/4/83.jpg        \n",
            "  inflating: digitos/4/84.jpg        \n",
            "  inflating: digitos/4/85.jpg        \n",
            "  inflating: digitos/4/86.jpg        \n",
            "  inflating: digitos/4/87.jpg        \n",
            "  inflating: digitos/4/88.jpg        \n",
            "  inflating: digitos/4/89.jpg        \n",
            "  inflating: digitos/4/9.jpg         \n",
            "  inflating: digitos/4/90.jpg        \n",
            "  inflating: digitos/4/91.jpg        \n",
            "  inflating: digitos/4/92.jpg        \n",
            "  inflating: digitos/4/93.jpg        \n",
            "  inflating: digitos/4/94.jpg        \n",
            "  inflating: digitos/4/95.jpg        \n",
            "  inflating: digitos/4/96.jpg        \n",
            "  inflating: digitos/4/97.jpg        \n",
            "  inflating: digitos/4/98.jpg        \n",
            "  inflating: digitos/4/99.jpg        \n",
            "   creating: digitos/5/\n",
            "  inflating: digitos/5/0.jpg         \n",
            "  inflating: digitos/5/1.jpg         \n",
            "  inflating: digitos/5/10.jpg        \n",
            "  inflating: digitos/5/100.jpg       \n",
            "  inflating: digitos/5/101.jpg       \n",
            "  inflating: digitos/5/102.jpg       \n",
            "  inflating: digitos/5/103.jpg       \n",
            "  inflating: digitos/5/104.jpg       \n",
            "  inflating: digitos/5/105.jpg       \n",
            "  inflating: digitos/5/106.jpg       \n",
            "  inflating: digitos/5/107.jpg       \n",
            "  inflating: digitos/5/108.jpg       \n",
            "  inflating: digitos/5/109.jpg       \n",
            "  inflating: digitos/5/11.jpg        \n",
            "  inflating: digitos/5/110.jpg       \n",
            "  inflating: digitos/5/111.jpg       \n",
            "  inflating: digitos/5/112.jpg       \n",
            "  inflating: digitos/5/113.jpg       \n",
            "  inflating: digitos/5/114.jpg       \n",
            "  inflating: digitos/5/115.jpg       \n",
            "  inflating: digitos/5/116.jpg       \n",
            "  inflating: digitos/5/117.jpg       \n",
            "  inflating: digitos/5/118.jpg       \n",
            "  inflating: digitos/5/119.jpg       \n",
            "  inflating: digitos/5/12.jpg        \n",
            "  inflating: digitos/5/120.jpg       \n",
            "  inflating: digitos/5/121.jpg       \n",
            "  inflating: digitos/5/122.jpg       \n",
            "  inflating: digitos/5/123.jpg       \n",
            "  inflating: digitos/5/124.jpg       \n",
            "  inflating: digitos/5/125.jpg       \n",
            "  inflating: digitos/5/126.jpg       \n",
            "  inflating: digitos/5/127.jpg       \n",
            "  inflating: digitos/5/128.jpg       \n",
            "  inflating: digitos/5/129.jpg       \n",
            "  inflating: digitos/5/13.jpg        \n",
            "  inflating: digitos/5/130.jpg       \n",
            "  inflating: digitos/5/131.jpg       \n",
            "  inflating: digitos/5/132.jpg       \n",
            "  inflating: digitos/5/133.jpg       \n",
            "  inflating: digitos/5/134.jpg       \n",
            "  inflating: digitos/5/135.jpg       \n",
            "  inflating: digitos/5/136.jpg       \n",
            "  inflating: digitos/5/137.jpg       \n",
            "  inflating: digitos/5/138.jpg       \n",
            "  inflating: digitos/5/139.jpg       \n",
            "  inflating: digitos/5/14.jpg        \n",
            "  inflating: digitos/5/140.jpg       \n",
            "  inflating: digitos/5/141.jpg       \n",
            "  inflating: digitos/5/142.jpg       \n",
            "  inflating: digitos/5/143.jpg       \n",
            "  inflating: digitos/5/144.jpg       \n",
            "  inflating: digitos/5/145.jpg       \n",
            "  inflating: digitos/5/146.jpg       \n",
            "  inflating: digitos/5/147.jpg       \n",
            "  inflating: digitos/5/148.jpg       \n",
            "  inflating: digitos/5/149.jpg       \n",
            "  inflating: digitos/5/15.jpg        \n",
            "  inflating: digitos/5/150.jpg       \n",
            "  inflating: digitos/5/151.jpg       \n",
            "  inflating: digitos/5/152.jpg       \n",
            "  inflating: digitos/5/153.jpg       \n",
            "  inflating: digitos/5/154.jpg       \n",
            "  inflating: digitos/5/155.jpg       \n",
            "  inflating: digitos/5/156.jpg       \n",
            "  inflating: digitos/5/157.jpg       \n",
            "  inflating: digitos/5/158.jpg       \n",
            "  inflating: digitos/5/159.jpg       \n",
            "  inflating: digitos/5/16.jpg        \n",
            "  inflating: digitos/5/160.jpg       \n",
            "  inflating: digitos/5/161.jpg       \n",
            "  inflating: digitos/5/162.jpg       \n",
            "  inflating: digitos/5/163.jpg       \n",
            "  inflating: digitos/5/164.jpg       \n",
            "  inflating: digitos/5/165.jpg       \n",
            "  inflating: digitos/5/166.jpg       \n",
            "  inflating: digitos/5/167.jpg       \n",
            "  inflating: digitos/5/168.jpg       \n",
            "  inflating: digitos/5/169.jpg       \n",
            "  inflating: digitos/5/17.jpg        \n",
            "  inflating: digitos/5/170.jpg       \n",
            "  inflating: digitos/5/171.jpg       \n",
            "  inflating: digitos/5/172.jpg       \n",
            "  inflating: digitos/5/173.jpg       \n",
            "  inflating: digitos/5/174.jpg       \n",
            "  inflating: digitos/5/175.jpg       \n",
            "  inflating: digitos/5/176.jpg       \n",
            "  inflating: digitos/5/177.jpg       \n",
            "  inflating: digitos/5/178.jpg       \n",
            "  inflating: digitos/5/179.jpg       \n",
            "  inflating: digitos/5/18.jpg        \n",
            "  inflating: digitos/5/180.jpg       \n",
            "  inflating: digitos/5/181.jpg       \n",
            "  inflating: digitos/5/182.jpg       \n",
            "  inflating: digitos/5/183.jpg       \n",
            "  inflating: digitos/5/184.jpg       \n",
            "  inflating: digitos/5/185.jpg       \n",
            "  inflating: digitos/5/186.jpg       \n",
            "  inflating: digitos/5/187.jpg       \n",
            "  inflating: digitos/5/188.jpg       \n",
            "  inflating: digitos/5/189.jpg       \n",
            "  inflating: digitos/5/19.jpg        \n",
            "  inflating: digitos/5/190.jpg       \n",
            "  inflating: digitos/5/191.jpg       \n",
            "  inflating: digitos/5/192.jpg       \n",
            "  inflating: digitos/5/193.jpg       \n",
            "  inflating: digitos/5/194.jpg       \n",
            "  inflating: digitos/5/195.jpg       \n",
            "  inflating: digitos/5/196.jpg       \n",
            "  inflating: digitos/5/197.jpg       \n",
            "  inflating: digitos/5/198.jpg       \n",
            "  inflating: digitos/5/199.jpg       \n",
            "  inflating: digitos/5/2.jpg         \n",
            "  inflating: digitos/5/20.jpg        \n",
            "  inflating: digitos/5/200.jpg       \n",
            "  inflating: digitos/5/201.jpg       \n",
            "  inflating: digitos/5/202.jpg       \n",
            "  inflating: digitos/5/203.jpg       \n",
            "  inflating: digitos/5/204.jpg       \n",
            "  inflating: digitos/5/205.jpg       \n",
            "  inflating: digitos/5/206.jpg       \n",
            "  inflating: digitos/5/207.jpg       \n",
            "  inflating: digitos/5/208.jpg       \n",
            "  inflating: digitos/5/209.jpg       \n",
            "  inflating: digitos/5/21.jpg        \n",
            "  inflating: digitos/5/210.jpg       \n",
            "  inflating: digitos/5/211.jpg       \n",
            "  inflating: digitos/5/212.jpg       \n",
            "  inflating: digitos/5/213.jpg       \n",
            "  inflating: digitos/5/214.jpg       \n",
            "  inflating: digitos/5/215.jpg       \n",
            "  inflating: digitos/5/216.jpg       \n",
            "  inflating: digitos/5/217.jpg       \n",
            "  inflating: digitos/5/218.jpg       \n",
            "  inflating: digitos/5/219.jpg       \n",
            "  inflating: digitos/5/22.jpg        \n",
            "  inflating: digitos/5/220.jpg       \n",
            "  inflating: digitos/5/221.jpg       \n",
            "  inflating: digitos/5/222.jpg       \n",
            "  inflating: digitos/5/223.jpg       \n",
            "  inflating: digitos/5/224.jpg       \n",
            "  inflating: digitos/5/225.jpg       \n",
            "  inflating: digitos/5/226.jpg       \n",
            "  inflating: digitos/5/227.jpg       \n",
            "  inflating: digitos/5/228.jpg       \n",
            "  inflating: digitos/5/229.jpg       \n",
            "  inflating: digitos/5/23.jpg        \n",
            "  inflating: digitos/5/230.jpg       \n",
            "  inflating: digitos/5/231.jpg       \n",
            "  inflating: digitos/5/232.jpg       \n",
            "  inflating: digitos/5/233.jpg       \n",
            "  inflating: digitos/5/234.jpg       \n",
            "  inflating: digitos/5/235.jpg       \n",
            "  inflating: digitos/5/236.jpg       \n",
            "  inflating: digitos/5/237.jpg       \n",
            "  inflating: digitos/5/238.jpg       \n",
            "  inflating: digitos/5/239.jpg       \n",
            "  inflating: digitos/5/24.jpg        \n",
            "  inflating: digitos/5/240.jpg       \n",
            "  inflating: digitos/5/241.jpg       \n",
            "  inflating: digitos/5/242.jpg       \n",
            "  inflating: digitos/5/243.jpg       \n",
            "  inflating: digitos/5/244.jpg       \n",
            "  inflating: digitos/5/245.jpg       \n",
            "  inflating: digitos/5/246.jpg       \n",
            "  inflating: digitos/5/247.jpg       \n",
            "  inflating: digitos/5/248.jpg       \n",
            "  inflating: digitos/5/249.jpg       \n",
            "  inflating: digitos/5/25.jpg        \n",
            "  inflating: digitos/5/250.jpg       \n",
            "  inflating: digitos/5/251.jpg       \n",
            "  inflating: digitos/5/252.jpg       \n",
            "  inflating: digitos/5/253.jpg       \n",
            "  inflating: digitos/5/254.jpg       \n",
            "  inflating: digitos/5/255.jpg       \n",
            "  inflating: digitos/5/26.jpg        \n",
            "  inflating: digitos/5/27.jpg        \n",
            "  inflating: digitos/5/28.jpg        \n",
            "  inflating: digitos/5/29.jpg        \n",
            "  inflating: digitos/5/3.jpg         \n",
            "  inflating: digitos/5/30.jpg        \n",
            "  inflating: digitos/5/31.jpg        \n",
            "  inflating: digitos/5/32.jpg        \n",
            "  inflating: digitos/5/33.jpg        \n",
            "  inflating: digitos/5/34.jpg        \n",
            "  inflating: digitos/5/35.jpg        \n",
            "  inflating: digitos/5/36.jpg        \n",
            "  inflating: digitos/5/37.jpg        \n",
            "  inflating: digitos/5/38.jpg        \n",
            "  inflating: digitos/5/39.jpg        \n",
            "  inflating: digitos/5/4.jpg         \n",
            "  inflating: digitos/5/40.jpg        \n",
            "  inflating: digitos/5/41.jpg        \n",
            "  inflating: digitos/5/42.jpg        \n",
            "  inflating: digitos/5/43.jpg        \n",
            "  inflating: digitos/5/44.jpg        \n",
            "  inflating: digitos/5/45.jpg        \n",
            "  inflating: digitos/5/46.jpg        \n",
            "  inflating: digitos/5/47.jpg        \n",
            "  inflating: digitos/5/48.jpg        \n",
            "  inflating: digitos/5/49.jpg        \n",
            "  inflating: digitos/5/5.jpg         \n",
            "  inflating: digitos/5/50.jpg        \n",
            "  inflating: digitos/5/51.jpg        \n",
            "  inflating: digitos/5/52.jpg        \n",
            "  inflating: digitos/5/53.jpg        \n",
            "  inflating: digitos/5/54.jpg        \n",
            "  inflating: digitos/5/55.jpg        \n",
            "  inflating: digitos/5/56.jpg        \n",
            "  inflating: digitos/5/57.jpg        \n",
            "  inflating: digitos/5/58.jpg        \n",
            "  inflating: digitos/5/59.jpg        \n",
            "  inflating: digitos/5/6.jpg         \n",
            "  inflating: digitos/5/60.jpg        \n",
            "  inflating: digitos/5/61.jpg        \n",
            "  inflating: digitos/5/62.jpg        \n",
            "  inflating: digitos/5/63.jpg        \n",
            "  inflating: digitos/5/64.jpg        \n",
            "  inflating: digitos/5/65.jpg        \n",
            "  inflating: digitos/5/66.jpg        \n",
            "  inflating: digitos/5/67.jpg        \n",
            "  inflating: digitos/5/68.jpg        \n",
            "  inflating: digitos/5/69.jpg        \n",
            "  inflating: digitos/5/7.jpg         \n",
            "  inflating: digitos/5/70.jpg        \n",
            "  inflating: digitos/5/71.jpg        \n",
            "  inflating: digitos/5/72.jpg        \n",
            "  inflating: digitos/5/73.jpg        \n",
            "  inflating: digitos/5/74.jpg        \n",
            "  inflating: digitos/5/75.jpg        \n",
            "  inflating: digitos/5/76.jpg        \n",
            "  inflating: digitos/5/77.jpg        \n",
            "  inflating: digitos/5/78.jpg        \n",
            "  inflating: digitos/5/79.jpg        \n",
            "  inflating: digitos/5/8.jpg         \n",
            "  inflating: digitos/5/80.jpg        \n",
            "  inflating: digitos/5/81.jpg        \n",
            "  inflating: digitos/5/82.jpg        \n",
            "  inflating: digitos/5/83.jpg        \n",
            "  inflating: digitos/5/84.jpg        \n",
            "  inflating: digitos/5/85.jpg        \n",
            "  inflating: digitos/5/86.jpg        \n",
            "  inflating: digitos/5/87.jpg        \n",
            "  inflating: digitos/5/88.jpg        \n",
            "  inflating: digitos/5/89.jpg        \n",
            "  inflating: digitos/5/9.jpg         \n",
            "  inflating: digitos/5/90.jpg        \n",
            "  inflating: digitos/5/91.jpg        \n",
            "  inflating: digitos/5/92.jpg        \n",
            "  inflating: digitos/5/93.jpg        \n",
            "  inflating: digitos/5/94.jpg        \n",
            "  inflating: digitos/5/95.jpg        \n",
            "  inflating: digitos/5/96.jpg        \n",
            "  inflating: digitos/5/97.jpg        \n",
            "  inflating: digitos/5/98.jpg        \n",
            "  inflating: digitos/5/99.jpg        \n",
            "   creating: digitos/6/\n",
            "  inflating: digitos/6/0.jpg         \n",
            "  inflating: digitos/6/1.jpg         \n",
            "  inflating: digitos/6/10.jpg        \n",
            "  inflating: digitos/6/100.jpg       \n",
            "  inflating: digitos/6/101.jpg       \n",
            "  inflating: digitos/6/102.jpg       \n",
            "  inflating: digitos/6/103.jpg       \n",
            "  inflating: digitos/6/104.jpg       \n",
            "  inflating: digitos/6/105.jpg       \n",
            "  inflating: digitos/6/106.jpg       \n",
            "  inflating: digitos/6/107.jpg       \n",
            "  inflating: digitos/6/108.jpg       \n",
            "  inflating: digitos/6/109.jpg       \n",
            "  inflating: digitos/6/11.jpg        \n",
            "  inflating: digitos/6/110.jpg       \n",
            "  inflating: digitos/6/111.jpg       \n",
            "  inflating: digitos/6/112.jpg       \n",
            "  inflating: digitos/6/113.jpg       \n",
            "  inflating: digitos/6/114.jpg       \n",
            "  inflating: digitos/6/115.jpg       \n",
            "  inflating: digitos/6/116.jpg       \n",
            "  inflating: digitos/6/117.jpg       \n",
            "  inflating: digitos/6/118.jpg       \n",
            "  inflating: digitos/6/119.jpg       \n",
            "  inflating: digitos/6/12.jpg        \n",
            "  inflating: digitos/6/120.jpg       \n",
            "  inflating: digitos/6/121.jpg       \n",
            "  inflating: digitos/6/122.jpg       \n",
            "  inflating: digitos/6/123.jpg       \n",
            "  inflating: digitos/6/124.jpg       \n",
            "  inflating: digitos/6/125.jpg       \n",
            "  inflating: digitos/6/126.jpg       \n",
            "  inflating: digitos/6/127.jpg       \n",
            "  inflating: digitos/6/128.jpg       \n",
            "  inflating: digitos/6/129.jpg       \n",
            "  inflating: digitos/6/13.jpg        \n",
            "  inflating: digitos/6/130.jpg       \n",
            "  inflating: digitos/6/131.jpg       \n",
            "  inflating: digitos/6/132.jpg       \n",
            "  inflating: digitos/6/133.jpg       \n",
            "  inflating: digitos/6/134.jpg       \n",
            "  inflating: digitos/6/135.jpg       \n",
            "  inflating: digitos/6/136.jpg       \n",
            "  inflating: digitos/6/137.jpg       \n",
            "  inflating: digitos/6/138.jpg       \n",
            "  inflating: digitos/6/139.jpg       \n",
            "  inflating: digitos/6/14.jpg        \n",
            "  inflating: digitos/6/140.jpg       \n",
            "  inflating: digitos/6/141.jpg       \n",
            "  inflating: digitos/6/142.jpg       \n",
            "  inflating: digitos/6/143.jpg       \n",
            "  inflating: digitos/6/144.jpg       \n",
            "  inflating: digitos/6/145.jpg       \n",
            "  inflating: digitos/6/146.jpg       \n",
            "  inflating: digitos/6/147.jpg       \n",
            "  inflating: digitos/6/148.jpg       \n",
            "  inflating: digitos/6/149.jpg       \n",
            "  inflating: digitos/6/15.jpg        \n",
            "  inflating: digitos/6/150.jpg       \n",
            "  inflating: digitos/6/151.jpg       \n",
            "  inflating: digitos/6/152.jpg       \n",
            "  inflating: digitos/6/153.jpg       \n",
            "  inflating: digitos/6/154.jpg       \n",
            "  inflating: digitos/6/155.jpg       \n",
            "  inflating: digitos/6/156.jpg       \n",
            "  inflating: digitos/6/157.jpg       \n",
            "  inflating: digitos/6/158.jpg       \n",
            "  inflating: digitos/6/159.jpg       \n",
            "  inflating: digitos/6/16.jpg        \n",
            "  inflating: digitos/6/160.jpg       \n",
            "  inflating: digitos/6/161.jpg       \n",
            "  inflating: digitos/6/162.jpg       \n",
            "  inflating: digitos/6/163.jpg       \n",
            "  inflating: digitos/6/164.jpg       \n",
            "  inflating: digitos/6/165.jpg       \n",
            "  inflating: digitos/6/166.jpg       \n",
            "  inflating: digitos/6/167.jpg       \n",
            "  inflating: digitos/6/168.jpg       \n",
            "  inflating: digitos/6/169.jpg       \n",
            "  inflating: digitos/6/17.jpg        \n",
            "  inflating: digitos/6/170.jpg       \n",
            "  inflating: digitos/6/171.jpg       \n",
            "  inflating: digitos/6/172.jpg       \n",
            "  inflating: digitos/6/173.jpg       \n",
            "  inflating: digitos/6/174.jpg       \n",
            "  inflating: digitos/6/175.jpg       \n",
            "  inflating: digitos/6/176.jpg       \n",
            "  inflating: digitos/6/177.jpg       \n",
            "  inflating: digitos/6/178.jpg       \n",
            "  inflating: digitos/6/179.jpg       \n",
            "  inflating: digitos/6/18.jpg        \n",
            "  inflating: digitos/6/180.jpg       \n",
            "  inflating: digitos/6/181.jpg       \n",
            "  inflating: digitos/6/182.jpg       \n",
            "  inflating: digitos/6/183.jpg       \n",
            "  inflating: digitos/6/184.jpg       \n",
            "  inflating: digitos/6/185.jpg       \n",
            "  inflating: digitos/6/186.jpg       \n",
            "  inflating: digitos/6/187.jpg       \n",
            "  inflating: digitos/6/188.jpg       \n",
            "  inflating: digitos/6/189.jpg       \n",
            "  inflating: digitos/6/19.jpg        \n",
            "  inflating: digitos/6/190.jpg       \n",
            "  inflating: digitos/6/191.jpg       \n",
            "  inflating: digitos/6/192.jpg       \n",
            "  inflating: digitos/6/193.jpg       \n",
            "  inflating: digitos/6/194.jpg       \n",
            "  inflating: digitos/6/195.jpg       \n",
            "  inflating: digitos/6/196.jpg       \n",
            "  inflating: digitos/6/197.jpg       \n",
            "  inflating: digitos/6/198.jpg       \n",
            "  inflating: digitos/6/199.jpg       \n",
            "  inflating: digitos/6/2.jpg         \n",
            "  inflating: digitos/6/20.jpg        \n",
            "  inflating: digitos/6/200.jpg       \n",
            "  inflating: digitos/6/201.jpg       \n",
            "  inflating: digitos/6/202.jpg       \n",
            "  inflating: digitos/6/203.jpg       \n",
            "  inflating: digitos/6/204.jpg       \n",
            "  inflating: digitos/6/205.jpg       \n",
            "  inflating: digitos/6/206.jpg       \n",
            "  inflating: digitos/6/207.jpg       \n",
            "  inflating: digitos/6/208.jpg       \n",
            "  inflating: digitos/6/209.jpg       \n",
            "  inflating: digitos/6/21.jpg        \n",
            "  inflating: digitos/6/210.jpg       \n",
            "  inflating: digitos/6/211.jpg       \n",
            "  inflating: digitos/6/212.jpg       \n",
            "  inflating: digitos/6/213.jpg       \n",
            "  inflating: digitos/6/214.jpg       \n",
            "  inflating: digitos/6/215.jpg       \n",
            "  inflating: digitos/6/216.jpg       \n",
            "  inflating: digitos/6/217.jpg       \n",
            "  inflating: digitos/6/218.jpg       \n",
            "  inflating: digitos/6/219.jpg       \n",
            "  inflating: digitos/6/22.jpg        \n",
            "  inflating: digitos/6/220.jpg       \n",
            "  inflating: digitos/6/221.jpg       \n",
            "  inflating: digitos/6/222.jpg       \n",
            "  inflating: digitos/6/223.jpg       \n",
            "  inflating: digitos/6/224.jpg       \n",
            "  inflating: digitos/6/225.jpg       \n",
            "  inflating: digitos/6/226.jpg       \n",
            "  inflating: digitos/6/227.jpg       \n",
            "  inflating: digitos/6/228.jpg       \n",
            "  inflating: digitos/6/229.jpg       \n",
            "  inflating: digitos/6/23.jpg        \n",
            "  inflating: digitos/6/230.jpg       \n",
            "  inflating: digitos/6/231.jpg       \n",
            "  inflating: digitos/6/232.jpg       \n",
            "  inflating: digitos/6/233.jpg       \n",
            "  inflating: digitos/6/234.jpg       \n",
            "  inflating: digitos/6/235.jpg       \n",
            "  inflating: digitos/6/236.jpg       \n",
            "  inflating: digitos/6/237.jpg       \n",
            "  inflating: digitos/6/238.jpg       \n",
            "  inflating: digitos/6/239.jpg       \n",
            "  inflating: digitos/6/24.jpg        \n",
            "  inflating: digitos/6/240.jpg       \n",
            "  inflating: digitos/6/241.jpg       \n",
            "  inflating: digitos/6/242.jpg       \n",
            "  inflating: digitos/6/243.jpg       \n",
            "  inflating: digitos/6/244.jpg       \n",
            "  inflating: digitos/6/245.jpg       \n",
            "  inflating: digitos/6/246.jpg       \n",
            "  inflating: digitos/6/247.jpg       \n",
            "  inflating: digitos/6/248.jpg       \n",
            "  inflating: digitos/6/249.jpg       \n",
            "  inflating: digitos/6/25.jpg        \n",
            "  inflating: digitos/6/250.jpg       \n",
            "  inflating: digitos/6/251.jpg       \n",
            "  inflating: digitos/6/252.jpg       \n",
            "  inflating: digitos/6/253.jpg       \n",
            "  inflating: digitos/6/254.jpg       \n",
            "  inflating: digitos/6/255.jpg       \n",
            "  inflating: digitos/6/26.jpg        \n",
            "  inflating: digitos/6/27.jpg        \n",
            "  inflating: digitos/6/28.jpg        \n",
            "  inflating: digitos/6/29.jpg        \n",
            "  inflating: digitos/6/3.jpg         \n",
            "  inflating: digitos/6/30.jpg        \n",
            "  inflating: digitos/6/31.jpg        \n",
            "  inflating: digitos/6/32.jpg        \n",
            "  inflating: digitos/6/33.jpg        \n",
            "  inflating: digitos/6/34.jpg        \n",
            "  inflating: digitos/6/35.jpg        \n",
            "  inflating: digitos/6/36.jpg        \n",
            "  inflating: digitos/6/37.jpg        \n",
            "  inflating: digitos/6/38.jpg        \n",
            "  inflating: digitos/6/39.jpg        \n",
            "  inflating: digitos/6/4.jpg         \n",
            "  inflating: digitos/6/40.jpg        \n",
            "  inflating: digitos/6/41.jpg        \n",
            "  inflating: digitos/6/42.jpg        \n",
            "  inflating: digitos/6/43.jpg        \n",
            "  inflating: digitos/6/44.jpg        \n",
            "  inflating: digitos/6/45.jpg        \n",
            "  inflating: digitos/6/46.jpg        \n",
            "  inflating: digitos/6/47.jpg        \n",
            "  inflating: digitos/6/48.jpg        \n",
            "  inflating: digitos/6/49.jpg        \n",
            "  inflating: digitos/6/5.jpg         \n",
            "  inflating: digitos/6/50.jpg        \n",
            "  inflating: digitos/6/51.jpg        \n",
            "  inflating: digitos/6/52.jpg        \n",
            "  inflating: digitos/6/53.jpg        \n",
            "  inflating: digitos/6/54.jpg        \n",
            "  inflating: digitos/6/55.jpg        \n",
            "  inflating: digitos/6/56.jpg        \n",
            "  inflating: digitos/6/57.jpg        \n",
            "  inflating: digitos/6/58.jpg        \n",
            "  inflating: digitos/6/59.jpg        \n",
            "  inflating: digitos/6/6.jpg         \n",
            "  inflating: digitos/6/60.jpg        \n",
            "  inflating: digitos/6/61.jpg        \n",
            "  inflating: digitos/6/62.jpg        \n",
            "  inflating: digitos/6/63.jpg        \n",
            "  inflating: digitos/6/64.jpg        \n",
            "  inflating: digitos/6/65.jpg        \n",
            "  inflating: digitos/6/66.jpg        \n",
            "  inflating: digitos/6/67.jpg        \n",
            "  inflating: digitos/6/68.jpg        \n",
            "  inflating: digitos/6/69.jpg        \n",
            "  inflating: digitos/6/7.jpg         \n",
            "  inflating: digitos/6/70.jpg        \n",
            "  inflating: digitos/6/71.jpg        \n",
            "  inflating: digitos/6/72.jpg        \n",
            "  inflating: digitos/6/73.jpg        \n",
            "  inflating: digitos/6/74.jpg        \n",
            "  inflating: digitos/6/75.jpg        \n",
            "  inflating: digitos/6/76.jpg        \n",
            "  inflating: digitos/6/77.jpg        \n",
            "  inflating: digitos/6/78.jpg        \n",
            "  inflating: digitos/6/79.jpg        \n",
            "  inflating: digitos/6/8.jpg         \n",
            "  inflating: digitos/6/80.jpg        \n",
            "  inflating: digitos/6/81.jpg        \n",
            "  inflating: digitos/6/82.jpg        \n",
            "  inflating: digitos/6/83.jpg        \n",
            "  inflating: digitos/6/84.jpg        \n",
            "  inflating: digitos/6/85.jpg        \n",
            "  inflating: digitos/6/86.jpg        \n",
            "  inflating: digitos/6/87.jpg        \n",
            "  inflating: digitos/6/88.jpg        \n",
            "  inflating: digitos/6/89.jpg        \n",
            "  inflating: digitos/6/9.jpg         \n",
            "  inflating: digitos/6/90.jpg        \n",
            "  inflating: digitos/6/91.jpg        \n",
            "  inflating: digitos/6/92.jpg        \n",
            "  inflating: digitos/6/93.jpg        \n",
            "  inflating: digitos/6/94.jpg        \n",
            "  inflating: digitos/6/95.jpg        \n",
            "  inflating: digitos/6/96.jpg        \n",
            "  inflating: digitos/6/97.jpg        \n",
            "  inflating: digitos/6/98.jpg        \n",
            "  inflating: digitos/6/99.jpg        \n",
            "   creating: digitos/7/\n",
            "  inflating: digitos/7/0.jpg         \n",
            "  inflating: digitos/7/1.jpg         \n",
            "  inflating: digitos/7/10.jpg        \n",
            "  inflating: digitos/7/100.jpg       \n",
            "  inflating: digitos/7/101.jpg       \n",
            "  inflating: digitos/7/102.jpg       \n",
            "  inflating: digitos/7/103.jpg       \n",
            "  inflating: digitos/7/104.jpg       \n",
            "  inflating: digitos/7/105.jpg       \n",
            "  inflating: digitos/7/106.jpg       \n",
            "  inflating: digitos/7/107.jpg       \n",
            "  inflating: digitos/7/108.jpg       \n",
            "  inflating: digitos/7/109.jpg       \n",
            "  inflating: digitos/7/11.jpg        \n",
            "  inflating: digitos/7/110.jpg       \n",
            "  inflating: digitos/7/111.jpg       \n",
            "  inflating: digitos/7/112.jpg       \n",
            "  inflating: digitos/7/113.jpg       \n",
            "  inflating: digitos/7/114.jpg       \n",
            "  inflating: digitos/7/115.jpg       \n",
            "  inflating: digitos/7/116.jpg       \n",
            "  inflating: digitos/7/117.jpg       \n",
            "  inflating: digitos/7/118.jpg       \n",
            "  inflating: digitos/7/119.jpg       \n",
            "  inflating: digitos/7/12.jpg        \n",
            "  inflating: digitos/7/120.jpg       \n",
            "  inflating: digitos/7/121.jpg       \n",
            "  inflating: digitos/7/122.jpg       \n",
            "  inflating: digitos/7/123.jpg       \n",
            "  inflating: digitos/7/124.jpg       \n",
            "  inflating: digitos/7/125.jpg       \n",
            "  inflating: digitos/7/126.jpg       \n",
            "  inflating: digitos/7/127.jpg       \n",
            "  inflating: digitos/7/128.jpg       \n",
            "  inflating: digitos/7/129.jpg       \n",
            "  inflating: digitos/7/13.jpg        \n",
            "  inflating: digitos/7/130.jpg       \n",
            "  inflating: digitos/7/131.jpg       \n",
            "  inflating: digitos/7/132.jpg       \n",
            "  inflating: digitos/7/133.jpg       \n",
            "  inflating: digitos/7/134.jpg       \n",
            "  inflating: digitos/7/135.jpg       \n",
            "  inflating: digitos/7/136.jpg       \n",
            "  inflating: digitos/7/137.jpg       \n",
            "  inflating: digitos/7/138.jpg       \n",
            "  inflating: digitos/7/139.jpg       \n",
            "  inflating: digitos/7/14.jpg        \n",
            "  inflating: digitos/7/140.jpg       \n",
            "  inflating: digitos/7/141.jpg       \n",
            "  inflating: digitos/7/142.jpg       \n",
            "  inflating: digitos/7/143.jpg       \n",
            "  inflating: digitos/7/144.jpg       \n",
            "  inflating: digitos/7/145.jpg       \n",
            "  inflating: digitos/7/146.jpg       \n",
            "  inflating: digitos/7/147.jpg       \n",
            "  inflating: digitos/7/148.jpg       \n",
            "  inflating: digitos/7/149.jpg       \n",
            "  inflating: digitos/7/15.jpg        \n",
            "  inflating: digitos/7/150.jpg       \n",
            "  inflating: digitos/7/151.jpg       \n",
            "  inflating: digitos/7/152.jpg       \n",
            "  inflating: digitos/7/153.jpg       \n",
            "  inflating: digitos/7/154.jpg       \n",
            "  inflating: digitos/7/155.jpg       \n",
            "  inflating: digitos/7/156.jpg       \n",
            "  inflating: digitos/7/157.jpg       \n",
            "  inflating: digitos/7/158.jpg       \n",
            "  inflating: digitos/7/159.jpg       \n",
            "  inflating: digitos/7/16.jpg        \n",
            "  inflating: digitos/7/160.jpg       \n",
            "  inflating: digitos/7/161.jpg       \n",
            "  inflating: digitos/7/162.jpg       \n",
            "  inflating: digitos/7/163.jpg       \n",
            "  inflating: digitos/7/164.jpg       \n",
            "  inflating: digitos/7/165.jpg       \n",
            "  inflating: digitos/7/166.jpg       \n",
            "  inflating: digitos/7/167.jpg       \n",
            "  inflating: digitos/7/168.jpg       \n",
            "  inflating: digitos/7/169.jpg       \n",
            "  inflating: digitos/7/17.jpg        \n",
            "  inflating: digitos/7/170.jpg       \n",
            "  inflating: digitos/7/171.jpg       \n",
            "  inflating: digitos/7/172.jpg       \n",
            "  inflating: digitos/7/173.jpg       \n",
            "  inflating: digitos/7/174.jpg       \n",
            "  inflating: digitos/7/175.jpg       \n",
            "  inflating: digitos/7/176.jpg       \n",
            "  inflating: digitos/7/177.jpg       \n",
            "  inflating: digitos/7/178.jpg       \n",
            "  inflating: digitos/7/179.jpg       \n",
            "  inflating: digitos/7/18.jpg        \n",
            "  inflating: digitos/7/180.jpg       \n",
            "  inflating: digitos/7/181.jpg       \n",
            "  inflating: digitos/7/182.jpg       \n",
            "  inflating: digitos/7/183.jpg       \n",
            "  inflating: digitos/7/184.jpg       \n",
            "  inflating: digitos/7/185.jpg       \n",
            "  inflating: digitos/7/186.jpg       \n",
            "  inflating: digitos/7/187.jpg       \n",
            "  inflating: digitos/7/188.jpg       \n",
            "  inflating: digitos/7/189.jpg       \n",
            "  inflating: digitos/7/19.jpg        \n",
            "  inflating: digitos/7/190.jpg       \n",
            "  inflating: digitos/7/191.jpg       \n",
            "  inflating: digitos/7/192.jpg       \n",
            "  inflating: digitos/7/193.jpg       \n",
            "  inflating: digitos/7/194.jpg       \n",
            "  inflating: digitos/7/195.jpg       \n",
            "  inflating: digitos/7/196.jpg       \n",
            "  inflating: digitos/7/197.jpg       \n",
            "  inflating: digitos/7/198.jpg       \n",
            "  inflating: digitos/7/199.jpg       \n",
            "  inflating: digitos/7/2.jpg         \n",
            "  inflating: digitos/7/20.jpg        \n",
            "  inflating: digitos/7/200.jpg       \n",
            "  inflating: digitos/7/201.jpg       \n",
            "  inflating: digitos/7/202.jpg       \n",
            "  inflating: digitos/7/203.jpg       \n",
            "  inflating: digitos/7/204.jpg       \n",
            "  inflating: digitos/7/205.jpg       \n",
            "  inflating: digitos/7/206.jpg       \n",
            "  inflating: digitos/7/207.jpg       \n",
            "  inflating: digitos/7/208.jpg       \n",
            "  inflating: digitos/7/209.jpg       \n",
            "  inflating: digitos/7/21.jpg        \n",
            "  inflating: digitos/7/210.jpg       \n",
            "  inflating: digitos/7/211.jpg       \n",
            "  inflating: digitos/7/212.jpg       \n",
            "  inflating: digitos/7/213.jpg       \n",
            "  inflating: digitos/7/214.jpg       \n",
            "  inflating: digitos/7/215.jpg       \n",
            "  inflating: digitos/7/216.jpg       \n",
            "  inflating: digitos/7/217.jpg       \n",
            "  inflating: digitos/7/218.jpg       \n",
            "  inflating: digitos/7/219.jpg       \n",
            "  inflating: digitos/7/22.jpg        \n",
            "  inflating: digitos/7/220.jpg       \n",
            "  inflating: digitos/7/221.jpg       \n",
            "  inflating: digitos/7/222.jpg       \n",
            "  inflating: digitos/7/223.jpg       \n",
            "  inflating: digitos/7/224.jpg       \n",
            "  inflating: digitos/7/225.jpg       \n",
            "  inflating: digitos/7/226.jpg       \n",
            "  inflating: digitos/7/227.jpg       \n",
            "  inflating: digitos/7/228.jpg       \n",
            "  inflating: digitos/7/229.jpg       \n",
            "  inflating: digitos/7/23.jpg        \n",
            "  inflating: digitos/7/230.jpg       \n",
            "  inflating: digitos/7/231.jpg       \n",
            "  inflating: digitos/7/232.jpg       \n",
            "  inflating: digitos/7/233.jpg       \n",
            "  inflating: digitos/7/234.jpg       \n",
            "  inflating: digitos/7/235.jpg       \n",
            "  inflating: digitos/7/236.jpg       \n",
            "  inflating: digitos/7/237.jpg       \n",
            "  inflating: digitos/7/238.jpg       \n",
            "  inflating: digitos/7/239.jpg       \n",
            "  inflating: digitos/7/24.jpg        \n",
            "  inflating: digitos/7/240.jpg       \n",
            "  inflating: digitos/7/241.jpg       \n",
            "  inflating: digitos/7/242.jpg       \n",
            "  inflating: digitos/7/243.jpg       \n",
            "  inflating: digitos/7/244.jpg       \n",
            "  inflating: digitos/7/245.jpg       \n",
            "  inflating: digitos/7/246.jpg       \n",
            "  inflating: digitos/7/247.jpg       \n",
            "  inflating: digitos/7/248.jpg       \n",
            "  inflating: digitos/7/249.jpg       \n",
            "  inflating: digitos/7/25.jpg        \n",
            "  inflating: digitos/7/250.jpg       \n",
            "  inflating: digitos/7/251.jpg       \n",
            "  inflating: digitos/7/252.jpg       \n",
            "  inflating: digitos/7/253.jpg       \n",
            "  inflating: digitos/7/254.jpg       \n",
            "  inflating: digitos/7/255.jpg       \n",
            "  inflating: digitos/7/26.jpg        \n",
            "  inflating: digitos/7/27.jpg        \n",
            "  inflating: digitos/7/28.jpg        \n",
            "  inflating: digitos/7/29.jpg        \n",
            "  inflating: digitos/7/3.jpg         \n",
            "  inflating: digitos/7/30.jpg        \n",
            "  inflating: digitos/7/31.jpg        \n",
            "  inflating: digitos/7/32.jpg        \n",
            "  inflating: digitos/7/33.jpg        \n",
            "  inflating: digitos/7/34.jpg        \n",
            "  inflating: digitos/7/35.jpg        \n",
            "  inflating: digitos/7/36.jpg        \n",
            "  inflating: digitos/7/37.jpg        \n",
            "  inflating: digitos/7/38.jpg        \n",
            "  inflating: digitos/7/39.jpg        \n",
            "  inflating: digitos/7/4.jpg         \n",
            "  inflating: digitos/7/40.jpg        \n",
            "  inflating: digitos/7/41.jpg        \n",
            "  inflating: digitos/7/42.jpg        \n",
            "  inflating: digitos/7/43.jpg        \n",
            "  inflating: digitos/7/44.jpg        \n",
            "  inflating: digitos/7/45.jpg        \n",
            "  inflating: digitos/7/46.jpg        \n",
            "  inflating: digitos/7/47.jpg        \n",
            "  inflating: digitos/7/48.jpg        \n",
            "  inflating: digitos/7/49.jpg        \n",
            "  inflating: digitos/7/5.jpg         \n",
            "  inflating: digitos/7/50.jpg        \n",
            "  inflating: digitos/7/51.jpg        \n",
            "  inflating: digitos/7/52.jpg        \n",
            "  inflating: digitos/7/53.jpg        \n",
            "  inflating: digitos/7/54.jpg        \n",
            "  inflating: digitos/7/55.jpg        \n",
            "  inflating: digitos/7/56.jpg        \n",
            "  inflating: digitos/7/57.jpg        \n",
            "  inflating: digitos/7/58.jpg        \n",
            "  inflating: digitos/7/59.jpg        \n",
            "  inflating: digitos/7/6.jpg         \n",
            "  inflating: digitos/7/60.jpg        \n",
            "  inflating: digitos/7/61.jpg        \n",
            "  inflating: digitos/7/62.jpg        \n",
            "  inflating: digitos/7/63.jpg        \n",
            "  inflating: digitos/7/64.jpg        \n",
            "  inflating: digitos/7/65.jpg        \n",
            "  inflating: digitos/7/66.jpg        \n",
            "  inflating: digitos/7/67.jpg        \n",
            "  inflating: digitos/7/68.jpg        \n",
            "  inflating: digitos/7/69.jpg        \n",
            "  inflating: digitos/7/7.jpg         \n",
            "  inflating: digitos/7/70.jpg        \n",
            "  inflating: digitos/7/71.jpg        \n",
            "  inflating: digitos/7/72.jpg        \n",
            "  inflating: digitos/7/73.jpg        \n",
            "  inflating: digitos/7/74.jpg        \n",
            "  inflating: digitos/7/75.jpg        \n",
            "  inflating: digitos/7/76.jpg        \n",
            "  inflating: digitos/7/77.jpg        \n",
            "  inflating: digitos/7/78.jpg        \n",
            "  inflating: digitos/7/79.jpg        \n",
            "  inflating: digitos/7/8.jpg         \n",
            "  inflating: digitos/7/80.jpg        \n",
            "  inflating: digitos/7/81.jpg        \n",
            "  inflating: digitos/7/82.jpg        \n",
            "  inflating: digitos/7/83.jpg        \n",
            "  inflating: digitos/7/84.jpg        \n",
            "  inflating: digitos/7/85.jpg        \n",
            "  inflating: digitos/7/86.jpg        \n",
            "  inflating: digitos/7/87.jpg        \n",
            "  inflating: digitos/7/88.jpg        \n",
            "  inflating: digitos/7/89.jpg        \n",
            "  inflating: digitos/7/9.jpg         \n",
            "  inflating: digitos/7/90.jpg        \n",
            "  inflating: digitos/7/91.jpg        \n",
            "  inflating: digitos/7/92.jpg        \n",
            "  inflating: digitos/7/93.jpg        \n",
            "  inflating: digitos/7/94.jpg        \n",
            "  inflating: digitos/7/95.jpg        \n",
            "  inflating: digitos/7/96.jpg        \n",
            "  inflating: digitos/7/97.jpg        \n",
            "  inflating: digitos/7/98.jpg        \n",
            "  inflating: digitos/7/99.jpg        \n",
            "   creating: digitos/8/\n",
            "  inflating: digitos/8/0.jpg         \n",
            "  inflating: digitos/8/1.jpg         \n",
            "  inflating: digitos/8/10.jpg        \n",
            "  inflating: digitos/8/100.jpg       \n",
            "  inflating: digitos/8/101.jpg       \n",
            "  inflating: digitos/8/102.jpg       \n",
            "  inflating: digitos/8/103.jpg       \n",
            "  inflating: digitos/8/104.jpg       \n",
            "  inflating: digitos/8/105.jpg       \n",
            "  inflating: digitos/8/106.jpg       \n",
            "  inflating: digitos/8/107.jpg       \n",
            "  inflating: digitos/8/108.jpg       \n",
            "  inflating: digitos/8/109.jpg       \n",
            "  inflating: digitos/8/11.jpg        \n",
            "  inflating: digitos/8/110.jpg       \n",
            "  inflating: digitos/8/111.jpg       \n",
            "  inflating: digitos/8/112.jpg       \n",
            "  inflating: digitos/8/113.jpg       \n",
            "  inflating: digitos/8/114.jpg       \n",
            "  inflating: digitos/8/115.jpg       \n",
            "  inflating: digitos/8/116.jpg       \n",
            "  inflating: digitos/8/117.jpg       \n",
            "  inflating: digitos/8/118.jpg       \n",
            "  inflating: digitos/8/119.jpg       \n",
            "  inflating: digitos/8/12.jpg        \n",
            "  inflating: digitos/8/120.jpg       \n",
            "  inflating: digitos/8/121.jpg       \n",
            "  inflating: digitos/8/122.jpg       \n",
            "  inflating: digitos/8/123.jpg       \n",
            "  inflating: digitos/8/124.jpg       \n",
            "  inflating: digitos/8/125.jpg       \n",
            "  inflating: digitos/8/126.jpg       \n",
            "  inflating: digitos/8/127.jpg       \n",
            "  inflating: digitos/8/128.jpg       \n",
            "  inflating: digitos/8/129.jpg       \n",
            "  inflating: digitos/8/13.jpg        \n",
            "  inflating: digitos/8/130.jpg       \n",
            "  inflating: digitos/8/131.jpg       \n",
            "  inflating: digitos/8/132.jpg       \n",
            "  inflating: digitos/8/133.jpg       \n",
            "  inflating: digitos/8/134.jpg       \n",
            "  inflating: digitos/8/135.jpg       \n",
            "  inflating: digitos/8/136.jpg       \n",
            "  inflating: digitos/8/137.jpg       \n",
            "  inflating: digitos/8/138.jpg       \n",
            "  inflating: digitos/8/139.jpg       \n",
            "  inflating: digitos/8/14.jpg        \n",
            "  inflating: digitos/8/140.jpg       \n",
            "  inflating: digitos/8/141.jpg       \n",
            "  inflating: digitos/8/142.jpg       \n",
            "  inflating: digitos/8/143.jpg       \n",
            "  inflating: digitos/8/144.jpg       \n",
            "  inflating: digitos/8/145.jpg       \n",
            "  inflating: digitos/8/146.jpg       \n",
            "  inflating: digitos/8/147.jpg       \n",
            "  inflating: digitos/8/148.jpg       \n",
            "  inflating: digitos/8/149.jpg       \n",
            "  inflating: digitos/8/15.jpg        \n",
            "  inflating: digitos/8/150.jpg       \n",
            "  inflating: digitos/8/151.jpg       \n",
            "  inflating: digitos/8/152.jpg       \n",
            "  inflating: digitos/8/153.jpg       \n",
            "  inflating: digitos/8/154.jpg       \n",
            "  inflating: digitos/8/155.jpg       \n",
            "  inflating: digitos/8/156.jpg       \n",
            "  inflating: digitos/8/157.jpg       \n",
            "  inflating: digitos/8/158.jpg       \n",
            "  inflating: digitos/8/159.jpg       \n",
            "  inflating: digitos/8/16.jpg        \n",
            "  inflating: digitos/8/160.jpg       \n",
            "  inflating: digitos/8/161.jpg       \n",
            "  inflating: digitos/8/162.jpg       \n",
            "  inflating: digitos/8/163.jpg       \n",
            "  inflating: digitos/8/164.jpg       \n",
            "  inflating: digitos/8/165.jpg       \n",
            "  inflating: digitos/8/166.jpg       \n",
            "  inflating: digitos/8/167.jpg       \n",
            "  inflating: digitos/8/168.jpg       \n",
            "  inflating: digitos/8/169.jpg       \n",
            "  inflating: digitos/8/17.jpg        \n",
            "  inflating: digitos/8/170.jpg       \n",
            "  inflating: digitos/8/171.jpg       \n",
            "  inflating: digitos/8/172.jpg       \n",
            "  inflating: digitos/8/173.jpg       \n",
            "  inflating: digitos/8/174.jpg       \n",
            "  inflating: digitos/8/175.jpg       \n",
            "  inflating: digitos/8/176.jpg       \n",
            "  inflating: digitos/8/177.jpg       \n",
            "  inflating: digitos/8/178.jpg       \n",
            "  inflating: digitos/8/179.jpg       \n",
            "  inflating: digitos/8/18.jpg        \n",
            "  inflating: digitos/8/180.jpg       \n",
            "  inflating: digitos/8/181.jpg       \n",
            "  inflating: digitos/8/182.jpg       \n",
            "  inflating: digitos/8/183.jpg       \n",
            "  inflating: digitos/8/184.jpg       \n",
            "  inflating: digitos/8/185.jpg       \n",
            "  inflating: digitos/8/186.jpg       \n",
            "  inflating: digitos/8/187.jpg       \n",
            "  inflating: digitos/8/188.jpg       \n",
            "  inflating: digitos/8/189.jpg       \n",
            "  inflating: digitos/8/19.jpg        \n",
            "  inflating: digitos/8/190.jpg       \n",
            "  inflating: digitos/8/191.jpg       \n",
            "  inflating: digitos/8/192.jpg       \n",
            "  inflating: digitos/8/193.jpg       \n",
            "  inflating: digitos/8/194.jpg       \n",
            "  inflating: digitos/8/195.jpg       \n",
            "  inflating: digitos/8/196.jpg       \n",
            "  inflating: digitos/8/197.jpg       \n",
            "  inflating: digitos/8/198.jpg       \n",
            "  inflating: digitos/8/199.jpg       \n",
            "  inflating: digitos/8/2.jpg         \n",
            "  inflating: digitos/8/20.jpg        \n",
            "  inflating: digitos/8/200.jpg       \n",
            "  inflating: digitos/8/201.jpg       \n",
            "  inflating: digitos/8/202.jpg       \n",
            "  inflating: digitos/8/203.jpg       \n",
            "  inflating: digitos/8/204.jpg       \n",
            "  inflating: digitos/8/205.jpg       \n",
            "  inflating: digitos/8/206.jpg       \n",
            "  inflating: digitos/8/207.jpg       \n",
            "  inflating: digitos/8/208.jpg       \n",
            "  inflating: digitos/8/209.jpg       \n",
            "  inflating: digitos/8/21.jpg        \n",
            "  inflating: digitos/8/210.jpg       \n",
            "  inflating: digitos/8/211.jpg       \n",
            "  inflating: digitos/8/212.jpg       \n",
            "  inflating: digitos/8/213.jpg       \n",
            "  inflating: digitos/8/214.jpg       \n",
            "  inflating: digitos/8/215.jpg       \n",
            "  inflating: digitos/8/216.jpg       \n",
            "  inflating: digitos/8/217.jpg       \n",
            "  inflating: digitos/8/218.jpg       \n",
            "  inflating: digitos/8/219.jpg       \n",
            "  inflating: digitos/8/22.jpg        \n",
            "  inflating: digitos/8/220.jpg       \n",
            "  inflating: digitos/8/221.jpg       \n",
            "  inflating: digitos/8/222.jpg       \n",
            "  inflating: digitos/8/223.jpg       \n",
            "  inflating: digitos/8/224.jpg       \n",
            "  inflating: digitos/8/225.jpg       \n",
            "  inflating: digitos/8/226.jpg       \n",
            "  inflating: digitos/8/227.jpg       \n",
            "  inflating: digitos/8/228.jpg       \n",
            "  inflating: digitos/8/229.jpg       \n",
            "  inflating: digitos/8/23.jpg        \n",
            "  inflating: digitos/8/230.jpg       \n",
            "  inflating: digitos/8/231.jpg       \n",
            "  inflating: digitos/8/232.jpg       \n",
            "  inflating: digitos/8/233.jpg       \n",
            "  inflating: digitos/8/234.jpg       \n",
            "  inflating: digitos/8/235.jpg       \n",
            "  inflating: digitos/8/236.jpg       \n",
            "  inflating: digitos/8/237.jpg       \n",
            "  inflating: digitos/8/238.jpg       \n",
            "  inflating: digitos/8/239.jpg       \n",
            "  inflating: digitos/8/24.jpg        \n",
            "  inflating: digitos/8/240.jpg       \n",
            "  inflating: digitos/8/241.jpg       \n",
            "  inflating: digitos/8/242.jpg       \n",
            "  inflating: digitos/8/243.jpg       \n",
            "  inflating: digitos/8/244.jpg       \n",
            "  inflating: digitos/8/245.jpg       \n",
            "  inflating: digitos/8/246.jpg       \n",
            "  inflating: digitos/8/247.jpg       \n",
            "  inflating: digitos/8/248.jpg       \n",
            "  inflating: digitos/8/249.jpg       \n",
            "  inflating: digitos/8/25.jpg        \n",
            "  inflating: digitos/8/250.jpg       \n",
            "  inflating: digitos/8/251.jpg       \n",
            "  inflating: digitos/8/252.jpg       \n",
            "  inflating: digitos/8/253.jpg       \n",
            "  inflating: digitos/8/254.jpg       \n",
            "  inflating: digitos/8/255.jpg       \n",
            "  inflating: digitos/8/26.jpg        \n",
            "  inflating: digitos/8/27.jpg        \n",
            "  inflating: digitos/8/28.jpg        \n",
            "  inflating: digitos/8/29.jpg        \n",
            "  inflating: digitos/8/3.jpg         \n",
            "  inflating: digitos/8/30.jpg        \n",
            "  inflating: digitos/8/31.jpg        \n",
            "  inflating: digitos/8/32.jpg        \n",
            "  inflating: digitos/8/33.jpg        \n",
            "  inflating: digitos/8/34.jpg        \n",
            "  inflating: digitos/8/35.jpg        \n",
            "  inflating: digitos/8/36.jpg        \n",
            "  inflating: digitos/8/37.jpg        \n",
            "  inflating: digitos/8/38.jpg        \n",
            "  inflating: digitos/8/39.jpg        \n",
            "  inflating: digitos/8/4.jpg         \n",
            "  inflating: digitos/8/40.jpg        \n",
            "  inflating: digitos/8/41.jpg        \n",
            "  inflating: digitos/8/42.jpg        \n",
            "  inflating: digitos/8/43.jpg        \n",
            "  inflating: digitos/8/44.jpg        \n",
            "  inflating: digitos/8/45.jpg        \n",
            "  inflating: digitos/8/46.jpg        \n",
            "  inflating: digitos/8/47.jpg        \n",
            "  inflating: digitos/8/48.jpg        \n",
            "  inflating: digitos/8/49.jpg        \n",
            "  inflating: digitos/8/5.jpg         \n",
            "  inflating: digitos/8/50.jpg        \n",
            "  inflating: digitos/8/51.jpg        \n",
            "  inflating: digitos/8/52.jpg        \n",
            "  inflating: digitos/8/53.jpg        \n",
            "  inflating: digitos/8/54.jpg        \n",
            "  inflating: digitos/8/55.jpg        \n",
            "  inflating: digitos/8/56.jpg        \n",
            "  inflating: digitos/8/57.jpg        \n",
            "  inflating: digitos/8/58.jpg        \n",
            "  inflating: digitos/8/59.jpg        \n",
            "  inflating: digitos/8/6.jpg         \n",
            "  inflating: digitos/8/60.jpg        \n",
            "  inflating: digitos/8/61.jpg        \n",
            "  inflating: digitos/8/62.jpg        \n",
            "  inflating: digitos/8/63.jpg        \n",
            "  inflating: digitos/8/64.jpg        \n",
            "  inflating: digitos/8/65.jpg        \n",
            "  inflating: digitos/8/66.jpg        \n",
            "  inflating: digitos/8/67.jpg        \n",
            "  inflating: digitos/8/68.jpg        \n",
            "  inflating: digitos/8/69.jpg        \n",
            "  inflating: digitos/8/7.jpg         \n",
            "  inflating: digitos/8/70.jpg        \n",
            "  inflating: digitos/8/71.jpg        \n",
            "  inflating: digitos/8/72.jpg        \n",
            "  inflating: digitos/8/73.jpg        \n",
            "  inflating: digitos/8/74.jpg        \n",
            "  inflating: digitos/8/75.jpg        \n",
            "  inflating: digitos/8/76.jpg        \n",
            "  inflating: digitos/8/77.jpg        \n",
            "  inflating: digitos/8/78.jpg        \n",
            "  inflating: digitos/8/79.jpg        \n",
            "  inflating: digitos/8/8.jpg         \n",
            "  inflating: digitos/8/80.jpg        \n",
            "  inflating: digitos/8/81.jpg        \n",
            "  inflating: digitos/8/82.jpg        \n",
            "  inflating: digitos/8/83.jpg        \n",
            "  inflating: digitos/8/84.jpg        \n",
            "  inflating: digitos/8/85.jpg        \n",
            "  inflating: digitos/8/86.jpg        \n",
            "  inflating: digitos/8/87.jpg        \n",
            "  inflating: digitos/8/88.jpg        \n",
            "  inflating: digitos/8/89.jpg        \n",
            "  inflating: digitos/8/9.jpg         \n",
            "  inflating: digitos/8/90.jpg        \n",
            "  inflating: digitos/8/91.jpg        \n",
            "  inflating: digitos/8/92.jpg        \n",
            "  inflating: digitos/8/93.jpg        \n",
            "  inflating: digitos/8/94.jpg        \n",
            "  inflating: digitos/8/95.jpg        \n",
            "  inflating: digitos/8/96.jpg        \n",
            "  inflating: digitos/8/97.jpg        \n",
            "  inflating: digitos/8/98.jpg        \n",
            "  inflating: digitos/8/99.jpg        \n",
            "   creating: digitos/9/\n",
            "  inflating: digitos/9/0.jpg         \n",
            "  inflating: digitos/9/1.jpg         \n",
            "  inflating: digitos/9/10.jpg        \n",
            "  inflating: digitos/9/100.jpg       \n",
            "  inflating: digitos/9/101.jpg       \n",
            "  inflating: digitos/9/102.jpg       \n",
            "  inflating: digitos/9/103.jpg       \n",
            "  inflating: digitos/9/104.jpg       \n",
            "  inflating: digitos/9/105.jpg       \n",
            "  inflating: digitos/9/106.jpg       \n",
            "  inflating: digitos/9/107.jpg       \n",
            "  inflating: digitos/9/108.jpg       \n",
            "  inflating: digitos/9/109.jpg       \n",
            "  inflating: digitos/9/11.jpg        \n",
            "  inflating: digitos/9/110.jpg       \n",
            "  inflating: digitos/9/111.jpg       \n",
            "  inflating: digitos/9/112.jpg       \n",
            "  inflating: digitos/9/113.jpg       \n",
            "  inflating: digitos/9/114.jpg       \n",
            "  inflating: digitos/9/115.jpg       \n",
            "  inflating: digitos/9/116.jpg       \n",
            "  inflating: digitos/9/117.jpg       \n",
            "  inflating: digitos/9/118.jpg       \n",
            "  inflating: digitos/9/119.jpg       \n",
            "  inflating: digitos/9/12.jpg        \n",
            "  inflating: digitos/9/120.jpg       \n",
            "  inflating: digitos/9/121.jpg       \n",
            "  inflating: digitos/9/122.jpg       \n",
            "  inflating: digitos/9/123.jpg       \n",
            "  inflating: digitos/9/124.jpg       \n",
            "  inflating: digitos/9/125.jpg       \n",
            "  inflating: digitos/9/126.jpg       \n",
            "  inflating: digitos/9/127.jpg       \n",
            "  inflating: digitos/9/128.jpg       \n",
            "  inflating: digitos/9/129.jpg       \n",
            "  inflating: digitos/9/13.jpg        \n",
            "  inflating: digitos/9/130.jpg       \n",
            "  inflating: digitos/9/131.jpg       \n",
            "  inflating: digitos/9/132.jpg       \n",
            "  inflating: digitos/9/133.jpg       \n",
            "  inflating: digitos/9/134.jpg       \n",
            "  inflating: digitos/9/135.jpg       \n",
            "  inflating: digitos/9/136.jpg       \n",
            "  inflating: digitos/9/137.jpg       \n",
            "  inflating: digitos/9/138.jpg       \n",
            "  inflating: digitos/9/139.jpg       \n",
            "  inflating: digitos/9/14.jpg        \n",
            "  inflating: digitos/9/140.jpg       \n",
            "  inflating: digitos/9/141.jpg       \n",
            "  inflating: digitos/9/142.jpg       \n",
            "  inflating: digitos/9/143.jpg       \n",
            "  inflating: digitos/9/144.jpg       \n",
            "  inflating: digitos/9/145.jpg       \n",
            "  inflating: digitos/9/146.jpg       \n",
            "  inflating: digitos/9/147.jpg       \n",
            "  inflating: digitos/9/148.jpg       \n",
            "  inflating: digitos/9/149.jpg       \n",
            "  inflating: digitos/9/15.jpg        \n",
            "  inflating: digitos/9/150.jpg       \n",
            "  inflating: digitos/9/151.jpg       \n",
            "  inflating: digitos/9/152.jpg       \n",
            "  inflating: digitos/9/153.jpg       \n",
            "  inflating: digitos/9/154.jpg       \n",
            "  inflating: digitos/9/155.jpg       \n",
            "  inflating: digitos/9/156.jpg       \n",
            "  inflating: digitos/9/157.jpg       \n",
            "  inflating: digitos/9/158.jpg       \n",
            "  inflating: digitos/9/159.jpg       \n",
            "  inflating: digitos/9/16.jpg        \n",
            "  inflating: digitos/9/160.jpg       \n",
            "  inflating: digitos/9/161.jpg       \n",
            "  inflating: digitos/9/162.jpg       \n",
            "  inflating: digitos/9/163.jpg       \n",
            "  inflating: digitos/9/164.jpg       \n",
            "  inflating: digitos/9/165.jpg       \n",
            "  inflating: digitos/9/166.jpg       \n",
            "  inflating: digitos/9/167.jpg       \n",
            "  inflating: digitos/9/168.jpg       \n",
            "  inflating: digitos/9/169.jpg       \n",
            "  inflating: digitos/9/17.jpg        \n",
            "  inflating: digitos/9/170.jpg       \n",
            "  inflating: digitos/9/171.jpg       \n",
            "  inflating: digitos/9/172.jpg       \n",
            "  inflating: digitos/9/173.jpg       \n",
            "  inflating: digitos/9/174.jpg       \n",
            "  inflating: digitos/9/175.jpg       \n",
            "  inflating: digitos/9/176.jpg       \n",
            "  inflating: digitos/9/177.jpg       \n",
            "  inflating: digitos/9/178.jpg       \n",
            "  inflating: digitos/9/179.jpg       \n",
            "  inflating: digitos/9/18.jpg        \n",
            "  inflating: digitos/9/180.jpg       \n",
            "  inflating: digitos/9/181.jpg       \n",
            "  inflating: digitos/9/182.jpg       \n",
            "  inflating: digitos/9/183.jpg       \n",
            "  inflating: digitos/9/184.jpg       \n",
            "  inflating: digitos/9/185.jpg       \n",
            "  inflating: digitos/9/186.jpg       \n",
            "  inflating: digitos/9/187.jpg       \n",
            "  inflating: digitos/9/188.jpg       \n",
            "  inflating: digitos/9/189.jpg       \n",
            "  inflating: digitos/9/19.jpg        \n",
            "  inflating: digitos/9/190.jpg       \n",
            "  inflating: digitos/9/191.jpg       \n",
            "  inflating: digitos/9/192.jpg       \n",
            "  inflating: digitos/9/193.jpg       \n",
            "  inflating: digitos/9/194.jpg       \n",
            "  inflating: digitos/9/195.jpg       \n",
            "  inflating: digitos/9/196.jpg       \n",
            "  inflating: digitos/9/197.jpg       \n",
            "  inflating: digitos/9/198.jpg       \n",
            "  inflating: digitos/9/199.jpg       \n",
            "  inflating: digitos/9/2.jpg         \n",
            "  inflating: digitos/9/20.jpg        \n",
            "  inflating: digitos/9/200.jpg       \n",
            "  inflating: digitos/9/201.jpg       \n",
            "  inflating: digitos/9/202.jpg       \n",
            "  inflating: digitos/9/203.jpg       \n",
            "  inflating: digitos/9/204.jpg       \n",
            "  inflating: digitos/9/205.jpg       \n",
            "  inflating: digitos/9/206.jpg       \n",
            "  inflating: digitos/9/207.jpg       \n",
            "  inflating: digitos/9/208.jpg       \n",
            "  inflating: digitos/9/209.jpg       \n",
            "  inflating: digitos/9/21.jpg        \n",
            "  inflating: digitos/9/210.jpg       \n",
            "  inflating: digitos/9/211.jpg       \n",
            "  inflating: digitos/9/212.jpg       \n",
            "  inflating: digitos/9/213.jpg       \n",
            "  inflating: digitos/9/214.jpg       \n",
            "  inflating: digitos/9/215.jpg       \n",
            "  inflating: digitos/9/216.jpg       \n",
            "  inflating: digitos/9/217.jpg       \n",
            "  inflating: digitos/9/218.jpg       \n",
            "  inflating: digitos/9/219.jpg       \n",
            "  inflating: digitos/9/22.jpg        \n",
            "  inflating: digitos/9/220.jpg       \n",
            "  inflating: digitos/9/221.jpg       \n",
            "  inflating: digitos/9/222.jpg       \n",
            "  inflating: digitos/9/223.jpg       \n",
            "  inflating: digitos/9/224.jpg       \n",
            "  inflating: digitos/9/225.jpg       \n",
            "  inflating: digitos/9/226.jpg       \n",
            "  inflating: digitos/9/227.jpg       \n",
            "  inflating: digitos/9/228.jpg       \n",
            "  inflating: digitos/9/229.jpg       \n",
            "  inflating: digitos/9/23.jpg        \n",
            "  inflating: digitos/9/230.jpg       \n",
            "  inflating: digitos/9/231.jpg       \n",
            "  inflating: digitos/9/232.jpg       \n",
            "  inflating: digitos/9/233.jpg       \n",
            "  inflating: digitos/9/234.jpg       \n",
            "  inflating: digitos/9/235.jpg       \n",
            "  inflating: digitos/9/236.jpg       \n",
            "  inflating: digitos/9/237.jpg       \n",
            "  inflating: digitos/9/238.jpg       \n",
            "  inflating: digitos/9/239.jpg       \n",
            "  inflating: digitos/9/24.jpg        \n",
            "  inflating: digitos/9/240.jpg       \n",
            "  inflating: digitos/9/241.jpg       \n",
            "  inflating: digitos/9/242.jpg       \n",
            "  inflating: digitos/9/243.jpg       \n",
            "  inflating: digitos/9/244.jpg       \n",
            "  inflating: digitos/9/245.jpg       \n",
            "  inflating: digitos/9/246.jpg       \n",
            "  inflating: digitos/9/247.jpg       \n",
            "  inflating: digitos/9/248.jpg       \n",
            "  inflating: digitos/9/249.jpg       \n",
            "  inflating: digitos/9/25.jpg        \n",
            "  inflating: digitos/9/250.jpg       \n",
            "  inflating: digitos/9/251.jpg       \n",
            "  inflating: digitos/9/252.jpg       \n",
            "  inflating: digitos/9/253.jpg       \n",
            "  inflating: digitos/9/254.jpg       \n",
            "  inflating: digitos/9/255.jpg       \n",
            "  inflating: digitos/9/26.jpg        \n",
            "  inflating: digitos/9/27.jpg        \n",
            "  inflating: digitos/9/28.jpg        \n",
            "  inflating: digitos/9/29.jpg        \n",
            "  inflating: digitos/9/3.jpg         \n",
            "  inflating: digitos/9/30.jpg        \n",
            "  inflating: digitos/9/31.jpg        \n",
            "  inflating: digitos/9/32.jpg        \n",
            "  inflating: digitos/9/33.jpg        \n",
            "  inflating: digitos/9/34.jpg        \n",
            "  inflating: digitos/9/35.jpg        \n",
            "  inflating: digitos/9/36.jpg        \n",
            "  inflating: digitos/9/37.jpg        \n",
            "  inflating: digitos/9/38.jpg        \n",
            "  inflating: digitos/9/39.jpg        \n",
            "  inflating: digitos/9/4.jpg         \n",
            "  inflating: digitos/9/40.jpg        \n",
            "  inflating: digitos/9/41.jpg        \n",
            "  inflating: digitos/9/42.jpg        \n",
            "  inflating: digitos/9/43.jpg        \n",
            "  inflating: digitos/9/44.jpg        \n",
            "  inflating: digitos/9/45.jpg        \n",
            "  inflating: digitos/9/46.jpg        \n",
            "  inflating: digitos/9/47.jpg        \n",
            "  inflating: digitos/9/48.jpg        \n",
            "  inflating: digitos/9/49.jpg        \n",
            "  inflating: digitos/9/5.jpg         \n",
            "  inflating: digitos/9/50.jpg        \n",
            "  inflating: digitos/9/51.jpg        \n",
            "  inflating: digitos/9/52.jpg        \n",
            "  inflating: digitos/9/53.jpg        \n",
            "  inflating: digitos/9/54.jpg        \n",
            "  inflating: digitos/9/55.jpg        \n",
            "  inflating: digitos/9/56.jpg        \n",
            "  inflating: digitos/9/57.jpg        \n",
            "  inflating: digitos/9/58.jpg        \n",
            "  inflating: digitos/9/59.jpg        \n",
            "  inflating: digitos/9/6.jpg         \n",
            "  inflating: digitos/9/60.jpg        \n",
            "  inflating: digitos/9/61.jpg        \n",
            "  inflating: digitos/9/62.jpg        \n",
            "  inflating: digitos/9/63.jpg        \n",
            "  inflating: digitos/9/64.jpg        \n",
            "  inflating: digitos/9/65.jpg        \n",
            "  inflating: digitos/9/66.jpg        \n",
            "  inflating: digitos/9/67.jpg        \n",
            "  inflating: digitos/9/68.jpg        \n",
            "  inflating: digitos/9/69.jpg        \n",
            "  inflating: digitos/9/7.jpg         \n",
            "  inflating: digitos/9/70.jpg        \n",
            "  inflating: digitos/9/71.jpg        \n",
            "  inflating: digitos/9/72.jpg        \n",
            "  inflating: digitos/9/73.jpg        \n",
            "  inflating: digitos/9/74.jpg        \n",
            "  inflating: digitos/9/75.jpg        \n",
            "  inflating: digitos/9/76.jpg        \n",
            "  inflating: digitos/9/77.jpg        \n",
            "  inflating: digitos/9/78.jpg        \n",
            "  inflating: digitos/9/79.jpg        \n",
            "  inflating: digitos/9/8.jpg         \n",
            "  inflating: digitos/9/80.jpg        \n",
            "  inflating: digitos/9/81.jpg        \n",
            "  inflating: digitos/9/82.jpg        \n",
            "  inflating: digitos/9/83.jpg        \n",
            "  inflating: digitos/9/84.jpg        \n",
            "  inflating: digitos/9/85.jpg        \n",
            "  inflating: digitos/9/86.jpg        \n",
            "  inflating: digitos/9/87.jpg        \n",
            "  inflating: digitos/9/88.jpg        \n",
            "  inflating: digitos/9/89.jpg        \n",
            "  inflating: digitos/9/9.jpg         \n",
            "  inflating: digitos/9/90.jpg        \n",
            "  inflating: digitos/9/91.jpg        \n",
            "  inflating: digitos/9/92.jpg        \n",
            "  inflating: digitos/9/93.jpg        \n",
            "  inflating: digitos/9/94.jpg        \n",
            "  inflating: digitos/9/95.jpg        \n",
            "  inflating: digitos/9/96.jpg        \n",
            "  inflating: digitos/9/97.jpg        \n",
            "  inflating: digitos/9/98.jpg        \n",
            "  inflating: digitos/9/99.jpg        \n"
          ],
          "name": "stdout"
        }
      ]
    },
    {
      "cell_type": "code",
      "metadata": {
        "collapsed": true,
        "id": "2EmVDz_6rpSC"
      },
      "source": [
        "dataset = \"digitos/\""
      ],
      "execution_count": 4,
      "outputs": []
    },
    {
      "cell_type": "markdown",
      "metadata": {
        "id": "yYX4NxktrpSI"
      },
      "source": [
        "Para este ejemplo vamos a utilizar como descriptor el RawImage. "
      ]
    },
    {
      "cell_type": "code",
      "metadata": {
        "collapsed": true,
        "id": "ZCsTUdsqrpSK"
      },
      "source": [
        "from p10.Descriptor import *\n",
        "from p10.CargaYDescribe import *\n",
        "\n",
        "descriptor = RawImage()\n",
        "cargaDatos = CargaYDescribe(dataset,descriptor)\n",
        "(datos,etiquetas) = cargaDatos.cargaYdescribe()"
      ],
      "execution_count": 5,
      "outputs": []
    },
    {
      "cell_type": "markdown",
      "metadata": {
        "id": "P7leTQbxrpSO"
      },
      "source": [
        "##### Ejercicio\n",
        "\n",
        "Comprueba que puedes cambiar de descriptor y que todo sigue funcionando correctamente.\n"
      ]
    },
    {
      "cell_type": "code",
      "metadata": {
        "collapsed": true,
        "id": "YbTUCZ8vrpSQ"
      },
      "source": [
        "#descriptor = Projection()\n",
        "#cargaDatos = CargaYDescribe(dataset,descriptor)\n",
        "#(datos,etiquetas) = cargaDatos.cargaYdescribe()"
      ],
      "execution_count": 6,
      "outputs": []
    },
    {
      "cell_type": "markdown",
      "metadata": {
        "id": "sFLReCTStgL5"
      },
      "source": [
        "Funcionaba igual solo que daba peores resultados"
      ]
    },
    {
      "cell_type": "markdown",
      "metadata": {
        "id": "mbsfRgKUrpSU"
      },
      "source": [
        "## 1. Separando el conjunto de entrenamiento y el de test\n",
        "\n",
        "##### Ejercicio\n",
        "\n",
        "Utiliza la función train_test_split, vista en las prácticas de aprendizaje automático, para partir el dataset en la siguiente proporción: 75% entrenamiento, 25% test. Almacena la partición en las variables:\n",
        "`trainData`, `testData`, `trainLabels`, `testLabels`. Utiliza como random_state el valor 84 para así obtener siempre los mismos resultados."
      ]
    },
    {
      "cell_type": "code",
      "metadata": {
        "collapsed": true,
        "id": "CboPOCaurpSW"
      },
      "source": [
        "from sklearn.model_selection import train_test_split\n",
        "(trainData, testData, trainLabels, testLabels) = train_test_split(datos,etiquetas,test_size=0.25, random_state=84)"
      ],
      "execution_count": 7,
      "outputs": []
    },
    {
      "cell_type": "markdown",
      "metadata": {
        "id": "ZioO9ftcrpSa"
      },
      "source": [
        "## 2. Entrenando el modelo\n",
        "\n",
        "Una vez que hemos partido el banco de imágenes, podemos entrenar distintos modelos como vimos en prácticas anteriores. \n",
        "\n",
        "**Ejercicio** \n",
        "\n",
        "Utiliza KNN y aplica validación cruzada para fijar los hiperparámetros."
      ]
    },
    {
      "cell_type": "code",
      "metadata": {
        "collapsed": true,
        "id": "PWBCi5TYrpSc",
        "colab": {
          "base_uri": "https://localhost:8080/"
        },
        "outputId": "18336a1b-639a-4417-81cd-0ccb3c14913f"
      },
      "source": [
        "from sklearn.neighbors import KNeighborsClassifier\n",
        "from sklearn.model_selection import cross_val_score\n",
        "for k in range(1,26,2):\n",
        "    modelKNN = KNeighborsClassifier(n_neighbors=k)\n",
        "    scores = cross_val_score(modelKNN,trainData,trainLabels,cv=10)\n",
        "    print(\"k=%d, Precisión: %0.2f (+/- %0.2f)\" % (k, scores.mean(), scores.std() * 2))"
      ],
      "execution_count": 8,
      "outputs": [
        {
          "output_type": "stream",
          "text": [
            "k=1, Precisión: 0.91 (+/- 0.03)\n",
            "k=3, Precisión: 0.90 (+/- 0.04)\n",
            "k=5, Precisión: 0.89 (+/- 0.04)\n",
            "k=7, Precisión: 0.89 (+/- 0.04)\n",
            "k=9, Precisión: 0.89 (+/- 0.04)\n",
            "k=11, Precisión: 0.88 (+/- 0.05)\n",
            "k=13, Precisión: 0.87 (+/- 0.04)\n",
            "k=15, Precisión: 0.87 (+/- 0.05)\n",
            "k=17, Precisión: 0.87 (+/- 0.05)\n",
            "k=19, Precisión: 0.87 (+/- 0.04)\n",
            "k=21, Precisión: 0.86 (+/- 0.05)\n",
            "k=23, Precisión: 0.86 (+/- 0.05)\n",
            "k=25, Precisión: 0.86 (+/- 0.04)\n"
          ],
          "name": "stdout"
        }
      ]
    },
    {
      "cell_type": "markdown",
      "metadata": {
        "id": "ZEeT3om5rpSo"
      },
      "source": [
        "**Ejercicio** \n",
        "\n",
        "Una vez hayas encontrado los mejores hiperparámetros almacena y entrena el modelo."
      ]
    },
    {
      "cell_type": "code",
      "metadata": {
        "id": "tkf9PzVYrpSq",
        "colab": {
          "base_uri": "https://localhost:8080/"
        },
        "outputId": "cfe60d58-6587-4ad9-bd6a-64df131a44c4"
      },
      "source": [
        "modelKNN = KNeighborsClassifier(n_neighbors=1)\n",
        "modelKNN.fit(trainData, trainLabels)"
      ],
      "execution_count": 9,
      "outputs": [
        {
          "output_type": "execute_result",
          "data": {
            "text/plain": [
              "KNeighborsClassifier(algorithm='auto', leaf_size=30, metric='minkowski',\n",
              "                     metric_params=None, n_jobs=None, n_neighbors=1, p=2,\n",
              "                     weights='uniform')"
            ]
          },
          "metadata": {
            "tags": []
          },
          "execution_count": 9
        }
      ]
    },
    {
      "cell_type": "markdown",
      "metadata": {
        "id": "JTnB_q0ErpSu"
      },
      "source": [
        "##### Ejercicio\n",
        "\n",
        "Utiliza otro de los algoritmos de clasificación vistos en las prácticas anteriores para crear un nuevo modelo."
      ]
    },
    {
      "cell_type": "code",
      "metadata": {
        "collapsed": true,
        "id": "16Y0X-v2rpSu",
        "colab": {
          "base_uri": "https://localhost:8080/"
        },
        "outputId": "95628918-fc34-418e-dba6-5c400d37e11c"
      },
      "source": [
        "from sklearn.ensemble import RandomForestClassifier\n",
        "for k in [1000]:\n",
        "    forest = RandomForestClassifier(n_estimators=k,random_state=0,n_jobs=-1)\n",
        "    scores = cross_val_score(forest,trainData, trainLabels,cv=10)\n",
        "    print(\"k=%d, Precisión: %0.2f (+/- %0.2f)\" % (k, scores.mean(), scores.std() * 2))"
      ],
      "execution_count": 10,
      "outputs": [
        {
          "output_type": "stream",
          "text": [
            "k=1000, Precisión: 0.92 (+/- 0.04)\n"
          ],
          "name": "stdout"
        }
      ]
    },
    {
      "cell_type": "markdown",
      "metadata": {
        "id": "xzC32yX1Ereh"
      },
      "source": [
        "k=1, Precisión: 0.55 (+/- 0.09)\n",
        "\n",
        "k=11, Precisión: 0.82 (+/- 0.06)\n",
        "\n",
        "k=21, Precisión: 0.87 (+/- 0.05)\n",
        "\n",
        "k=31, Precisión: 0.89 (+/- 0.05)\n",
        "\n",
        "k=41, Precisión: 0.89 (+/- 0.05)\n",
        "\n",
        "k=51, Precisión: 0.89 (+/- 0.04)\n",
        "\n",
        "k=61, Precisión: 0.90 (+/- 0.05)\n",
        "\n",
        "k=71, Precisión: 0.91 (+/- 0.06)\n",
        "\n",
        "k=81, Precisión: 0.91 (+/- 0.05)\n",
        "\n",
        "k=91, Precisión: 0.91 (+/- 0.06)\n",
        "\n",
        "k=101, Precisión: 0.91 (+/- 0.05)\n",
        "\n",
        "k=111, Precisión: 0.91 (+/- 0.05)\n",
        "\n",
        "k=121, Precisión: 0.92 (+/- 0.05)\n",
        "\n",
        "k=131, Precisión: 0.91 (+/- 0.05)\n",
        "\n",
        "k=141, Precisión: 0.92 (+/- 0.05)\n",
        "\n",
        "k=151, Precisión: 0.92 (+/- 0.05)\n",
        "\n",
        "k=161, Precisión: 0.92 (+/- 0.05)\n",
        "\n",
        "k=171, Precisión: 0.92 (+/- 0.05)\n",
        "\n",
        "k=181, Precisión: 0.92 (+/- 0.05)\n",
        "\n",
        "k=191, Precisión: 0.92 (+/- 0.04)\n",
        "\n",
        "k=201, Precisión: 0.92 (+/- 0.05)\n",
        "\n",
        "k=211, Precisión: 0.92 (+/- 0.05)\n",
        "\n",
        "k=221, Precisión: 0.92 (+/- 0.04)\n",
        "\n",
        "k=231, Precisión: 0.92 (+/- 0.04)\n",
        "\n",
        "k=241, Precisión: 0.92 (+/- 0.04)\n",
        "\n",
        "k=251, Precisión: 0.91 (+/- 0.04)\n",
        "\n",
        "k=261, Precisión: 0.92 (+/- 0.05)\n",
        "\n",
        "k=271, Precisión: 0.92 (+/- 0.05)\n",
        "\n",
        "k=281, Precisión: 0.92 (+/- 0.05)\n",
        "\n",
        "k=291, Precisión: 0.92 (+/- 0.05)\n",
        "\n",
        "k=301, Precisión: 0.92 (+/- 0.04)\n",
        "\n",
        "k=311, Precisión: 0.92 (+/- 0.04)\n",
        "\n",
        "k=321, Precisión: 0.92 (+/- 0.04)\n",
        "\n",
        "k=331, Precisión: 0.92 (+/- 0.04)\n",
        "\n",
        "k=341, Precisión: 0.92 (+/- 0.05)\n",
        "\n",
        "k=351, Precisión: 0.92 (+/- 0.04)\n",
        "\n",
        "k=361, Precisión: 0.92 (+/- 0.04)\n",
        "\n",
        "k=371, Precisión: 0.92 (+/- 0.04)\n",
        "\n",
        "k=381, Precisión: 0.92 (+/- 0.04)\n",
        "\n",
        "k=391, Precisión: 0.92 (+/- 0.04)\n",
        "\n",
        "k=401, Precisión: 0.92 (+/- 0.04)\n",
        "\n",
        "k=411, Precisión: 0.92 (+/- 0.04)\n",
        "\n",
        "k=421, Precisión: 0.92 (+/- 0.04)\n",
        "\n",
        "k=431, Precisión: 0.92 (+/- 0.05)\n",
        "\n",
        "k=441, Precisión: 0.92 (+/- 0.04)\n",
        "\n",
        "k=451, Precisión: 0.92 (+/- 0.05)\n",
        "\n",
        "k=461, Precisión: 0.92 (+/- 0.05)\n",
        "\n",
        "k=471, Precisión: 0.92 (+/- 0.05)\n",
        "\n",
        "k=481, Precisión: 0.92 (+/- 0.05)\n",
        "\n",
        "k=491, Precisión: 0.92 (+/- 0.05)\n",
        "\n",
        "k=501, Precisión: 0.92 (+/- 0.04)\n",
        "\n",
        "k=511, Precisión: 0.92 (+/- 0.05)\n",
        "\n",
        "k=521, Precisión: 0.92 (+/- 0.05)\n",
        "\n",
        "k=531, Precisión: 0.92 (+/- 0.05)\n",
        "\n",
        "k=541, Precisión: 0.92 (+/- 0.05)\n",
        "\n",
        "k=551, Precisión: 0.92 (+/- 0.04)\n",
        "\n",
        "k=561, Precisión: 0.92 (+/- 0.05)\n",
        "\n",
        "k=571, Precisión: 0.92 (+/- 0.05)\n",
        "\n",
        "k=581, Precisión: 0.92 (+/- 0.05)\n",
        "\n",
        "k=591, Precisión: 0.92 (+/- 0.05)\n",
        "\n",
        "k=601, Precisión: 0.92 (+/- 0.05)\n",
        "\n",
        "k=611, Precisión: 0.92 (+/- 0.05)\n",
        "\n",
        "k=621, Precisión: 0.92 (+/- 0.05)\n",
        "\n",
        "k=631, Precisión: 0.92 (+/- 0.05)\n",
        "\n",
        "k=641, Precisión: 0.92 (+/- 0.05)\n",
        "\n",
        "k=651, Precisión: 0.92 (+/- 0.05)\n",
        "\n",
        "k=661, Precisión: 0.92 (+/- 0.05)\n",
        "\n",
        "k=671, Precisión: 0.92 (+/- 0.05)\n",
        "\n",
        "k=681, Precisión: 0.92 (+/- 0.05)\n",
        "\n",
        "k=691, Precisión: 0.92 (+/- 0.04)\n",
        "\n",
        "k=701, Precisión: 0.92 (+/- 0.05)\n",
        "\n",
        "k=711, Precisión: 0.92 (+/- 0.05)\n",
        "\n",
        "k=721, Precisión: 0.92 (+/- 0.05)\n",
        "\n",
        "k=731, Precisión: 0.92 (+/- 0.05)\n",
        "\n",
        "k=741, Precisión: 0.92 (+/- 0.05)\n",
        "\n",
        "k=751, Precisión: 0.92 (+/- 0.04)"
      ]
    },
    {
      "cell_type": "code",
      "metadata": {
        "id": "XOKV3FNI4Gw8",
        "colab": {
          "base_uri": "https://localhost:8080/"
        },
        "outputId": "a9e0e706-31d4-4267-ad16-a0f4ce06bbbf"
      },
      "source": [
        "forest = RandomForestClassifier(n_estimators=121,random_state=0,n_jobs=-1)\n",
        "forest.fit(trainData, trainLabels)"
      ],
      "execution_count": 11,
      "outputs": [
        {
          "output_type": "execute_result",
          "data": {
            "text/plain": [
              "RandomForestClassifier(bootstrap=True, ccp_alpha=0.0, class_weight=None,\n",
              "                       criterion='gini', max_depth=None, max_features='auto',\n",
              "                       max_leaf_nodes=None, max_samples=None,\n",
              "                       min_impurity_decrease=0.0, min_impurity_split=None,\n",
              "                       min_samples_leaf=1, min_samples_split=2,\n",
              "                       min_weight_fraction_leaf=0.0, n_estimators=121,\n",
              "                       n_jobs=-1, oob_score=False, random_state=0, verbose=0,\n",
              "                       warm_start=False)"
            ]
          },
          "metadata": {
            "tags": []
          },
          "execution_count": 11
        }
      ]
    },
    {
      "cell_type": "markdown",
      "metadata": {
        "id": "SN_0ro1XrpS0"
      },
      "source": [
        "## 3. Evaluando el modelo\n",
        "\n",
        "##### Ejercicio\n",
        "Una vez tienes tu modelo construido evalualo utilizando la función `classification_report` de la librería sklearn."
      ]
    },
    {
      "cell_type": "code",
      "metadata": {
        "id": "6X1PD47UrpS2",
        "colab": {
          "base_uri": "https://localhost:8080/"
        },
        "outputId": "68830322-7c05-4725-b79b-b13835d28142"
      },
      "source": [
        "from sklearn.metrics import classification_report\n",
        "prediccion = forest.predict(testData)\n",
        "#digitos del 0 al 9\n",
        "target_names = ['0', '1', '2', '3', '4', '5', '6', '7', '8', '9']\n",
        "print(classification_report(testLabels, prediccion, target_names=target_names))"
      ],
      "execution_count": 12,
      "outputs": [
        {
          "output_type": "stream",
          "text": [
            "              precision    recall  f1-score   support\n",
            "\n",
            "           0       0.97      0.95      0.96        74\n",
            "           1       0.91      0.97      0.94        66\n",
            "           2       0.88      0.90      0.89        58\n",
            "           3       0.89      0.93      0.91        58\n",
            "           4       0.93      0.93      0.93        71\n",
            "           5       0.98      0.88      0.93        66\n",
            "           6       0.96      0.98      0.97        66\n",
            "           7       0.97      0.91      0.94        70\n",
            "           8       0.93      0.91      0.92        69\n",
            "           9       0.78      0.86      0.82        42\n",
            "\n",
            "    accuracy                           0.93       640\n",
            "   macro avg       0.92      0.92      0.92       640\n",
            "weighted avg       0.93      0.93      0.93       640\n",
            "\n"
          ],
          "name": "stdout"
        }
      ]
    },
    {
      "cell_type": "markdown",
      "metadata": {
        "id": "FZFyPNuxrpS6"
      },
      "source": [
        "##### Ejercicio \n",
        "\n",
        "A continuación muestra la matriz de confusión para ver dónde se producen los fallos. "
      ]
    },
    {
      "cell_type": "code",
      "metadata": {
        "id": "c9-BfoA2rpS-",
        "colab": {
          "base_uri": "https://localhost:8080/"
        },
        "outputId": "573ea551-1b47-4015-ff2e-30acd74d1f34"
      },
      "source": [
        "#https://scikit-learn.org/stable/modules/generated/sklearn.metrics.confusion_matrix.html\n",
        "from sklearn.metrics import confusion_matrix\n",
        "confusion_matrix(testLabels, prediccion)"
      ],
      "execution_count": 13,
      "outputs": [
        {
          "output_type": "execute_result",
          "data": {
            "text/plain": [
              "array([[70,  0,  1,  1,  0,  0,  1,  0,  1,  0],\n",
              "       [ 0, 64,  0,  2,  0,  0,  0,  0,  0,  0],\n",
              "       [ 2,  0, 52,  1,  1,  0,  0,  1,  0,  1],\n",
              "       [ 0,  0,  2, 54,  0,  0,  0,  1,  0,  1],\n",
              "       [ 0,  0,  0,  0, 66,  1,  0,  0,  1,  3],\n",
              "       [ 0,  0,  1,  0,  1, 58,  2,  0,  3,  1],\n",
              "       [ 0,  1,  0,  0,  0,  0, 65,  0,  0,  0],\n",
              "       [ 0,  1,  0,  0,  1,  0,  0, 64,  0,  4],\n",
              "       [ 0,  3,  0,  1,  2,  0,  0,  0, 63,  0],\n",
              "       [ 0,  1,  3,  2,  0,  0,  0,  0,  0, 36]])"
            ]
          },
          "metadata": {
            "tags": []
          },
          "execution_count": 13
        }
      ]
    },
    {
      "cell_type": "markdown",
      "metadata": {
        "id": "ZKvfsVMZrpTA"
      },
      "source": [
        "##### Ejercicio\n",
        "\n",
        "Con el modelo KNN somos capaces de conseguir una precisión del 92%, aunque no está mal, se puede mejorar. Intenta construir un modelo que mejore estos resultados, puedes probar también a cambiar de descriptor."
      ]
    },
    {
      "cell_type": "code",
      "metadata": {
        "collapsed": true,
        "id": "yeg2bq6_rpTC",
        "colab": {
          "base_uri": "https://localhost:8080/"
        },
        "outputId": "51d5ef01-2671-4d3d-d479-b86a3ebe0875"
      },
      "source": [
        "forest = RandomForestClassifier(n_estimators=1000,random_state=0,n_jobs=-1)\n",
        "scores = cross_val_score(forest,trainData, trainLabels,cv=10)\n",
        "print(\"k=%d, Precisión: %0.2f (+/- %0.2f)\" % (k, scores.mean(), scores.std() * 2))"
      ],
      "execution_count": 14,
      "outputs": [
        {
          "output_type": "stream",
          "text": [
            "k=1000, Precisión: 0.92 (+/- 0.04)\n"
          ],
          "name": "stdout"
        }
      ]
    },
    {
      "cell_type": "code",
      "metadata": {
        "id": "svRVQQeRJjK2"
      },
      "source": [
        "from sklearn.tree import DecisionTreeClassifier"
      ],
      "execution_count": 15,
      "outputs": []
    },
    {
      "cell_type": "code",
      "metadata": {
        "id": "HlTaT6YGIwvm",
        "colab": {
          "base_uri": "https://localhost:8080/"
        },
        "outputId": "ba7475b8-2460-473b-80b2-bbb023f1b7c5"
      },
      "source": [
        "for k in range(2,11,1):\n",
        "    modelArbol = DecisionTreeClassifier(random_state=84,min_samples_split=k)\n",
        "    scores = cross_val_score(modelArbol,trainData, trainLabels,cv=10)\n",
        "    print(\"k=%d, Precisión: %0.2f (+/- %0.2f)\" % (k, scores.mean(), scores.std() * 2))"
      ],
      "execution_count": 16,
      "outputs": [
        {
          "output_type": "stream",
          "text": [
            "k=2, Precisión: 0.71 (+/- 0.06)\n",
            "k=3, Precisión: 0.71 (+/- 0.06)\n",
            "k=4, Precisión: 0.71 (+/- 0.05)\n",
            "k=5, Precisión: 0.71 (+/- 0.07)\n",
            "k=6, Precisión: 0.70 (+/- 0.05)\n",
            "k=7, Precisión: 0.71 (+/- 0.06)\n",
            "k=8, Precisión: 0.71 (+/- 0.05)\n",
            "k=9, Precisión: 0.70 (+/- 0.04)\n",
            "k=10, Precisión: 0.70 (+/- 0.05)\n"
          ],
          "name": "stdout"
        }
      ]
    },
    {
      "cell_type": "code",
      "metadata": {
        "id": "uT_4yVu4JmI9"
      },
      "source": [
        "from sklearn.linear_model import LogisticRegression"
      ],
      "execution_count": 17,
      "outputs": []
    },
    {
      "cell_type": "code",
      "metadata": {
        "id": "e7NkMpbBI2Ah",
        "colab": {
          "base_uri": "https://localhost:8080/"
        },
        "outputId": "b3b2dfa5-4697-4ecd-c848-9d70de39c2a8"
      },
      "source": [
        "for k in [0.01,0.1,1]:\n",
        "    modelLR = LogisticRegression(random_state=84,C=k)\n",
        "    scores = cross_val_score(modelLR,trainData, trainLabels,cv=10)\n",
        "    print(\"k=%d, Precisión: %0.2f (+/- %0.2f)\" % (k, scores.mean(), scores.std() * 2))"
      ],
      "execution_count": 18,
      "outputs": [
        {
          "output_type": "stream",
          "text": [
            "/usr/local/lib/python3.7/dist-packages/sklearn/linear_model/_logistic.py:940: ConvergenceWarning: lbfgs failed to converge (status=1):\n",
            "STOP: TOTAL NO. of ITERATIONS REACHED LIMIT.\n",
            "\n",
            "Increase the number of iterations (max_iter) or scale the data as shown in:\n",
            "    https://scikit-learn.org/stable/modules/preprocessing.html\n",
            "Please also refer to the documentation for alternative solver options:\n",
            "    https://scikit-learn.org/stable/modules/linear_model.html#logistic-regression\n",
            "  extra_warning_msg=_LOGISTIC_SOLVER_CONVERGENCE_MSG)\n",
            "/usr/local/lib/python3.7/dist-packages/sklearn/linear_model/_logistic.py:940: ConvergenceWarning: lbfgs failed to converge (status=1):\n",
            "STOP: TOTAL NO. of ITERATIONS REACHED LIMIT.\n",
            "\n",
            "Increase the number of iterations (max_iter) or scale the data as shown in:\n",
            "    https://scikit-learn.org/stable/modules/preprocessing.html\n",
            "Please also refer to the documentation for alternative solver options:\n",
            "    https://scikit-learn.org/stable/modules/linear_model.html#logistic-regression\n",
            "  extra_warning_msg=_LOGISTIC_SOLVER_CONVERGENCE_MSG)\n",
            "/usr/local/lib/python3.7/dist-packages/sklearn/linear_model/_logistic.py:940: ConvergenceWarning: lbfgs failed to converge (status=1):\n",
            "STOP: TOTAL NO. of ITERATIONS REACHED LIMIT.\n",
            "\n",
            "Increase the number of iterations (max_iter) or scale the data as shown in:\n",
            "    https://scikit-learn.org/stable/modules/preprocessing.html\n",
            "Please also refer to the documentation for alternative solver options:\n",
            "    https://scikit-learn.org/stable/modules/linear_model.html#logistic-regression\n",
            "  extra_warning_msg=_LOGISTIC_SOLVER_CONVERGENCE_MSG)\n",
            "/usr/local/lib/python3.7/dist-packages/sklearn/linear_model/_logistic.py:940: ConvergenceWarning: lbfgs failed to converge (status=1):\n",
            "STOP: TOTAL NO. of ITERATIONS REACHED LIMIT.\n",
            "\n",
            "Increase the number of iterations (max_iter) or scale the data as shown in:\n",
            "    https://scikit-learn.org/stable/modules/preprocessing.html\n",
            "Please also refer to the documentation for alternative solver options:\n",
            "    https://scikit-learn.org/stable/modules/linear_model.html#logistic-regression\n",
            "  extra_warning_msg=_LOGISTIC_SOLVER_CONVERGENCE_MSG)\n",
            "/usr/local/lib/python3.7/dist-packages/sklearn/linear_model/_logistic.py:940: ConvergenceWarning: lbfgs failed to converge (status=1):\n",
            "STOP: TOTAL NO. of ITERATIONS REACHED LIMIT.\n",
            "\n",
            "Increase the number of iterations (max_iter) or scale the data as shown in:\n",
            "    https://scikit-learn.org/stable/modules/preprocessing.html\n",
            "Please also refer to the documentation for alternative solver options:\n",
            "    https://scikit-learn.org/stable/modules/linear_model.html#logistic-regression\n",
            "  extra_warning_msg=_LOGISTIC_SOLVER_CONVERGENCE_MSG)\n",
            "/usr/local/lib/python3.7/dist-packages/sklearn/linear_model/_logistic.py:940: ConvergenceWarning: lbfgs failed to converge (status=1):\n",
            "STOP: TOTAL NO. of ITERATIONS REACHED LIMIT.\n",
            "\n",
            "Increase the number of iterations (max_iter) or scale the data as shown in:\n",
            "    https://scikit-learn.org/stable/modules/preprocessing.html\n",
            "Please also refer to the documentation for alternative solver options:\n",
            "    https://scikit-learn.org/stable/modules/linear_model.html#logistic-regression\n",
            "  extra_warning_msg=_LOGISTIC_SOLVER_CONVERGENCE_MSG)\n",
            "/usr/local/lib/python3.7/dist-packages/sklearn/linear_model/_logistic.py:940: ConvergenceWarning: lbfgs failed to converge (status=1):\n",
            "STOP: TOTAL NO. of ITERATIONS REACHED LIMIT.\n",
            "\n",
            "Increase the number of iterations (max_iter) or scale the data as shown in:\n",
            "    https://scikit-learn.org/stable/modules/preprocessing.html\n",
            "Please also refer to the documentation for alternative solver options:\n",
            "    https://scikit-learn.org/stable/modules/linear_model.html#logistic-regression\n",
            "  extra_warning_msg=_LOGISTIC_SOLVER_CONVERGENCE_MSG)\n",
            "/usr/local/lib/python3.7/dist-packages/sklearn/linear_model/_logistic.py:940: ConvergenceWarning: lbfgs failed to converge (status=1):\n",
            "STOP: TOTAL NO. of ITERATIONS REACHED LIMIT.\n",
            "\n",
            "Increase the number of iterations (max_iter) or scale the data as shown in:\n",
            "    https://scikit-learn.org/stable/modules/preprocessing.html\n",
            "Please also refer to the documentation for alternative solver options:\n",
            "    https://scikit-learn.org/stable/modules/linear_model.html#logistic-regression\n",
            "  extra_warning_msg=_LOGISTIC_SOLVER_CONVERGENCE_MSG)\n",
            "/usr/local/lib/python3.7/dist-packages/sklearn/linear_model/_logistic.py:940: ConvergenceWarning: lbfgs failed to converge (status=1):\n",
            "STOP: TOTAL NO. of ITERATIONS REACHED LIMIT.\n",
            "\n",
            "Increase the number of iterations (max_iter) or scale the data as shown in:\n",
            "    https://scikit-learn.org/stable/modules/preprocessing.html\n",
            "Please also refer to the documentation for alternative solver options:\n",
            "    https://scikit-learn.org/stable/modules/linear_model.html#logistic-regression\n",
            "  extra_warning_msg=_LOGISTIC_SOLVER_CONVERGENCE_MSG)\n",
            "/usr/local/lib/python3.7/dist-packages/sklearn/linear_model/_logistic.py:940: ConvergenceWarning: lbfgs failed to converge (status=1):\n",
            "STOP: TOTAL NO. of ITERATIONS REACHED LIMIT.\n",
            "\n",
            "Increase the number of iterations (max_iter) or scale the data as shown in:\n",
            "    https://scikit-learn.org/stable/modules/preprocessing.html\n",
            "Please also refer to the documentation for alternative solver options:\n",
            "    https://scikit-learn.org/stable/modules/linear_model.html#logistic-regression\n",
            "  extra_warning_msg=_LOGISTIC_SOLVER_CONVERGENCE_MSG)\n"
          ],
          "name": "stderr"
        },
        {
          "output_type": "stream",
          "text": [
            "k=0, Precisión: 0.85 (+/- 0.04)\n"
          ],
          "name": "stdout"
        },
        {
          "output_type": "stream",
          "text": [
            "/usr/local/lib/python3.7/dist-packages/sklearn/linear_model/_logistic.py:940: ConvergenceWarning: lbfgs failed to converge (status=1):\n",
            "STOP: TOTAL NO. of ITERATIONS REACHED LIMIT.\n",
            "\n",
            "Increase the number of iterations (max_iter) or scale the data as shown in:\n",
            "    https://scikit-learn.org/stable/modules/preprocessing.html\n",
            "Please also refer to the documentation for alternative solver options:\n",
            "    https://scikit-learn.org/stable/modules/linear_model.html#logistic-regression\n",
            "  extra_warning_msg=_LOGISTIC_SOLVER_CONVERGENCE_MSG)\n",
            "/usr/local/lib/python3.7/dist-packages/sklearn/linear_model/_logistic.py:940: ConvergenceWarning: lbfgs failed to converge (status=1):\n",
            "STOP: TOTAL NO. of ITERATIONS REACHED LIMIT.\n",
            "\n",
            "Increase the number of iterations (max_iter) or scale the data as shown in:\n",
            "    https://scikit-learn.org/stable/modules/preprocessing.html\n",
            "Please also refer to the documentation for alternative solver options:\n",
            "    https://scikit-learn.org/stable/modules/linear_model.html#logistic-regression\n",
            "  extra_warning_msg=_LOGISTIC_SOLVER_CONVERGENCE_MSG)\n",
            "/usr/local/lib/python3.7/dist-packages/sklearn/linear_model/_logistic.py:940: ConvergenceWarning: lbfgs failed to converge (status=1):\n",
            "STOP: TOTAL NO. of ITERATIONS REACHED LIMIT.\n",
            "\n",
            "Increase the number of iterations (max_iter) or scale the data as shown in:\n",
            "    https://scikit-learn.org/stable/modules/preprocessing.html\n",
            "Please also refer to the documentation for alternative solver options:\n",
            "    https://scikit-learn.org/stable/modules/linear_model.html#logistic-regression\n",
            "  extra_warning_msg=_LOGISTIC_SOLVER_CONVERGENCE_MSG)\n",
            "/usr/local/lib/python3.7/dist-packages/sklearn/linear_model/_logistic.py:940: ConvergenceWarning: lbfgs failed to converge (status=1):\n",
            "STOP: TOTAL NO. of ITERATIONS REACHED LIMIT.\n",
            "\n",
            "Increase the number of iterations (max_iter) or scale the data as shown in:\n",
            "    https://scikit-learn.org/stable/modules/preprocessing.html\n",
            "Please also refer to the documentation for alternative solver options:\n",
            "    https://scikit-learn.org/stable/modules/linear_model.html#logistic-regression\n",
            "  extra_warning_msg=_LOGISTIC_SOLVER_CONVERGENCE_MSG)\n",
            "/usr/local/lib/python3.7/dist-packages/sklearn/linear_model/_logistic.py:940: ConvergenceWarning: lbfgs failed to converge (status=1):\n",
            "STOP: TOTAL NO. of ITERATIONS REACHED LIMIT.\n",
            "\n",
            "Increase the number of iterations (max_iter) or scale the data as shown in:\n",
            "    https://scikit-learn.org/stable/modules/preprocessing.html\n",
            "Please also refer to the documentation for alternative solver options:\n",
            "    https://scikit-learn.org/stable/modules/linear_model.html#logistic-regression\n",
            "  extra_warning_msg=_LOGISTIC_SOLVER_CONVERGENCE_MSG)\n",
            "/usr/local/lib/python3.7/dist-packages/sklearn/linear_model/_logistic.py:940: ConvergenceWarning: lbfgs failed to converge (status=1):\n",
            "STOP: TOTAL NO. of ITERATIONS REACHED LIMIT.\n",
            "\n",
            "Increase the number of iterations (max_iter) or scale the data as shown in:\n",
            "    https://scikit-learn.org/stable/modules/preprocessing.html\n",
            "Please also refer to the documentation for alternative solver options:\n",
            "    https://scikit-learn.org/stable/modules/linear_model.html#logistic-regression\n",
            "  extra_warning_msg=_LOGISTIC_SOLVER_CONVERGENCE_MSG)\n",
            "/usr/local/lib/python3.7/dist-packages/sklearn/linear_model/_logistic.py:940: ConvergenceWarning: lbfgs failed to converge (status=1):\n",
            "STOP: TOTAL NO. of ITERATIONS REACHED LIMIT.\n",
            "\n",
            "Increase the number of iterations (max_iter) or scale the data as shown in:\n",
            "    https://scikit-learn.org/stable/modules/preprocessing.html\n",
            "Please also refer to the documentation for alternative solver options:\n",
            "    https://scikit-learn.org/stable/modules/linear_model.html#logistic-regression\n",
            "  extra_warning_msg=_LOGISTIC_SOLVER_CONVERGENCE_MSG)\n",
            "/usr/local/lib/python3.7/dist-packages/sklearn/linear_model/_logistic.py:940: ConvergenceWarning: lbfgs failed to converge (status=1):\n",
            "STOP: TOTAL NO. of ITERATIONS REACHED LIMIT.\n",
            "\n",
            "Increase the number of iterations (max_iter) or scale the data as shown in:\n",
            "    https://scikit-learn.org/stable/modules/preprocessing.html\n",
            "Please also refer to the documentation for alternative solver options:\n",
            "    https://scikit-learn.org/stable/modules/linear_model.html#logistic-regression\n",
            "  extra_warning_msg=_LOGISTIC_SOLVER_CONVERGENCE_MSG)\n",
            "/usr/local/lib/python3.7/dist-packages/sklearn/linear_model/_logistic.py:940: ConvergenceWarning: lbfgs failed to converge (status=1):\n",
            "STOP: TOTAL NO. of ITERATIONS REACHED LIMIT.\n",
            "\n",
            "Increase the number of iterations (max_iter) or scale the data as shown in:\n",
            "    https://scikit-learn.org/stable/modules/preprocessing.html\n",
            "Please also refer to the documentation for alternative solver options:\n",
            "    https://scikit-learn.org/stable/modules/linear_model.html#logistic-regression\n",
            "  extra_warning_msg=_LOGISTIC_SOLVER_CONVERGENCE_MSG)\n",
            "/usr/local/lib/python3.7/dist-packages/sklearn/linear_model/_logistic.py:940: ConvergenceWarning: lbfgs failed to converge (status=1):\n",
            "STOP: TOTAL NO. of ITERATIONS REACHED LIMIT.\n",
            "\n",
            "Increase the number of iterations (max_iter) or scale the data as shown in:\n",
            "    https://scikit-learn.org/stable/modules/preprocessing.html\n",
            "Please also refer to the documentation for alternative solver options:\n",
            "    https://scikit-learn.org/stable/modules/linear_model.html#logistic-regression\n",
            "  extra_warning_msg=_LOGISTIC_SOLVER_CONVERGENCE_MSG)\n"
          ],
          "name": "stderr"
        },
        {
          "output_type": "stream",
          "text": [
            "k=0, Precisión: 0.85 (+/- 0.05)\n"
          ],
          "name": "stdout"
        },
        {
          "output_type": "stream",
          "text": [
            "/usr/local/lib/python3.7/dist-packages/sklearn/linear_model/_logistic.py:940: ConvergenceWarning: lbfgs failed to converge (status=1):\n",
            "STOP: TOTAL NO. of ITERATIONS REACHED LIMIT.\n",
            "\n",
            "Increase the number of iterations (max_iter) or scale the data as shown in:\n",
            "    https://scikit-learn.org/stable/modules/preprocessing.html\n",
            "Please also refer to the documentation for alternative solver options:\n",
            "    https://scikit-learn.org/stable/modules/linear_model.html#logistic-regression\n",
            "  extra_warning_msg=_LOGISTIC_SOLVER_CONVERGENCE_MSG)\n",
            "/usr/local/lib/python3.7/dist-packages/sklearn/linear_model/_logistic.py:940: ConvergenceWarning: lbfgs failed to converge (status=1):\n",
            "STOP: TOTAL NO. of ITERATIONS REACHED LIMIT.\n",
            "\n",
            "Increase the number of iterations (max_iter) or scale the data as shown in:\n",
            "    https://scikit-learn.org/stable/modules/preprocessing.html\n",
            "Please also refer to the documentation for alternative solver options:\n",
            "    https://scikit-learn.org/stable/modules/linear_model.html#logistic-regression\n",
            "  extra_warning_msg=_LOGISTIC_SOLVER_CONVERGENCE_MSG)\n",
            "/usr/local/lib/python3.7/dist-packages/sklearn/linear_model/_logistic.py:940: ConvergenceWarning: lbfgs failed to converge (status=1):\n",
            "STOP: TOTAL NO. of ITERATIONS REACHED LIMIT.\n",
            "\n",
            "Increase the number of iterations (max_iter) or scale the data as shown in:\n",
            "    https://scikit-learn.org/stable/modules/preprocessing.html\n",
            "Please also refer to the documentation for alternative solver options:\n",
            "    https://scikit-learn.org/stable/modules/linear_model.html#logistic-regression\n",
            "  extra_warning_msg=_LOGISTIC_SOLVER_CONVERGENCE_MSG)\n",
            "/usr/local/lib/python3.7/dist-packages/sklearn/linear_model/_logistic.py:940: ConvergenceWarning: lbfgs failed to converge (status=1):\n",
            "STOP: TOTAL NO. of ITERATIONS REACHED LIMIT.\n",
            "\n",
            "Increase the number of iterations (max_iter) or scale the data as shown in:\n",
            "    https://scikit-learn.org/stable/modules/preprocessing.html\n",
            "Please also refer to the documentation for alternative solver options:\n",
            "    https://scikit-learn.org/stable/modules/linear_model.html#logistic-regression\n",
            "  extra_warning_msg=_LOGISTIC_SOLVER_CONVERGENCE_MSG)\n",
            "/usr/local/lib/python3.7/dist-packages/sklearn/linear_model/_logistic.py:940: ConvergenceWarning: lbfgs failed to converge (status=1):\n",
            "STOP: TOTAL NO. of ITERATIONS REACHED LIMIT.\n",
            "\n",
            "Increase the number of iterations (max_iter) or scale the data as shown in:\n",
            "    https://scikit-learn.org/stable/modules/preprocessing.html\n",
            "Please also refer to the documentation for alternative solver options:\n",
            "    https://scikit-learn.org/stable/modules/linear_model.html#logistic-regression\n",
            "  extra_warning_msg=_LOGISTIC_SOLVER_CONVERGENCE_MSG)\n",
            "/usr/local/lib/python3.7/dist-packages/sklearn/linear_model/_logistic.py:940: ConvergenceWarning: lbfgs failed to converge (status=1):\n",
            "STOP: TOTAL NO. of ITERATIONS REACHED LIMIT.\n",
            "\n",
            "Increase the number of iterations (max_iter) or scale the data as shown in:\n",
            "    https://scikit-learn.org/stable/modules/preprocessing.html\n",
            "Please also refer to the documentation for alternative solver options:\n",
            "    https://scikit-learn.org/stable/modules/linear_model.html#logistic-regression\n",
            "  extra_warning_msg=_LOGISTIC_SOLVER_CONVERGENCE_MSG)\n",
            "/usr/local/lib/python3.7/dist-packages/sklearn/linear_model/_logistic.py:940: ConvergenceWarning: lbfgs failed to converge (status=1):\n",
            "STOP: TOTAL NO. of ITERATIONS REACHED LIMIT.\n",
            "\n",
            "Increase the number of iterations (max_iter) or scale the data as shown in:\n",
            "    https://scikit-learn.org/stable/modules/preprocessing.html\n",
            "Please also refer to the documentation for alternative solver options:\n",
            "    https://scikit-learn.org/stable/modules/linear_model.html#logistic-regression\n",
            "  extra_warning_msg=_LOGISTIC_SOLVER_CONVERGENCE_MSG)\n",
            "/usr/local/lib/python3.7/dist-packages/sklearn/linear_model/_logistic.py:940: ConvergenceWarning: lbfgs failed to converge (status=1):\n",
            "STOP: TOTAL NO. of ITERATIONS REACHED LIMIT.\n",
            "\n",
            "Increase the number of iterations (max_iter) or scale the data as shown in:\n",
            "    https://scikit-learn.org/stable/modules/preprocessing.html\n",
            "Please also refer to the documentation for alternative solver options:\n",
            "    https://scikit-learn.org/stable/modules/linear_model.html#logistic-regression\n",
            "  extra_warning_msg=_LOGISTIC_SOLVER_CONVERGENCE_MSG)\n",
            "/usr/local/lib/python3.7/dist-packages/sklearn/linear_model/_logistic.py:940: ConvergenceWarning: lbfgs failed to converge (status=1):\n",
            "STOP: TOTAL NO. of ITERATIONS REACHED LIMIT.\n",
            "\n",
            "Increase the number of iterations (max_iter) or scale the data as shown in:\n",
            "    https://scikit-learn.org/stable/modules/preprocessing.html\n",
            "Please also refer to the documentation for alternative solver options:\n",
            "    https://scikit-learn.org/stable/modules/linear_model.html#logistic-regression\n",
            "  extra_warning_msg=_LOGISTIC_SOLVER_CONVERGENCE_MSG)\n"
          ],
          "name": "stderr"
        },
        {
          "output_type": "stream",
          "text": [
            "k=1, Precisión: 0.85 (+/- 0.04)\n"
          ],
          "name": "stdout"
        },
        {
          "output_type": "stream",
          "text": [
            "/usr/local/lib/python3.7/dist-packages/sklearn/linear_model/_logistic.py:940: ConvergenceWarning: lbfgs failed to converge (status=1):\n",
            "STOP: TOTAL NO. of ITERATIONS REACHED LIMIT.\n",
            "\n",
            "Increase the number of iterations (max_iter) or scale the data as shown in:\n",
            "    https://scikit-learn.org/stable/modules/preprocessing.html\n",
            "Please also refer to the documentation for alternative solver options:\n",
            "    https://scikit-learn.org/stable/modules/linear_model.html#logistic-regression\n",
            "  extra_warning_msg=_LOGISTIC_SOLVER_CONVERGENCE_MSG)\n"
          ],
          "name": "stderr"
        }
      ]
    },
    {
      "cell_type": "code",
      "metadata": {
        "id": "okmGnQPbJw8g"
      },
      "source": [
        "from sklearn.neural_network import MLPClassifier\n",
        "from sklearn.model_selection import RandomizedSearchCV"
      ],
      "execution_count": 19,
      "outputs": []
    },
    {
      "cell_type": "code",
      "metadata": {
        "id": "ctKPp4W1LNm_"
      },
      "source": [
        "def randomsearch(model,parameters):\n",
        "    print(\"# Tuning hyper-parameters for %s\" % scores)\n",
        "    print()\n",
        "\n",
        "    clf = RandomizedSearchCV(model, parameters,cv=5)\n",
        "    clf.fit(trainData, trainLabels)\n",
        "\n",
        "    print(\"Best parameters set found on development set:\")\n",
        "    print()\n",
        "    print(clf.best_params_)\n",
        "    print()"
      ],
      "execution_count": 20,
      "outputs": []
    },
    {
      "cell_type": "code",
      "metadata": {
        "id": "ga2ztvRJLJll"
      },
      "source": [
        "tuned_parameters = [{'hidden_layer_sizes': [(5,2), (3,3,3), (5,3,2), (5,4,3,2)], \n",
        "                        'activation': ['identity', 'logistic', 'tanh', 'relu'], 'momentum': [0.9,0.95,0.99],\n",
        "                        'learning_rate_init': [0.001,0.01,0.1]}]"
      ],
      "execution_count": 21,
      "outputs": []
    },
    {
      "cell_type": "code",
      "metadata": {
        "id": "4a32MafHLH2p",
        "colab": {
          "base_uri": "https://localhost:8080/"
        },
        "outputId": "34d550bc-c4ec-41c0-965e-532af528b1cf"
      },
      "source": [
        "modelMLP = MLPClassifier()\n",
        "randomsearch(modelMLP, tuned_parameters)"
      ],
      "execution_count": 22,
      "outputs": [
        {
          "output_type": "stream",
          "text": [
            "# Tuning hyper-parameters for [0.86458333 0.83333333 0.875      0.84375    0.80729167 0.859375\n",
            " 0.859375   0.85416667 0.875      0.828125  ]\n",
            "\n"
          ],
          "name": "stdout"
        },
        {
          "output_type": "stream",
          "text": [
            "/usr/local/lib/python3.7/dist-packages/sklearn/neural_network/_multilayer_perceptron.py:571: ConvergenceWarning: Stochastic Optimizer: Maximum iterations (200) reached and the optimization hasn't converged yet.\n",
            "  % self.max_iter, ConvergenceWarning)\n",
            "/usr/local/lib/python3.7/dist-packages/sklearn/neural_network/_multilayer_perceptron.py:571: ConvergenceWarning: Stochastic Optimizer: Maximum iterations (200) reached and the optimization hasn't converged yet.\n",
            "  % self.max_iter, ConvergenceWarning)\n",
            "/usr/local/lib/python3.7/dist-packages/sklearn/neural_network/_multilayer_perceptron.py:571: ConvergenceWarning: Stochastic Optimizer: Maximum iterations (200) reached and the optimization hasn't converged yet.\n",
            "  % self.max_iter, ConvergenceWarning)\n",
            "/usr/local/lib/python3.7/dist-packages/sklearn/neural_network/_multilayer_perceptron.py:571: ConvergenceWarning: Stochastic Optimizer: Maximum iterations (200) reached and the optimization hasn't converged yet.\n",
            "  % self.max_iter, ConvergenceWarning)\n",
            "/usr/local/lib/python3.7/dist-packages/sklearn/neural_network/_multilayer_perceptron.py:571: ConvergenceWarning: Stochastic Optimizer: Maximum iterations (200) reached and the optimization hasn't converged yet.\n",
            "  % self.max_iter, ConvergenceWarning)\n"
          ],
          "name": "stderr"
        },
        {
          "output_type": "stream",
          "text": [
            "Best parameters set found on development set:\n",
            "\n",
            "{'momentum': 0.99, 'learning_rate_init': 0.1, 'hidden_layer_sizes': (3, 3, 3), 'activation': 'identity'}\n",
            "\n"
          ],
          "name": "stdout"
        }
      ]
    },
    {
      "cell_type": "code",
      "metadata": {
        "id": "muuxsQ9NJEzA",
        "colab": {
          "base_uri": "https://localhost:8080/"
        },
        "outputId": "070b77b8-c1e6-4d6f-cb59-96ce761a9e6b"
      },
      "source": [
        "modelMLP = MLPClassifier(momentum = 0.95, learning_rate_init = 0.01, hidden_layer_sizes = (5, 3, 2), activation = 'identity')\n",
        "scores = cross_val_score(modelMLP,trainData, trainLabels,cv=10)\n",
        "print(\"k=%d, Precisión: %0.2f (+/- %0.2f)\" % (k, scores.mean(), scores.std() * 2))"
      ],
      "execution_count": 23,
      "outputs": [
        {
          "output_type": "stream",
          "text": [
            "/usr/local/lib/python3.7/dist-packages/sklearn/neural_network/_multilayer_perceptron.py:571: ConvergenceWarning: Stochastic Optimizer: Maximum iterations (200) reached and the optimization hasn't converged yet.\n",
            "  % self.max_iter, ConvergenceWarning)\n"
          ],
          "name": "stderr"
        },
        {
          "output_type": "stream",
          "text": [
            "k=1, Precisión: 0.53 (+/- 0.12)\n"
          ],
          "name": "stdout"
        }
      ]
    },
    {
      "cell_type": "code",
      "metadata": {
        "id": "QfIBb7XzMaVj"
      },
      "source": [
        ""
      ],
      "execution_count": 23,
      "outputs": []
    },
    {
      "cell_type": "code",
      "metadata": {
        "id": "pEZGPq9aKX2I"
      },
      "source": [
        "from sklearn.svm import SVC"
      ],
      "execution_count": 24,
      "outputs": []
    },
    {
      "cell_type": "code",
      "metadata": {
        "id": "6yOx1bvb01WV",
        "outputId": "1b5a12bd-7e04-4229-91b2-26b7eda2921a",
        "colab": {
          "base_uri": "https://localhost:8080/"
        }
      },
      "source": [
        "for k in [1, 10, 100, 1000]:\n",
        "    modelSVC = SVC(C=k,kernel='linear')\n",
        "    scores = cross_val_score(modelSVC,trainData, trainLabels,cv=10)\n",
        "    print(\"k=%d, Precisión: %0.2f (+/- %0.2f)\" % (k, scores.mean(), scores.std() * 2))"
      ],
      "execution_count": 25,
      "outputs": [
        {
          "output_type": "stream",
          "text": [
            "k=1, Precisión: 0.89 (+/- 0.04)\n",
            "k=10, Precisión: 0.89 (+/- 0.04)\n",
            "k=100, Precisión: 0.89 (+/- 0.04)\n",
            "k=1000, Precisión: 0.89 (+/- 0.04)\n"
          ],
          "name": "stdout"
        }
      ]
    },
    {
      "cell_type": "code",
      "metadata": {
        "id": "Atsj5v8u0kKp",
        "outputId": "f18f5c15-5ae9-41dc-842c-989505cefa23",
        "colab": {
          "base_uri": "https://localhost:8080/"
        }
      },
      "source": [
        "for k in [1, 10, 100, 1000]:\n",
        "    modelSVC = SVC(C=k,kernel='rbf')\n",
        "    scores = cross_val_score(modelSVC,trainData, trainLabels,cv=10)\n",
        "    print(\"k=%d, Precisión: %0.2f (+/- %0.2f)\" % (k, scores.mean(), scores.std() * 2))"
      ],
      "execution_count": 26,
      "outputs": [
        {
          "output_type": "stream",
          "text": [
            "k=1, Precisión: 0.93 (+/- 0.04)\n",
            "k=10, Precisión: 0.94 (+/- 0.04)\n",
            "k=100, Precisión: 0.94 (+/- 0.04)\n",
            "k=1000, Precisión: 0.94 (+/- 0.04)\n"
          ],
          "name": "stdout"
        }
      ]
    },
    {
      "cell_type": "code",
      "metadata": {
        "id": "-7sffsTjKcQ8",
        "colab": {
          "base_uri": "https://localhost:8080/"
        },
        "outputId": "b3493473-d00b-468f-8e1c-82d72f22e04a"
      },
      "source": [
        "modelSVC = SVC(C=10,kernel='rbf')\n",
        "scores = cross_val_score(modelSVC,trainData, trainLabels,cv=10)\n",
        "print(\"k=%d, Precisión: %0.2f (+/- %0.2f)\" % (10, scores.mean(), scores.std() * 2))"
      ],
      "execution_count": 27,
      "outputs": [
        {
          "output_type": "stream",
          "text": [
            "k=10, Precisión: 0.94 (+/- 0.04)\n"
          ],
          "name": "stdout"
        }
      ]
    },
    {
      "cell_type": "code",
      "metadata": {
        "id": "vfUeEuC7YSOj",
        "colab": {
          "base_uri": "https://localhost:8080/"
        },
        "outputId": "6a17aeff-5bff-4e82-e7f4-b1f2dd35d63d"
      },
      "source": [
        "modelSVC.fit(trainData, trainLabels)\n",
        "prediccion = modelSVC.predict(testData)\n",
        "#digitos del 0 al 9\n",
        "target_names = ['0', '1', '2', '3', '4', '5', '6', '7', '8', '9']\n",
        "print(classification_report(testLabels, prediccion, target_names=target_names))"
      ],
      "execution_count": 28,
      "outputs": [
        {
          "output_type": "stream",
          "text": [
            "              precision    recall  f1-score   support\n",
            "\n",
            "           0       0.96      0.95      0.95        74\n",
            "           1       0.94      0.97      0.96        66\n",
            "           2       0.96      0.91      0.94        58\n",
            "           3       0.97      0.97      0.97        58\n",
            "           4       0.95      1.00      0.97        71\n",
            "           5       0.92      0.91      0.92        66\n",
            "           6       0.96      0.97      0.96        66\n",
            "           7       0.97      0.97      0.97        70\n",
            "           8       0.93      0.97      0.95        69\n",
            "           9       0.95      0.83      0.89        42\n",
            "\n",
            "    accuracy                           0.95       640\n",
            "   macro avg       0.95      0.94      0.95       640\n",
            "weighted avg       0.95      0.95      0.95       640\n",
            "\n"
          ],
          "name": "stdout"
        }
      ]
    },
    {
      "cell_type": "markdown",
      "metadata": {
        "id": "rSlHToDyrpTE"
      },
      "source": [
        "## 4. Guardando y cargando el modelo\n",
        "\n",
        "El proceso de entrenar un modelo puede ser muy costoso, por lo que conviene guardar el modelo para poder recuperarlo posteriormente. Para ello utilizamos la librería `pickle`."
      ]
    },
    {
      "cell_type": "code",
      "metadata": {
        "collapsed": true,
        "id": "j8mssyBdrpTG"
      },
      "source": [
        "import pickle"
      ],
      "execution_count": 29,
      "outputs": []
    },
    {
      "cell_type": "markdown",
      "metadata": {
        "id": "hBNMFGsNrpTa"
      },
      "source": [
        "La siguiente instrucción guarda el modelo en el fichero modelo.sav."
      ]
    },
    {
      "cell_type": "code",
      "metadata": {
        "collapsed": true,
        "id": "KQFGpMKcrpTc"
      },
      "source": [
        "pickle.dump(modelKNN, open('modelo.sav', 'wb'))"
      ],
      "execution_count": 30,
      "outputs": []
    },
    {
      "cell_type": "markdown",
      "metadata": {
        "id": "x7qPMO07rpTg"
      },
      "source": [
        "La siguiente instrucción carga el modelo del fichero modelo.sav."
      ]
    },
    {
      "cell_type": "code",
      "metadata": {
        "collapsed": true,
        "id": "3x2zof6zrpTi"
      },
      "source": [
        "loaded_model = pickle.load(open('modelo.sav', 'rb'))"
      ],
      "execution_count": 31,
      "outputs": []
    },
    {
      "cell_type": "markdown",
      "metadata": {
        "id": "B2eBR8o9rpTo"
      },
      "source": [
        "Ahora podemos usar el modelo igual que antes."
      ]
    },
    {
      "cell_type": "code",
      "metadata": {
        "id": "jZfElrr1rpTo",
        "colab": {
          "base_uri": "https://localhost:8080/"
        },
        "outputId": "c4a231ab-919d-46b2-b841-33bf98159788"
      },
      "source": [
        "predictions = loaded_model.predict(testData)\n",
        "print(classification_report(testLabels, predictions))"
      ],
      "execution_count": 32,
      "outputs": [
        {
          "output_type": "stream",
          "text": [
            "              precision    recall  f1-score   support\n",
            "\n",
            "           0       0.95      0.96      0.95        74\n",
            "           1       0.86      1.00      0.92        66\n",
            "           2       1.00      0.81      0.90        58\n",
            "           3       0.86      0.86      0.86        58\n",
            "           4       0.96      0.93      0.94        71\n",
            "           5       0.89      0.88      0.89        66\n",
            "           6       0.94      0.98      0.96        66\n",
            "           7       0.92      0.94      0.93        70\n",
            "           8       0.97      0.88      0.92        69\n",
            "           9       0.78      0.83      0.80        42\n",
            "\n",
            "    accuracy                           0.91       640\n",
            "   macro avg       0.91      0.91      0.91       640\n",
            "weighted avg       0.92      0.91      0.91       640\n",
            "\n"
          ],
          "name": "stdout"
        }
      ]
    },
    {
      "cell_type": "markdown",
      "metadata": {
        "id": "FhF8e0376aSO"
      },
      "source": [
        "Para descargar el fichero desde Colab a nuestro ordenador, hay que ejecutar las siguientes instrucciones (esta funcionalidad solo está disponible usando como navegador Google Chrome)."
      ]
    },
    {
      "cell_type": "code",
      "metadata": {
        "id": "naUUYXRq6kd-",
        "colab": {
          "base_uri": "https://localhost:8080/",
          "height": 17
        },
        "outputId": "89d99b76-20c0-4de1-a89a-72486097b44f"
      },
      "source": [
        "from google.colab import files\n",
        "files.download('modelo.sav') "
      ],
      "execution_count": 33,
      "outputs": [
        {
          "output_type": "display_data",
          "data": {
            "application/javascript": [
              "\n",
              "    async function download(id, filename, size) {\n",
              "      if (!google.colab.kernel.accessAllowed) {\n",
              "        return;\n",
              "      }\n",
              "      const div = document.createElement('div');\n",
              "      const label = document.createElement('label');\n",
              "      label.textContent = `Downloading \"${filename}\": `;\n",
              "      div.appendChild(label);\n",
              "      const progress = document.createElement('progress');\n",
              "      progress.max = size;\n",
              "      div.appendChild(progress);\n",
              "      document.body.appendChild(div);\n",
              "\n",
              "      const buffers = [];\n",
              "      let downloaded = 0;\n",
              "\n",
              "      const channel = await google.colab.kernel.comms.open(id);\n",
              "      // Send a message to notify the kernel that we're ready.\n",
              "      channel.send({})\n",
              "\n",
              "      for await (const message of channel.messages) {\n",
              "        // Send a message to notify the kernel that we're ready.\n",
              "        channel.send({})\n",
              "        if (message.buffers) {\n",
              "          for (const buffer of message.buffers) {\n",
              "            buffers.push(buffer);\n",
              "            downloaded += buffer.byteLength;\n",
              "            progress.value = downloaded;\n",
              "          }\n",
              "        }\n",
              "      }\n",
              "      const blob = new Blob(buffers, {type: 'application/binary'});\n",
              "      const a = document.createElement('a');\n",
              "      a.href = window.URL.createObjectURL(blob);\n",
              "      a.download = filename;\n",
              "      div.appendChild(a);\n",
              "      a.click();\n",
              "      div.remove();\n",
              "    }\n",
              "  "
            ],
            "text/plain": [
              "<IPython.core.display.Javascript object>"
            ]
          },
          "metadata": {
            "tags": []
          }
        },
        {
          "output_type": "display_data",
          "data": {
            "application/javascript": [
              "download(\"download_5e854da4-db73-4cab-b4d2-baf5dc953770\", \"modelo.sav\", 14372011)"
            ],
            "text/plain": [
              "<IPython.core.display.Javascript object>"
            ]
          },
          "metadata": {
            "tags": []
          }
        }
      ]
    },
    {
      "cell_type": "markdown",
      "metadata": {
        "id": "Rk_N3cHDrpTs"
      },
      "source": [
        "##### Ejercicio\n",
        "\n",
        "Guarda tu mejor modelo en el fichero `mimodelo.sav`."
      ]
    },
    {
      "cell_type": "code",
      "metadata": {
        "collapsed": true,
        "id": "GRqog54PrpTs"
      },
      "source": [
        "modelSVC = SVC(C=10,kernel='rbf')\n",
        "pickle.dump(modelSVC, open('modeloSVC.sav', 'wb'))"
      ],
      "execution_count": 34,
      "outputs": []
    },
    {
      "cell_type": "markdown",
      "metadata": {
        "id": "5EgieyQXrpTy"
      },
      "source": [
        "###### Ejercicio\n",
        "\n",
        "Realizar un estudio estadístico utilizando el paquete StatisticalAnalisis visto en la práctica 6. \n"
      ]
    },
    {
      "cell_type": "code",
      "metadata": {
        "id": "oo8BkwDhbL3Y",
        "colab": {
          "base_uri": "https://localhost:8080/"
        },
        "outputId": "270c240b-d30b-4e73-9777-a4494a910749"
      },
      "source": [
        "!pip install StatisticalAnalysis"
      ],
      "execution_count": 35,
      "outputs": [
        {
          "output_type": "stream",
          "text": [
            "Collecting StatisticalAnalysis\n",
            "  Downloading https://files.pythonhosted.org/packages/76/10/1c28b9f30784d467201ce03c26d3669a91273cc96e86473dd480319e0d0d/StatisticalAnalysis-0.0.5.tar.gz\n",
            "Building wheels for collected packages: StatisticalAnalysis\n",
            "  Building wheel for StatisticalAnalysis (setup.py) ... \u001b[?25l\u001b[?25hdone\n",
            "  Created wheel for StatisticalAnalysis: filename=StatisticalAnalysis-0.0.5-py2.py3-none-any.whl size=13106 sha256=b5e6808f3f32731c4bf6dadc2c81ca2235f7f5cd62257f64948304134802f24b\n",
            "  Stored in directory: /root/.cache/pip/wheels/08/25/c2/06c9fdf3fc87bad4738237bc3318b20a7971189d5399f26ef7\n",
            "Successfully built StatisticalAnalysis\n",
            "Installing collected packages: StatisticalAnalysis\n",
            "Successfully installed StatisticalAnalysis-0.0.5\n"
          ],
          "name": "stdout"
        }
      ]
    },
    {
      "cell_type": "code",
      "metadata": {
        "collapsed": true,
        "id": "JvNIEa3DrpT2"
      },
      "source": [
        "from StatisticalAnalysis import compare_methods"
      ],
      "execution_count": 36,
      "outputs": []
    },
    {
      "cell_type": "code",
      "metadata": {
        "id": "3ItFgSOGbXPC"
      },
      "source": [
        "import numpy as np\n",
        "from scipy.stats import randint as sp_randint\n",
        "import matplotlib.pyplot as plt\n",
        "from sklearn.metrics import roc_curve, auc\n",
        "\n",
        "#Random Forest\n",
        "clfForest = RandomForestClassifier(random_state=0)\n",
        "param_distForest = {\"n_estimators\": [1,10,100,121,1000], 'n_jobs': [-1]}\n",
        "# Árbol de decisión\n",
        "clfTree = DecisionTreeClassifier(random_state=84)\n",
        "param_distTree = {\"min_samples_split\": sp_randint(3, 30)}\n",
        "# SVM\n",
        "clfSVC = SVC(random_state=84)\n",
        "param_distSVC = {'C': [1, 10, 100, 1000], 'gamma': [0.001, 0.0001],'kernel': ['rbf'], 'class_weight':['balanced', None]}\n",
        "# KNN\n",
        "clfKNN = KNeighborsClassifier()\n",
        "param_distKNN = {'n_neighbors':sp_randint(3, 30)}\n",
        "# Regresión logística\n",
        "clfLR = LogisticRegression(random_state=84)\n",
        "param_distLR = {'C': [0.1, 0.5, 1, 10, 100, 1000]}\n",
        "# Red neuronal\n",
        "clfMLP = MLPClassifier(random_state=84)\n",
        "param_distMLP = {'activation': ['identity', 'logistic', 'tanh', 'relu'], 'solver': ['lbfgs', 'sgd', 'adam'],\n",
        "                 'alpha': sp_randint(0.0001, 1), 'learning_rate': ['constant', 'invscaling', 'adaptive'],\n",
        "                 'hidden_layer_sizes': [(5,2), (3,3,3), (5,3,2), (5,4,3,2)],\n",
        "                 'momentum': [0.9, 0.95, 0.99]}"
      ],
      "execution_count": 37,
      "outputs": []
    },
    {
      "cell_type": "code",
      "metadata": {
        "id": "TdT_dzjWcwn1"
      },
      "source": [
        "listAlgorithms = [clfTree,clfSVC,clfKNN,clfMLP]\n",
        "listParams = [param_distTree,param_distSVC,param_distKNN,param_distMLP]\n",
        "listNames = [\"Arbol\", \"SVM\", \"KNN\", \"MLP\"]\n",
        "datosCompare = np.array(datos)\n",
        "etiquetasCompare = np.array(etiquetas)\n",
        "#Por mucho que lo deje nunca acaba\n",
        "#compare_methods(datosCompare,etiquetasCompare,listAlgorithms,listParams,listNames,metric='accuracy')"
      ],
      "execution_count": 38,
      "outputs": []
    },
    {
      "cell_type": "markdown",
      "metadata": {
        "id": "n-dAy4StrpT6"
      },
      "source": [
        "##### Ejercicio\n",
        "\n",
        "En la práctica 5 se proporcionó un fichero que explicaba cómo utilizar la librería `keras` para construir un modelo capaz de predecir los dígitos manuscritos. Utiliza dicha funcionalidad para construir un modelo de predicción. "
      ]
    },
    {
      "cell_type": "code",
      "metadata": {
        "collapsed": true,
        "id": "cbKVpjXyrpT8"
      },
      "source": [
        "from keras import models\n",
        "from keras import layers\n",
        "\n",
        "network = models.Sequential()\n",
        "network.add(layers.Dense(512,activation='relu',input_shape=(28*28,)))\n",
        "network.add(layers.Dense(10,activation='softmax'))"
      ],
      "execution_count": 39,
      "outputs": []
    },
    {
      "cell_type": "code",
      "metadata": {
        "id": "p6hFC4f66IYu"
      },
      "source": [
        "network.compile(optimizer='rmsprop',loss='categorical_crossentropy',metrics=['accuracy'])"
      ],
      "execution_count": 40,
      "outputs": []
    },
    {
      "cell_type": "code",
      "metadata": {
        "id": "Gz4IxTiJ6UAb"
      },
      "source": [
        "trainData = np.asarray(trainData)\n",
        "trainData = trainData.astype('float32')/255\n",
        "\n",
        "testData = np.asarray(testData)\n",
        "testData = testData.astype('float32')/255"
      ],
      "execution_count": 41,
      "outputs": []
    },
    {
      "cell_type": "code",
      "metadata": {
        "id": "y1NEXvee6T4v"
      },
      "source": [
        "from keras.utils import to_categorical\n",
        "trainLabels = to_categorical(trainLabels)\n",
        "testLabels = to_categorical(testLabels)"
      ],
      "execution_count": 42,
      "outputs": []
    },
    {
      "cell_type": "code",
      "metadata": {
        "id": "JAt_876i6Xyk",
        "outputId": "e9babb43-29e4-4ae7-a04f-a8718c8fc0ae",
        "colab": {
          "base_uri": "https://localhost:8080/"
        }
      },
      "source": [
        "network.fit(trainData,trainLabels,epochs=10,batch_size=128)"
      ],
      "execution_count": 43,
      "outputs": [
        {
          "output_type": "stream",
          "text": [
            "Epoch 1/10\n",
            "15/15 [==============================] - 3s 3ms/step - loss: 1.4909 - accuracy: 0.5292\n",
            "Epoch 2/10\n",
            "15/15 [==============================] - 0s 2ms/step - loss: 0.5285 - accuracy: 0.8628\n",
            "Epoch 3/10\n",
            "15/15 [==============================] - 0s 2ms/step - loss: 0.3761 - accuracy: 0.9074\n",
            "Epoch 4/10\n",
            "15/15 [==============================] - 0s 2ms/step - loss: 0.2831 - accuracy: 0.9314\n",
            "Epoch 5/10\n",
            "15/15 [==============================] - 0s 2ms/step - loss: 0.2269 - accuracy: 0.9425\n",
            "Epoch 6/10\n",
            "15/15 [==============================] - 0s 2ms/step - loss: 0.1742 - accuracy: 0.9597\n",
            "Epoch 7/10\n",
            "15/15 [==============================] - 0s 2ms/step - loss: 0.1588 - accuracy: 0.9602\n",
            "Epoch 8/10\n",
            "15/15 [==============================] - 0s 2ms/step - loss: 0.1446 - accuracy: 0.9604\n",
            "Epoch 9/10\n",
            "15/15 [==============================] - 0s 2ms/step - loss: 0.1217 - accuracy: 0.9709\n",
            "Epoch 10/10\n",
            "15/15 [==============================] - 0s 2ms/step - loss: 0.0845 - accuracy: 0.9849\n"
          ],
          "name": "stdout"
        },
        {
          "output_type": "execute_result",
          "data": {
            "text/plain": [
              "<tensorflow.python.keras.callbacks.History at 0x7fa40031c950>"
            ]
          },
          "metadata": {
            "tags": []
          },
          "execution_count": 43
        }
      ]
    },
    {
      "cell_type": "markdown",
      "metadata": {
        "id": "HW5ZMyvnrpUA"
      },
      "source": [
        "##### Ejercicio\n",
        "\n",
        "El último ejercicio adicional que se propone consiste en combinar la funcionalidad de contornos vista en la práctica 7 y el clasificador de identificación de dígitos. \n",
        "\n",
        "Comenzamos cargando las librerías y funcionalidades necesarias. "
      ]
    },
    {
      "cell_type": "code",
      "metadata": {
        "collapsed": true,
        "id": "f6Q74dsorpUC"
      },
      "source": [
        "import cv2\n",
        "import matplotlib.pyplot as plt\n",
        "import numpy as np\n",
        "import imutils\n",
        "%matplotlib inline "
      ],
      "execution_count": 44,
      "outputs": []
    },
    {
      "cell_type": "code",
      "metadata": {
        "collapsed": true,
        "id": "Mn5AmPrOrpUK"
      },
      "source": [
        "def mostrarImagen(image):\n",
        "    if len(image.shape)==3:\n",
        "        img2 = image[:,:,::-1]\n",
        "        plt.imshow(img2)\n",
        "        plt.show()\n",
        "    else:\n",
        "        img2 = image\n",
        "        plt.imshow(img2,cmap='gray')\n",
        "        plt.show()"
      ],
      "execution_count": 45,
      "outputs": []
    },
    {
      "cell_type": "markdown",
      "metadata": {
        "id": "2j_LtWsArpUO"
      },
      "source": [
        "Cargamos la imagen en la cual queremos leer los dígitos escritos y la mostramos."
      ]
    },
    {
      "cell_type": "code",
      "metadata": {
        "collapsed": true,
        "id": "j9Wr-_SLrpUQ",
        "colab": {
          "base_uri": "https://localhost:8080/",
          "height": 463
        },
        "outputId": "1c7eb63f-4b41-41cf-cbdb-b74b41b4e43b"
      },
      "source": [
        "!wget www.unirioja.es/cu/joheras/ia/p10/imagen1.png\n",
        "image = cv2.imread(\"imagen1.png\")\n",
        "mostrarImagen(image)"
      ],
      "execution_count": 46,
      "outputs": [
        {
          "output_type": "stream",
          "text": [
            "URL transformed to HTTPS due to an HSTS policy\n",
            "--2021-05-08 21:02:56--  https://www.unirioja.es/cu/joheras/ia/p10/imagen1.png\n",
            "Resolving www.unirioja.es (www.unirioja.es)... 193.144.2.30\n",
            "Connecting to www.unirioja.es (www.unirioja.es)|193.144.2.30|:443... connected.\n",
            "HTTP request sent, awaiting response... 200 OK\n",
            "Length: 318579 (311K) [image/png]\n",
            "Saving to: ‘imagen1.png’\n",
            "\n",
            "imagen1.png         100%[===================>] 311.11K   712KB/s    in 0.4s    \n",
            "\n",
            "2021-05-08 21:02:57 (712 KB/s) - ‘imagen1.png’ saved [318579/318579]\n",
            "\n"
          ],
          "name": "stdout"
        },
        {
          "output_type": "display_data",
          "data": {
            "image/png": "[encoded data removed]",
            "text/plain": [
              "<Figure size 432x288 with 1 Axes>"
            ]
          },
          "metadata": {
            "tags": [],
            "needs_background": "light"
          }
        }
      ]
    },
    {
      "cell_type": "markdown",
      "metadata": {
        "id": "uTcBihqWrpUS"
      },
      "source": [
        "Convierte la imagen a escala de grises."
      ]
    },
    {
      "cell_type": "code",
      "metadata": {
        "collapsed": true,
        "id": "zflRNaNBrpUY",
        "colab": {
          "base_uri": "https://localhost:8080/",
          "height": 268
        },
        "outputId": "ff9d58cc-054b-4831-94a9-c525285ddaff"
      },
      "source": [
        "gray = cv2.cvtColor(image, cv2.COLOR_BGR2GRAY)\n",
        "mostrarImagen(gray)"
      ],
      "execution_count": 47,
      "outputs": [
        {
          "output_type": "display_data",
          "data": {
            "image/png": "[encoded data removed]",
            "text/plain": [
              "<Figure size 432x288 with 1 Axes>"
            ]
          },
          "metadata": {
            "tags": [],
            "needs_background": "light"
          }
        }
      ]
    },
    {
      "cell_type": "markdown",
      "metadata": {
        "id": "r4j1_OterpUc"
      },
      "source": [
        "Aplica una umbralización con valor de umbral 80."
      ]
    },
    {
      "cell_type": "code",
      "metadata": {
        "collapsed": true,
        "id": "KwAgf5kFrpUc",
        "colab": {
          "base_uri": "https://localhost:8080/",
          "height": 268
        },
        "outputId": "d1c384d8-da45-4d45-daa8-19730903df7d"
      },
      "source": [
        "#Umbralizando a 80 no coge todos los numeros a 90 no coge el 2\n",
        "thresh = cv2.threshold(gray, 100, 255, cv2.THRESH_BINARY_INV)[1]\n",
        "mostrarImagen(thresh)"
      ],
      "execution_count": 48,
      "outputs": [
        {
          "output_type": "display_data",
          "data": {
            "image/png": "[encoded data removed]",
            "text/plain": [
              "<Figure size 432x288 with 1 Axes>"
            ]
          },
          "metadata": {
            "tags": [],
            "needs_background": "light"
          }
        }
      ]
    },
    {
      "cell_type": "markdown",
      "metadata": {
        "id": "Qc99vdL3rpUe"
      },
      "source": [
        "Busca los cortornos de la imagen, y para cada uno de ellos encuentra el bounding box que lo contiene. "
      ]
    },
    {
      "cell_type": "code",
      "metadata": {
        "collapsed": true,
        "id": "SgottONIrpUe",
        "colab": {
          "base_uri": "https://localhost:8080/",
          "height": 1000
        },
        "outputId": "68b4a83a-9d96-4d3c-c7c5-3edc7adc1fc6"
      },
      "source": [
        "lista = []\n",
        "cnts,_ = cv2.findContours(thresh.copy(), cv2.RETR_LIST, cv2.CHAIN_APPROX_SIMPLE)\n",
        "for (i, c) in enumerate(cnts):\n",
        "    # Calculamos diversas propiedades\n",
        "    area = cv2.contourArea(c)\n",
        "    (x, y, w, h) = cv2.boundingRect(c)\n",
        "    aspectRatio = w / float(h)\n",
        "    extent = area / float(w * h)\n",
        "    hull = cv2.convexHull(c)\n",
        "    hullArea = cv2.contourArea(hull)\n",
        "    solidity = 0\n",
        "    #if 400 > area > 160:\n",
        "    cv2.drawContours(thresh.copy(), [c], -1, (240, 0, 159), 3)\n",
        "    print(\"Contorno #{} -- solidity={:.2f} -- area={:.2f} -- aspectRatio={:.2f} -- extent={:.2f} -- hullArea={:.2f}\".\n",
        "          format(i + 1, solidity,area,aspectRatio,extent,hullArea))\n",
        "    clone = thresh.copy()\n",
        "    cv2.drawContours(clone, [c], -1, (255, 255, 255), 3)\n",
        "    lista.append(c)\n",
        "    mostrarImagen(clone)"
      ],
      "execution_count": 49,
      "outputs": [
        {
          "output_type": "stream",
          "text": [
            "Contorno #1 -- solidity=0.00 -- area=45.50 -- aspectRatio=1.00 -- extent=0.32 -- hullArea=49.00\n"
          ],
          "name": "stdout"
        },
        {
          "output_type": "display_data",
          "data": {
            "image/png": "[encoded data removed]",
            "text/plain": [
              "<Figure size 432x288 with 1 Axes>"
            ]
          },
          "metadata": {
            "tags": [],
            "needs_background": "light"
          }
        },
        {
          "output_type": "stream",
          "text": [
            "Contorno #2 -- solidity=0.00 -- area=153.50 -- aspectRatio=0.57 -- extent=0.14 -- hullArea=674.50\n"
          ],
          "name": "stdout"
        },
        {
          "output_type": "display_data",
          "data": {
            "image/png": "[encoded data removed]",
            "text/plain": [
              "<Figure size 432x288 with 1 Axes>"
            ]
          },
          "metadata": {
            "tags": [],
            "needs_background": "light"
          }
        },
        {
          "output_type": "stream",
          "text": [
            "Contorno #3 -- solidity=0.00 -- area=107.50 -- aspectRatio=0.82 -- extent=0.09 -- hullArea=603.50\n"
          ],
          "name": "stdout"
        },
        {
          "output_type": "display_data",
          "data": {
            "image/png": "[encoded data removed]",
            "text/plain": [
              "<Figure size 432x288 with 1 Axes>"
            ]
          },
          "metadata": {
            "tags": [],
            "needs_background": "light"
          }
        },
        {
          "output_type": "stream",
          "text": [
            "Contorno #4 -- solidity=0.00 -- area=134.00 -- aspectRatio=0.89 -- extent=0.12 -- hullArea=773.00\n"
          ],
          "name": "stdout"
        },
        {
          "output_type": "display_data",
          "data": {
            "image/png": "[encoded data removed]",
            "text/plain": [
              "<Figure size 432x288 with 1 Axes>"
            ]
          },
          "metadata": {
            "tags": [],
            "needs_background": "light"
          }
        },
        {
          "output_type": "stream",
          "text": [
            "Contorno #5 -- solidity=0.00 -- area=51.00 -- aspectRatio=0.93 -- extent=0.08 -- hullArea=392.00\n"
          ],
          "name": "stdout"
        },
        {
          "output_type": "display_data",
          "data": {
            "image/png": "[encoded data removed]",
            "text/plain": [
              "<Figure size 432x288 with 1 Axes>"
            ]
          },
          "metadata": {
            "tags": [],
            "needs_background": "light"
          }
        },
        {
          "output_type": "stream",
          "text": [
            "Contorno #6 -- solidity=0.00 -- area=123.00 -- aspectRatio=1.06 -- extent=0.45 -- hullArea=128.50\n"
          ],
          "name": "stdout"
        },
        {
          "output_type": "display_data",
          "data": {
            "image/png": "[encoded data removed]",
            "text/plain": [
              "<Figure size 432x288 with 1 Axes>"
            ]
          },
          "metadata": {
            "tags": [],
            "needs_background": "light"
          }
        },
        {
          "output_type": "stream",
          "text": [
            "Contorno #7 -- solidity=0.00 -- area=62.50 -- aspectRatio=0.87 -- extent=0.07 -- hullArea=481.00\n"
          ],
          "name": "stdout"
        },
        {
          "output_type": "display_data",
          "data": {
            "image/png": "[encoded data removed]",
            "text/plain": [
              "<Figure size 432x288 with 1 Axes>"
            ]
          },
          "metadata": {
            "tags": [],
            "needs_background": "light"
          }
        },
        {
          "output_type": "stream",
          "text": [
            "Contorno #8 -- solidity=0.00 -- area=53.00 -- aspectRatio=0.77 -- extent=0.07 -- hullArea=456.50\n"
          ],
          "name": "stdout"
        },
        {
          "output_type": "display_data",
          "data": {
            "image/png": "[encoded data removed]",
            "text/plain": [
              "<Figure size 432x288 with 1 Axes>"
            ]
          },
          "metadata": {
            "tags": [],
            "needs_background": "light"
          }
        },
        {
          "output_type": "stream",
          "text": [
            "Contorno #9 -- solidity=0.00 -- area=251.50 -- aspectRatio=0.84 -- extent=0.22 -- hullArea=703.00\n"
          ],
          "name": "stdout"
        },
        {
          "output_type": "display_data",
          "data": {
            "image/png": "[encoded data removed]",
            "text/plain": [
              "<Figure size 432x288 with 1 Axes>"
            ]
          },
          "metadata": {
            "tags": [],
            "needs_background": "light"
          }
        },
        {
          "output_type": "stream",
          "text": [
            "Contorno #10 -- solidity=0.00 -- area=0.00 -- aspectRatio=1.00 -- extent=0.00 -- hullArea=0.00\n"
          ],
          "name": "stdout"
        },
        {
          "output_type": "display_data",
          "data": {
            "image/png": "[encoded data removed]",
            "text/plain": [
              "<Figure size 432x288 with 1 Axes>"
            ]
          },
          "metadata": {
            "tags": [],
            "needs_background": "light"
          }
        }
      ]
    },
    {
      "cell_type": "code",
      "metadata": {
        "id": "2BYeFqa5nLs2"
      },
      "source": [
        "#funcion sort_contours practica 7_2\n",
        "boundingBoxes = [cv2.boundingRect(c) for c in lista]\n",
        "(cnts, boundingBoxes) = zip(*sorted(zip(cnts, boundingBoxes),key=lambda b:(b[1][1],b[1][0]), reverse=False))"
      ],
      "execution_count": 50,
      "outputs": []
    },
    {
      "cell_type": "code",
      "metadata": {
        "id": "yvLDpcVJnMne",
        "colab": {
          "base_uri": "https://localhost:8080/",
          "height": 1000
        },
        "outputId": "8f087b5f-833e-43b9-e23e-330c0ed2f809"
      },
      "source": [
        "for x,y,w,h in boundingBoxes:\n",
        "  mostrarImagen(thresh[y:y+h,x:x+w])"
      ],
      "execution_count": 51,
      "outputs": [
        {
          "output_type": "display_data",
          "data": {
            "image/png": "[encoded data removed]",
            "text/plain": [
              "<Figure size 432x288 with 1 Axes>"
            ]
          },
          "metadata": {
            "tags": [],
            "needs_background": "light"
          }
        },
        {
          "output_type": "display_data",
          "data": {
            "image/png": "[encoded data removed]",
            "text/plain": [
              "<Figure size 432x288 with 1 Axes>"
            ]
          },
          "metadata": {
            "tags": [],
            "needs_background": "light"
          }
        },
        {
          "output_type": "display_data",
          "data": {
            "image/png": "[encoded data removed]",
            "text/plain": [
              "<Figure size 432x288 with 1 Axes>"
            ]
          },
          "metadata": {
            "tags": [],
            "needs_background": "light"
          }
        },
        {
          "output_type": "display_data",
          "data": {
            "image/png": "[encoded data removed]",
            "text/plain": [
              "<Figure size 432x288 with 1 Axes>"
            ]
          },
          "metadata": {
            "tags": [],
            "needs_background": "light"
          }
        },
        {
          "output_type": "display_data",
          "data": {
            "image/png": "[encoded data removed]",
            "text/plain": [
              "<Figure size 432x288 with 1 Axes>"
            ]
          },
          "metadata": {
            "tags": [],
            "needs_background": "light"
          }
        },
        {
          "output_type": "display_data",
          "data": {
            "image/png": "[encoded data removed]",
            "text/plain": [
              "<Figure size 432x288 with 1 Axes>"
            ]
          },
          "metadata": {
            "tags": [],
            "needs_background": "light"
          }
        },
        {
          "output_type": "display_data",
          "data": {
            "image/png": "[encoded data removed]",
            "text/plain": [
              "<Figure size 432x288 with 1 Axes>"
            ]
          },
          "metadata": {
            "tags": [],
            "needs_background": "light"
          }
        },
        {
          "output_type": "display_data",
          "data": {
            "image/png": "[encoded data removed]",
            "text/plain": [
              "<Figure size 432x288 with 1 Axes>"
            ]
          },
          "metadata": {
            "tags": [],
            "needs_background": "light"
          }
        },
        {
          "output_type": "display_data",
          "data": {
            "image/png": "[encoded data removed]",
            "text/plain": [
              "<Figure size 432x288 with 1 Axes>"
            ]
          },
          "metadata": {
            "tags": [],
            "needs_background": "light"
          }
        },
        {
          "output_type": "display_data",
          "data": {
            "image/png": "[encoded data removed]",
            "text/plain": [
              "<Figure size 432x288 with 1 Axes>"
            ]
          },
          "metadata": {
            "tags": [],
            "needs_background": "light"
          }
        }
      ]
    },
    {
      "cell_type": "markdown",
      "metadata": {
        "id": "Pa2R6lcxrpUg"
      },
      "source": [
        "Utilizando el bounding box que contiene al contorno, predice el número contenido utilizando el modelo que hayas definido y muestra el resultado en la imagen. Debes tener en cuenta varias cosas, las imágenes del dataset tienen tamaño 28x28, por lo que es posible que tengas que reescalar tu imagen, además en las imágenes el digito aparece en blanco con fondo negro, mientras que en la imagen está justo al revés, por lo que tendrás que invertir los colores. "
      ]
    },
    {
      "cell_type": "code",
      "metadata": {
        "id": "qVDI1piRnRcJ",
        "outputId": "ebaac74c-8b78-4173-db13-0447f30a0e43",
        "colab": {
          "base_uri": "https://localhost:8080/"
        }
      },
      "source": [
        "thresh[y:y+h,x:x+w].shape"
      ],
      "execution_count": 52,
      "outputs": [
        {
          "output_type": "execute_result",
          "data": {
            "text/plain": [
              "(12, 12)"
            ]
          },
          "metadata": {
            "tags": []
          },
          "execution_count": 52
        }
      ]
    },
    {
      "cell_type": "code",
      "metadata": {
        "id": "lYrAJ__Bkv0s",
        "outputId": "90d541bd-e28f-4247-bcd0-c2270a64eaa8",
        "colab": {
          "base_uri": "https://localhost:8080/",
          "height": 223
        }
      },
      "source": [
        "lista = []\n",
        "for x,y,w,h in boundingBoxes:\n",
        "  auxiliar = cv2.resize(thresh[y:y+h+1,x:x+w+1],(28,28))\n",
        "  #https://omes-va.com/operadores-bitwise/\n",
        "  #el bitwise_not convierte el blanco en negro y viceversa\n",
        "  auxiliar = cv2.bitwise_not(auxiliar)\n",
        "  mostrarImagen(auxiliar)\n",
        "  #https://www.w3resource.com/numpy/manipulation/ndarray-flatten.php#:~:text=The%20flatten()%20function%20is,array%20collapsed%20into%20one%20dimension.&text='C'%20means%20to%20flatten%20in,%2C%20row%2Dmajor%20order%20otherwise.\n",
        "  lista.append(auxiliar.flatten())"
      ],
      "execution_count": 1,
      "outputs": [
        {
          "output_type": "error",
          "ename": "NameError",
          "evalue": "ignored",
          "traceback": [
            "\u001b[0;31m---------------------------------------------------------------------------\u001b[0m",
            "\u001b[0;31mNameError\u001b[0m                                 Traceback (most recent call last)",
            "\u001b[0;32m<ipython-input-1-b2a30bc8e253>\u001b[0m in \u001b[0;36m<module>\u001b[0;34m()\u001b[0m\n\u001b[1;32m      1\u001b[0m \u001b[0mlista\u001b[0m \u001b[0;34m=\u001b[0m \u001b[0;34m[\u001b[0m\u001b[0;34m]\u001b[0m\u001b[0;34m\u001b[0m\u001b[0;34m\u001b[0m\u001b[0m\n\u001b[0;32m----> 2\u001b[0;31m \u001b[0;32mfor\u001b[0m \u001b[0mx\u001b[0m\u001b[0;34m,\u001b[0m\u001b[0my\u001b[0m\u001b[0;34m,\u001b[0m\u001b[0mw\u001b[0m\u001b[0;34m,\u001b[0m\u001b[0mh\u001b[0m \u001b[0;32min\u001b[0m \u001b[0mboundingBoxes\u001b[0m\u001b[0;34m:\u001b[0m\u001b[0;34m\u001b[0m\u001b[0;34m\u001b[0m\u001b[0m\n\u001b[0m\u001b[1;32m      3\u001b[0m   \u001b[0mauxiliar\u001b[0m \u001b[0;34m=\u001b[0m \u001b[0mcv2\u001b[0m\u001b[0;34m.\u001b[0m\u001b[0mresize\u001b[0m\u001b[0;34m(\u001b[0m\u001b[0mthresh\u001b[0m\u001b[0;34m[\u001b[0m\u001b[0my\u001b[0m\u001b[0;34m:\u001b[0m\u001b[0my\u001b[0m\u001b[0;34m+\u001b[0m\u001b[0mh\u001b[0m\u001b[0;34m+\u001b[0m\u001b[0;36m1\u001b[0m\u001b[0;34m,\u001b[0m\u001b[0mx\u001b[0m\u001b[0;34m:\u001b[0m\u001b[0mx\u001b[0m\u001b[0;34m+\u001b[0m\u001b[0mw\u001b[0m\u001b[0;34m+\u001b[0m\u001b[0;36m1\u001b[0m\u001b[0;34m]\u001b[0m\u001b[0;34m,\u001b[0m\u001b[0;34m(\u001b[0m\u001b[0;36m28\u001b[0m\u001b[0;34m,\u001b[0m\u001b[0;36m28\u001b[0m\u001b[0;34m)\u001b[0m\u001b[0;34m)\u001b[0m\u001b[0;34m\u001b[0m\u001b[0;34m\u001b[0m\u001b[0m\n\u001b[1;32m      4\u001b[0m   \u001b[0;31m#https://omes-va.com/operadores-bitwise/\u001b[0m\u001b[0;34m\u001b[0m\u001b[0;34m\u001b[0m\u001b[0;34m\u001b[0m\u001b[0m\n\u001b[1;32m      5\u001b[0m   \u001b[0;31m#el bitwise_not convierte el blanco en negro y viceversa\u001b[0m\u001b[0;34m\u001b[0m\u001b[0;34m\u001b[0m\u001b[0;34m\u001b[0m\u001b[0m\n",
            "\u001b[0;31mNameError\u001b[0m: name 'boundingBoxes' is not defined"
          ]
        }
      ]
    },
    {
      "cell_type": "code",
      "metadata": {
        "id": "NKA-7AFUmkcx"
      },
      "source": [
        "#ejercicio de arriba\n",
        "lista = np.asarray(lista)\n",
        "lista = lista.astype('float32')/255"
      ],
      "execution_count": 54,
      "outputs": []
    },
    {
      "cell_type": "code",
      "metadata": {
        "id": "uiFZ7PlBmkNr",
        "outputId": "1e235d7b-fc17-4d76-8c88-f567ac9150e8",
        "colab": {
          "base_uri": "https://localhost:8080/"
        }
      },
      "source": [
        "predicciones = network.predict_classes(lista)\n",
        "predicciones"
      ],
      "execution_count": 55,
      "outputs": [
        {
          "output_type": "stream",
          "text": [
            "/usr/local/lib/python3.7/dist-packages/tensorflow/python/keras/engine/sequential.py:450: UserWarning: `model.predict_classes()` is deprecated and will be removed after 2021-01-01. Please use instead:* `np.argmax(model.predict(x), axis=-1)`,   if your model does multi-class classification   (e.g. if it uses a `softmax` last-layer activation).* `(model.predict(x) > 0.5).astype(\"int32\")`,   if your model does binary classification   (e.g. if it uses a `sigmoid` last-layer activation).\n",
            "  warnings.warn('`model.predict_classes()` is deprecated and '\n"
          ],
          "name": "stderr"
        },
        {
          "output_type": "execute_result",
          "data": {
            "text/plain": [
              "array([5, 5, 5, 5, 5, 5, 5, 5, 5, 2])"
            ]
          },
          "metadata": {
            "tags": []
          },
          "execution_count": 55
        }
      ]
    },
    {
      "cell_type": "markdown",
      "metadata": {
        "id": "u_zyfKQxNZcD"
      },
      "source": [
        "Guarda este fichero con tus soluciones a los distintos ejercicios usando la opción *\"Save in Github...\"*. "
      ]
    }
  ]
}